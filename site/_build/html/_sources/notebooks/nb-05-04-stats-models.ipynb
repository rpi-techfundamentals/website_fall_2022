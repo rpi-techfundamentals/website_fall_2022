{
  "nbformat": 4,
  "nbformat_minor": 0,
  "metadata": {
    "colab": {
      "name": "03-ridge-lasso-python.ipynb",
      "provenance": [],
      "collapsed_sections": []
    },
    "kernelspec": {
      "display_name": "Python 3",
      "language": "python",
      "name": "python3"
    },
    "language_info": {
      "codemirror_mode": {
        "name": "ipython",
        "version": 3
      },
      "file_extension": ".py",
      "mimetype": "text/x-python",
      "name": "python",
      "nbconvert_exporter": "python",
      "pygments_lexer": "ipython3",
      "version": "3.7.6"
    }
  },
  "cells": [
    {
      "cell_type": "markdown",
      "metadata": {
        "id": "z_3204uGZkVo"
      },
      "source": [
        "[![AnalyticsDojo](https://github.com/rpi-techfundamentals/spring2019-materials/blob/master/fig/final-logo.png?raw=1)](http://rpi.analyticsdojo.com)\n",
        "<center><h1>Regression with Stats-Models </h1></center>\n",
        "<center><h3><a href = 'http://rpi.analyticsdojo.com'>rpi.analyticsdojo.com</a></h3></center>"
      ]
    },
    {
      "cell_type": "markdown",
      "metadata": {
        "id": "YqPfbfIbYVrW"
      },
      "source": [
        "# Regression with Stats-Models"
      ]
    },
    {
      "cell_type": "code",
      "metadata": {
        "_cell_guid": "0d706811-b70c-aeab-a78b-3c7abd9978d3",
        "_uuid": "41b2d0be27a0eae3f5bf9f03abbd6146e7fe2e8b",
        "id": "bbdkb3pAZkVv"
      },
      "source": [
        "import numpy as np\n",
        "import pandas as pd\n",
        "import statsmodels.api as sm\n",
        "import statsmodels.formula.api as smf"
      ],
      "execution_count": 18,
      "outputs": []
    },
    {
      "cell_type": "markdown",
      "metadata": {
        "id": "U4sa2OlaYVrX"
      },
      "source": [
        "## Scikit-learn vs Stats-Models\n",
        "- Scikit-learn provides framework which enables a similar api (way of interacting with codebase) for many different types of machine learning (i.e., predictive) models.\n",
        "- Stats-Models provices a clear set of results for statistical analsyses (understanding relationships) common to scientific (i.e., explanitory) models"
      ]
    },
    {
      "cell_type": "code",
      "metadata": {
        "id": "d8_kFfyrYVrX"
      },
      "source": [
        "#Get a sample dataset\n",
        "df = sm.datasets.get_rdataset(\"Guerry\", \"HistData\").data"
      ],
      "execution_count": 19,
      "outputs": []
    },
    {
      "cell_type": "markdown",
      "metadata": {
        "id": "L1zosUUFYVrY"
      },
      "source": [
        "## About the Data\n",
        "- See [link](https://cran.r-project.org/web/packages/HistData/HistData.pdf).\n",
        "- Andre-Michel Guerry (1833) was the first to systematically collect and analyze social data on such things as crime, literacy and suicide with the view to determining social laws and the relations among these variables."
      ]
    },
    {
      "cell_type": "code",
      "metadata": {
        "id": "pPq10YlaYVrY",
        "colab": {
          "base_uri": "https://localhost:8080/"
        },
        "outputId": "d2157c0f-7e9f-4b5c-ebe8-ae4fc52eed8f"
      },
      "source": [
        "df.columns"
      ],
      "execution_count": 20,
      "outputs": [
        {
          "output_type": "execute_result",
          "data": {
            "text/plain": [
              "Index(['dept', 'Region', 'Department', 'Crime_pers', 'Crime_prop', 'Literacy',\n",
              "       'Donations', 'Infants', 'Suicides', 'MainCity', 'Wealth', 'Commerce',\n",
              "       'Clergy', 'Crime_parents', 'Infanticide', 'Donation_clergy', 'Lottery',\n",
              "       'Desertion', 'Instruction', 'Prostitutes', 'Distance', 'Area',\n",
              "       'Pop1831'],\n",
              "      dtype='object')"
            ]
          },
          "metadata": {},
          "execution_count": 20
        }
      ]
    },
    {
      "cell_type": "code",
      "metadata": {
        "id": "bsqYlU6rYVrY",
        "colab": {
          "base_uri": "https://localhost:8080/",
          "height": 500
        },
        "outputId": "cc3e9bcf-ec0e-4bd0-e2af-d655adf2c900"
      },
      "source": [
        "df"
      ],
      "execution_count": 21,
      "outputs": [
        {
          "output_type": "execute_result",
          "data": {
            "text/html": [
              "<div>\n",
              "<style scoped>\n",
              "    .dataframe tbody tr th:only-of-type {\n",
              "        vertical-align: middle;\n",
              "    }\n",
              "\n",
              "    .dataframe tbody tr th {\n",
              "        vertical-align: top;\n",
              "    }\n",
              "\n",
              "    .dataframe thead th {\n",
              "        text-align: right;\n",
              "    }\n",
              "</style>\n",
              "<table border=\"1\" class=\"dataframe\">\n",
              "  <thead>\n",
              "    <tr style=\"text-align: right;\">\n",
              "      <th></th>\n",
              "      <th>dept</th>\n",
              "      <th>Region</th>\n",
              "      <th>Department</th>\n",
              "      <th>Crime_pers</th>\n",
              "      <th>Crime_prop</th>\n",
              "      <th>Literacy</th>\n",
              "      <th>Donations</th>\n",
              "      <th>Infants</th>\n",
              "      <th>Suicides</th>\n",
              "      <th>MainCity</th>\n",
              "      <th>Wealth</th>\n",
              "      <th>Commerce</th>\n",
              "      <th>Clergy</th>\n",
              "      <th>Crime_parents</th>\n",
              "      <th>Infanticide</th>\n",
              "      <th>Donation_clergy</th>\n",
              "      <th>Lottery</th>\n",
              "      <th>Desertion</th>\n",
              "      <th>Instruction</th>\n",
              "      <th>Prostitutes</th>\n",
              "      <th>Distance</th>\n",
              "      <th>Area</th>\n",
              "      <th>Pop1831</th>\n",
              "    </tr>\n",
              "  </thead>\n",
              "  <tbody>\n",
              "    <tr>\n",
              "      <th>0</th>\n",
              "      <td>1</td>\n",
              "      <td>E</td>\n",
              "      <td>Ain</td>\n",
              "      <td>28870</td>\n",
              "      <td>15890</td>\n",
              "      <td>37</td>\n",
              "      <td>5098</td>\n",
              "      <td>33120</td>\n",
              "      <td>35039</td>\n",
              "      <td>2:Med</td>\n",
              "      <td>73</td>\n",
              "      <td>58</td>\n",
              "      <td>11</td>\n",
              "      <td>71</td>\n",
              "      <td>60</td>\n",
              "      <td>69</td>\n",
              "      <td>41</td>\n",
              "      <td>55</td>\n",
              "      <td>46</td>\n",
              "      <td>13</td>\n",
              "      <td>218.372</td>\n",
              "      <td>5762</td>\n",
              "      <td>346.03</td>\n",
              "    </tr>\n",
              "    <tr>\n",
              "      <th>1</th>\n",
              "      <td>2</td>\n",
              "      <td>N</td>\n",
              "      <td>Aisne</td>\n",
              "      <td>26226</td>\n",
              "      <td>5521</td>\n",
              "      <td>51</td>\n",
              "      <td>8901</td>\n",
              "      <td>14572</td>\n",
              "      <td>12831</td>\n",
              "      <td>2:Med</td>\n",
              "      <td>22</td>\n",
              "      <td>10</td>\n",
              "      <td>82</td>\n",
              "      <td>4</td>\n",
              "      <td>82</td>\n",
              "      <td>36</td>\n",
              "      <td>38</td>\n",
              "      <td>82</td>\n",
              "      <td>24</td>\n",
              "      <td>327</td>\n",
              "      <td>65.945</td>\n",
              "      <td>7369</td>\n",
              "      <td>513.00</td>\n",
              "    </tr>\n",
              "    <tr>\n",
              "      <th>2</th>\n",
              "      <td>3</td>\n",
              "      <td>C</td>\n",
              "      <td>Allier</td>\n",
              "      <td>26747</td>\n",
              "      <td>7925</td>\n",
              "      <td>13</td>\n",
              "      <td>10973</td>\n",
              "      <td>17044</td>\n",
              "      <td>114121</td>\n",
              "      <td>2:Med</td>\n",
              "      <td>61</td>\n",
              "      <td>66</td>\n",
              "      <td>68</td>\n",
              "      <td>46</td>\n",
              "      <td>42</td>\n",
              "      <td>76</td>\n",
              "      <td>66</td>\n",
              "      <td>16</td>\n",
              "      <td>85</td>\n",
              "      <td>34</td>\n",
              "      <td>161.927</td>\n",
              "      <td>7340</td>\n",
              "      <td>298.26</td>\n",
              "    </tr>\n",
              "    <tr>\n",
              "      <th>3</th>\n",
              "      <td>4</td>\n",
              "      <td>E</td>\n",
              "      <td>Basses-Alpes</td>\n",
              "      <td>12935</td>\n",
              "      <td>7289</td>\n",
              "      <td>46</td>\n",
              "      <td>2733</td>\n",
              "      <td>23018</td>\n",
              "      <td>14238</td>\n",
              "      <td>1:Sm</td>\n",
              "      <td>76</td>\n",
              "      <td>49</td>\n",
              "      <td>5</td>\n",
              "      <td>70</td>\n",
              "      <td>12</td>\n",
              "      <td>37</td>\n",
              "      <td>80</td>\n",
              "      <td>32</td>\n",
              "      <td>29</td>\n",
              "      <td>2</td>\n",
              "      <td>351.399</td>\n",
              "      <td>6925</td>\n",
              "      <td>155.90</td>\n",
              "    </tr>\n",
              "    <tr>\n",
              "      <th>4</th>\n",
              "      <td>5</td>\n",
              "      <td>E</td>\n",
              "      <td>Hautes-Alpes</td>\n",
              "      <td>17488</td>\n",
              "      <td>8174</td>\n",
              "      <td>69</td>\n",
              "      <td>6962</td>\n",
              "      <td>23076</td>\n",
              "      <td>16171</td>\n",
              "      <td>1:Sm</td>\n",
              "      <td>83</td>\n",
              "      <td>65</td>\n",
              "      <td>10</td>\n",
              "      <td>22</td>\n",
              "      <td>23</td>\n",
              "      <td>64</td>\n",
              "      <td>79</td>\n",
              "      <td>35</td>\n",
              "      <td>7</td>\n",
              "      <td>1</td>\n",
              "      <td>320.280</td>\n",
              "      <td>5549</td>\n",
              "      <td>129.10</td>\n",
              "    </tr>\n",
              "    <tr>\n",
              "      <th>...</th>\n",
              "      <td>...</td>\n",
              "      <td>...</td>\n",
              "      <td>...</td>\n",
              "      <td>...</td>\n",
              "      <td>...</td>\n",
              "      <td>...</td>\n",
              "      <td>...</td>\n",
              "      <td>...</td>\n",
              "      <td>...</td>\n",
              "      <td>...</td>\n",
              "      <td>...</td>\n",
              "      <td>...</td>\n",
              "      <td>...</td>\n",
              "      <td>...</td>\n",
              "      <td>...</td>\n",
              "      <td>...</td>\n",
              "      <td>...</td>\n",
              "      <td>...</td>\n",
              "      <td>...</td>\n",
              "      <td>...</td>\n",
              "      <td>...</td>\n",
              "      <td>...</td>\n",
              "      <td>...</td>\n",
              "    </tr>\n",
              "    <tr>\n",
              "      <th>81</th>\n",
              "      <td>86</td>\n",
              "      <td>W</td>\n",
              "      <td>Vienne</td>\n",
              "      <td>15010</td>\n",
              "      <td>4710</td>\n",
              "      <td>25</td>\n",
              "      <td>8922</td>\n",
              "      <td>35224</td>\n",
              "      <td>21851</td>\n",
              "      <td>2:Med</td>\n",
              "      <td>68</td>\n",
              "      <td>43</td>\n",
              "      <td>71</td>\n",
              "      <td>20</td>\n",
              "      <td>1</td>\n",
              "      <td>44</td>\n",
              "      <td>40</td>\n",
              "      <td>38</td>\n",
              "      <td>65</td>\n",
              "      <td>18</td>\n",
              "      <td>170.523</td>\n",
              "      <td>6990</td>\n",
              "      <td>282.73</td>\n",
              "    </tr>\n",
              "    <tr>\n",
              "      <th>82</th>\n",
              "      <td>87</td>\n",
              "      <td>C</td>\n",
              "      <td>Haute-Vienne</td>\n",
              "      <td>16256</td>\n",
              "      <td>6402</td>\n",
              "      <td>13</td>\n",
              "      <td>13817</td>\n",
              "      <td>19940</td>\n",
              "      <td>33497</td>\n",
              "      <td>2:Med</td>\n",
              "      <td>67</td>\n",
              "      <td>63</td>\n",
              "      <td>76</td>\n",
              "      <td>68</td>\n",
              "      <td>6</td>\n",
              "      <td>78</td>\n",
              "      <td>55</td>\n",
              "      <td>11</td>\n",
              "      <td>84</td>\n",
              "      <td>7</td>\n",
              "      <td>198.874</td>\n",
              "      <td>5520</td>\n",
              "      <td>285.13</td>\n",
              "    </tr>\n",
              "    <tr>\n",
              "      <th>83</th>\n",
              "      <td>88</td>\n",
              "      <td>E</td>\n",
              "      <td>Vosges</td>\n",
              "      <td>18835</td>\n",
              "      <td>9044</td>\n",
              "      <td>62</td>\n",
              "      <td>4040</td>\n",
              "      <td>14978</td>\n",
              "      <td>33029</td>\n",
              "      <td>2:Med</td>\n",
              "      <td>82</td>\n",
              "      <td>42</td>\n",
              "      <td>51</td>\n",
              "      <td>58</td>\n",
              "      <td>34</td>\n",
              "      <td>5</td>\n",
              "      <td>14</td>\n",
              "      <td>85</td>\n",
              "      <td>11</td>\n",
              "      <td>43</td>\n",
              "      <td>174.477</td>\n",
              "      <td>5874</td>\n",
              "      <td>397.99</td>\n",
              "    </tr>\n",
              "    <tr>\n",
              "      <th>84</th>\n",
              "      <td>89</td>\n",
              "      <td>C</td>\n",
              "      <td>Yonne</td>\n",
              "      <td>18006</td>\n",
              "      <td>6516</td>\n",
              "      <td>47</td>\n",
              "      <td>4276</td>\n",
              "      <td>16616</td>\n",
              "      <td>12789</td>\n",
              "      <td>2:Med</td>\n",
              "      <td>30</td>\n",
              "      <td>15</td>\n",
              "      <td>55</td>\n",
              "      <td>32</td>\n",
              "      <td>22</td>\n",
              "      <td>35</td>\n",
              "      <td>51</td>\n",
              "      <td>66</td>\n",
              "      <td>27</td>\n",
              "      <td>272</td>\n",
              "      <td>81.797</td>\n",
              "      <td>7427</td>\n",
              "      <td>352.49</td>\n",
              "    </tr>\n",
              "    <tr>\n",
              "      <th>85</th>\n",
              "      <td>200</td>\n",
              "      <td>NaN</td>\n",
              "      <td>Corse</td>\n",
              "      <td>2199</td>\n",
              "      <td>4589</td>\n",
              "      <td>49</td>\n",
              "      <td>37015</td>\n",
              "      <td>24743</td>\n",
              "      <td>37016</td>\n",
              "      <td>2:Med</td>\n",
              "      <td>37</td>\n",
              "      <td>83</td>\n",
              "      <td>1</td>\n",
              "      <td>81</td>\n",
              "      <td>2</td>\n",
              "      <td>84</td>\n",
              "      <td>83</td>\n",
              "      <td>9</td>\n",
              "      <td>25</td>\n",
              "      <td>1</td>\n",
              "      <td>539.213</td>\n",
              "      <td>8680</td>\n",
              "      <td>195.41</td>\n",
              "    </tr>\n",
              "  </tbody>\n",
              "</table>\n",
              "<p>86 rows × 23 columns</p>\n",
              "</div>"
            ],
            "text/plain": [
              "    dept Region    Department  Crime_pers  ...  Prostitutes  Distance  Area  Pop1831\n",
              "0      1      E           Ain       28870  ...           13   218.372  5762   346.03\n",
              "1      2      N         Aisne       26226  ...          327    65.945  7369   513.00\n",
              "2      3      C        Allier       26747  ...           34   161.927  7340   298.26\n",
              "3      4      E  Basses-Alpes       12935  ...            2   351.399  6925   155.90\n",
              "4      5      E  Hautes-Alpes       17488  ...            1   320.280  5549   129.10\n",
              "..   ...    ...           ...         ...  ...          ...       ...   ...      ...\n",
              "81    86      W        Vienne       15010  ...           18   170.523  6990   282.73\n",
              "82    87      C  Haute-Vienne       16256  ...            7   198.874  5520   285.13\n",
              "83    88      E        Vosges       18835  ...           43   174.477  5874   397.99\n",
              "84    89      C         Yonne       18006  ...          272    81.797  7427   352.49\n",
              "85   200    NaN         Corse        2199  ...            1   539.213  8680   195.41\n",
              "\n",
              "[86 rows x 23 columns]"
            ]
          },
          "metadata": {},
          "execution_count": 21
        }
      ]
    },
    {
      "cell_type": "markdown",
      "metadata": {
        "id": "oX44W9SaYVrY"
      },
      "source": [
        "## Predicting Gambling\n",
        "- `Lottery` Per capita wager on Royal Lottery. Ranked ratio of the proceeds bet on the royal lottery to population— Average for the years 1822-1826.  (Compte rendus par le ministre des finances)\n",
        "- `Literacy` Percent Read & Write: Percent of military conscripts who can read and write. \n",
        "- `Pop1831` Population in 1831, taken from Angeville (1836), Essai sur la Statis-\n",
        "tique de la Population francais, in 1000s."
      ]
    },
    {
      "cell_type": "code",
      "metadata": {
        "id": "-sEJjGHwYVrZ"
      },
      "source": [
        "#Notice this is an R style of Analsysis\n",
        "results = smf.ols('Lottery ~ Literacy + np.log(Pop1831)', data=df).fit()"
      ],
      "execution_count": 22,
      "outputs": []
    },
    {
      "cell_type": "code",
      "metadata": {
        "id": "M0QwRa8HYVrZ",
        "colab": {
          "base_uri": "https://localhost:8080/"
        },
        "outputId": "71890468-a84f-4ed1-b934-8bc9556fed1e"
      },
      "source": [
        "print(results.summary())"
      ],
      "execution_count": 23,
      "outputs": [
        {
          "output_type": "stream",
          "name": "stdout",
          "text": [
            "                            OLS Regression Results                            \n",
            "==============================================================================\n",
            "Dep. Variable:                Lottery   R-squared:                       0.348\n",
            "Model:                            OLS   Adj. R-squared:                  0.333\n",
            "Method:                 Least Squares   F-statistic:                     22.20\n",
            "Date:                Mon, 04 Oct 2021   Prob (F-statistic):           1.90e-08\n",
            "Time:                        18:55:31   Log-Likelihood:                -379.82\n",
            "No. Observations:                  86   AIC:                             765.6\n",
            "Df Residuals:                      83   BIC:                             773.0\n",
            "Df Model:                           2                                         \n",
            "Covariance Type:            nonrobust                                         \n",
            "===================================================================================\n",
            "                      coef    std err          t      P>|t|      [0.025      0.975]\n",
            "-----------------------------------------------------------------------------------\n",
            "Intercept         246.4341     35.233      6.995      0.000     176.358     316.510\n",
            "Literacy           -0.4889      0.128     -3.832      0.000      -0.743      -0.235\n",
            "np.log(Pop1831)   -31.3114      5.977     -5.239      0.000     -43.199     -19.424\n",
            "==============================================================================\n",
            "Omnibus:                        3.713   Durbin-Watson:                   2.019\n",
            "Prob(Omnibus):                  0.156   Jarque-Bera (JB):                3.394\n",
            "Skew:                          -0.487   Prob(JB):                        0.183\n",
            "Kurtosis:                       3.003   Cond. No.                         702.\n",
            "==============================================================================\n",
            "\n",
            "Warnings:\n",
            "[1] Standard Errors assume that the covariance matrix of the errors is correctly specified.\n"
          ]
        }
      ]
    },
    {
      "cell_type": "code",
      "metadata": {
        "id": "AJ2WOIOFZl05"
      },
      "source": [
        ""
      ],
      "execution_count": 23,
      "outputs": []
    },
    {
      "cell_type": "markdown",
      "metadata": {
        "id": "bRXN6aGJZmXx"
      },
      "source": [
        "## Alternate Syntax\n",
        "This is a more pure way of "
      ]
    },
    {
      "cell_type": "code",
      "metadata": {
        "id": "goJW3jxanC5o"
      },
      "source": [
        "df['ln_Pop1831']=np.log(df['Pop1831'])"
      ],
      "execution_count": 24,
      "outputs": []
    },
    {
      "cell_type": "code",
      "metadata": {
        "colab": {
          "base_uri": "https://localhost:8080/"
        },
        "id": "Kmcsv2NymWVF",
        "outputId": "e79b9582-e97d-42b8-c6d5-210f1ba846b5"
      },
      "source": [
        "\n",
        "X = df[['Literacy', 'ln_Pop1831']] # here we have 2 variables for the multiple linear regression. \n",
        "Y = df['Lottery']\n",
        "\n",
        "X = sm.add_constant(X) # adding a constant\n",
        "model = sm.OLS(Y, X).fit()\n",
        "predictions = model.predict(X) \n",
        "print_model = model.summary()\n",
        "print(print_model)\n",
        "    "
      ],
      "execution_count": 25,
      "outputs": [
        {
          "output_type": "stream",
          "name": "stdout",
          "text": [
            "                            OLS Regression Results                            \n",
            "==============================================================================\n",
            "Dep. Variable:                Lottery   R-squared:                       0.348\n",
            "Model:                            OLS   Adj. R-squared:                  0.333\n",
            "Method:                 Least Squares   F-statistic:                     22.20\n",
            "Date:                Mon, 04 Oct 2021   Prob (F-statistic):           1.90e-08\n",
            "Time:                        18:55:32   Log-Likelihood:                -379.82\n",
            "No. Observations:                  86   AIC:                             765.6\n",
            "Df Residuals:                      83   BIC:                             773.0\n",
            "Df Model:                           2                                         \n",
            "Covariance Type:            nonrobust                                         \n",
            "==============================================================================\n",
            "                 coef    std err          t      P>|t|      [0.025      0.975]\n",
            "------------------------------------------------------------------------------\n",
            "const        246.4341     35.233      6.995      0.000     176.358     316.510\n",
            "Literacy      -0.4889      0.128     -3.832      0.000      -0.743      -0.235\n",
            "ln_Pop1831   -31.3114      5.977     -5.239      0.000     -43.199     -19.424\n",
            "==============================================================================\n",
            "Omnibus:                        3.713   Durbin-Watson:                   2.019\n",
            "Prob(Omnibus):                  0.156   Jarque-Bera (JB):                3.394\n",
            "Skew:                          -0.487   Prob(JB):                        0.183\n",
            "Kurtosis:                       3.003   Cond. No.                         702.\n",
            "==============================================================================\n",
            "\n",
            "Warnings:\n",
            "[1] Standard Errors assume that the covariance matrix of the errors is correctly specified.\n"
          ]
        }
      ]
    },
    {
      "cell_type": "markdown",
      "metadata": {
        "id": "WZl4cPgaoz7T"
      },
      "source": [
        "### Use Stargazer \n",
        "\n",
        "Show multiple different models easily using [Stargazer](https://github.com/mwburke/stargazer), a Python implementation of an R-package for implementing stepwise regression.\n",
        "\n",
        "Let's add a different model. "
      ]
    },
    {
      "cell_type": "code",
      "metadata": {
        "colab": {
          "base_uri": "https://localhost:8080/"
        },
        "id": "CmbPG4EknsY3",
        "outputId": "852939d3-1bde-4119-c670-2a0023f08a52"
      },
      "source": [
        "!pip install Stargazer"
      ],
      "execution_count": 26,
      "outputs": [
        {
          "output_type": "stream",
          "name": "stdout",
          "text": [
            "Requirement already satisfied: Stargazer in /usr/local/lib/python3.7/dist-packages (0.0.5)\n"
          ]
        }
      ]
    },
    {
      "cell_type": "code",
      "metadata": {
        "colab": {
          "base_uri": "https://localhost:8080/",
          "height": 460
        },
        "id": "LyA_QwPzn0I5",
        "outputId": "565ef560-c941-47fd-83f4-e8090eee7adb"
      },
      "source": [
        "from stargazer.stargazer import Stargazer, LineLocation\n",
        "\n",
        "X2 = df[['Literacy', 'ln_Pop1831','Crime_pers',\t'Crime_prop']]\n",
        "X2 = sm.add_constant(X2) # adding a constant\n",
        "model2 = sm.OLS(Y, X2).fit()\n",
        "\n",
        "stargazer = Stargazer([model,model2])\n",
        "stargazer"
      ],
      "execution_count": 27,
      "outputs": [
        {
          "output_type": "execute_result",
          "data": {
            "text/html": [
              "<table style=\"text-align:center\"><tr><td colspan=\"3\" style=\"border-bottom: 1px solid black\"></td></tr><tr><td style=\"text-align:left\"></td><td colspan=\"2\"><em>Dependent variable:Lottery</em></td></tr><tr><td style=\"text-align:left\"></td><tr><td style=\"text-align:left\"></td><td>(1)</td><td>(2)</td></tr><tr><td colspan=\"3\" style=\"border-bottom: 1px solid black\"></td></tr><tr><td style=\"text-align:left\">Crime_pers</td><td></td><td>0.000<sup></sup></td></tr><tr><td style=\"text-align:left\"></td><td></td><td>(0.000)</td></tr><tr><td style=\"text-align:left\">Crime_prop</td><td></td><td>0.002<sup>**</sup></td></tr><tr><td style=\"text-align:left\"></td><td></td><td>(0.001)</td></tr><tr><td style=\"text-align:left\">Literacy</td><td>-0.489<sup>***</sup></td><td>-0.365<sup>***</sup></td></tr><tr><td style=\"text-align:left\"></td><td>(0.128)</td><td>(0.133)</td></tr><tr><td style=\"text-align:left\">const</td><td>246.434<sup>***</sup></td><td>215.240<sup>***</sup></td></tr><tr><td style=\"text-align:left\"></td><td>(35.233)</td><td>(38.890)</td></tr><tr><td style=\"text-align:left\">ln_Pop1831</td><td>-31.311<sup>***</sup></td><td>-30.191<sup>***</sup></td></tr><tr><td style=\"text-align:left\"></td><td>(5.977)</td><td>(6.441)</td></tr><td colspan=\"3\" style=\"border-bottom: 1px solid black\"></td></tr><tr><td style=\"text-align: left\">Observations</td><td>86</td><td>86</td></tr><tr><td style=\"text-align: left\">R<sup>2</sup></td><td>0.348</td><td>0.409</td></tr><tr><td style=\"text-align: left\">Adjusted R<sup>2</sup></td><td>0.333</td><td>0.380</td></tr><tr><td style=\"text-align: left\">Residual Std. Error</td><td>20.397 (df=83)</td><td>19.667 (df=81)</td></tr><tr><td style=\"text-align: left\">F Statistic</td><td>22.196<sup>***</sup> (df=2; 83)</td><td>14.003<sup>***</sup> (df=4; 81)</td></tr><tr><td colspan=\"3\" style=\"border-bottom: 1px solid black\"></td></tr><tr><td style=\"text-align: left\">Note:</td>\n",
              " <td colspan=\"2\" style=\"text-align: right\">\n",
              "  <sup>*</sup>p&lt;0.1;\n",
              "  <sup>**</sup>p&lt;0.05;\n",
              "  <sup>***</sup>p&lt;0.01\n",
              " </td></tr></table>"
            ],
            "text/plain": [
              "<stargazer.stargazer.Stargazer at 0x7f8b85192fd0>"
            ]
          },
          "metadata": {},
          "execution_count": 27
        }
      ]
    },
    {
      "cell_type": "markdown",
      "metadata": {
        "id": "e-sjwAm_YVra"
      },
      "source": [
        "## Challenge: Compare Results\n",
        "- Explore another model of `Lottery` and add it to the Stargazer results.  \n",
        "- Explore the stargazer documentation and customize the order of the variables, putting the constant and then the variables in all models on top (as is typically done). \n",
        "\n",
        "\n"
      ]
    }
  ]
}