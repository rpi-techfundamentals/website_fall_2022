{
 "cells": [
  {
   "cell_type": "markdown",
   "id": "946072c5",
   "metadata": {
    "deletable": false,
    "editable": false,
    "nbgrader": {
     "cell_type": "markdown",
     "checksum": "3dcead4d339548d8fdf16695fbd12fd9",
     "grade": false,
     "grade_id": "Instructions",
     "locked": true,
     "schema_version": 3,
     "solution": false,
     "task": false
    }
   },
   "source": [
    "#### Homework-7\n",
    "\n",
    "This is an optional homework but you should consider it to be good practice for the Final Exam.  If you submit it will replace your 2nd lowest homework grade.  \n",
    "\n",
    "##### Total number of points: 40\n",
    "#### Due date: Dec 6, 2021\n",
    "\n",
    "Before you submit this homework, make sure everything runs as expected. First, restart the kernel (in the menu, select Kernel → Restart) and then run all cells (in the menubar, select Cell → Run All). You can discuss with others regarding the homework but all work must be your own.\n",
    "\n",
    "This homework will test your knowledge on random forests (including feature importances), and neural networks. The Python notebooks shared will be helpful to solve these problems.  \n",
    "\n",
    "Steps to evaluate your solutions:\n",
    "\n",
    "Step-1: Try on Colab or Anaconda (Windows: https://docs.anaconda.com/anaconda/install/windows/ ; Mac:https://docs.anaconda.com/anaconda/install/mac-os/ ; Linux: https://docs.anaconda.com/anaconda/install/linux/)\n",
    "\n",
    "Step-2: Open the Jupyter Notebook by first launching the anaconda software console\n",
    "\n",
    "Step-3: Open the homework's .ipynb file and write your solutions at the appropriate location \"# YOUR CODE HERE\"\n",
    "\n",
    "Step-4: You can restart the kernel and click run all (in the menubar, select Cell → Run All) on the center-right on the top of this window.\n",
    "\n",
    "Step-5: Now go to \"File\" then click on \"Download as\" then click on \"Notebook (.ipynb)\" Please DO NOT change the file name and just keep it as \".ipynb\"\n",
    "\n",
    "Step-6: Go to lms.rpi.edu and upload your homework at the appropriate link to submit this homework.\n",
    "\n",
    "\n",
    "#### Please note that for any question in this assignment you will receive points ONLY if your solution passes all the test cases including hidden testcases as well. So please make sure you try to think all possible scenarios before submitting your answers.  \n",
    "- Note that hidden tests are present to ensure you are not hardcoding. \n",
    "- If caught cheating: \n",
    "    - you will receive a score of 0 for the 1st violation. \n",
    "    - for repeated incidents, you will receive an automatic 'F' grade and will be reported to the dean of Lally School of Management. "
   ]
  },
  {
   "cell_type": "code",
   "execution_count": null,
   "id": "ef6f8f6a",
   "metadata": {
    "deletable": false,
    "editable": false,
    "nbgrader": {
     "cell_type": "code",
     "checksum": "ebca1ca0828d19a57584877d342cfc79",
     "grade": false,
     "grade_id": "cell-92f5478d5bf05f89",
     "locked": true,
     "schema_version": 3,
     "solution": false,
     "task": false
    }
   },
   "outputs": [],
   "source": [
    "#Please run this cell to load the dataset. \n",
    "url = 'https://raw.githubusercontent.com/lmanikon/lmanikon.github.io/master/teaching/datasets/dataset_Facebook.csv'\n",
    "\n",
    "import pandas as pd\n",
    "import math\n",
    "df  = pd.read_csv(url)\n",
    "df = df.dropna()\n",
    "df.columns"
   ]
  },
  {
   "cell_type": "markdown",
   "id": "340c66d4",
   "metadata": {
    "deletable": false,
    "editable": false,
    "nbgrader": {
     "cell_type": "markdown",
     "checksum": "e16141c395aa1206025f448b922a0af6",
     "grade": false,
     "grade_id": "q1-desc",
     "locked": true,
     "schema_version": 3,
     "solution": false,
     "task": false
    }
   },
   "source": [
    "#### Part-1 [24 points]: We will leverage randomforest classifier to identify the best features that predict 'Total Interactions'."
   ]
  },
  {
   "cell_type": "markdown",
   "id": "87435723",
   "metadata": {
    "deletable": false,
    "editable": false,
    "nbgrader": {
     "cell_type": "markdown",
     "checksum": "999290da39071ee905cbfa951ffaa31b",
     "grade": false,
     "grade_id": "q1-question",
     "locked": true,
     "schema_version": 3,
     "solution": false,
     "task": false
    }
   },
   "source": [
    "#### 1. Create a new dataframe `df_sub2` that contains only these feature columns in `df` : \n",
    "- `Page total likes`, `Type`, `Category`, `Post Month`, `Post Weekday`, `Post Hour`, `Paid`,  `Total Interactions`\n",
    "\n",
    "#### 2. Transform the categorical attribute `Type` in `df_sub2` to numerical attribute this way: \n",
    "- `Link`:1, `Photo`:2, `Status`:3, `Video`:4\n",
    "\n",
    "#### 3. Perform Standardization (using this formula https://en.wikipedia.org/wiki/Standard_score) only on `Page total likes` column in `df_sub2` \n",
    "- Please use `<dataframe>['<column>'].mean()` `<dataframe>['<column>'].std()` if you are using the mean and std values to manipulate the column. \n",
    "    \n",
    "#### 4. Using `df_sub2` perform train_test_split operation to build training (`X_train`, `y_train`) and testing data (`X_test`, `y_test`).\n",
    "- Use test_size=0.3, random_state=42 as the parameters for train_test_split() function. \n",
    "- Feature columns (X): `Page total likes`, `Type`, `Category`, `Post Month`, `Post Weekday`, `Post Hour`, `Paid`\n",
    "- CLass label column (y): `Total Interactions`\n",
    "\n",
    "#### 5. Train the randomforest classifier (initialized as variable `rf`) using these parameters: max_depth=3, random_state=0. \n",
    "- Using the trained model `rf` compute the impurity-based feature importances.\n",
    "- Append the names of these top-3 features to list `impFeatures`. Please make sure you type the feature names exactly as in df_sub2 \n",
    "\n",
    "\n"
   ]
  },
  {
   "cell_type": "code",
   "execution_count": null,
   "id": "6f5cb344",
   "metadata": {
    "deletable": false,
    "nbgrader": {
     "cell_type": "code",
     "checksum": "b63439fc717acf176c5fe45dc78b5cdf",
     "grade": false,
     "grade_id": "q1-sol",
     "locked": false,
     "schema_version": 3,
     "solution": true,
     "task": false
    }
   },
   "outputs": [],
   "source": [
    "\n",
    "\n",
    "# YOUR CODE HERE\n",
    "raise NotImplementedError()\n"
   ]
  },
  {
   "cell_type": "code",
   "execution_count": null,
   "id": "0ae1042a",
   "metadata": {
    "deletable": false,
    "editable": false,
    "nbgrader": {
     "cell_type": "code",
     "checksum": "fc9195780c56e5fd073a447b43e078b9",
     "grade": true,
     "grade_id": "q11",
     "locked": true,
     "points": 6,
     "schema_version": 3,
     "solution": false,
     "task": false
    }
   },
   "outputs": [],
   "source": [
    "##Cell-1 -- Do not modify this cell\n",
    "assert set(df_sub2.columns)=={'Post Hour', 'Total Interactions', 'Post Weekday', 'Category', 'Paid', 'Post Month', 'Page total likes', 'Type'}\n",
    "assert len(df_sub2)==495\n",
    "assert len(df_sub2.iloc[0,:])==8\n"
   ]
  },
  {
   "cell_type": "code",
   "execution_count": null,
   "id": "5a9e25ec",
   "metadata": {
    "deletable": false,
    "editable": false,
    "nbgrader": {
     "cell_type": "code",
     "checksum": "dabefbff99a04a7af7522826fe512652",
     "grade": true,
     "grade_id": "q12",
     "locked": true,
     "points": 6,
     "schema_version": 3,
     "solution": false,
     "task": false
    }
   },
   "outputs": [],
   "source": [
    "##Cell-2 -- Do not modify this cell\n",
    "assert math.ceil(df_sub2['Page total likes'].mean())==0\n",
    "assert len(X_train)==346\n",
    "assert 'Post Hour' in impFeatures\n"
   ]
  },
  {
   "cell_type": "code",
   "execution_count": null,
   "id": "8bbd8fe4",
   "metadata": {
    "deletable": false,
    "editable": false,
    "nbgrader": {
     "cell_type": "code",
     "checksum": "26ba4f9b4af245310697355bd2012e41",
     "grade": true,
     "grade_id": "q13",
     "locked": true,
     "points": 6,
     "schema_version": 3,
     "solution": false,
     "task": false
    }
   },
   "outputs": [],
   "source": [
    "##Cell-3 -- Do not modify this cell\n",
    "assert rf.n_classes_==230\n",
    "assert len(impFeatures)==3\n",
    "assert math.ceil(df_sub2['Page total likes'].std())==1\n"
   ]
  },
  {
   "cell_type": "code",
   "execution_count": null,
   "id": "53163b00",
   "metadata": {
    "deletable": false,
    "editable": false,
    "nbgrader": {
     "cell_type": "code",
     "checksum": "53c13eee71e8b9ba64f1cbcaea7f7fee",
     "grade": true,
     "grade_id": "q14",
     "locked": true,
     "points": 6,
     "schema_version": 3,
     "solution": false,
     "task": false
    }
   },
   "outputs": [],
   "source": [
    "##Cell-4 -- Do not modify this cell\n",
    "assert (rf.n_features_)==7\n",
    "assert len(y_test)==149\n",
    "assert set(impFeatures)=={'Page total likes', 'Post Hour', 'Post Weekday'}\n"
   ]
  },
  {
   "cell_type": "markdown",
   "id": "ba946a55",
   "metadata": {
    "deletable": false,
    "editable": false,
    "nbgrader": {
     "cell_type": "markdown",
     "checksum": "d09d7bc876c586b13bf44875d4499463",
     "grade": false,
     "grade_id": "q2-desc",
     "locked": true,
     "schema_version": 3,
     "solution": false,
     "task": false
    }
   },
   "source": [
    "#### Part-2 [16 points]: We will now use neural networks to model a regression problem. "
   ]
  },
  {
   "cell_type": "markdown",
   "id": "7e8ec561",
   "metadata": {
    "deletable": false,
    "editable": false,
    "nbgrader": {
     "cell_type": "markdown",
     "checksum": "6cda99064b016461d61904edb2900242",
     "grade": false,
     "grade_id": "q2-question",
     "locked": true,
     "schema_version": 3,
     "solution": false,
     "task": false
    }
   },
   "source": [
    "#### 1. Create a new dataframe `df_sub4` that contains only these feature columns in `df` : \n",
    "- `Page total likes`, `Type`, `Category`, `Post Month`, `Post Weekday`, `Post Hour`, `Paid`,  `Total Interactions`\n",
    "\n",
    "#### 2. Perform one-hot encoding on these features below in the dataframe `df_sub4` to create a new dataframe `df_OHE`\n",
    "- `Type`, `Category`, `Post Month`, `Post Weekday`, `Post Hour`\n",
    "\n",
    "#### 3. Perform normalization only on `Page total likes` and `Total Interactions` column in `df_OHE` using MinMaxScaler or minmax_scale \n",
    "- note that both these functions will output the same result\n",
    "\n",
    "#### 4. Using `df_OHE` perform train_test_split operation to build training (`X_train`, `y_train`) and testing data (`X_test`, `y_test`).\n",
    "- Use test_size=0.3, random_state=42 as the parameters for train_test_split() function. \n",
    "- Feature columns (X): Everything except `Total Interactions`\n",
    "- CLass label column (y): `Total Interactions`\n",
    "\n",
    "#### 5. Build a 3-layer neural network with `relu` as the 2 hidden layers' activation function and `sigmoid` as the final layer's activation function. \n",
    "- Use the same `adam` optimizer and `mean_squared_error` as the loss function. \n",
    "- `epochs`=150, `batch_size`=10\n",
    "- since the class label is continuous, we use `metrics.MeanSquaredError()` as the metric (`from keras import metrics`) to measure the performance of our classifier captured as variable `mse` "
   ]
  },
  {
   "cell_type": "code",
   "execution_count": null,
   "id": "5b373417",
   "metadata": {
    "deletable": false,
    "editable": false,
    "nbgrader": {
     "cell_type": "code",
     "checksum": "5457d9f19065fb4f071e8b4a094c9461",
     "grade": false,
     "grade_id": "keras",
     "locked": true,
     "schema_version": 3,
     "solution": false,
     "task": false
    }
   },
   "outputs": [],
   "source": [
    "#Please run this cell to install keras\n",
    "#!pip install keras\n",
    "#!pip install tensorflow"
   ]
  },
  {
   "cell_type": "code",
   "execution_count": null,
   "id": "95db92f6",
   "metadata": {
    "deletable": false,
    "nbgrader": {
     "cell_type": "code",
     "checksum": "c4b1d85d14ddcde6bcd9d01457878df3",
     "grade": false,
     "grade_id": "q2-sol",
     "locked": false,
     "schema_version": 3,
     "solution": true,
     "task": false
    }
   },
   "outputs": [],
   "source": [
    "# YOUR CODE HERE\n",
    "raise NotImplementedError()"
   ]
  },
  {
   "cell_type": "code",
   "execution_count": null,
   "id": "1a97ab82",
   "metadata": {
    "deletable": false,
    "editable": false,
    "nbgrader": {
     "cell_type": "code",
     "checksum": "6a29e6d5435634c472aa1e2ad6c43823",
     "grade": true,
     "grade_id": "q2-test1",
     "locked": true,
     "points": 8,
     "schema_version": 3,
     "solution": false,
     "task": false
    }
   },
   "outputs": [],
   "source": [
    "##Cell-5 -- Do not modify this cell\n",
    "assert (math.ceil(df_OHE['Page total likes'].sum())) == 357\n",
    "assert (math.ceil(df_OHE['Total Interactions'].sum())) == 17\n",
    "assert (math.ceil(df_OHE['Page total likes'].mean())) == 1\n",
    "assert (math.ceil(df_OHE['Total Interactions'].mean())) == 1"
   ]
  },
  {
   "cell_type": "code",
   "execution_count": null,
   "id": "7ba034fe",
   "metadata": {
    "deletable": false,
    "editable": false,
    "nbgrader": {
     "cell_type": "code",
     "checksum": "9c45f99dffe663075ad13ad215a9e23e",
     "grade": true,
     "grade_id": "q2-test2",
     "locked": true,
     "points": 8,
     "schema_version": 3,
     "solution": false,
     "task": false
    }
   },
   "outputs": [],
   "source": [
    "##Cell-6 -- Do not modify this cell\n",
    "assert len(X_train)==346\n",
    "assert len(y_test)==149\n",
    "assert mse<0.005\n",
    "assert len(model.weights)==6"
   ]
  }
 ],
 "metadata": {
  "kernelspec": {
   "display_name": "Python 3",
   "language": "python",
   "name": "python3"
  },
  "language_info": {
   "codemirror_mode": {
    "name": "ipython",
    "version": 3
   },
   "file_extension": ".py",
   "mimetype": "text/x-python",
   "name": "python",
   "nbconvert_exporter": "python",
   "pygments_lexer": "ipython3",
   "version": "3.7.10"
  }
 },
 "nbformat": 4,
 "nbformat_minor": 5
}
