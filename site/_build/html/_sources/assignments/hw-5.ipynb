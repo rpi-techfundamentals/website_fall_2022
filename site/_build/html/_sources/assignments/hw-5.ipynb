{
 "cells": [
  {
   "cell_type": "markdown",
   "metadata": {
    "deletable": false,
    "editable": false,
    "nbgrader": {
     "cell_type": "markdown",
     "checksum": "a4b82896edae3cda1a8f6caacb7746b9",
     "grade": false,
     "grade_id": "cell-description",
     "locked": true,
     "schema_version": 3,
     "solution": false,
     "task": false
    }
   },
   "source": [
    "###### Homework-5\n",
    "#### Total number of points: 70\n",
    "#### Due date: Oct 21th 2021\n",
    "\n",
    "Before you submit this homework, make sure everything runs as expected. First, restart the kernel (in the menu, select Kernel → Restart) and then run all cells (in the menubar, select Cell → Run All). You can discuss with others regarding the homework but all work must be your own.\n",
    "\n",
    "This homework will test your knowledge on data manipulation, manipulating strings and feature preprocessing. The Python notebooks shared will be helpful to solve these problems.  \n",
    "\n",
    "Steps to evaluate your solutions:\n",
    "\n",
    "Step-1: Try on Colab or Anaconda (Windows: https://docs.anaconda.com/anaconda/install/windows/ ; Mac:https://docs.anaconda.com/anaconda/install/mac-os/ ; Linux: https://docs.anaconda.com/anaconda/install/linux/)\n",
    "\n",
    "Step-2: Open the Jupyter Notebook by first launching the anaconda software console\n",
    "\n",
    "Step-3: Open the homework's .ipynb file and write your solutions at the appropriate location \"# YOUR CODE HERE\"\n",
    "\n",
    "Step-4: You can restart the kernel and click run all (in the menubar, select Cell → Run All) on the center-right on the top of this window.\n",
    "\n",
    "Step-5: Now go to \"File\" then click on \"Download as\" then click on \"Notebook (.ipynb)\" Please DO NOT change the file name and just keep it as \".ipynb\"\n",
    "\n",
    "Step-6: Go to lms.rpi.edu and upload your homework at the appropriate link to submit this homework.\n",
    "\n",
    "\n",
    "#### Please note that for any question in this assignment you will receive points ONLY if your solution passes all the test cases including hidden testcases as well. So please make sure you try to think all possible scenarios before submitting your answers.  \n",
    "- Note that hidden tests are present to ensure you are not hardcoding. \n",
    "- If caught cheating: \n",
    "    - you will receive a score of 0 for the 1st violation. \n",
    "    - for repeated incidents, you will receive an automatic 'F' grade and will be reported to the dean of Lally School of Management. "
   ]
  },
  {
   "cell_type": "code",
   "execution_count": null,
   "metadata": {},
   "outputs": [],
   "source": [
    "#This is a fix for some of the tests. \n",
    "from math import log10, floor\n",
    "def round_sig(x, sig=2):\n",
    "    return round(x, sig-int(floor(log10(abs(x))))-1)"
   ]
  },
  {
   "cell_type": "markdown",
   "metadata": {
    "deletable": false,
    "editable": false,
    "nbgrader": {
     "cell_type": "markdown",
     "checksum": "dc3b2627d0c27bd7bed1fd666d1a742e",
     "grade": false,
     "grade_id": "q1-desc",
     "locked": true,
     "schema_version": 3,
     "solution": false,
     "task": false
    }
   },
   "source": [
    "### Q1 [10 points]. Folds for cross validation. \n",
    "\n",
    "Use the [KFold()](https://scikit-learn.org/stable/modules/generated/sklearn.model_selection.KFold.html) function from scikit-learn to generate 4 folds for cross validation.  \n",
    "\n",
    "For each fold -- append the mean of training data to `traindata_means`\n",
    "and the mean of testing data to `testdata_means` \n",
    "\n",
    "#Hint -- Use np.mean() to compute the mean values.\n",
    "\n"
   ]
  },
  {
   "cell_type": "code",
   "execution_count": null,
   "metadata": {
    "deletable": false,
    "nbgrader": {
     "cell_type": "code",
     "checksum": "3f9a1726bc22c6d25880e74308a6428b",
     "grade": false,
     "grade_id": "q1-sol",
     "locked": false,
     "schema_version": 3,
     "solution": true,
     "task": false
    }
   },
   "outputs": [],
   "source": [
    "\n",
    "from sklearn.model_selection import KFold\n",
    "import numpy as np\n",
    "l1=[10, 20, 30, 40, 50, 60, 70, 80, 90, 100, 110, 120]\n",
    "traindata=[]\n",
    "testdata=[]\n",
    "\n",
    "# YOUR CODE HERE\n",
    "raise NotImplementedError()\n"
   ]
  },
  {
   "cell_type": "code",
   "execution_count": null,
   "metadata": {
    "deletable": false,
    "editable": false,
    "nbgrader": {
     "cell_type": "code",
     "checksum": "c51c84a94420cc7be7ad1906da4de230",
     "grade": true,
     "grade_id": "q1-tests1",
     "locked": true,
     "points": 5,
     "schema_version": 3,
     "solution": false,
     "task": false
    }
   },
   "outputs": [],
   "source": [
    "#Please do not modify/delete this cell\n",
    "assert np.mean(traindata)==65.0\n",
    "assert len(testdata)==4"
   ]
  },
  {
   "cell_type": "code",
   "execution_count": null,
   "metadata": {
    "deletable": false,
    "editable": false,
    "nbgrader": {
     "cell_type": "code",
     "checksum": "d224b7cbb3db7ce9b02bc8418e7e6504",
     "grade": true,
     "grade_id": "q1-tests2",
     "locked": true,
     "points": 5,
     "schema_version": 3,
     "solution": false,
     "task": false
    }
   },
   "outputs": [],
   "source": [
    "#Please do not modify/delete this cell"
   ]
  },
  {
   "cell_type": "code",
   "execution_count": null,
   "metadata": {
    "deletable": false,
    "editable": false,
    "nbgrader": {
     "cell_type": "code",
     "checksum": "cd68c06d1ed583ba93a6cee48d7621d8",
     "grade": false,
     "grade_id": "cell-774f55e1eebf6b55",
     "locked": true,
     "schema_version": 3,
     "solution": false,
     "task": false
    }
   },
   "outputs": [],
   "source": [
    "#Please do not modify/delete this cell\n",
    "import pandas as pd\n",
    "df_boston_train=pd.read_csv('https://raw.githubusercontent.com/rpi-techfundamentals/website_fall_2021/master/site/public/boston_train.csv')\n"
   ]
  },
  {
   "cell_type": "markdown",
   "metadata": {
    "deletable": false,
    "editable": false,
    "nbgrader": {
     "cell_type": "markdown",
     "checksum": "0d460058e57127d2ac2c10a1db0afba5",
     "grade": false,
     "grade_id": "q2-desc",
     "locked": true,
     "schema_version": 3,
     "solution": false,
     "task": false
    }
   },
   "source": [
    "### Q2 [10 points]. Boston Preprocessing\n",
    "\n",
    "Create a function `preprocess` which accepts a dataframe (`df`), a list of numeric columns (`num`), a list of columns that are categorical (`cat`), and optionionally the dependent variable (`dv`). \n",
    "\n",
    "1. For categorical columns, the function should replace all missing values with their own category 'missing' (setting NAs equal to the string 'missing'). It should then generate n-1 dummy variables for each categorical variables. \n",
    "\n",
    "2. For numeric columnns, the function should replace all missing values with the median.\n",
    "\n",
    "3. The function should also check whether the `dv` is in the dataframe. If it is in the dataframe return `X` and `y`.  If the dv is not in the dataframe, return just `X`.\n",
    "\n",
    "Hint: [This notebook](https://introml.analyticsdojo.com/notebooks/nb-04-06-revisit-titanic.html) has a solid starting point for you to inspect. \n"
   ]
  },
  {
   "cell_type": "code",
   "execution_count": null,
   "metadata": {
    "deletable": false,
    "editable": false,
    "nbgrader": {
     "cell_type": "code",
     "checksum": "bc8e93b284f35b7baa7132ba2d95f893",
     "grade": false,
     "grade_id": "q2-setup",
     "locked": true,
     "schema_version": 3,
     "solution": false,
     "task": false
    }
   },
   "outputs": [],
   "source": [
    "#Please do not modify/delete this cell\n",
    "#This selects the numeric and categorical columns.\n",
    "num_features = list(df_boston_train.select_dtypes(include=[np.number]).columns.values)\n",
    "cat_features = list(set(df_boston_train.columns)-set(num_features))\n",
    "num_features.remove('Id') #Why do we drop Id? You should know answer for midterm.\n",
    "num_features.remove('SalePrice')\n",
    "dv='SalePrice'"
   ]
  },
  {
   "cell_type": "code",
   "execution_count": null,
   "metadata": {
    "deletable": false,
    "nbgrader": {
     "cell_type": "code",
     "checksum": "96435971bf6126d610537fc2168d7650",
     "grade": false,
     "grade_id": "q2-solution",
     "locked": false,
     "schema_version": 3,
     "solution": true,
     "task": false
    }
   },
   "outputs": [],
   "source": [
    "\n",
    "#Your solution here.\n",
    "\n",
    "# YOUR CODE HERE\n",
    "raise NotImplementedError()"
   ]
  },
  {
   "cell_type": "code",
   "execution_count": null,
   "metadata": {
    "deletable": false,
    "editable": false,
    "nbgrader": {
     "cell_type": "code",
     "checksum": "e930a7906771751c17cebb8cf61ba31e",
     "grade": true,
     "grade_id": "q2-tests1",
     "locked": true,
     "points": 5,
     "schema_version": 3,
     "solution": false,
     "task": false
    }
   },
   "outputs": [],
   "source": [
    "#Please do not modify/delete this cell\n",
    "X,y=preprocess(df_boston_train, num_features, cat_features, dv)\n",
    "X2=preprocess(df_boston_train, num_features, cat_features)\n",
    "\n",
    "assert X.shape[0]==1460\n",
    "assert X.shape[1]==261\n",
    "assert y.sum()==264144946"
   ]
  },
  {
   "cell_type": "code",
   "execution_count": null,
   "metadata": {
    "deletable": false,
    "editable": false,
    "nbgrader": {
     "cell_type": "code",
     "checksum": "7db6b8fc9dc4ee50028d0475dfe0c567",
     "grade": true,
     "grade_id": "q2-tests2",
     "locked": true,
     "points": 5,
     "schema_version": 3,
     "solution": false,
     "task": false
    }
   },
   "outputs": [],
   "source": []
  },
  {
   "cell_type": "markdown",
   "metadata": {
    "deletable": false,
    "editable": false,
    "nbgrader": {
     "cell_type": "markdown",
     "checksum": "b70d0c0988ad456b90777d4db1ca0750",
     "grade": false,
     "grade_id": "q3-desc",
     "locked": true,
     "schema_version": 3,
     "solution": false,
     "task": false
    }
   },
   "source": [
    "### Q3 [10 points] Regression Function\n",
    "\n",
    "Don't worry about train/test split our anything.  Just run a regression using scikit learn. \n",
    "\n",
    "Create `y_pred` as the predicted value from the regression model using `X_reload` and `y_reload`. \n",
    "\n",
    "Calculate the overall R2 (`reg_r2`) for the model as well as the mean squared error (`reg_mse`). \n"
   ]
  },
  {
   "cell_type": "code",
   "execution_count": null,
   "metadata": {
    "deletable": false,
    "editable": false,
    "nbgrader": {
     "cell_type": "code",
     "checksum": "ef83c33add209fb4335f0f9063af654e",
     "grade": false,
     "grade_id": "q3-setup",
     "locked": true,
     "schema_version": 3,
     "solution": false,
     "task": false
    }
   },
   "outputs": [],
   "source": [
    "#Please do not modify/delete this cell\n",
    "#We are loading processed data. Don't change this.  \n",
    "X_reload = pd.read_csv('https://raw.githubusercontent.com/rpi-techfundamentals/website_fall_2021/master/site/public/processed_housing.csv')\n",
    "y_reload = X_reload['SalePrice']\n",
    "X_reload = X_reload.drop('SalePrice', axis=1)"
   ]
  },
  {
   "cell_type": "code",
   "execution_count": null,
   "metadata": {
    "deletable": false,
    "nbgrader": {
     "cell_type": "code",
     "checksum": "76f889e2973b7f28e3a485d9e2aec274",
     "grade": false,
     "grade_id": "q3-solution",
     "locked": false,
     "schema_version": 3,
     "solution": true,
     "task": false
    }
   },
   "outputs": [],
   "source": [
    "\n",
    "# YOUR CODE HERE\n",
    "raise NotImplementedError()"
   ]
  },
  {
   "cell_type": "code",
   "execution_count": null,
   "metadata": {
    "deletable": false,
    "editable": false,
    "nbgrader": {
     "cell_type": "code",
     "checksum": "008b7d0c8c25eb1d961ff9729b595f14",
     "grade": true,
     "grade_id": "q3-tests1",
     "locked": true,
     "points": 5,
     "schema_version": 3,
     "solution": false,
     "task": false
    }
   },
   "outputs": [],
   "source": [
    "#Please do not modify/delete this cell\n",
    "assert round(reg_r2,3)==0.931\n",
    "assert round_sig(reg_mse)==round_sig(438286412)\n"
   ]
  },
  {
   "cell_type": "code",
   "execution_count": null,
   "metadata": {
    "deletable": false,
    "editable": false,
    "nbgrader": {
     "cell_type": "code",
     "checksum": "179d4b53bcc9738d4e3077588d2db24f",
     "grade": true,
     "grade_id": "q3-tests2",
     "locked": true,
     "points": 5,
     "schema_version": 3,
     "solution": false,
     "task": false
    }
   },
   "outputs": [],
   "source": []
  },
  {
   "cell_type": "markdown",
   "metadata": {
    "deletable": false,
    "editable": false,
    "nbgrader": {
     "cell_type": "markdown",
     "checksum": "5e62a99df80843415c7ad27fbc42fcf8",
     "grade": false,
     "grade_id": "q4-desc",
     "locked": true,
     "schema_version": 3,
     "solution": false,
     "task": false
    }
   },
   "source": [
    "#### Q4 [10 points]. Train Test Split\n",
    "\n",
    "Now split the data `X_reload`, `y_reload` intro training (80%) and testing data (20%) by using these variable names \n",
    "\n",
    "`X_train`: Training feature columns\n",
    "\n",
    "`X_test`: Testing feature columns\n",
    "\n",
    "`y_train`: Training DV\n",
    "\n",
    "`y_test`: Testing DV\n",
    "\n",
    "When doing so set the `random_state` parameter to `100` so you get the same split that is in the solution."
   ]
  },
  {
   "cell_type": "code",
   "execution_count": null,
   "metadata": {
    "deletable": false,
    "nbgrader": {
     "cell_type": "code",
     "checksum": "6d4b83b419d461854671349595af03d2",
     "grade": false,
     "grade_id": "q4-sol",
     "locked": false,
     "schema_version": 3,
     "solution": true,
     "task": false
    }
   },
   "outputs": [],
   "source": [
    "# YOUR CODE HERE\n",
    "raise NotImplementedError()\n"
   ]
  },
  {
   "cell_type": "code",
   "execution_count": null,
   "metadata": {
    "deletable": false,
    "editable": false,
    "nbgrader": {
     "cell_type": "code",
     "checksum": "779361fa2e7a80ab35e2811dcb8d8356",
     "grade": true,
     "grade_id": "q4-tests1",
     "locked": true,
     "points": 5,
     "schema_version": 3,
     "solution": false,
     "task": false
    }
   },
   "outputs": [],
   "source": [
    "assert len(X_train)==1168\n",
    "assert len(y_test)==292\n"
   ]
  },
  {
   "cell_type": "code",
   "execution_count": null,
   "metadata": {
    "deletable": false,
    "editable": false,
    "nbgrader": {
     "cell_type": "code",
     "checksum": "004a844c36da047cab0138d1eb7ef996",
     "grade": true,
     "grade_id": "q4-tests2",
     "locked": true,
     "points": 5,
     "schema_version": 3,
     "solution": false,
     "task": false
    }
   },
   "outputs": [],
   "source": [
    "#Please do not modify/delete this cell\n"
   ]
  },
  {
   "cell_type": "markdown",
   "metadata": {
    "deletable": false,
    "editable": false,
    "nbgrader": {
     "cell_type": "markdown",
     "checksum": "3f43cffa1641362ca38025176fa33670",
     "grade": false,
     "grade_id": "q5-desc",
     "locked": true,
     "schema_version": 3,
     "solution": false,
     "task": false
    }
   },
   "source": [
    "#### Q5 [10 points]. Train Test Split for Regression Training\n",
    "\n",
    "Create a function `train_regression` which accepts `X_train`, `X_test`, `y_train`, `y_test` and returns the following:\n",
    "\n",
    "\n",
    "1. `y_pred_train` and `y_pred_test`as the predicted values from the regression models.\n",
    "\n",
    "2. The R2 for the training (`reg_r2_train`) and test data (`reg_r2_test`).\n",
    "\n",
    "3. The mean squared error for the training (`reg_mse_train`) and test data (`reg_mse_test`).\n"
   ]
  },
  {
   "cell_type": "code",
   "execution_count": null,
   "metadata": {
    "deletable": false,
    "nbgrader": {
     "cell_type": "code",
     "checksum": "b9d019848095f492153485b1b583f2f2",
     "grade": false,
     "grade_id": "q5-sol",
     "locked": false,
     "schema_version": 3,
     "solution": true,
     "task": false
    }
   },
   "outputs": [],
   "source": [
    "def train_regression(X_train, X_test, y_train, y_test):\n",
    "    #Your Code here\n",
    "    return y_pred_train, y_pred_test, reg_r2_train, reg_r2_test, reg_mse_train, reg_mse_test\n",
    "    \n",
    "\n",
    "# YOUR CODE HERE\n",
    "raise NotImplementedError()"
   ]
  },
  {
   "cell_type": "code",
   "execution_count": null,
   "metadata": {
    "deletable": false,
    "editable": false,
    "nbgrader": {
     "cell_type": "code",
     "checksum": "e0713fa81a6f603a8c0cf87e2f902068",
     "grade": true,
     "grade_id": "q5-tests1",
     "locked": true,
     "points": 5,
     "schema_version": 3,
     "solution": false,
     "task": false
    }
   },
   "outputs": [],
   "source": [
    "assert round(reg_r2_train,3)==0.943\n",
    "assert reg_r2_test <0\n",
    "assert round_sig(reg_mse_train)==round_sig(358143388)\n"
   ]
  },
  {
   "cell_type": "code",
   "execution_count": null,
   "metadata": {
    "deletable": false,
    "editable": false,
    "nbgrader": {
     "cell_type": "code",
     "checksum": "0604b7beac20b0f2cf7f42ea5dd5733d",
     "grade": true,
     "grade_id": "q5-tests2",
     "locked": true,
     "points": 5,
     "schema_version": 3,
     "solution": false,
     "task": false
    }
   },
   "outputs": [],
   "source": [
    "#Please do not modify/delete this cell\n",
    "\n"
   ]
  },
  {
   "cell_type": "markdown",
   "metadata": {
    "deletable": false,
    "editable": false,
    "nbgrader": {
     "cell_type": "markdown",
     "checksum": "0a2a6f3d286934f022b7323c97ede8fc",
     "grade": false,
     "grade_id": "q6-desc",
     "locked": true,
     "schema_version": 3,
     "solution": false,
     "task": false
    }
   },
   "source": [
    "#### Q6 [10 points]. PCA\n",
    "\n",
    "Perform PCA on your `X_reload` data, with parameter such that you extract 90% of the variance in your independent variables, to create `X_pca` the `X_pca`.  Use `random_state`=100. \n",
    "\n",
    "Then repeat the steps of splitting the data into `X_train_pca`, `X_test_pca`, `y_train_pca`, `y_test_pca` and run the final analysis on your regression function `train_regression`. \n",
    "\n"
   ]
  },
  {
   "cell_type": "code",
   "execution_count": null,
   "metadata": {
    "deletable": false,
    "nbgrader": {
     "cell_type": "code",
     "checksum": "f64db030038cee5034687f1e327eea6c",
     "grade": false,
     "grade_id": "q6-sol",
     "locked": false,
     "schema_version": 3,
     "solution": true,
     "task": false
    }
   },
   "outputs": [],
   "source": [
    "# YOUR CODE HERE\n",
    "raise NotImplementedError()\n"
   ]
  },
  {
   "cell_type": "code",
   "execution_count": null,
   "metadata": {
    "deletable": false,
    "editable": false,
    "nbgrader": {
     "cell_type": "code",
     "checksum": "eec5e530146c04717c3a87afc47905ad",
     "grade": true,
     "grade_id": "q6-tests1",
     "locked": true,
     "points": 5,
     "schema_version": 3,
     "solution": false,
     "task": false
    }
   },
   "outputs": [],
   "source": [
    "assert X_pca.shape[1]==5\n",
    "assert round(reg_r2_train,3) ==0.622\n",
    "assert round_sig(reg_mse_train)== round_sig(2369212459)"
   ]
  },
  {
   "cell_type": "code",
   "execution_count": null,
   "metadata": {
    "deletable": false,
    "editable": false,
    "nbgrader": {
     "cell_type": "code",
     "checksum": "463194385cd209f372ce8cd02a06e31b",
     "grade": true,
     "grade_id": "q6-tests2",
     "locked": true,
     "points": 5,
     "schema_version": 3,
     "solution": false,
     "task": false
    }
   },
   "outputs": [],
   "source": [
    "#Please do not modify/delete this cell"
   ]
  },
  {
   "attachments": {
    "image.png": {
     "image/png": "[encoded data removed]"
    }
   },
   "cell_type": "markdown",
   "metadata": {
    "deletable": false,
    "editable": false,
    "nbgrader": {
     "cell_type": "markdown",
     "checksum": "4157eb7ee303b8892cac688c9d60d56c",
     "grade": false,
     "grade_id": "q7-challenge",
     "locked": true,
     "schema_version": 3,
     "solution": false,
     "task": false
    }
   },
   "source": [
    "#### Q7 [10 points]. Scaling Model Serach. \n",
    "\n",
    "So what you should have found in the above analysis was that a standard linear regression model when fed data many columns of data that are highly correlated does worse than just a simple model build on a few principal components. \n",
    "\n",
    "**However, is there important information in the data which other algorthims might be able utilize to make better preditctions?**\n",
    "\n",
    "Create a funtion `regmodel` which accepts a model dictionary of however many Scikitlearn regression models.  \n",
    "\n",
    "```\n",
    "def regmodel(model_dictionary, X_train, X_test, y_train, y_test, final_order):\n",
    "    #*****your code****\n",
    "    return results_df\n",
    "\n",
    "```\n",
    "It should run each model in the dictionary and return a dataframe summarizing the results, as follows:\n",
    "\n",
    "![image.png](attachment:image.png)\n",
    "\n",
    "*Hint: [This notebook](https://introml.analyticsdojo.com/notebooks/nb-04-06-revisit-titanic.html) has a solid starting point for you to inspect.* \n",
    "\n"
   ]
  },
  {
   "cell_type": "code",
   "execution_count": null,
   "metadata": {
    "deletable": false,
    "nbgrader": {
     "cell_type": "code",
     "checksum": "b83cf602a27917b3f22a25bdf1b0e7fc",
     "grade": false,
     "grade_id": "q7-sol",
     "locked": false,
     "schema_version": 3,
     "solution": true,
     "task": false
    }
   },
   "outputs": [],
   "source": [
    "import sklearn\n",
    "from sklearn.ensemble import RandomForestRegressor\n",
    "from sklearn.ensemble import AdaBoostRegressor\n",
    "\n",
    "#These are the parameters you pass to your model.\n",
    "#setting randomstate so you get the same results as i did. \n",
    "allmodels={\"Random Forest\": RandomForestRegressor( random_state=100),\n",
    "           \"AdaBoost\": AdaBoostRegressor( random_state=100)}\n",
    "final_order=['name','r2-train', 'r2-test', 'mse-train', 'mse-test']\n",
    "\n",
    "\n",
    "# YOUR CODE HERE\n",
    "raise NotImplementedError()"
   ]
  },
  {
   "cell_type": "code",
   "execution_count": null,
   "metadata": {
    "deletable": false,
    "editable": false,
    "nbgrader": {
     "cell_type": "code",
     "checksum": "64c998324d7509c56710493b8c994ac1",
     "grade": true,
     "grade_id": "q7-tests1",
     "locked": true,
     "points": 5,
     "schema_version": 3,
     "solution": false,
     "task": false
    }
   },
   "outputs": [],
   "source": [
    "#Please do not modify/delete this cell\n",
    "#Half credit for getting columns of resulting dataframe correct\n",
    "results_df = regmodel(allmodels, X_train, X_test, y_train, y_test, final_order)\n",
    "assert set(results_df.columns)==set(['name','r2-train', 'r2-test', 'mse-train', 'mse-test'])\n"
   ]
  },
  {
   "cell_type": "code",
   "execution_count": null,
   "metadata": {
    "deletable": false,
    "editable": false,
    "nbgrader": {
     "cell_type": "code",
     "checksum": "f5289701e142109bea60048a429b59fe",
     "grade": true,
     "grade_id": "q7-tests2",
     "locked": true,
     "points": 5,
     "schema_version": 3,
     "solution": false,
     "task": false
    }
   },
   "outputs": [],
   "source": [
    "#Please do not modify/delete this cell\n",
    "assert round(results_df['r2-train'][0],3)==0.976\n",
    "assert round_sig(results_df['mse-train'][0])== round_sig(147830303)\n",
    "assert round(results_df['r2-test'][0],3)==0.876\n",
    "assert round_sig(results_df['mse-test'][0])== round_sig(795442670)"
   ]
  },
  {
   "cell_type": "markdown",
   "metadata": {
    "deletable": false,
    "editable": false,
    "nbgrader": {
     "cell_type": "markdown",
     "checksum": "56b65181999efdea631bf53fad3a4aa9",
     "grade": false,
     "grade_id": "future",
     "locked": true,
     "schema_version": 3,
     "solution": false,
     "task": false
    }
   },
   "source": [
    "\n",
    "### Optional Future Enhancements\n",
    "\n",
    "1. Add K-Fold cross validation form  and include the results of 5 or 10 different models. Just adding an inner loop. \n",
    "\n",
    "2. Try different models.  With your function, you could evaluate the effect of any number of regression models. \n",
    "\n",
    "[https://scikit-learn.org/stable/supervised_learning.html](https://scikit-learn.org/stable/supervised_learning.html)"
   ]
  },
  {
   "cell_type": "code",
   "execution_count": null,
   "metadata": {},
   "outputs": [],
   "source": []
  }
 ],
 "metadata": {
  "kernelspec": {
   "display_name": "Python 3",
   "language": "python",
   "name": "python3"
  },
  "language_info": {
   "codemirror_mode": {
    "name": "ipython",
    "version": 3
   },
   "file_extension": ".py",
   "mimetype": "text/x-python",
   "name": "python",
   "nbconvert_exporter": "python",
   "pygments_lexer": "ipython3",
   "version": "3.7.10"
  }
 },
 "nbformat": 4,
 "nbformat_minor": 4
}
