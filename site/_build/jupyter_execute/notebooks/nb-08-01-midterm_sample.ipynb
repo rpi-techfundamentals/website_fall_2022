{
 "cells": [
  {
   "cell_type": "markdown",
   "metadata": {
    "colab_type": "text",
    "id": "vZfe_BrN2782"
   },
   "source": [
    "## Sample Coding Midterm.\n",
    "\n",
    "This is an old Midterm from a few years ago. This year will be about 16.5% harder. \n",
    "\n",
    "![](https://github.com/rpi-techfundamentals/hm-01-starter/blob/master/notsaved.png?raw=1)\n",
    "\n",
    "**WARNING!!!  If you see this icon on the top of your COLAB sesssion, your work is not saved automatically.**\n",
    "\n",
    "\n",
    "**Save your working file in Google drive so that all changes will be saved as you work. MAKE SURE that your final version is saved to GitHub.** \n",
    "\n",
    "Before you turn this in, make sure everything runs as expected. First, restart the kernel (in the menu, select Kernel → Restart) and then run all cells (in the menubar, select Cell → Run All). They should run completely without intervention...**i.e., DO NOT not manually upload any files.  Use the `wget` command to retreive files as necesssary.**\n",
    "\n",
    "\n",
    "### This is a 50 point assignment.\n",
    "\n",
    "**You may find it useful to go through the notebooks from the course materials when doing these exercises.**\n",
    "\n",
    "**If you receive assistance from anyone in the class it it will be considered an ethical violation and referred to associate dean.**"
   ]
  },
  {
   "cell_type": "code",
   "execution_count": 2,
   "metadata": {
    "colab": {},
    "colab_type": "code",
    "id": "DlqW9xLjyRhV"
   },
   "outputs": [
    {
     "data": {
      "text/html": [
       "<div>\n",
       "<style scoped>\n",
       "    .dataframe tbody tr th:only-of-type {\n",
       "        vertical-align: middle;\n",
       "    }\n",
       "\n",
       "    .dataframe tbody tr th {\n",
       "        vertical-align: top;\n",
       "    }\n",
       "\n",
       "    .dataframe thead th {\n",
       "        text-align: right;\n",
       "    }\n",
       "</style>\n",
       "<table border=\"1\" class=\"dataframe\">\n",
       "  <thead>\n",
       "    <tr style=\"text-align: right;\">\n",
       "      <th></th>\n",
       "      <th>v1</th>\n",
       "      <th>v2</th>\n",
       "      <th>v3</th>\n",
       "      <th>v4</th>\n",
       "      <th>v5</th>\n",
       "      <th>v6</th>\n",
       "      <th>v7</th>\n",
       "      <th>v8</th>\n",
       "      <th>v9</th>\n",
       "      <th>v10</th>\n",
       "      <th>group</th>\n",
       "      <th>y</th>\n",
       "    </tr>\n",
       "  </thead>\n",
       "  <tbody>\n",
       "    <tr>\n",
       "      <th>0</th>\n",
       "      <td>1</td>\n",
       "      <td>1</td>\n",
       "      <td>1</td>\n",
       "      <td>1</td>\n",
       "      <td>1</td>\n",
       "      <td>1</td>\n",
       "      <td>1</td>\n",
       "      <td>1</td>\n",
       "      <td>1</td>\n",
       "      <td>0</td>\n",
       "      <td>0</td>\n",
       "      <td>453.521369</td>\n",
       "    </tr>\n",
       "    <tr>\n",
       "      <th>1</th>\n",
       "      <td>1</td>\n",
       "      <td>1</td>\n",
       "      <td>1</td>\n",
       "      <td>1</td>\n",
       "      <td>1</td>\n",
       "      <td>1</td>\n",
       "      <td>1</td>\n",
       "      <td>1</td>\n",
       "      <td>1</td>\n",
       "      <td>1</td>\n",
       "      <td>0</td>\n",
       "      <td>151.919191</td>\n",
       "    </tr>\n",
       "    <tr>\n",
       "      <th>2</th>\n",
       "      <td>1</td>\n",
       "      <td>1</td>\n",
       "      <td>0</td>\n",
       "      <td>1</td>\n",
       "      <td>0</td>\n",
       "      <td>1</td>\n",
       "      <td>1</td>\n",
       "      <td>0</td>\n",
       "      <td>1</td>\n",
       "      <td>0</td>\n",
       "      <td>0</td>\n",
       "      <td>-141.666991</td>\n",
       "    </tr>\n",
       "    <tr>\n",
       "      <th>3</th>\n",
       "      <td>1</td>\n",
       "      <td>0</td>\n",
       "      <td>1</td>\n",
       "      <td>1</td>\n",
       "      <td>1</td>\n",
       "      <td>1</td>\n",
       "      <td>0</td>\n",
       "      <td>0</td>\n",
       "      <td>0</td>\n",
       "      <td>1</td>\n",
       "      <td>0</td>\n",
       "      <td>-227.245474</td>\n",
       "    </tr>\n",
       "    <tr>\n",
       "      <th>4</th>\n",
       "      <td>1</td>\n",
       "      <td>0</td>\n",
       "      <td>0</td>\n",
       "      <td>1</td>\n",
       "      <td>0</td>\n",
       "      <td>0</td>\n",
       "      <td>0</td>\n",
       "      <td>1</td>\n",
       "      <td>0</td>\n",
       "      <td>0</td>\n",
       "      <td>0</td>\n",
       "      <td>-130.752790</td>\n",
       "    </tr>\n",
       "  </tbody>\n",
       "</table>\n",
       "</div>"
      ],
      "text/plain": [
       "   v1  v2  v3  v4  v5  v6  v7  v8  v9  v10  group           y\n",
       "0   1   1   1   1   1   1   1   1   1    0      0  453.521369\n",
       "1   1   1   1   1   1   1   1   1   1    1      0  151.919191\n",
       "2   1   1   0   1   0   1   1   0   1    0      0 -141.666991\n",
       "3   1   0   1   1   1   1   0   0   0    1      0 -227.245474\n",
       "4   1   0   0   1   0   0   0   1   0    0      0 -130.752790"
      ]
     },
     "execution_count": 2,
     "metadata": {},
     "output_type": "execute_result"
    }
   ],
   "source": [
    "import pandas as pd\n",
    "data  = pd.read_csv(\"https://raw.githubusercontent.com/rpi-techfundamentals/website_fall_2021/master/site/public/midterm2.csv\")\n",
    "data.head()"
   ]
  },
  {
   "cell_type": "markdown",
   "metadata": {
    "colab_type": "text",
    "id": "1rX8YKAq0vfJ"
   },
   "source": [
    "### (15 points) 1. Predict Group Using Different Sets of IVs \n",
    "\n",
    "Predict the `group` variable from `v1-v5` and then from `v6-v10` using k Nearest Neighbor and all of the data (i.e., don't do train test split) and the default hyperparameters. IGNORE THE `target` variable for now. \n",
    "\n",
    "`accuracy_v1_5`\n",
    "\n",
    "`accuracy_v6_10`"
   ]
  },
  {
   "cell_type": "code",
   "execution_count": 0,
   "metadata": {
    "colab": {},
    "colab_type": "code",
    "id": "RM2YgR6V1wC2"
   },
   "outputs": [],
   "source": []
  },
  {
   "cell_type": "code",
   "execution_count": 0,
   "metadata": {
    "colab": {},
    "colab_type": "code",
    "id": "8tRVUsE-go9j"
   },
   "outputs": [],
   "source": [
    "accuracy_v1_5 = "
   ]
  },
  {
   "cell_type": "code",
   "execution_count": 0,
   "metadata": {
    "colab": {},
    "colab_type": "code",
    "id": "dhja_qBGgrBG"
   },
   "outputs": [],
   "source": [
    "accuracy_v6_10 = "
   ]
  },
  {
   "cell_type": "markdown",
   "metadata": {
    "colab_type": "text",
    "id": "plPZBhRq-DND"
   },
   "source": [
    "### (10 points) 2. Null model\n",
    "\n",
    "What would the accuracy of the null/naive model be?  Set it `accuracy_null`.\n",
    "\n",
    "How would you interpret the model for `accuracy_v1_5`, `accuracy_v6_10`, vs the null model. \n"
   ]
  },
  {
   "cell_type": "code",
   "execution_count": 0,
   "metadata": {
    "colab": {},
    "colab_type": "code",
    "id": "GVxdxFNq8dFN"
   },
   "outputs": [],
   "source": [
    "#Enter this to 1 decimal place. (i.e., not string)\n",
    "accuracy_null= 1.1  #included as example.\n",
    "\n",
    "accuracy_null"
   ]
  },
  {
   "cell_type": "code",
   "execution_count": 0,
   "metadata": {
    "colab": {},
    "colab_type": "code",
    "id": "d_03eMsF-iNm"
   },
   "outputs": [],
   "source": [
    "one_interpretation = \"\"\" \n",
    "Answer here. \n",
    "\"\"\""
   ]
  },
  {
   "cell_type": "markdown",
   "metadata": {
    "colab_type": "text",
    "id": "zBeAGSgcAVGc"
   },
   "source": [
    "### (15 points) 3. Perform linear regression using SciKit Learn.  \n",
    "\n",
    "Perform two regression analyses.  \n",
    "\n",
    "For for `analysis1` select the independent variables `v1-v10` (all v variables) and `group`.  Calculate the r2 (`r2_analysis1`) for the linear regression with the target variable.\n",
    "\n",
    "For for `analysis2` select the independent variables `v1-v10` (all v variables) and filter out to only include `group ==1`.  Calculate the r2 `r2_analysis2` for the linear regression with the target variable.\n",
    "\n",
    "Print `r2_analysis1` and  `r2_analysis2` to make sure they are set.\n",
    "\n",
    "\n"
   ]
  },
  {
   "cell_type": "code",
   "execution_count": 0,
   "metadata": {
    "colab": {},
    "colab_type": "code",
    "id": "2qhESlamBAtt"
   },
   "outputs": [],
   "source": [
    "\n"
   ]
  },
  {
   "cell_type": "code",
   "execution_count": 0,
   "metadata": {
    "colab": {},
    "colab_type": "code",
    "id": "0Akeynz4APl5"
   },
   "outputs": [],
   "source": [
    "\n"
   ]
  },
  {
   "cell_type": "code",
   "execution_count": 0,
   "metadata": {
    "colab": {},
    "colab_type": "code",
    "id": "GAj0ruboDRn6"
   },
   "outputs": [],
   "source": [
    "#Print r2_analysis1 and r2_analysis2 to make sure they are set.\n",
    "print(r2_analysis1, r2_analysis2)"
   ]
  },
  {
   "cell_type": "markdown",
   "metadata": {
    "colab_type": "text",
    "id": "tnnT1zAFyoKl"
   },
   "source": [
    "### (10 points) Train Test Split\n",
    "Using the `random_state=99` do a 50 50 train test split of only variables `v1-v10` and the `target` for y.   Your split should create the following \n",
    "\n",
    "`train_X`, `test_X`, `train_y`, `test_y`"
   ]
  },
  {
   "cell_type": "code",
   "execution_count": 0,
   "metadata": {
    "colab": {},
    "colab_type": "code",
    "id": "XpIWFGohx2wq"
   },
   "outputs": [],
   "source": []
  },
  {
   "cell_type": "code",
   "execution_count": 0,
   "metadata": {
    "colab": {},
    "colab_type": "code",
    "id": "x3BdJIB50LEt"
   },
   "outputs": [],
   "source": [
    "train_X"
   ]
  }
 ],
 "metadata": {
  "colab": {
   "collapsed_sections": [],
   "name": "midterm_student.ipynb",
   "provenance": []
  },
  "kernelspec": {
   "display_name": "Python 3",
   "language": "python",
   "name": "python3"
  },
  "language_info": {
   "codemirror_mode": {
    "name": "ipython",
    "version": 3
   },
   "file_extension": ".py",
   "mimetype": "text/x-python",
   "name": "python",
   "nbconvert_exporter": "python",
   "pygments_lexer": "ipython3",
   "version": "3.7.10"
  }
 },
 "nbformat": 4,
 "nbformat_minor": 1
}