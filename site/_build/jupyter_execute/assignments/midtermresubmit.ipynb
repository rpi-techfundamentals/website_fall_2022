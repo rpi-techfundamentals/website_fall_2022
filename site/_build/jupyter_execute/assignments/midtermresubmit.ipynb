{
 "cells": [
  {
   "cell_type": "markdown",
   "metadata": {
    "deletable": false,
    "editable": false,
    "nbgrader": {
     "cell_type": "markdown",
     "checksum": "bf915f53af429a347d38fd451889e7ff",
     "grade": false,
     "grade_id": "cell-description",
     "locked": true,
     "schema_version": 3,
     "solution": false,
     "task": false
    }
   },
   "source": [
    "# Midterm Resubmit\n",
    "#### Total number of points: 60\n",
    "#### Due date: Nov 11 2021 11:59  PM\n",
    "\n",
    "This will be used to give credit back on the midterm exam. \n",
    "\n",
    "Before you submit this homework, make sure everything runs as expected. First, restart the kernel (in the menu, select Kernel → Restart) and then run all cells (in the menubar, select Cell → Run All). You can discuss with others regarding the homework but all work must be your own.\n",
    "\n",
    "Steps to evaluate your solutions:\n",
    "\n",
    "Step-1: Try on Colab or Anaconda (Windows: https://docs.anaconda.com/anaconda/install/windows/ ; Mac:https://docs.anaconda.com/anaconda/install/mac-os/ ; Linux: https://docs.anaconda.com/anaconda/install/linux/)\n",
    "\n",
    "Step-2: Open the Jupyter Notebook by first launching the anaconda software console\n",
    "\n",
    "Step-3: Open the homework's .ipynb file and write your solutions at the appropriate location \"# YOUR CODE HERE\"\n",
    "\n",
    "Step-4: You can restart the kernel and click run all (in the menubar, select Cell → Run All) on the center-right on the top of this window.\n",
    "\n",
    "Step-5: Now go to \"File\" then click on \"Download as\" then click on \"Notebook (.ipynb)\" Please DO NOT change the file name and just keep it as \".ipynb\"\n",
    "\n",
    "Step-6: Go to lms.rpi.edu and upload your homework at the appropriate link to submit this homework.\n",
    "\n",
    "\n",
    "#### Please note that for any question in this assignment you will receive points ONLY if your solution passes all the test cases including hidden testcases as well. So please make sure you try to think all possible scenarios before submitting your answers.  \n",
    "- Note that hidden tests are present to ensure you are not hardcoding. \n",
    "- If caught cheating: \n",
    "    - you will receive a score of 0 for the 1st violation. \n",
    "    - for repeated incidents, you will receive an automatic 'F' grade and will be reported to the dean of Lally School of Management. "
   ]
  },
  {
   "cell_type": "code",
   "execution_count": null,
   "metadata": {
    "deletable": false,
    "editable": false,
    "nbgrader": {
     "cell_type": "code",
     "checksum": "aa2665d6916f9537bf1a85102ba35b14",
     "grade": false,
     "grade_id": "q1-setup",
     "locked": true,
     "schema_version": 3,
     "solution": false,
     "task": false
    }
   },
   "outputs": [],
   "source": [
    "import pandas as pd\n",
    "\n",
    "#Numerical or binary attributes\n",
    "num_or_bin= ['Income', 'Kidhome','Recency', 'MntWines', 'MntFruits', 'MntMeatProducts', 'MntFishProducts', 'MntSweetProducts','MntGoldProds', 'NumDealsPurchases', 'NumWebPurchases',\n",
    "       'NumCatalogPurchases', 'NumStorePurchases', 'NumWebVisitsMonth','AcceptedCmp3', 'AcceptedCmp4', 'AcceptedCmp5', 'AcceptedCmp1','AcceptedCmp2']\n",
    "\n",
    "#Categorical attributes\n",
    "cat = ['Education','Marital_Status']\n",
    "\n",
    "pd.set_option('display.max_columns', None)\n",
    "df  = pd.read_csv(\"https://raw.githubusercontent.com/rpi-techfundamentals/website_fall_2021/master/site/public/marketing_campaign.csv\", delimiter='\\t')\n",
    "df.head()\n",
    "\n"
   ]
  },
  {
   "cell_type": "markdown",
   "metadata": {
    "deletable": false,
    "editable": false,
    "nbgrader": {
     "cell_type": "markdown",
     "checksum": "2658c63cd7133734355e3faa873aaf9a",
     "grade": false,
     "grade_id": "q1-desc",
     "locked": true,
     "schema_version": 3,
     "solution": false,
     "task": false
    }
   },
   "source": [
    "### Q1 [20 points]. Load and preprocess the data.  \n",
    "\n",
    "Build and transform your dataframe `df` using the following steps before modeling. Create a new dataframe `X` that has the following properties: \n",
    "\n",
    "1. It should include only the columns from lists `num_or_bin` and `cat` (in the code above).\n",
    "2. Variables in `cat` should be transformed to `n`-1 dummy variables (where `n` is the number of categories for each variable.) \n",
    "3. Missing variables in the `Income` table should be filled with the median of the `income` table.\n",
    "\n",
    "**Do not use a wrap the preprocessing in a function.  Just complete the steps asked.** \n"
   ]
  },
  {
   "cell_type": "code",
   "execution_count": null,
   "metadata": {
    "deletable": false,
    "nbgrader": {
     "cell_type": "code",
     "checksum": "968dba33d0a510286a6715d57b7f089e",
     "grade": false,
     "grade_id": "q1-sol",
     "locked": false,
     "schema_version": 3,
     "solution": true,
     "task": false
    }
   },
   "outputs": [],
   "source": [
    "#Put your answer here. Don't create a function.  Just complete the exact steps asked. \n",
    "\n",
    "# YOUR CODE HERE\n",
    "raise NotImplementedError()\n"
   ]
  },
  {
   "cell_type": "code",
   "execution_count": null,
   "metadata": {
    "deletable": false,
    "editable": false,
    "nbgrader": {
     "cell_type": "code",
     "checksum": "104d3c7850eb175e174df4bba2f91553",
     "grade": true,
     "grade_id": "q1-tests1",
     "locked": true,
     "points": 5,
     "schema_version": 3,
     "solution": false,
     "task": false
    }
   },
   "outputs": [],
   "source": [
    "#Please do not modify/delete this cell\n",
    "# 1 Test Cell \n",
    "#this tests the columns. \n",
    "ecol = set(['Income', 'Kidhome', 'Recency', 'MntWines', 'MntFruits',\n",
    "       'MntMeatProducts', 'MntFishProducts', 'MntSweetProducts',\n",
    "       'MntGoldProds', 'NumDealsPurchases', 'NumWebPurchases',\n",
    "       'NumCatalogPurchases', 'NumStorePurchases', 'NumWebVisitsMonth',\n",
    "       'AcceptedCmp3', 'AcceptedCmp4', 'AcceptedCmp5', 'AcceptedCmp1',\n",
    "       'AcceptedCmp2', 'Education_Basic', 'Education_Graduation',\n",
    "       'Education_Master', 'Education_PhD', 'Marital_Status_Alone',\n",
    "       'Marital_Status_Divorced', 'Marital_Status_Married',\n",
    "       'Marital_Status_Single', 'Marital_Status_Together',\n",
    "       'Marital_Status_Widow', 'Marital_Status_YOLO'])\n",
    "assert len(ecol-set(X.columns))==0\n",
    "assert len(set(X.columns))-len(ecol)==0\n"
   ]
  },
  {
   "cell_type": "code",
   "execution_count": null,
   "metadata": {
    "deletable": false,
    "editable": false,
    "nbgrader": {
     "cell_type": "code",
     "checksum": "204dd8dca189ffa083787edb56334b46",
     "grade": true,
     "grade_id": "q1-tests2",
     "locked": true,
     "points": 5,
     "schema_version": 3,
     "solution": false,
     "task": false
    }
   },
   "outputs": [],
   "source": [
    "#Please do not modify/delete this cell\n",
    "# 2 Test Cell \n",
    "#this tests the columns. \n",
    "assert X.shape==(2240, 30)\n",
    "q2=X.copy()\n",
    "q2['Response']=df['Response']\n",
    "q2['Year_Birth']=df['Year_Birth']\n",
    "q2['Dt_Customer']=df['Dt_Customer']\n",
    "q2.to_csv('q2.csv',index=False)\n"
   ]
  },
  {
   "cell_type": "code",
   "execution_count": null,
   "metadata": {
    "deletable": false,
    "editable": false,
    "nbgrader": {
     "cell_type": "code",
     "checksum": "a8de9138590a8da93a292c9532a7c597",
     "grade": true,
     "grade_id": "q1-tests3",
     "locked": true,
     "points": 5,
     "schema_version": 3,
     "solution": false,
     "task": false
    }
   },
   "outputs": [],
   "source": [
    "#Please do not modify/delete this cell\n",
    "# 3 Test Cell \n",
    "assert len(X.loc[X['Income']==51381.5,'Income'])==24\n"
   ]
  },
  {
   "cell_type": "code",
   "execution_count": null,
   "metadata": {
    "deletable": false,
    "editable": false,
    "nbgrader": {
     "cell_type": "code",
     "checksum": "4043d32a7c6f930c84c08ca66416dbe2",
     "grade": true,
     "grade_id": "q1-tests4",
     "locked": true,
     "points": 5,
     "schema_version": 3,
     "solution": false,
     "task": false
    }
   },
   "outputs": [],
   "source": [
    "#Please do not modify/delete this cell\n",
    "# 4 Test Cell\n",
    "assert X.isnull().sum().sum()==0\n"
   ]
  },
  {
   "cell_type": "code",
   "execution_count": null,
   "metadata": {
    "deletable": false,
    "editable": false,
    "nbgrader": {
     "cell_type": "code",
     "checksum": "83f28c00ae79c73fb9977a2d3e175c32",
     "grade": false,
     "grade_id": "q2-setup",
     "locked": true,
     "schema_version": 3,
     "solution": false,
     "task": false
    }
   },
   "outputs": [],
   "source": [
    "#Please do not modify/delete this cell\n",
    "#Reload data\n",
    "import pandas as pd\n",
    "df_cl=pd.read_csv('https://raw.githubusercontent.com/rpi-techfundamentals/website_fall_2021/master/site/public/q2.csv')\n"
   ]
  },
  {
   "cell_type": "markdown",
   "metadata": {
    "deletable": false,
    "editable": false,
    "nbgrader": {
     "cell_type": "markdown",
     "checksum": "db986c632d9612be1837165a04cbbced",
     "grade": false,
     "grade_id": "q2-desc",
     "locked": true,
     "schema_version": 3,
     "solution": false,
     "task": false
    }
   },
   "source": [
    "## Q2 [20 points]. Feature Creation\n",
    "\n",
    "1. In the `df_cl` dataframe, create an integer feature `age` which is `2021` minus `Year_Birth`.\n",
    "\n",
    "**NOTE: Be sure to set `age` as type `int`.**\n",
    "\n",
    "2. In the `df_cl` dataframe, create an integer feature `holiday` which is 1 if the month of `Dt_Customer` is equal to `12` and 0 otherwise. You can get the month by accessing `mm` from the date format dd-mm-yyyy\n",
    "\n",
    "**NOTE: 04-09-2012 is in the form dd-mm-yyyy so for the months you want the middle numbers. Be sure to set `holiday` as type `int`.**\n",
    "\n",
    "\n"
   ]
  },
  {
   "cell_type": "code",
   "execution_count": null,
   "metadata": {
    "deletable": false,
    "nbgrader": {
     "cell_type": "code",
     "checksum": "860c9232b8a3dd1e6aaadc3dc9c455ac",
     "grade": false,
     "grade_id": "q2-solution",
     "locked": false,
     "schema_version": 3,
     "solution": true,
     "task": false
    }
   },
   "outputs": [],
   "source": [
    "#Your solution here.\n",
    "# YOUR CODE HERE\n",
    "raise NotImplementedError()"
   ]
  },
  {
   "cell_type": "code",
   "execution_count": null,
   "metadata": {
    "deletable": false,
    "editable": false,
    "nbgrader": {
     "cell_type": "code",
     "checksum": "eca13423e18dba79f70cdaaaa7380cb6",
     "grade": true,
     "grade_id": "q2-tests1",
     "locked": true,
     "points": 5,
     "schema_version": 3,
     "solution": false,
     "task": false
    }
   },
   "outputs": [],
   "source": [
    "#Please do not modify/delete this cell\n",
    "# 5 Test Cell\n",
    "assert df_cl['age'].sum()==116915\n"
   ]
  },
  {
   "cell_type": "code",
   "execution_count": null,
   "metadata": {
    "deletable": false,
    "editable": false,
    "nbgrader": {
     "cell_type": "code",
     "checksum": "83dd33e90a6f1e6c60b572907c412748",
     "grade": true,
     "grade_id": "q2-tests2",
     "locked": true,
     "points": 5,
     "schema_version": 3,
     "solution": false,
     "task": false
    }
   },
   "outputs": [],
   "source": [
    "#Please do not modify/delete this cell\n",
    "# 6 Test Cell\n",
    "import numpy as np\n",
    "assert isinstance(df_cl['age'][0], (np.int64,np.int32))\n"
   ]
  },
  {
   "cell_type": "code",
   "execution_count": null,
   "metadata": {
    "deletable": false,
    "editable": false,
    "nbgrader": {
     "cell_type": "code",
     "checksum": "b530ccaee245caef1a3664ef722d51e3",
     "grade": true,
     "grade_id": "q2-tests3",
     "locked": true,
     "points": 5,
     "schema_version": 3,
     "solution": false,
     "task": false
    }
   },
   "outputs": [],
   "source": [
    "#Please do not modify/delete this cell\n",
    "# 7 Test Cell\n",
    "assert df_cl['holiday'].sum()==175\n"
   ]
  },
  {
   "cell_type": "code",
   "execution_count": null,
   "metadata": {
    "deletable": false,
    "editable": false,
    "nbgrader": {
     "cell_type": "code",
     "checksum": "46f92f313a997ee31dea872b26682ff1",
     "grade": true,
     "grade_id": "q2-tests4",
     "locked": true,
     "points": 5,
     "schema_version": 3,
     "solution": false,
     "task": false
    }
   },
   "outputs": [],
   "source": [
    "#Please do not modify/delete this cell\n",
    "# 8 Test Cell\n",
    "import numpy as np\n",
    "assert isinstance(df_cl['holiday'][0], (np.int64,np.int32))\n"
   ]
  },
  {
   "cell_type": "code",
   "execution_count": null,
   "metadata": {},
   "outputs": [],
   "source": [
    "#Please do not modify/delete this cell\n",
    "import pandas as pd\n",
    "df_cl2=pd.read_csv('https://raw.githubusercontent.com/rpi-techfundamentals/website_fall_2021/master/site/public/dfcl2.csv')\n",
    "y_reload=df_cl2['Response']\n",
    "X_reload=df_cl2.drop(['Response'], axis=1)\n"
   ]
  },
  {
   "cell_type": "markdown",
   "metadata": {
    "deletable": false,
    "editable": false,
    "nbgrader": {
     "cell_type": "markdown",
     "checksum": "222246f188ea35d523d14056534e2107",
     "grade": false,
     "grade_id": "q3-desc",
     "locked": true,
     "schema_version": 3,
     "solution": false,
     "task": false
    }
   },
   "source": [
    "### Q3 [10 points] Train Test Split \n",
    "\n",
    "Now split the data `X_reload`, `y_reload` intro training (50%) and testing data (50%) by using these variable names while making sure there are Make sure that there are equal number of positive cases (1's) in the train and the test se \n",
    "\n",
    "`X_train`: Training feature columns\n",
    "\n",
    "`X_test`: Testing feature columns\n",
    "\n",
    "`y_train`: Training DV\n",
    "\n",
    "`y_test`: Testing DV\n",
    "\n",
    "When doing so set the `random_state` parameter to `100` so you get the same split that is in the solution.\n",
    "\n",
    "**Make sure that there are an equal number of positive cases (1's) in the train and the test set!**\n"
   ]
  },
  {
   "cell_type": "code",
   "execution_count": null,
   "metadata": {
    "deletable": false,
    "nbgrader": {
     "cell_type": "code",
     "checksum": "34c75c1eea97ad06f13b25692bd5b36f",
     "grade": false,
     "grade_id": "q3-solution",
     "locked": false,
     "schema_version": 3,
     "solution": true,
     "task": false
    }
   },
   "outputs": [],
   "source": [
    "#Put your solution here. \n",
    "\n",
    "# YOUR CODE HERE\n",
    "raise NotImplementedError()"
   ]
  },
  {
   "cell_type": "code",
   "execution_count": null,
   "metadata": {
    "deletable": false,
    "editable": false,
    "nbgrader": {
     "cell_type": "code",
     "checksum": "7464dc944c3b81e59d732594d6dcec8f",
     "grade": true,
     "grade_id": "q3-tests1",
     "locked": true,
     "points": 5,
     "schema_version": 3,
     "solution": false,
     "task": false
    }
   },
   "outputs": [],
   "source": [
    "#Please do not modify/delete this cell\n",
    "# 9 Test Cell\n",
    "assert X_train.shape==(1120, 31)\n",
    "assert X_test.shape==(1120, 31)\n",
    "\n"
   ]
  },
  {
   "cell_type": "code",
   "execution_count": null,
   "metadata": {
    "deletable": false,
    "editable": false,
    "nbgrader": {
     "cell_type": "code",
     "checksum": "140c5c63b5922cebb52c671734c52f48",
     "grade": true,
     "grade_id": "q3-tests2",
     "locked": true,
     "points": 5,
     "schema_version": 3,
     "solution": false,
     "task": false
    }
   },
   "outputs": [],
   "source": [
    "#Please do not modify/delete this cell\n",
    "# 10 Test Cell\n",
    "assert  y_train.sum()==y_test.sum()\n"
   ]
  },
  {
   "cell_type": "code",
   "execution_count": null,
   "metadata": {
    "deletable": false,
    "editable": false,
    "nbgrader": {
     "cell_type": "code",
     "checksum": "3d4f5b89aa22271900cf18172a451196",
     "grade": false,
     "grade_id": "cell-e2ed5e0efe8601f4",
     "locked": true,
     "schema_version": 3,
     "solution": false,
     "task": false
    }
   },
   "outputs": [],
   "source": [
    "#Please do not modify/delete this cell\n",
    "import pandas as pd\n",
    "df_cl2=pd.read_csv('https://raw.githubusercontent.com/rpi-techfundamentals/website_fall_2021/master/site/public/dfcl2.csv')\n",
    "y_reload=df_cl2['Response']\n",
    "X_reload=df_cl2.drop(['Response'], axis=1)\n",
    "\n",
    "X_train2, X_test2, y_train2, y_test2 = train_test_split(X_reload, y_reload, test_size=0.3, random_state = 100)\n"
   ]
  },
  {
   "cell_type": "markdown",
   "metadata": {
    "deletable": false,
    "editable": false,
    "nbgrader": {
     "cell_type": "markdown",
     "checksum": "cb7d9445c4b75f6bb0735518470b2e0b",
     "grade": false,
     "grade_id": "q4-desc",
     "locked": true,
     "schema_version": 3,
     "solution": false,
     "task": false
    }
   },
   "source": [
    "#### Q4 [10 points]. Classification\n",
    "\n",
    "Use X_train2, X_test2, y_train2, y_test2 from above. Use a Gradient Boosting classifier (as instantiated below).\n",
    "\n",
    "Calculate:\n",
    "\n",
    "`test_acc`  The accuracy of the classifier on the test set.  \n",
    "`test_roc`  The area under the ROC curve on on the test set. \n",
    " \n"
   ]
  },
  {
   "cell_type": "code",
   "execution_count": null,
   "metadata": {
    "deletable": false,
    "nbgrader": {
     "cell_type": "code",
     "checksum": "96976bf047d08d5bd7d982f06c54351f",
     "grade": false,
     "grade_id": "q4-sol",
     "locked": false,
     "schema_version": 3,
     "solution": true,
     "task": false
    }
   },
   "outputs": [],
   "source": [
    "from sklearn import metrics\n",
    "from sklearn.ensemble import GradientBoostingClassifier\n",
    "#use this classifier\n",
    "classifier = GradientBoostingClassifier(n_estimators=100, learning_rate=1.0, max_depth=1, random_state=0)\n",
    "\n",
    "\n",
    "# YOUR CODE HERE\n",
    "raise NotImplementedError()\n"
   ]
  },
  {
   "cell_type": "code",
   "execution_count": null,
   "metadata": {
    "deletable": false,
    "editable": false,
    "nbgrader": {
     "cell_type": "code",
     "checksum": "ece28259648bfcf0170df19d2b37d031",
     "grade": true,
     "grade_id": "q4-tests1",
     "locked": true,
     "points": 5,
     "schema_version": 3,
     "solution": false,
     "task": false
    }
   },
   "outputs": [],
   "source": [
    "#Please do not modify/delete this cell\n",
    "# 11 Test Cell\n",
    "assert round(test_acc,3)==0.860\n"
   ]
  },
  {
   "cell_type": "code",
   "execution_count": null,
   "metadata": {
    "deletable": false,
    "editable": false,
    "nbgrader": {
     "cell_type": "code",
     "checksum": "2f05235a0555aceb514830ee6fbfe3f7",
     "grade": true,
     "grade_id": "q4-tests2",
     "locked": true,
     "points": 5,
     "schema_version": 3,
     "solution": false,
     "task": false
    }
   },
   "outputs": [],
   "source": [
    "#Please do not modify/delete this cell\n",
    "# 12 Test Cell\n",
    "assert round(test_roc,3)==0.846\n"
   ]
  }
 ],
 "metadata": {
  "kernelspec": {
   "display_name": "Python 3",
   "language": "python",
   "name": "python3"
  },
  "language_info": {
   "codemirror_mode": {
    "name": "ipython",
    "version": 3
   },
   "file_extension": ".py",
   "mimetype": "text/x-python",
   "name": "python",
   "nbconvert_exporter": "python",
   "pygments_lexer": "ipython3",
   "version": "3.7.10"
  }
 },
 "nbformat": 4,
 "nbformat_minor": 4
}