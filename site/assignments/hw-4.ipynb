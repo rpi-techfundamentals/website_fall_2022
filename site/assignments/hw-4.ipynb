{
 "cells": [
  {
   "cell_type": "markdown",
   "id": "textile-retailer",
   "metadata": {
    "deletable": false,
    "editable": false,
    "nbgrader": {
     "cell_type": "markdown",
     "checksum": "2808da79c696b26091f06392f65eda7c",
     "grade": false,
     "grade_id": "Instructions",
     "locked": true,
     "schema_version": 3,
     "solution": false,
     "task": false
    }
   },
   "source": [
    "###### Exam-1: Fall 2022\n",
    "#### Total number of points: 40\n",
    "\n",
    "This is an open-book test. However, talking or chatting with your classmates is NOT permitted and will be considered plagiarism. \n",
    "\n",
    "<b>Before you submit this test, make sure your answers are saved, and everything runs as expected</b>. \n",
    "\n",
    "- For empty notebook submissions, you will receive 0 points. \n",
    "- If instructions (including not using the same variable names) are not followed that led to a wrong answer, you will receive 0 points. \n",
    "\n",
    "First, restart the kernel (in the menu, select Kernel → Restart) and then run all cells (in the menubar, select Cell → Run All).\n",
    "Steps to evaluate your solutions:\n",
    "\n",
    "Step-1: Ensure you have installed Anaconda (Windows: https://docs.anaconda.com/anaconda/install/windows/ ; Mac:https://docs.anaconda.com/anaconda/install/mac-os/ ; Linux: https://docs.anaconda.com/anaconda/install/linux/)\n",
    "\n",
    "Step-2: Open the Jupyter Notebook by first launching the anaconda software console\n",
    "\n",
    "Step-3: Open the .ipynb file and write your solutions at the appropriate location \"# YOUR CODE HERE\"\n",
    "\n",
    "Step-4: You can restart the kernel and click run all (in the menubar, select Cell → Run All) on the center-right on the top of this window.\n",
    "\n",
    "Step-5: Now go to \"File\" then click on \"Download as\" then click on \"Notebook (.ipynb)\" Please DO NOT change the file name and just keep it as .ipynb file format\n",
    "\n",
    "Step-6: Go to lms.rpi.edu and upload your notebook at the appropriate link to submit this homework. Make sure your answers are saved before you submit. \n",
    "\n",
    "#### Please note that for any question in this test you will receive points ONLY if your solution passes all the hidden testcases. So please make sure you try to think all possible scenarios before submitting your answers.  \n",
    "- Note that hidden tests are present to ensure you are not hardcoding. \n",
    "- If caught cheating: \n",
    "    - you will receive a score of 0 for the 1st violation. \n",
    "    - for repeated incidents, you will receive an automatic 'F' grade and will be reported to the dean of Lally School of Management. "
   ]
  },
  {
   "cell_type": "markdown",
   "id": "medieval-rally",
   "metadata": {
    "deletable": false,
    "editable": false,
    "nbgrader": {
     "cell_type": "markdown",
     "checksum": "931e6aaf0462bcf42b67412fe26e2d9d",
     "grade": false,
     "grade_id": "DataDesc",
     "locked": true,
     "schema_version": 3,
     "solution": false,
     "task": false
    }
   },
   "source": [
    "#### For this test, we will be using Stroke data provided by WHO. The dataset is used to predict whether a patient is likely to get stroke based on the input parameters like gender, age, various diseases, and smoking status \n",
    "<ul> \n",
    "    <li>id: unique identifier</li>\n",
    "    <li>gender: \"Male\", \"Female\" or \"Other\"</li>\n",
    "    <li>age: age of the patient</li>\n",
    "    <li>hypertension: 0 if the patient doesn't have hypertension, 1 if the patient has hypertension</li>\n",
    "    <li>heart_disease: 0 if the patient doesn't have any heart diseases, 1 if the patient has a heart disease</li>\n",
    "    <li>ever_married: \"No\" or \"Yes\"</li>\n",
    "    <li>work_type: 'Private', 'Self-employed', 'Govt_job', 'children', 'Never_worked'</li>\n",
    "    <li>Residence_type: \"Rural\" or \"Urban\"</li>\n",
    "    <li>avg_glucose_level: average glucose level in blood</li>\n",
    "    <li>bmi: body mass index</li>\n",
    "    <li>smoking_status: \"formerly smoked\", \"never smoked\", \"smokes\" or \"Unknown\"*</li>\n",
    "    <li>stroke: 1 if the patient had a stroke or 0 if not -- <b>Class label column</b> </li>\n",
    "</ul>\n",
    "*Note: \"Unknown\" in smoking_status means that the information is unavailable for this patient"
   ]
  },
  {
   "cell_type": "code",
   "execution_count": null,
   "id": "arranged-fantasy",
   "metadata": {
    "deletable": false,
    "editable": false,
    "nbgrader": {
     "cell_type": "code",
     "checksum": "b86d3867df49f0ad2d0b4ae291af20ae",
     "grade": false,
     "grade_id": "LoadData",
     "locked": true,
     "schema_version": 3,
     "solution": false,
     "task": false
    }
   },
   "outputs": [],
   "source": [
    "#Please run this cell before answering the following questions \n",
    "import numpy as np\n",
    "import pandas as pd\n",
    "\n",
    "df = pd.read_csv('https://raw.githubusercontent.com/lmanikon/lmanikon.github.io/master/teaching/datasets/KaggleStroke.csv')\n",
    "df.head()\n"
   ]
  },
  {
   "cell_type": "markdown",
   "id": "chief-mailman",
   "metadata": {
    "deletable": false,
    "editable": false,
    "nbgrader": {
     "cell_type": "markdown",
     "checksum": "2192f23052164024dbc6b68b1d9d36b3",
     "grade": false,
     "grade_id": "Q1",
     "locked": true,
     "schema_version": 3,
     "solution": false,
     "task": false
    }
   },
   "source": [
    "### Q-1 [10 points] Please answer the following questions in the same order: \n",
    "\n",
    "1. Assign variable `rows` and `cols` with the total number of data points and the number of attributes present in the dataframe df.\n",
    "2. Assign the list `colnames` with the names of features present in this dataframe df.\n",
    "3. Find the value of `age` associated with the sample whose `id` is `1665` and assign this value to variable `sid1665_age`.\n",
    "4. Find the total number of missing values in 'smoking_status' column and assign it to variable `sstat_mvals`.\n",
    "5. Remove the column `id` from the dataframe `df`. Make sure this is reflected in the dataframe."
   ]
  },
  {
   "cell_type": "code",
   "execution_count": null,
   "id": "related-scholarship",
   "metadata": {
    "deletable": false,
    "nbgrader": {
     "cell_type": "code",
     "checksum": "275a138e0414720efee8bd2fa816738f",
     "grade": false,
     "grade_id": "Q1-Sol",
     "locked": false,
     "schema_version": 3,
     "solution": true,
     "task": false
    }
   },
   "outputs": [],
   "source": [
    "#Please make sure you use the exact names for variables including the casing of letters\n",
    "\n",
    "# YOUR CODE HERE\n",
    "raise NotImplementedError()"
   ]
  },
  {
   "cell_type": "code",
   "execution_count": null,
   "id": "f4e05cf5",
   "metadata": {
    "deletable": false,
    "editable": false,
    "nbgrader": {
     "cell_type": "code",
     "checksum": "cb7992bb2d663127bb96b50bf782cb9b",
     "grade": false,
     "grade_id": "val1",
     "locked": true,
     "schema_version": 3,
     "solution": false,
     "task": false
    }
   },
   "outputs": [],
   "source": [
    "#This will test that you have not mislabeled a variable. \n",
    "assert 'rows' in globals()\n",
    "assert 'cols' in globals()\n",
    "assert 'colnames' in globals()\n",
    "assert 'sid1665_age' in globals()\n",
    "assert 'sstat_mvals' in globals()\n"
   ]
  },
  {
   "cell_type": "code",
   "execution_count": null,
   "id": "accompanied-environment",
   "metadata": {
    "deletable": false,
    "editable": false,
    "nbgrader": {
     "cell_type": "code",
     "checksum": "9cbd3323005d41c039e537ca733cda52",
     "grade": true,
     "grade_id": "1a",
     "locked": true,
     "points": 1,
     "schema_version": 3,
     "solution": false,
     "task": false
    }
   },
   "outputs": [],
   "source": [
    "#Test cell-1 [1pts] Hidden tests\n",
    "#DO NOT MODIFY/DELETE THIS CELL \n",
    "\n",
    "\n",
    "assert cols==12\n",
    "\n"
   ]
  },
  {
   "cell_type": "code",
   "execution_count": null,
   "id": "bc39f07e",
   "metadata": {
    "deletable": false,
    "editable": false,
    "nbgrader": {
     "cell_type": "code",
     "checksum": "106f3e14d18a1adc69a299b2cb0f7e44",
     "grade": true,
     "grade_id": "1b",
     "locked": true,
     "points": 1,
     "schema_version": 3,
     "solution": false,
     "task": false
    }
   },
   "outputs": [],
   "source": [
    "#Test cell-1 [1pts] Hidden tests\n",
    "#DO NOT MODIFY/DELETE THIS CELL \n",
    "\n",
    "\n",
    "assert rows==5110\n"
   ]
  },
  {
   "cell_type": "code",
   "execution_count": null,
   "id": "systematic-pharmacy",
   "metadata": {
    "deletable": false,
    "editable": false,
    "nbgrader": {
     "cell_type": "code",
     "checksum": "14e2ed46d4aa1d642d436adbbb53957b",
     "grade": true,
     "grade_id": "2",
     "locked": true,
     "points": 2,
     "schema_version": 3,
     "solution": false,
     "task": false
    }
   },
   "outputs": [],
   "source": [
    "#Test cell-2 [2pts] Hidden tests\n",
    "#DO NOT MODIFY/DELETE THIS CELL \n",
    "\n",
    "\n",
    "assert set(colnames)=={'work_type', 'ever_married', 'avg_glucose_level', 'smoking_status', 'stroke', 'gender', 'hypertension', 'bmi', 'Residence_type', 'id', 'heart_disease', 'age'}\n",
    "\n"
   ]
  },
  {
   "cell_type": "code",
   "execution_count": null,
   "id": "cutting-timber",
   "metadata": {
    "deletable": false,
    "editable": false,
    "nbgrader": {
     "cell_type": "code",
     "checksum": "6e1d06669d6fd0c4f5f98f807e0ffe30",
     "grade": true,
     "grade_id": "3",
     "locked": true,
     "points": 2,
     "schema_version": 3,
     "solution": false,
     "task": false
    }
   },
   "outputs": [],
   "source": [
    "#Test cell-3 [2pts] Hidden tests\n",
    "#DO NOT MODIFY/DELETE THIS CELL \n",
    "\n",
    "\n",
    "assert sid1665_age==79.0\n",
    "\n"
   ]
  },
  {
   "cell_type": "code",
   "execution_count": null,
   "id": "behavioral-seating",
   "metadata": {
    "deletable": false,
    "editable": false,
    "nbgrader": {
     "cell_type": "code",
     "checksum": "f6acec108b0a1a27e19a33cb15293862",
     "grade": true,
     "grade_id": "4",
     "locked": true,
     "points": 2,
     "schema_version": 3,
     "solution": false,
     "task": false
    }
   },
   "outputs": [],
   "source": [
    "#Test cell-4 [2pts] Hidden tests\n",
    "#DO NOT MODIFY/DELETE THIS CELL \n",
    "\n",
    "\n",
    "assert sstat_mvals==0\n",
    "\n",
    "\n"
   ]
  },
  {
   "cell_type": "code",
   "execution_count": null,
   "id": "opposite-dodge",
   "metadata": {
    "deletable": false,
    "editable": false,
    "nbgrader": {
     "cell_type": "code",
     "checksum": "8fda503565365389041740938abdb3fa",
     "grade": true,
     "grade_id": "5",
     "locked": true,
     "points": 2,
     "schema_version": 3,
     "solution": false,
     "task": false
    }
   },
   "outputs": [],
   "source": [
    "#Test cell-5 [2pts] Hidden tests\n",
    "#DO NOT MODIFY/DELETE THIS CELL \n",
    "\n",
    "\n",
    "\n",
    "assert len(df.columns)==11\n"
   ]
  },
  {
   "cell_type": "markdown",
   "id": "smooth-mirror",
   "metadata": {
    "deletable": false,
    "editable": false,
    "nbgrader": {
     "cell_type": "markdown",
     "checksum": "1d6c44e7572509c15fe92b647aa0de0b",
     "grade": false,
     "grade_id": "Q2",
     "locked": true,
     "schema_version": 3,
     "solution": false,
     "task": false
    }
   },
   "source": [
    "### Q-2 [15 points] Please answer the following questions in the same order: \n",
    "\n",
    "1. Perform one-hot encoding on the dataframe df using Pandas `get_dummies()`. Save this newly transformed data frame as `newdf`. For each of the `N` categories generate `N-1` dummy variables. You can pass all values to the get dummies functions and let it decide which is a categorical variable. \n",
    "2. Replace all the missing values in this transformed data frame `newdf` with the average value of the corresponding column.\n",
    "3. Split the data frame `newdf` into a data frame `X` that includes all the feature columns, and a series `y` that includes ONLY the class label column, which is `stroke`. Please follow the case format of variables used here -- otherwise, your code wont pass the testcases.\n",
    "\n",
    "More details about the `get_dummies()` function can be found here: \n",
    "<a href=\"https://pandas.pydata.org/docs/reference/api/pandas.get_dummies.html\"> Link </a>\n",
    "\n"
   ]
  },
  {
   "cell_type": "code",
   "execution_count": null,
   "id": "solid-initial",
   "metadata": {
    "deletable": false,
    "nbgrader": {
     "cell_type": "code",
     "checksum": "97dd9692f710944b549c563c570a1cf5",
     "grade": false,
     "grade_id": "Q2-Sol",
     "locked": false,
     "schema_version": 3,
     "solution": true,
     "task": false
    }
   },
   "outputs": [],
   "source": [
    "#Please make sure you use the exact names for variables including the casing of letters\n",
    "\n",
    "# YOUR CODE HERE\n",
    "raise NotImplementedError()"
   ]
  },
  {
   "cell_type": "code",
   "execution_count": null,
   "id": "aafc987c",
   "metadata": {},
   "outputs": [],
   "source": [
    "#Variable Checks\n",
    "assert 'newdf' in globals()\n",
    "assert 'X' in globals()\n",
    "assert 'y' in globals()"
   ]
  },
  {
   "cell_type": "code",
   "execution_count": null,
   "id": "7c0a34a0",
   "metadata": {},
   "outputs": [],
   "source": [
    "newdf"
   ]
  },
  {
   "cell_type": "code",
   "execution_count": null,
   "id": "demonstrated-platform",
   "metadata": {
    "deletable": false,
    "editable": false,
    "nbgrader": {
     "cell_type": "code",
     "checksum": "9ec1ef9d1cda56b8f37f9403596ea397",
     "grade": true,
     "grade_id": "6a",
     "locked": true,
     "points": 3,
     "schema_version": 3,
     "solution": false,
     "task": false
    }
   },
   "outputs": [],
   "source": [
    "#Test cell-6 [3pts] Hidden tests\n",
    "#DO NOT MODIFY/DELETE THIS CELL \n",
    "\n",
    "\n",
    "assert len(newdf.columns)in[17,18]\n"
   ]
  },
  {
   "cell_type": "code",
   "execution_count": null,
   "id": "079e6ca8",
   "metadata": {
    "deletable": false,
    "editable": false,
    "nbgrader": {
     "cell_type": "code",
     "checksum": "65c67a9e4c2d403a7a6b89b68a2b81ae",
     "grade": true,
     "grade_id": "6b",
     "locked": true,
     "points": 3,
     "schema_version": 3,
     "solution": false,
     "task": false
    }
   },
   "outputs": [],
   "source": [
    "#Test cell-6 [3pts] Hidden tests\n",
    "#DO NOT MODIFY/DELETE THIS CELL \n",
    "\n",
    "\n",
    "\n",
    "assert (newdf.isnull().values.sum())==0\n"
   ]
  },
  {
   "cell_type": "code",
   "execution_count": null,
   "id": "sufficient-hundred",
   "metadata": {
    "deletable": false,
    "editable": false,
    "nbgrader": {
     "cell_type": "code",
     "checksum": "03003181cc50bd4ae3c43e1ba4cf200d",
     "grade": true,
     "grade_id": "7a",
     "locked": true,
     "points": 3,
     "schema_version": 3,
     "solution": false,
     "task": false
    }
   },
   "outputs": [],
   "source": [
    "#Test cell-7 [3pts] Hidden tests\n",
    "#DO NOT MODIFY/DELETE THIS CELL \n",
    "\n",
    "\n",
    "\n",
    "assert round(newdf['gender_Male'].mean(), 2)==0.41\n"
   ]
  },
  {
   "cell_type": "code",
   "execution_count": null,
   "id": "c7607d12",
   "metadata": {
    "deletable": false,
    "editable": false,
    "nbgrader": {
     "cell_type": "code",
     "checksum": "c762c7ec82a986889acba42923432d85",
     "grade": true,
     "grade_id": "7b",
     "locked": true,
     "points": 3,
     "schema_version": 3,
     "solution": false,
     "task": false
    }
   },
   "outputs": [],
   "source": [
    "#Test cell-7 [3pts] Hidden tests\n",
    "#DO NOT MODIFY/DELETE THIS CELL \n",
    "\n",
    "\n",
    "\n",
    "assert newdf.isnull().values.any()==False\n",
    "assert round(newdf['bmi'].mean(), 2)==28.89\n"
   ]
  },
  {
   "cell_type": "code",
   "execution_count": null,
   "id": "graduate-governor",
   "metadata": {
    "deletable": false,
    "editable": false,
    "nbgrader": {
     "cell_type": "code",
     "checksum": "63a2d76edaea4250169082d9da273b22",
     "grade": true,
     "grade_id": "8",
     "locked": true,
     "points": 3,
     "schema_version": 3,
     "solution": false,
     "task": false
    }
   },
   "outputs": [],
   "source": [
    "#Test cell-8 [3pts] Hidden tests\n",
    "#DO NOT MODIFY/DELETE THIS CELL \n",
    "\n",
    "\n",
    "\n",
    "assert len(X.columns)in[16,17]\n",
    "assert round(y.mean(), 2)==0.05\n"
   ]
  },
  {
   "cell_type": "markdown",
   "id": "correct-rates",
   "metadata": {
    "deletable": false,
    "editable": false,
    "nbgrader": {
     "cell_type": "markdown",
     "checksum": "6b3abe187172c0cc1300f8d60bf19cca",
     "grade": false,
     "grade_id": "Q3",
     "locked": true,
     "schema_version": 3,
     "solution": false,
     "task": false
    }
   },
   "source": [
    "### Q-3 [15 points] Please answer the following questions in the same order: \n",
    "\n",
    "\n",
    "1. Create a list of values (`y2_pred`) with all values as 1 and it has the same length as class label `y2`.\n",
    "2. Compute accuracy using the ground truth labels `y2` and synthetically created predicted labels `y2_pred` and save it as a variable `accu`. \n",
    "3. Compute the precision and recall values using `y2` and `y2_pred` and assign these values to variables `prec`, and `recall` respectively. \n",
    "4. Compute the `F-score` and assign it to variable `fscore`. \n",
    "5. Transform `X2` to `X2_st` using the `MinMaxScaler`. `X2_st` should be a `numpy` array. \n",
    "\n",
    "\n"
   ]
  },
  {
   "cell_type": "code",
   "execution_count": null,
   "id": "88932950",
   "metadata": {
    "deletable": false,
    "editable": false,
    "nbgrader": {
     "cell_type": "code",
     "checksum": "bfe5168f398ca36e2d9327757cca29e1",
     "grade": false,
     "grade_id": "cell-7ab691722dc22709",
     "locked": true,
     "schema_version": 3,
     "solution": false,
     "task": false
    }
   },
   "outputs": [],
   "source": [
    "#Load data for this question. Don't change this cell.\n",
    "X2=pd.read_csv('https://raw.githubusercontent.com/rpi-techfundamentals/website_fall_2022/master/site/public/X2.csv')\n",
    "y2=X2['stroke']\n",
    "X2=X2.iloc[:,:4]\n"
   ]
  },
  {
   "cell_type": "code",
   "execution_count": null,
   "id": "hungry-newark",
   "metadata": {
    "deletable": false,
    "nbgrader": {
     "cell_type": "code",
     "checksum": "5bc25da9efcff6203f2d42f853069f46",
     "grade": false,
     "grade_id": "Q3-Sol",
     "locked": false,
     "schema_version": 3,
     "solution": true,
     "task": false
    }
   },
   "outputs": [],
   "source": [
    "#Please make sure you use the exact names for variables including the casing of letters\n",
    "\n",
    "\n",
    "# YOUR CODE HERE\n",
    "raise NotImplementedError()"
   ]
  },
  {
   "cell_type": "code",
   "execution_count": null,
   "id": "c5df0ec9",
   "metadata": {},
   "outputs": [],
   "source": [
    "#Variable Checks\n",
    "\n",
    "assert 'y2_pred' in globals()\n",
    "assert 'accu' in globals()\n",
    "assert 'prec' in globals()\n",
    "assert 'recall' in globals()\n",
    "assert 'fscore' in globals()\n",
    "assert 'X2_st' in globals()"
   ]
  },
  {
   "cell_type": "code",
   "execution_count": null,
   "id": "dutch-thesis",
   "metadata": {
    "deletable": false,
    "editable": false,
    "nbgrader": {
     "cell_type": "code",
     "checksum": "736b38b829cb654700fbea5989b96d9b",
     "grade": true,
     "grade_id": "10",
     "locked": true,
     "points": 3,
     "schema_version": 3,
     "solution": false,
     "task": false
    }
   },
   "outputs": [],
   "source": [
    "#Test cell-10 [2pts] Hidden tests\n",
    "#DO NOT MODIFY/DELETE THIS CELL \n",
    "\n",
    "\n",
    "\n",
    "assert len(y2_pred)==5110\n",
    "assert set(y2_pred)=={1}\n"
   ]
  },
  {
   "cell_type": "code",
   "execution_count": null,
   "id": "operational-portland",
   "metadata": {
    "deletable": false,
    "editable": false,
    "nbgrader": {
     "cell_type": "code",
     "checksum": "8ff67ed0b556df2c12550c231fe9532e",
     "grade": true,
     "grade_id": "11",
     "locked": true,
     "points": 2,
     "schema_version": 3,
     "solution": false,
     "task": false
    }
   },
   "outputs": [],
   "source": [
    "#Test cell-11 [2pts] Hidden tests\n",
    "#DO NOT MODIFY/DELETE THIS CELL \n",
    "\n",
    "\n",
    "\n",
    "assert round(accu, 2)==0.05\n"
   ]
  },
  {
   "cell_type": "code",
   "execution_count": null,
   "id": "toxic-direction",
   "metadata": {
    "deletable": false,
    "editable": false,
    "nbgrader": {
     "cell_type": "code",
     "checksum": "bd1d7414534544f5c6f4d81c34a891a1",
     "grade": true,
     "grade_id": "12a",
     "locked": true,
     "points": 2,
     "schema_version": 3,
     "solution": false,
     "task": false
    }
   },
   "outputs": [],
   "source": [
    "#Test cell-12 [2pts] Hidden tests\n",
    "#DO NOT MODIFY/DELETE THIS CELL \n",
    "\n",
    "\n",
    "assert round(prec, 2)==0.05\n"
   ]
  },
  {
   "cell_type": "code",
   "execution_count": null,
   "id": "2bc7fbbd",
   "metadata": {
    "deletable": false,
    "editable": false,
    "nbgrader": {
     "cell_type": "code",
     "checksum": "f64de79b316ede440afc202c12c1f954",
     "grade": true,
     "grade_id": "12b",
     "locked": true,
     "points": 2,
     "schema_version": 3,
     "solution": false,
     "task": false
    }
   },
   "outputs": [],
   "source": [
    "#Test cell-12 [2pts] Hidden tests\n",
    "#DO NOT MODIFY/DELETE THIS CELL \n",
    "\n",
    "\n",
    "\n",
    "assert round(recall, 2)==1.0\n"
   ]
  },
  {
   "cell_type": "code",
   "execution_count": null,
   "id": "animal-carry",
   "metadata": {
    "deletable": false,
    "editable": false,
    "nbgrader": {
     "cell_type": "code",
     "checksum": "a286731214e6340fd18074d10b2c2d7f",
     "grade": true,
     "grade_id": "13",
     "locked": true,
     "points": 2,
     "schema_version": 3,
     "solution": false,
     "task": false
    }
   },
   "outputs": [],
   "source": [
    "#Test cell-13 [2pts] Hidden tests\n",
    "#DO NOT MODIFY/DELETE THIS CELL \n",
    "\n",
    "\n",
    "\n",
    "assert round(fscore, 2)==0.09\n"
   ]
  },
  {
   "cell_type": "code",
   "execution_count": null,
   "id": "807ea560",
   "metadata": {
    "deletable": false,
    "editable": false,
    "nbgrader": {
     "cell_type": "code",
     "checksum": "680ae2be229eaf01fed92b4fc9941dd8",
     "grade": true,
     "grade_id": "14",
     "locked": true,
     "points": 2,
     "schema_version": 3,
     "solution": false,
     "task": false
    }
   },
   "outputs": [],
   "source": [
    "#Test cell-14 [3pts] Hidden tests\n",
    "#DO NOT MODIFY/DELETE THIS CELL \n",
    "\n",
    "\n",
    "assert round(X2_st.max(), 1)==1.0\n"
   ]
  },
  {
   "cell_type": "code",
   "execution_count": null,
   "id": "5508259b",
   "metadata": {
    "deletable": false,
    "editable": false,
    "nbgrader": {
     "cell_type": "code",
     "checksum": "6c85a08bac5b6d686c3a9e424047cac8",
     "grade": true,
     "grade_id": "15",
     "locked": true,
     "points": 2,
     "schema_version": 3,
     "solution": false,
     "task": false
    }
   },
   "outputs": [],
   "source": [
    "#Test cell-15 [2pts] Hidden tests\n",
    "#DO NOT MODIFY/DELETE THIS CELL \n",
    "\n",
    "\n",
    "\n",
    "type(X2_st)==np.ndarray\n",
    "\n",
    "\n"
   ]
  }
 ],
 "metadata": {
  "kernelspec": {
   "display_name": "Python 3",
   "language": "python",
   "name": "python3"
  },
  "language_info": {
   "codemirror_mode": {
    "name": "ipython",
    "version": 3
   },
   "file_extension": ".py",
   "mimetype": "text/x-python",
   "name": "python",
   "nbconvert_exporter": "python",
   "pygments_lexer": "ipython3",
   "version": "3.7.10"
  }
 },
 "nbformat": 4,
 "nbformat_minor": 5
}
