{
  "nbformat": 4,
  "nbformat_minor": 0,
  "metadata": {
    "colab": {
      "name": "vectorization.ipynb",
      "provenance": [],
      "collapsed_sections": []
    },
    "kernelspec": {
      "display_name": "Python 3",
      "language": "python",
      "name": "python3"
    },
    "language_info": {
      "codemirror_mode": {
        "name": "ipython",
        "version": 3
      },
      "file_extension": ".py",
      "mimetype": "text/x-python",
      "name": "python",
      "nbconvert_exporter": "python",
      "pygments_lexer": "ipython3",
      "version": "3.7.6"
    }
  },
  "cells": [
    {
      "cell_type": "markdown",
      "metadata": {
        "id": "lqJiXoP3rrjZ"
      },
      "source": [
        "[![AnalyticsDojo](https://github.com/rpi-techfundamentals/spring2019-materials/blob/master/fig/final-logo.png?raw=1)](http://rpi.analyticsdojo.com)\n",
        "<center><h1> Vectorization Options</h1></center>\n",
        "<center><h3><a href = 'http://rpi.analyticsdojo.com'>rpi.analyticsdojo.com</a></h3></center>"
      ]
    },
    {
      "cell_type": "markdown",
      "metadata": {
        "id": "ED8Fwik7rrjd"
      },
      "source": [
        "This is adopted from: [Bag of Words Meets Bags of Popcorn](https://www.kaggle.com/c/word2vec-nlp-tutorial/details/part-1-for-beginners-bag-of-words)\n",
        "[https://github.com/wendykan/DeepLearningMovies](https://github.com/wendykan/DeepLearningMovies)\n"
      ]
    },
    {
      "cell_type": "markdown",
      "metadata": {
        "id": "v7fiBf__9Dv3"
      },
      "source": [
        "## Vectorizors\n",
        "\n",
        "To be meaningfully modeled, words must be turned into Vectors.  This covers a number of the approaches for text vectorazation 1.0. "
      ]
    },
    {
      "cell_type": "markdown",
      "metadata": {
        "id": "5yVmd-_iw1pO"
      },
      "source": [
        "# Bag of Words"
      ]
    },
    {
      "cell_type": "code",
      "metadata": {
        "id": "MZiYIUZ0rrjh"
      },
      "source": [
        "import nltk\n",
        "import pandas as pd\n",
        "import numpy as np\n",
        "from bs4 import BeautifulSoup\n",
        " \n",
        "from gensim import similarities\n",
        "import pandas as pd\n",
        "import numpy as np\n",
        "from gensim import models\n",
        "# import custom filters\n",
        "from gensim.parsing.preprocessing import preprocess_string\n",
        "from gensim.parsing.preprocessing import strip_tags, strip_punctuation, strip_numeric, stem_text,  preprocess_string\n",
        "from gensim.parsing.preprocessing import strip_multiple_whitespaces, strip_non_alphanum, remove_stopwords, strip_short\n",
        "from gensim import corpora\n",
        "from gensim.test.utils import common_corpus, common_dictionary\n",
        "from gensim.similarities import MatrixSimilarity\n",
        "from gensim.models.coherencemodel import CoherenceModel\n",
        "import matplotlib.pyplot as plt\n",
        "from gensim.test.utils import common_texts\n",
        "from gensim.models.doc2vec import Doc2Vec, TaggedDocument\n",
        "from gensim.test.utils import get_tmpfile\n",
        "from gensim.models.doc2vec import TaggedDocument\n",
        "import pyarrow.parquet as pq\n",
        "import pyarrow as pa\n",
        "import pyarrow.dataset as ds\n",
        "import pandas as pd\n",
        "from pathlib import Path\n",
        "from gensim.models import Phrases\n",
        "from gensim.models.phrases import Phraser"
      ],
      "execution_count": 1,
      "outputs": []
    },
    {
      "cell_type": "code",
      "metadata": {
        "colab": {
          "base_uri": "https://localhost:8080/"
        },
        "id": "2dpaaRkrsKgJ",
        "outputId": "f557839f-d552-4bd3-810c-41f098b5fda2"
      },
      "source": [
        "!wget https://github.com/rpi-techfundamentals/spring2019-materials/raw/master/input/labeledTrainData.tsv\n",
        "!wget https://github.com/rpi-techfundamentals/spring2019-materials/raw/master/input/unlabeledTrainData.tsv\n",
        "!wget https://github.com/rpi-techfundamentals/spring2019-materials/raw/master/input/testData.tsv"
      ],
      "execution_count": 2,
      "outputs": [
        {
          "output_type": "stream",
          "name": "stdout",
          "text": [
            "--2021-10-25 19:37:39--  https://github.com/rpi-techfundamentals/spring2019-materials/raw/master/input/labeledTrainData.tsv\n",
            "Resolving github.com (github.com)... 140.82.113.4\n",
            "Connecting to github.com (github.com)|140.82.113.4|:443... connected.\n",
            "HTTP request sent, awaiting response... 302 Found\n",
            "Location: https://raw.githubusercontent.com/rpi-techfundamentals/spring2019-materials/master/input/labeledTrainData.tsv [following]\n",
            "--2021-10-25 19:37:39--  https://raw.githubusercontent.com/rpi-techfundamentals/spring2019-materials/master/input/labeledTrainData.tsv\n",
            "Resolving raw.githubusercontent.com (raw.githubusercontent.com)... 185.199.108.133, 185.199.109.133, 185.199.110.133, ...\n",
            "Connecting to raw.githubusercontent.com (raw.githubusercontent.com)|185.199.108.133|:443... connected.\n",
            "HTTP request sent, awaiting response... 200 OK\n",
            "Length: 33556378 (32M) [text/plain]\n",
            "Saving to: ‘labeledTrainData.tsv.1’\n",
            "\n",
            "labeledTrainData.ts 100%[===================>]  32.00M   158MB/s    in 0.2s    \n",
            "\n",
            "2021-10-25 19:37:39 (158 MB/s) - ‘labeledTrainData.tsv.1’ saved [33556378/33556378]\n",
            "\n",
            "--2021-10-25 19:37:39--  https://github.com/rpi-techfundamentals/spring2019-materials/raw/master/input/unlabeledTrainData.tsv\n",
            "Resolving github.com (github.com)... 140.82.113.4\n",
            "Connecting to github.com (github.com)|140.82.113.4|:443... connected.\n",
            "HTTP request sent, awaiting response... 302 Found\n",
            "Location: https://raw.githubusercontent.com/rpi-techfundamentals/spring2019-materials/master/input/unlabeledTrainData.tsv [following]\n",
            "--2021-10-25 19:37:39--  https://raw.githubusercontent.com/rpi-techfundamentals/spring2019-materials/master/input/unlabeledTrainData.tsv\n",
            "Resolving raw.githubusercontent.com (raw.githubusercontent.com)... 185.199.108.133, 185.199.109.133, 185.199.110.133, ...\n",
            "Connecting to raw.githubusercontent.com (raw.githubusercontent.com)|185.199.108.133|:443... connected.\n",
            "HTTP request sent, awaiting response... 200 OK\n",
            "Length: 67281491 (64M) [text/plain]\n",
            "Saving to: ‘unlabeledTrainData.tsv.1’\n",
            "\n",
            "unlabeledTrainData. 100%[===================>]  64.16M   204MB/s    in 0.3s    \n",
            "\n",
            "2021-10-25 19:37:40 (204 MB/s) - ‘unlabeledTrainData.tsv.1’ saved [67281491/67281491]\n",
            "\n",
            "--2021-10-25 19:37:40--  https://github.com/rpi-techfundamentals/spring2019-materials/raw/master/input/testData.tsv\n",
            "Resolving github.com (github.com)... 140.82.113.4\n",
            "Connecting to github.com (github.com)|140.82.113.4|:443... connected.\n",
            "HTTP request sent, awaiting response... 302 Found\n",
            "Location: https://raw.githubusercontent.com/rpi-techfundamentals/spring2019-materials/master/input/testData.tsv [following]\n",
            "--2021-10-25 19:37:40--  https://raw.githubusercontent.com/rpi-techfundamentals/spring2019-materials/master/input/testData.tsv\n",
            "Resolving raw.githubusercontent.com (raw.githubusercontent.com)... 185.199.108.133, 185.199.109.133, 185.199.110.133, ...\n",
            "Connecting to raw.githubusercontent.com (raw.githubusercontent.com)|185.199.108.133|:443... connected.\n",
            "HTTP request sent, awaiting response... 200 OK\n",
            "Length: 32724746 (31M) [text/plain]\n",
            "Saving to: ‘testData.tsv.1’\n",
            "\n",
            "testData.tsv.1      100%[===================>]  31.21M   163MB/s    in 0.2s    \n",
            "\n",
            "2021-10-25 19:37:40 (163 MB/s) - ‘testData.tsv.1’ saved [32724746/32724746]\n",
            "\n"
          ]
        }
      ]
    },
    {
      "cell_type": "code",
      "metadata": {
        "id": "K_xVDa0xrrj1"
      },
      "source": [
        "train = pd.read_csv('labeledTrainData.tsv', header=0, \\\n",
        "                    delimiter=\"\\t\", quoting=3)\n",
        "unlabeled_train= pd.read_csv('unlabeledTrainData.tsv', header=0, \\\n",
        "                    delimiter=\"\\t\", quoting=3)\n",
        "test = pd.read_csv('testData.tsv', header=0, \\\n",
        "                    delimiter=\"\\t\", quoting=3)"
      ],
      "execution_count": 3,
      "outputs": []
    },
    {
      "cell_type": "code",
      "metadata": {
        "id": "BRC0py1hrrj-"
      },
      "source": [
        "import os\n",
        "from sklearn.feature_extraction.text import CountVectorizer\n",
        "from sklearn.ensemble import RandomForestClassifier\n",
        "import pandas as pd\n",
        "import numpy as np"
      ],
      "execution_count": 4,
      "outputs": []
    },
    {
      "cell_type": "code",
      "metadata": {
        "colab": {
          "base_uri": "https://localhost:8080/"
        },
        "id": "3xrN314NrrkC",
        "outputId": "2f623cd0-fcf0-410c-c038-3c1faf6a2032"
      },
      "source": [
        "print(train.columns.values, test.columns.values)"
      ],
      "execution_count": 5,
      "outputs": [
        {
          "output_type": "stream",
          "name": "stdout",
          "text": [
            "['id' 'sentiment' 'review'] ['id' 'review']\n"
          ]
        }
      ]
    },
    {
      "cell_type": "code",
      "metadata": {
        "colab": {
          "base_uri": "https://localhost:8080/",
          "height": 228
        },
        "id": "8cFlUrHWrrkP",
        "outputId": "6274eeec-4023-4610-99a8-61e796989b58"
      },
      "source": [
        "train.head()"
      ],
      "execution_count": 6,
      "outputs": [
        {
          "output_type": "execute_result",
          "data": {
            "text/html": [
              "<div>\n",
              "<style scoped>\n",
              "    .dataframe tbody tr th:only-of-type {\n",
              "        vertical-align: middle;\n",
              "    }\n",
              "\n",
              "    .dataframe tbody tr th {\n",
              "        vertical-align: top;\n",
              "    }\n",
              "\n",
              "    .dataframe thead th {\n",
              "        text-align: right;\n",
              "    }\n",
              "</style>\n",
              "<table border=\"1\" class=\"dataframe\">\n",
              "  <thead>\n",
              "    <tr style=\"text-align: right;\">\n",
              "      <th></th>\n",
              "      <th>id</th>\n",
              "      <th>sentiment</th>\n",
              "      <th>review</th>\n",
              "    </tr>\n",
              "  </thead>\n",
              "  <tbody>\n",
              "    <tr>\n",
              "      <th>0</th>\n",
              "      <td>\"5814_8\"</td>\n",
              "      <td>1</td>\n",
              "      <td>\"With all this stuff going down at the moment ...</td>\n",
              "    </tr>\n",
              "    <tr>\n",
              "      <th>1</th>\n",
              "      <td>\"2381_9\"</td>\n",
              "      <td>1</td>\n",
              "      <td>\"\\\"The Classic War of the Worlds\\\" by Timothy ...</td>\n",
              "    </tr>\n",
              "    <tr>\n",
              "      <th>2</th>\n",
              "      <td>\"7759_3\"</td>\n",
              "      <td>0</td>\n",
              "      <td>\"The film starts with a manager (Nicholas Bell...</td>\n",
              "    </tr>\n",
              "    <tr>\n",
              "      <th>3</th>\n",
              "      <td>\"3630_4\"</td>\n",
              "      <td>0</td>\n",
              "      <td>\"It must be assumed that those who praised thi...</td>\n",
              "    </tr>\n",
              "    <tr>\n",
              "      <th>4</th>\n",
              "      <td>\"9495_8\"</td>\n",
              "      <td>1</td>\n",
              "      <td>\"Superbly trashy and wondrously unpretentious ...</td>\n",
              "    </tr>\n",
              "  </tbody>\n",
              "</table>\n",
              "</div>"
            ],
            "text/plain": [
              "         id  sentiment                                             review\n",
              "0  \"5814_8\"          1  \"With all this stuff going down at the moment ...\n",
              "1  \"2381_9\"          1  \"\\\"The Classic War of the Worlds\\\" by Timothy ...\n",
              "2  \"7759_3\"          0  \"The film starts with a manager (Nicholas Bell...\n",
              "3  \"3630_4\"          0  \"It must be assumed that those who praised thi...\n",
              "4  \"9495_8\"          1  \"Superbly trashy and wondrously unpretentious ..."
            ]
          },
          "metadata": {},
          "execution_count": 6
        }
      ]
    },
    {
      "cell_type": "code",
      "metadata": {
        "colab": {
          "base_uri": "https://localhost:8080/"
        },
        "id": "QxzJiIUzrrka",
        "outputId": "1c75f2b3-e26d-4836-d98c-e0ec39524689"
      },
      "source": [
        "print('The train shape is: ', train.shape)\n",
        "print('The train shape is: ', test.shape)"
      ],
      "execution_count": 7,
      "outputs": [
        {
          "output_type": "stream",
          "name": "stdout",
          "text": [
            "The train shape is:  (25000, 3)\n",
            "The train shape is:  (25000, 2)\n"
          ]
        }
      ]
    },
    {
      "cell_type": "code",
      "metadata": {
        "colab": {
          "base_uri": "https://localhost:8080/"
        },
        "id": "32RysgsXrrlD",
        "outputId": "6e8cbda1-e93e-4e6b-e241-c55123441652"
      },
      "source": [
        "print('The first review is:')\n",
        "print(train[\"review\"][0])\n"
      ],
      "execution_count": 8,
      "outputs": [
        {
          "output_type": "stream",
          "name": "stdout",
          "text": [
            "The first review is:\n",
            "\"With all this stuff going down at the moment with MJ i've started listening to his music, watching the odd documentary here and there, watched The Wiz and watched Moonwalker again. Maybe i just want to get a certain insight into this guy who i thought was really cool in the eighties just to maybe make up my mind whether he is guilty or innocent. Moonwalker is part biography, part feature film which i remember going to see at the cinema when it was originally released. Some of it has subtle messages about MJ's feeling towards the press and also the obvious message of drugs are bad m'kay.<br /><br />Visually impressive but of course this is all about Michael Jackson so unless you remotely like MJ in anyway then you are going to hate this and find it boring. Some may call MJ an egotist for consenting to the making of this movie BUT MJ and most of his fans would say that he made it for the fans which if true is really nice of him.<br /><br />The actual feature film bit when it finally starts is only on for 20 minutes or so excluding the Smooth Criminal sequence and Joe Pesci is convincing as a psychopathic all powerful drug lord. Why he wants MJ dead so bad is beyond me. Because MJ overheard his plans? Nah, Joe Pesci's character ranted that he wanted people to know it is he who is supplying drugs etc so i dunno, maybe he just hates MJ's music.<br /><br />Lots of cool things in this like MJ turning into a car and a robot and the whole Speed Demon sequence. Also, the director must have had the patience of a saint when it came to filming the kiddy Bad sequence as usually directors hate working with one kid let alone a whole bunch of them performing a complex dance scene.<br /><br />Bottom line, this movie is for people who like MJ on one level or another (which i think is most people). If not, then stay away. It does try and give off a wholesome message and ironically MJ's bestest buddy in this movie is a girl! Michael Jackson is truly one of the most talented people ever to grace this planet but is he guilty? Well, with all the attention i've gave this subject....hmmm well i don't know because people can be different behind closed doors, i know this for a fact. He is either an extremely nice but stupid guy or one of the most sickest liars. I hope he is not the latter.\"\n"
          ]
        }
      ]
    },
    {
      "cell_type": "markdown",
      "metadata": {
        "id": "0xMxsymMxtSG"
      },
      "source": [
        "### Common Preprocessing\n",
        "\n",
        "Packages provide a variety of preprocessing routines. This results in a Tokenized set of data. \n",
        "\n",
        "\n",
        "https://radimrehurek.com/gensim/parsing/preprocessing.html\n"
      ]
    },
    {
      "cell_type": "code",
      "metadata": {
        "id": "ym3KN2U1rrlG"
      },
      "source": [
        "from gensim.parsing.preprocessing import preprocess_string\n",
        "from gensim.parsing.preprocessing import strip_tags, strip_punctuation, strip_numeric, stem_text,  preprocess_string\n",
        "from gensim.parsing.preprocessing import strip_multiple_whitespaces, strip_non_alphanum, remove_stopwords, strip_short\n",
        "\n",
        "# define custom filters\n",
        "text_col='review'\n",
        "CUSTOM_FILTERS = [\n",
        "                  lambda x: x.encode('utf-8').strip(),\n",
        "                  lambda x: x.lower(), #lowercase\n",
        "                  strip_multiple_whitespaces,# remove repeating whitespaces\n",
        "                  strip_numeric, # remove numbers\n",
        "                  strip_punctuation, #remove punctuation\n",
        "                  remove_stopwords,# remove stopwordsß\n",
        "                  stem_text # return porter-stemmed text,\n",
        "                 ]\n",
        "\n",
        "def preprocess(x, filters):\n",
        "    results=preprocess_string(x, filters )\n",
        "    return results\n",
        "\n",
        "train[text_col+'_pro']=train[text_col].apply(preprocess, filters=CUSTOM_FILTERS)\n",
        "train"
      ],
      "execution_count": null,
      "outputs": []
    },
    {
      "cell_type": "code",
      "metadata": {
        "id": "kwQ4XjyC1Wcj"
      },
      "source": [
        "from gensim import corpora\n",
        "from gensim.test.utils import common_corpus, common_dictionary\n",
        "\n",
        "def bow(x, dictionary):\n",
        "    return dictionary.doc2bow(x)\n",
        "\n",
        "#Create a Dictionary.\n",
        "cdict = corpora.Dictionary(train[text_col+'_pro'].to_list())\n",
        "\n",
        "\n",
        "#Create a Bag of Words Model\n",
        "train[text_col+'_bow']=train[text_col+'_pro'].apply(bow, dictionary=  cdict)\n",
        "train"
      ],
      "execution_count": null,
      "outputs": []
    },
    {
      "cell_type": "code",
      "metadata": {
        "id": "1qiAsSEq429b"
      },
      "source": [
        "def transform(x, model):\n",
        "    return model[x]\n",
        "    \n",
        "tfidf_bow = models.TfidfModel( train[text_col+'_bow'].to_list(),  normalize=True)\n",
        "train[text_col+'_tfidf_bow']=train[text_col+'_bow'].apply(transform, model=tfidf_bow )"
      ],
      "execution_count": null,
      "outputs": []
    },
    {
      "cell_type": "code",
      "metadata": {
        "id": "YKisLqv93Vpm"
      },
      "source": [
        "#Word to Vec\n",
        "train[text_col+'_tag']=pd.Series(TaggedDocument(doc, [i]) for i, doc in enumerate(train[text_col+'_pro'].to_list()))\n",
        "doc2vec = Doc2Vec(train[text_col+'_tag'] , vector_size=50, window=2, min_count=1, workers=4)\n",
        "train[text_col+'_docvecs']=pd.Series([doc2vec.docvecs[x] for x in range(len(train))])\n",
        "train\n"
      ],
      "execution_count": null,
      "outputs": []
    },
    {
      "cell_type": "code",
      "metadata": {
        "id": "_PWQrd1g4Yte"
      },
      "source": [
        "def create_dense(x, vlen=50):\n",
        "    try:\n",
        "        x=dict(x)\n",
        "        output=[]\n",
        "        for i in range(vlen):\n",
        "            if i in x.keys():\n",
        "                output.append(np.float64(x[i]))\n",
        "            else:\n",
        "                output.append(0)\n",
        "        return output\n",
        "    except:\n",
        "        return np.nan"
      ],
      "execution_count": null,
      "outputs": []
    },
    {
      "cell_type": "code",
      "metadata": {
        "id": "uCMVK9344bOj"
      },
      "source": [
        "\n",
        "lsi_model_bow = models.LsiModel(train[text_col+'_bow'].to_list(), id2word=cdict, num_topics=50)\n",
        "train[text_col+'_lsi_bow']=train[text_col+'_bow'].apply(transform, model=lsi_model_bow)\n",
        "train[text_col+'_lsi_bow_d']=train[text_col+'_lsi_bow'].apply(create_dense, vlen=50)"
      ],
      "execution_count": null,
      "outputs": []
    },
    {
      "cell_type": "code",
      "metadata": {
        "id": "ceFdgj-a5rZ5"
      },
      "source": [
        "lsi_model_tfidf = models.LsiModel(train[text_col+'_tfidf_bow'].to_list(), id2word=cdict, num_topics=50)\n",
        "train[text_col+'_lsi_tfidf']=train[text_col+'_tfidf_bow'].apply(transform, model=lsi_model_tfidf)\n",
        "train[text_col+'_lsi_tfidf_d']=train[text_col+'_lsi_tfidf'].apply(create_dense, vlen=50)"
      ],
      "execution_count": null,
      "outputs": []
    },
    {
      "cell_type": "code",
      "metadata": {
        "id": "44a-uAnp6yKH"
      },
      "source": [
        "lda_model_bow = models.LdaModel(train[text_col+'_bow'].to_list(), id2word=cdict, num_topics=50, minimum_probability=0)\n",
        "train[text_col+'_lda_bow']=train[text_col+'_bow'].apply(transform, model=lda_model_bow)\n",
        "train[text_col+'_lda_bow_d']=train[text_col+'_lda_bow'].apply(create_dense, vlen=50)"
      ],
      "execution_count": null,
      "outputs": []
    },
    {
      "cell_type": "code",
      "metadata": {
        "id": "Kw7Nz9JY7Hcd"
      },
      "source": [
        "\n",
        "lda_model_tfidf = models.LdaModel(train[text_col+'_tfidf_bow'].to_list(), id2word=cdict, num_topics=50, minimum_probability=0)      \n",
        "train[text_col+'_lda_tfidf']=train[text_col+'_tfidf_bow'].apply(transform, model=lda_model_tfidf)\n",
        "train[text_col+'_lda_tfidf_d']=train[text_col+'_lda_tfidf'].apply(create_dense, vlen=50)"
      ],
      "execution_count": null,
      "outputs": []
    },
    {
      "cell_type": "code",
      "metadata": {
        "id": "divlG6BL7sT9"
      },
      "source": [
        "train"
      ],
      "execution_count": null,
      "outputs": []
    }
  ]
}