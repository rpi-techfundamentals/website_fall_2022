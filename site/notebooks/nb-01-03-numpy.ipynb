{
 "cells": [
  {
   "cell_type": "markdown",
   "metadata": {
    "colab_type": "text",
    "id": "xjPKuBSt_hRX",
    "slideshow": {
     "slide_type": "slide"
    }
   },
   "source": [
    "[![AnalyticsDojo](https://github.com/rpi-techfundamentals/spring2019-materials/blob/master/fig/final-logo.png?raw=1)](http://rintroml.analyticsdojo.com)\n",
    "<center><h1>Introduction to Python - Numpy</h1></center>\n",
    "<center><h3><a href = 'http://introml.analyticsdojo.com'>introml.analyticsdojo.com</a></h3></center>\n"
   ]
  },
  {
   "cell_type": "markdown",
   "metadata": {
    "colab_type": "text",
    "id": "kCchv9uQ_hRZ",
    "slideshow": {
     "slide_type": "subslide"
    }
   },
   "source": [
    "# Overview of Numpy\n",
    "\n",
    "- Numpy is a package that provides additional functionality often useful working with arrays for data science. \n",
    "- Typically Numpy is imported as `np`.\n",
    "- `np.array()` will cast a list (or other collection) as a numpy array.\n",
    "- You can slice an array in the same way yo can slice a list.\n"
   ]
  },
  {
   "cell_type": "code",
   "execution_count": null,
   "metadata": {
    "colab": {},
    "colab_type": "code",
    "id": "9kdAxrfl_hRb"
   },
   "outputs": [],
   "source": [
    "import numpy as np\n",
    "a = np.array([0, 1, 2, 3, 4, 5, 6])\n",
    "print('A is of type:', type(a))\n",
    "print('Print the entire array:', a)\n",
    "print('Print the first value:', a[0])\n",
    "print('Print the first three value:', a[0:3])\n",
    "print('Print from second value till end  of list:', a[2:])\n",
    "print('Print the last value of a numpy array:', a[-1])\n",
    "print('Print up till the 2nd to last value:', a[:-2]) \n"
   ]
  },
  {
   "cell_type": "markdown",
   "metadata": {
    "colab_type": "text",
    "id": "_2PE5VX-_hRj",
    "slideshow": {
     "slide_type": "subslide"
    }
   },
   "source": [
    "## Arrays and Functions\n",
    "- A really powerful aspect of arrays is the capaiblity to do calculations over arrays.\n",
    "- Numpy has a number of functions possible listed [here](http://docs.scipy.org/doc/numpy/reference/routines.math.html).\n",
    "- Often it is possible to do calculations directly or via np functions, as shown below. "
   ]
  },
  {
   "cell_type": "code",
   "execution_count": null,
   "metadata": {
    "colab": {},
    "colab_type": "code",
    "id": "RFdXPJVc_hRk"
   },
   "outputs": [],
   "source": [
    "import numpy as np\n",
    "a = np.array([1, 2, 3, 4, 5, 6])\n",
    "b1=10*a\n",
    "b2=np.multiply(10,a)\n",
    "c1=a+b1\n",
    "c2=np.add(a,b1) #This is an alternate way of adding \n",
    "d=np.log(a)\n",
    "e=np.sqrt(a)\n",
    "f=a**2  #This squares the value. \n",
    "\n",
    "np.square([-1j, 1])\n",
    "print('Print the entire array a:', a)\n",
    "print('Print the entire array b1:', b1)\n",
    "print('Print the entire array b2:', b2)\n",
    "print('Print the entire array b3:', c1)\n",
    "print('Print the entire array c2:', c2)\n",
    "print('Print the entire array d:', d)\n",
    "print('Print the entire array e:', e)\n",
    "print('Print the entire array f:', f)"
   ]
  },
  {
   "cell_type": "markdown",
   "metadata": {
    "colab_type": "text",
    "id": "2_6zpEVC_hRo",
    "slideshow": {
     "slide_type": "subslide"
    }
   },
   "source": [
    "## Creating and Manipulating Numpy Arrays\n",
    "- The arrange function will generate an array. \n",
    "- Reshape changes the structure of the array to n rows and m columns.\n",
    "    `a=a.reshape(n, m)`\n",
    "-`ones` will create an array with all ones and `zeros` with all zeros.\n",
    "- Reshaping can get it in the appropriate structure, but make sure that the size fits the appropriate dimensions."
   ]
  },
  {
   "cell_type": "code",
   "execution_count": null,
   "metadata": {
    "colab": {},
    "colab_type": "code",
    "id": "CADzhCII_hRp"
   },
   "outputs": [],
   "source": [
    "import numpy as np\n",
    "a = np.arange(15) \n",
    "print(a)\n",
    "a2 = np.arange( 0, 15, 1 ) #Alternate specification with np.arrange(start, end, step)\n",
    "print(a2)\n",
    "a=a.reshape(3, 5)\n",
    "print(a)\n",
    "b= np.ones(shape=(3, 5), dtype=float)\n",
    "print(b)\n",
    "c= np.zeros(shape=(3, 5), dtype=int)\n",
    "print(c)\n",
    "d= np.full((3, 5), 4, dtype=int)\n",
    "print(d)\n",
    "e= np.arange( 0, 1.5, .1 ).reshape(3,5)  #String together creations and reshaping. Also can use decimals.\n",
    "print(e)"
   ]
  },
  {
   "cell_type": "code",
   "execution_count": null,
   "metadata": {
    "colab": {},
    "colab_type": "code",
    "id": "HH9MlXGG_hRr"
   },
   "outputs": [],
   "source": [
    "e= np.arange( 0, 1.5, .1 ).reshape(3,5) "
   ]
  },
  {
   "cell_type": "markdown",
   "metadata": {
    "colab_type": "text",
    "id": "W4FZippX_hRu",
    "slideshow": {
     "slide_type": "subslide"
    }
   },
   "source": [
    "## Generating Random Numpy Data\n",
    "- This is often useful, and we will be using it to demonstrate some initial techniques.\n",
    "- Often you want random but repeatable results, so that for example a test could have a consistent average on a random array. For this we need to set a seed. You only have to do this once.\n",
    "\n"
   ]
  },
  {
   "cell_type": "code",
   "execution_count": null,
   "metadata": {
    "colab": {},
    "colab_type": "code",
    "id": "H7kJvOUa_hRv"
   },
   "outputs": [],
   "source": [
    "\n",
    "np.random.seed([2335])\n",
    "a = np.random.uniform(50, 150, 10)  #Between 50-150, generate 10 variables from uniform\n",
    "b = np.random.standard_normal(10)   #With mean 0 and standard deviation 1 \n",
    "print(a)\n",
    "print(b)\n",
    "\n"
   ]
  },
  {
   "cell_type": "markdown",
   "metadata": {
    "colab_type": "text",
    "id": "QTgwI3bH_hRz",
    "slideshow": {
     "slide_type": "subslide"
    }
   },
   "source": [
    "## Combining Numpy Arrays\n",
    "- `concatenate` will string a list of numpy arrays together `np.concatenate([a,b])`\n",
    "- `vstack` will stack numpy arrays \n",
    "- Defaults: start =0, end =last and step is 1.\n",
    "- To print the entire array, leave start/stop/step blank`a[::]`"
   ]
  },
  {
   "cell_type": "code",
   "execution_count": null,
   "metadata": {
    "colab": {},
    "colab_type": "code",
    "id": "L649dTr9_hR0"
   },
   "outputs": [],
   "source": [
    "a = np.arange(5)\n",
    "b=np.concatenate([a,a])\n",
    "c=np.vstack([a,a])\n",
    "d=np.hstack([c,c])\n",
    "print('a:',a,'\\nb:',b,'\\nc:',c,'\\nd:',d)\n"
   ]
  },
  {
   "cell_type": "markdown",
   "metadata": {
    "colab_type": "text",
    "id": "U197rHLc_hR6",
    "slideshow": {
     "slide_type": "subslide"
    }
   },
   "source": [
    "## Slicing Single Dimension Numpy Arrays\n",
    "- Slicing arrays includes  three numbers `a[start:stop:step]` but not all are required.\n",
    "- Defaults: start =0, end =last and step is 1.\n",
    "- To print the entire array, leave start/stop/step blank`a[::]`\n"
   ]
  },
  {
   "cell_type": "code",
   "execution_count": null,
   "metadata": {
    "colab": {},
    "colab_type": "code",
    "id": "dLzVeE37_hR7"
   },
   "outputs": [],
   "source": [
    "e= np.arange( 0, 15, 1 ) \n",
    "print(e)\n",
    "#[start:end:step]\n",
    "\n",
    "\n",
    "print(\"This is the start, end, and step:\",e[2:9:3]) \n",
    "print(\"Print every other:\",e[::2]) \n",
    "print(\"Print starting at 2 and ending at 9, default step 1:\",e[2:9]) \n",
    "print(\"Print all:\",e[::])\n",
    "print(\"Print all:\",e[:]) \n",
    "print(\"Print all:\",e) "
   ]
  },
  {
   "cell_type": "markdown",
   "metadata": {
    "colab_type": "text",
    "id": "O_NtF7vm_hSA",
    "slideshow": {
     "slide_type": "subslide"
    }
   },
   "source": [
    "## Numpy Arrays From External Datasets\n",
    "- We can take a list from an external dataset and change it to an numpy array. "
   ]
  },
  {
   "cell_type": "code",
   "execution_count": null,
   "metadata": {
    "colab": {},
    "colab_type": "code",
    "id": "1k6gEZz5_sej"
   },
   "outputs": [],
   "source": [
    "#First let's download some data. \n",
    "!wget https://raw.githubusercontent.com/rpi-techfundamentals/spring2019-materials/master/input/iris.csv"
   ]
  },
  {
   "cell_type": "code",
   "execution_count": null,
   "metadata": {
    "colab": {},
    "colab_type": "code",
    "id": "PB_NE93d_hSD"
   },
   "outputs": [],
   "source": [
    "import csv\n",
    "csv_file_object = csv.reader(open('iris.csv', newline=''), delimiter=',')\n",
    "\n",
    "data=[]\n",
    "header = next(csv_file_object) #\n",
    "for row in csv_file_object:  \n",
    "    data.append(row)  # add each row to the \n",
    "data = np.array(data)\n",
    "print(data)"
   ]
  },
  {
   "cell_type": "markdown",
   "metadata": {
    "colab_type": "text",
    "id": "i-PumliT_hSG",
    "slideshow": {
     "slide_type": "subslide"
    }
   },
   "source": [
    "## Slicing 2 Dimensional Numpy Arrays\n",
    "- We can slice arrays with `array[row, column]` were row and column each include the (start:stop:step) like in arrays\n",
    "- We can sepecify the type with the `.astype(np.float_)`\n",
    "- For a full list of Numpy types, see [documentation](http://docs.scipy.org/doc/numpy-1.10.1/user/basics.types.html)\n",
    "- If we create a one dimensional array from 2 dimensional numpy array, it will also be a numpy array of same type.\n"
   ]
  },
  {
   "cell_type": "code",
   "execution_count": null,
   "metadata": {
    "colab": {},
    "colab_type": "code",
    "id": "fPBzi-R7_hSI"
   },
   "outputs": [],
   "source": [
    "#We can slice the array several different ways and generate new variables.\n",
    "\n",
    "irisdata=data[0::,0:4:].astype(np.float_)  #This will select only the first 4 columns and change the type to float\n",
    "irisdata=data[:,0:4].astype(np.float_)\n",
    "iristype=data[0::,4:5:] # This will select only the type. \n",
    "print(irisdata,'\\n',iristype)"
   ]
  },
  {
   "cell_type": "code",
   "execution_count": null,
   "metadata": {
    "colab": {},
    "colab_type": "code",
    "id": "dq6ZEeFY_hSK",
    "slideshow": {
     "slide_type": "subslide"
    }
   },
   "outputs": [],
   "source": [
    "#This can be used to select column 1 and assign to new variable. \n",
    "#This will sum up column 1\n",
    "newvariable=irisdata[::,0:1:]\n",
    "\n",
    "#This will sum up column 0\n",
    "final=irisdata[::,0:1:].sum()\n",
    "\n",
    "type(newvariable)\n",
    "#print(newvariable)\n",
    "print(final)"
   ]
  },
  {
   "cell_type": "code",
   "execution_count": null,
   "metadata": {
    "colab": {},
    "colab_type": "code",
    "id": "C8e3xNXx_hSN",
    "slideshow": {
     "slide_type": "subslide"
    }
   },
   "outputs": [],
   "source": [
    "#This will take the mean of column 1\n",
    "print('mean:', irisdata[::,0:1:].mean())"
   ]
  },
  {
   "cell_type": "markdown",
   "metadata": {
    "colab_type": "text",
    "id": "IyR3U6tL_hSU",
    "slideshow": {
     "slide_type": "subslide"
    }
   },
   "source": [
    "## CREDITS\n",
    "\n",
    "\n",
    "Copyright [AnalyticsDojo](http://rpi.analyticsdojo.com) 2016\n",
    "This work is licensed under the [Creative Commons Attribution 4.0 International](https://creativecommons.org/licenses/by/4.0/) license agreement.\n",
    "\n"
   ]
  },
  {
   "cell_type": "code",
   "execution_count": null,
   "metadata": {
    "colab": {},
    "colab_type": "code",
    "id": "jtPZN7Uv_hSU"
   },
   "outputs": [],
   "source": []
  }
 ],
 "metadata": {
  "colab": {
   "name": "03-intro-python-numpy.ipynb",
   "provenance": [],
   "version": "0.3.2"
  },
  "kernelspec": {
   "display_name": "Python 3",
   "language": "python",
   "name": "python3"
  },
  "language_info": {
   "codemirror_mode": {
    "name": "ipython",
    "version": 3
   },
   "file_extension": ".py",
   "mimetype": "text/x-python",
   "name": "python",
   "nbconvert_exporter": "python",
   "pygments_lexer": "ipython3",
   "version": "3.7.6"
  }
 },
 "nbformat": 4,
 "nbformat_minor": 4
}
