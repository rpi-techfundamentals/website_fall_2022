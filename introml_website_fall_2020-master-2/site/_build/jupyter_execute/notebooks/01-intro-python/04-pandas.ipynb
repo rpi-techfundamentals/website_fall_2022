{
 "cells": [
  {
   "cell_type": "markdown",
   "metadata": {
    "colab_type": "text",
    "id": "HHvqvbiUBFcW",
    "slideshow": {
     "slide_type": "slide"
    }
   },
   "source": [
    "[![AnalyticsDojo](https://github.com/rpi-techfundamentals/spring2019-materials/blob/master/fig/final-logo.png?raw=1)](http://rpi.analyticsdojo.com)\n",
    "<center><h1>Introduction to Python - Introduction to Pandas</h1></center>\n",
    "<center><h3><a href = 'http://rpi.analyticsdojo.com'>rpi.analyticsdojo.com</a></h3></center>\n",
    "\n"
   ]
  },
  {
   "cell_type": "markdown",
   "metadata": {
    "colab_type": "text",
    "id": "Wjg1PgSoBFcb",
    "slideshow": {
     "slide_type": "subslide"
    }
   },
   "source": [
    "# Introduction to Pandas\n",
    "- Pandas Overview\n",
    "- Series Objects\n",
    "- DataFrame Objects\n",
    "- Slicing and Filtering\n",
    "- Examples: Financial Data\n",
    "- Examples: Iris\n"
   ]
  },
  {
   "cell_type": "markdown",
   "metadata": {
    "colab_type": "text",
    "id": "H3TiWxENBFcc",
    "slideshow": {
     "slide_type": "subslide"
    }
   },
   "source": [
    "## Pandas Overview\n",
    "- Pandas is object-oriented.\n",
    "\n",
    "- We create data frames by constructing instances of different classes.\n",
    "\n",
    "- The two most important classes are:\n",
    "\n",
    "    - `DataFrame`\n",
    "    - `Series`\n",
    "    \n",
    "- Pandas follows the Java convention of starting the name of classes with an upper-case letter, whereas instances are all lower-case.\n",
    "- The pandas module is usually imported with the alias `pd`.\n"
   ]
  },
  {
   "cell_type": "code",
   "execution_count": null,
   "metadata": {
    "colab": {},
    "colab_type": "code",
    "id": "MiuYwjIEBFcd"
   },
   "outputs": [],
   "source": [
    "import pandas as pd"
   ]
  },
  {
   "cell_type": "markdown",
   "metadata": {
    "colab_type": "text",
    "id": "FNACR7n_BFcg",
    "slideshow": {
     "slide_type": "subslide"
    }
   },
   "source": [
    "## Pandas (like the rest of Python) is object-oriented\n",
    "\n",
    "- Pandas is object-oriented.\n",
    "\n",
    "- We create data frames by constructing instances of different classes.\n",
    "\n",
    "- The two most important classes are:\n",
    "\n",
    "    - `DataFrame`\n",
    "    - `Series`\n",
    "    \n",
    "- Pandas follows the Java convention of starting the name of classes with an upper-case letter, whereas instances are all lower-case.\n"
   ]
  },
  {
   "cell_type": "markdown",
   "metadata": {
    "colab_type": "text",
    "id": "nzM85sVHBFci",
    "slideshow": {
     "slide_type": "subslide"
    }
   },
   "source": [
    "## Pandas Series\n",
    "- One-dimensional array \n",
    "- Series can be like array, with standard integer index starting at 0\n",
    "- Series can be dictionary like, with defined index \n"
   ]
  },
  {
   "cell_type": "code",
   "execution_count": null,
   "metadata": {
    "colab": {},
    "colab_type": "code",
    "id": "K3M6AIo9BFcj"
   },
   "outputs": [],
   "source": [
    "data = [1,2,3,4,5] #This creates a list\n",
    "my_series = pd.Series(data) #array-like pandas series, index created automatically\n",
    "my_series2 = pd.Series(data, index=['a', 'b', 'c', 'd', 'e'])  #dict like, index specified\n",
    "print(my_series, '\\n', my_series2)"
   ]
  },
  {
   "cell_type": "code",
   "execution_count": null,
   "metadata": {
    "colab": {},
    "colab_type": "code",
    "id": "nh6lfrAABFcs"
   },
   "outputs": [],
   "source": [
    "my_series2['a']"
   ]
  },
  {
   "cell_type": "markdown",
   "metadata": {
    "colab_type": "text",
    "id": "RlE5uhIuBFcw",
    "slideshow": {
     "slide_type": "subslide"
    }
   },
   "source": [
    "## Plotting a Series\n",
    "\n",
    "- We can plot a series by invoking the `plot()` method on an instance of a `Series` object.\n",
    "\n",
    "- The x-axis will autimatically be labelled with the series index.\n",
    "\n",
    "- This is the first time we are invoking a `magic` command. Read more about them [here](http://ipython.readthedocs.io/en/stable/interactive/magics.html). "
   ]
  },
  {
   "cell_type": "code",
   "execution_count": null,
   "metadata": {
    "colab": {},
    "colab_type": "code",
    "id": "apwO8wwWBFcy",
    "slideshow": {
     "slide_type": "-"
    }
   },
   "outputs": [],
   "source": [
    "%matplotlib inline\n",
    "my_series.plot()"
   ]
  },
  {
   "cell_type": "markdown",
   "metadata": {
    "colab_type": "text",
    "id": "k1BcddtrBFc2",
    "slideshow": {
     "slide_type": "subslide"
    }
   },
   "source": [
    "## Creating a Series from a `dict`\n",
    "\n"
   ]
  },
  {
   "cell_type": "code",
   "execution_count": null,
   "metadata": {
    "colab": {},
    "colab_type": "code",
    "id": "xqWkRWqbBFc3"
   },
   "outputs": [],
   "source": [
    "d = {'a' : 0., 'b' : 1., 'c' : 2.}\n",
    "my_series = pd.Series(d)\n",
    "my_series"
   ]
  },
  {
   "cell_type": "markdown",
   "metadata": {
    "colab_type": "text",
    "id": "M47gZgKbBFdB",
    "slideshow": {
     "slide_type": "subslide"
    }
   },
   "source": [
    "## Indexing/Slicing a Series with `[]` or . notation\n",
    "\n",
    "- Series can be accessed using the same syntax as arrays and dicts.\n",
    "- We use the labels in the index to access each element.\n",
    "- We can also use the label like an attribute `my_series.b`\n",
    "- We can specify a range with `my_series[['b', 'c']]`\n",
    "\n"
   ]
  },
  {
   "cell_type": "code",
   "execution_count": null,
   "metadata": {
    "colab": {},
    "colab_type": "code",
    "id": "nzwAHIUqBFdE"
   },
   "outputs": [],
   "source": [
    "#Notice the different ways that the parts of the series are specified. \n",
    "print( my_series['b'],'\\n', my_series.b, '\\n', my_series[['b', 'c']])"
   ]
  },
  {
   "cell_type": "markdown",
   "metadata": {
    "colab_type": "text",
    "id": "tF1UGIUSBFdK",
    "slideshow": {
     "slide_type": "subslide"
    }
   },
   "source": [
    "## Functions on Series\n",
    "\n",
    "- We can perform calculations using the entire series similar to numpy.\n",
    "- Methods are called from within `np.Series`, for example np.Series.add\n",
    "- See a variety of series functions [here](http://pandas.pydata.org/pandas-docs/stable/generated/pandas.Series.html) \n",
    "\n"
   ]
  },
  {
   "cell_type": "code",
   "execution_count": null,
   "metadata": {
    "colab": {},
    "colab_type": "code",
    "id": "7qusoSnOBFdY"
   },
   "outputs": [],
   "source": [
    "#These are just a variety of examples of operations on series.\n",
    "\n",
    "\n",
    "starter = {'a' : 0., 'b' : 1., 'c' : 2.}\n",
    "\n",
    "a = pd.Series(starter)\n",
    "print('Print the entire array a: \\n', a)\n",
    "\n",
    "b1=10*a\n",
    "print('Mulitiply by 10 directly:\\n', b1)\n",
    "\n",
    "b2=a.multiply(10)\n",
    "print('Mulitiply by 10 using the function:\\n', b2)\n",
    "\n",
    "c1=a+b1\n",
    "print('Add a and b together directly:\\n', c1)\n",
    "\n",
    "c2=pd.Series.add(a,b1) #Note we are calling the method of the series class. Numpy used us np.add\n",
    "print('Add a and b together with a function:\\n', c2)\n",
    "\n",
    "\n",
    "suma=pd.Series.sum(a) #Note we are calling the method of the series class. Numpy used us np.add\n",
    "print('sum all of a:\\n', suma)\n",
    "\n",
    "\n",
    "f=a**2  #This squares the value. \n",
    "print('square a:\\n', f)\n",
    "x = pd.Series({'a' : 0., 'b' : 1., 'c' : 2.})\n",
    "y = pd.Series({'a' : 3., 'b' : 4., 'c' : 5.})\n",
    "z = x+y\n",
    "print('Add 2 series together:\\n', z)"
   ]
  },
  {
   "cell_type": "markdown",
   "metadata": {
    "colab_type": "text",
    "id": "BK3TVsVjBFdf",
    "slideshow": {
     "slide_type": "subslide"
    }
   },
   "source": [
    "## Time Series\n",
    "- Time series models link specific times with rows."
   ]
  },
  {
   "cell_type": "code",
   "execution_count": null,
   "metadata": {
    "colab": {},
    "colab_type": "code",
    "id": "iahF0ryNBFdg"
   },
   "outputs": [],
   "source": [
    "dates = pd.date_range('1/1/2000', periods=5)\n",
    "dates"
   ]
  },
  {
   "cell_type": "code",
   "execution_count": null,
   "metadata": {
    "colab": {},
    "colab_type": "code",
    "id": "bdPUVm4TBFdn"
   },
   "outputs": [],
   "source": [
    "time_series = pd.Series(data, index=dates)\n",
    "time_series"
   ]
  },
  {
   "cell_type": "markdown",
   "metadata": {
    "colab_type": "text",
    "id": "tXqGnrh6BFds",
    "slideshow": {
     "slide_type": "subslide"
    }
   },
   "source": [
    "## Plot Time Series\n",
    "- With a data and a value, the plot command can be used to provide quick visibility in the form of a line graph."
   ]
  },
  {
   "cell_type": "code",
   "execution_count": null,
   "metadata": {
    "colab": {},
    "colab_type": "code",
    "id": "348aDr6qBFdt",
    "slideshow": {
     "slide_type": "subslide"
    }
   },
   "outputs": [],
   "source": [
    "ax = time_series.plot()"
   ]
  },
  {
   "cell_type": "code",
   "execution_count": null,
   "metadata": {
    "colab": {},
    "colab_type": "code",
    "id": "v4UDVHZhBFd0"
   },
   "outputs": [],
   "source": [
    "type(time_series)"
   ]
  },
  {
   "cell_type": "code",
   "execution_count": null,
   "metadata": {
    "colab": {},
    "colab_type": "code",
    "id": "c3jqj5o4BFd3"
   },
   "outputs": [],
   "source": [
    "time_series"
   ]
  },
  {
   "cell_type": "markdown",
   "metadata": {
    "colab_type": "text",
    "id": "YrSqW9P7BFd9",
    "slideshow": {
     "slide_type": "subslide"
    }
   },
   "source": [
    "## DataFrames\n",
    "\n",
    "- The `pandas` module provides a powerful data-structure called a data frame.\n",
    "\n",
    "- It is similar, but not identical to:\n",
    "    - a table in a relational database,\n",
    "    - an Excel spreadsheet,\n",
    "    - a dataframe in R.\n",
    "\n",
    "- A data frame has multiple columns, each of which can hold a *different* type of value.\n",
    "\n",
    "- Like a series, it has an index which provides a label for each and every row. \n",
    "\n",
    "\n",
    "    "
   ]
  },
  {
   "cell_type": "markdown",
   "metadata": {
    "colab_type": "text",
    "id": "tikR3gtoBFd_",
    "slideshow": {
     "slide_type": "subslide"
    }
   },
   "source": [
    "## Creating a DataFrame from Outside Data\n",
    "- Data frames can be read and written to/from:\n",
    "    - database queries, database tables\n",
    "    - CSV files\n",
    "    - json files\n",
    "    - etc.\n",
    "    \n",
    "- Beware that data frames are memory resident;\n",
    "    - If you read a large amount of data your PC might crash\n",
    "    - With big data, typically you would read a subset or summary of the data via e.g. a select statement."
   ]
  },
  {
   "cell_type": "markdown",
   "metadata": {
    "colab_type": "text",
    "id": "3rqLB1zHBFd_",
    "slideshow": {
     "slide_type": "subslide"
    }
   },
   "source": [
    "## Creating a DataFrame from Python Data Structures\n",
    "\n",
    "- Data frames can be constructed from other data structures in memory:\n",
    "    - dict of arrays,\n",
    "    - dict of lists,\n",
    "    - dict of dict\n",
    "    - dict of Series\n",
    "    - 2-dimensional array\n",
    "    - a single Series\n",
    "    - another DataFrame"
   ]
  },
  {
   "cell_type": "markdown",
   "metadata": {
    "colab_type": "text",
    "id": "mf_GORndBFeA",
    "slideshow": {
     "slide_type": "subslide"
    }
   },
   "source": [
    "\n",
    "## Example: Creating a DataFrame from Multiple Series\n",
    "- Pandas codes missing values as `NaN` rather than `None`\n",
    "- Series should have matching keys for each matching row.\n"
   ]
  },
  {
   "cell_type": "code",
   "execution_count": null,
   "metadata": {
    "colab": {},
    "colab_type": "code",
    "id": "VkbAJxNKBFeB"
   },
   "outputs": [],
   "source": [
    "d = {\n",
    "        'x' : \n",
    "            pd.Series([1., 2., 3.], index=['a', 'b', 'c']),\n",
    "        'y' : \n",
    "            pd.Series([4.,  6., 7.], index=['a',  'c', 'd']),\n",
    "        'z' :\n",
    "            pd.Series([0.2, 0.3, 0.4], index=[ 'b', 'c', 'd'])\n",
    "}\n",
    "\n",
    "df = pd.DataFrame(d)\n",
    "print (df)"
   ]
  },
  {
   "cell_type": "code",
   "execution_count": null,
   "metadata": {
    "colab": {},
    "colab_type": "code",
    "id": "wZqxppWeBFeE"
   },
   "outputs": [],
   "source": [
    "type(d)"
   ]
  },
  {
   "cell_type": "markdown",
   "metadata": {
    "colab_type": "text",
    "id": "--eNteEXBFeH",
    "slideshow": {
     "slide_type": "subslide"
    }
   },
   "source": [
    "## Plotting DataFrames\n",
    "\n",
    "- When plotting a data frame, each column is plotted as its own series on the same graph.\n",
    "\n",
    "- The column names are used to label each series.\n",
    "\n",
    "- The row names (index) is used to label the x-axis."
   ]
  },
  {
   "cell_type": "code",
   "execution_count": null,
   "metadata": {
    "colab": {},
    "colab_type": "code",
    "id": "tt2e7La-BFeI",
    "slideshow": {
     "slide_type": "-"
    }
   },
   "outputs": [],
   "source": [
    "ax = df.plot()"
   ]
  },
  {
   "cell_type": "code",
   "execution_count": null,
   "metadata": {
    "colab": {},
    "colab_type": "code",
    "id": "_FDEil7sBFeN"
   },
   "outputs": [],
   "source": [
    "df\n"
   ]
  },
  {
   "cell_type": "markdown",
   "metadata": {
    "colab_type": "text",
    "id": "OxirZeZABFeQ",
    "slideshow": {
     "slide_type": "subslide"
    }
   },
   "source": [
    "## Functions and DataFrames\n",
    "\n",
    "- We can do calculations and functions with dataframes just like series.\n",
    "- Functions will typically return a dataframe or a series, depending. \n",
    "- To make a copy, don't set two dataframes equal us the `copy` method:  `df2= df.copy()` "
   ]
  },
  {
   "cell_type": "code",
   "execution_count": null,
   "metadata": {
    "colab": {},
    "colab_type": "code",
    "id": "hzqlv_HKBFeT"
   },
   "outputs": [],
   "source": [
    "#Info\n",
    "nulls=df.isnull()\n",
    "print(nulls, \"\\n\", type(nulls))\n",
    "\n",
    "nullsum=nulls.sum()\n",
    "\n",
    "print(\"\\nNull sum for each column \\n\", nullsum, \"\\n\", type(nullsum))\n",
    "\n",
    "print(\"\\nWe can slice these results to get the answer for x \\n\", nullsum.x)\n",
    "type(nullsum.x)"
   ]
  },
  {
   "cell_type": "code",
   "execution_count": null,
   "metadata": {
    "colab": {},
    "colab_type": "code",
    "id": "1nGVzwYGBFeW"
   },
   "outputs": [],
   "source": [
    "df2= df.copy()\n",
    "print(df, '\\n', df2)"
   ]
  },
  {
   "cell_type": "code",
   "execution_count": null,
   "metadata": {
    "colab": {},
    "colab_type": "code",
    "id": "rbwh7ZD5BFeZ"
   },
   "outputs": [],
   "source": [
    "df2=df ** 2 #This squares all values. \n",
    "print(df2)"
   ]
  },
  {
   "cell_type": "markdown",
   "metadata": {
    "colab_type": "text",
    "id": "6EyOcuLbBFed",
    "slideshow": {
     "slide_type": "subslide"
    }
   },
   "source": [
    "## Summary statistics\n",
    "- To quickly obtain summary statistics on numerical values use the `describe` method.\n",
    "- You will get a warning if there are missing values.\n",
    "- The result is itself a DataFrame, that we can slice `dfstats.y['mean']`."
   ]
  },
  {
   "cell_type": "code",
   "execution_count": null,
   "metadata": {
    "colab": {},
    "colab_type": "code",
    "id": "_N4e6MOwBFef",
    "slideshow": {
     "slide_type": "-"
    }
   },
   "outputs": [],
   "source": [
    "dfstats=df.describe()\n",
    "dfstats\n",
    "#type(dfstats)\n",
    "\n",
    "#END HERE....."
   ]
  },
  {
   "cell_type": "code",
   "execution_count": null,
   "metadata": {
    "colab": {},
    "colab_type": "code",
    "id": "4q-T7-wsBFej",
    "slideshow": {
     "slide_type": "subslide"
    }
   },
   "outputs": [],
   "source": [
    "xmean = dfstats.x['mean'] #This is the X mean\n",
    "ystd = dfstats['y']['std'] #This is the Y standardard deviation\n",
    "print(xmean,'\\n',ystd)"
   ]
  },
  {
   "cell_type": "markdown",
   "metadata": {
    "colab_type": "text",
    "id": "01KDFLniBFem"
   },
   "source": [
    "## Data Types\n",
    "- Each will have an inferred data type. "
   ]
  },
  {
   "cell_type": "code",
   "execution_count": null,
   "metadata": {
    "colab": {},
    "colab_type": "code",
    "id": "XcXEas8BBFen"
   },
   "outputs": [],
   "source": [
    "print(df.dtypes)"
   ]
  },
  {
   "cell_type": "markdown",
   "metadata": {
    "colab_type": "text",
    "id": "q3dSG4nDBFer",
    "slideshow": {
     "slide_type": "subslide"
    }
   },
   "source": [
    "## Accessing the Row and Column Labels\n",
    "\n",
    "- The row labels (index) can be accessed through `df.index`.\n",
    "- The column labels can be accessed through `df.columns`.\n"
   ]
  },
  {
   "cell_type": "code",
   "execution_count": null,
   "metadata": {
    "colab": {},
    "colab_type": "code",
    "id": "L0wteuGEBFes"
   },
   "outputs": [],
   "source": [
    "df.index\n"
   ]
  },
  {
   "cell_type": "code",
   "execution_count": null,
   "metadata": {
    "colab": {},
    "colab_type": "code",
    "id": "VlM8DU_ZBFex"
   },
   "outputs": [],
   "source": [
    "df.columns"
   ]
  },
  {
   "cell_type": "code",
   "execution_count": null,
   "metadata": {
    "colab": {},
    "colab_type": "code",
    "id": "9gzPCOO-BFe0"
   },
   "outputs": [],
   "source": [
    "print(df.describe())"
   ]
  },
  {
   "cell_type": "markdown",
   "metadata": {
    "colab_type": "text",
    "id": "qsj5qgZDBFe8",
    "slideshow": {
     "slide_type": "subslide"
    }
   },
   "source": [
    "## Loading Files with Pandas\n",
    "- We used Pandas in an earlier notebook to load the iris data file.  \n",
    "- Whenver you have a dataset with a variety of fields of various types, loading it into Pandas is a good strategy.\n",
    "- You can load data from Azure, from a local file, or from a url.  \n",
    "\n",
    "\n",
    "\n",
    "\n",
    "\n"
   ]
  },
  {
   "cell_type": "code",
   "execution_count": 1,
   "metadata": {
    "colab": {},
    "colab_type": "code",
    "id": "O61BLd5RBXS8"
   },
   "outputs": [
    {
     "name": "stdout",
     "output_type": "stream",
     "text": [
      "--2020-08-22 22:40:00--  https://raw.githubusercontent.com/rpi-techfundamentals/spring2019-materials/master/input/iris.csv\n",
      "Resolving raw.githubusercontent.com (raw.githubusercontent.com)... 151.101.0.133, 151.101.64.133, 151.101.128.133, ...\n",
      "Connecting to raw.githubusercontent.com (raw.githubusercontent.com)|151.101.0.133|:443... connected.\n",
      "HTTP request sent, awaiting response... 200 OK\n",
      "Length: 3715 (3.6K) [text/plain]\n",
      "Saving to: ‘iris.csv’\n",
      "\n",
      "iris.csv            100%[===================>]   3.63K  --.-KB/s    in 0s      \n",
      "\n",
      "2020-08-22 22:40:00 (22.4 MB/s) - ‘iris.csv’ saved [3715/3715]\n",
      "\n"
     ]
    }
   ],
   "source": [
    "!wget https://raw.githubusercontent.com/rpi-techfundamentals/spring2019-materials/master/input/iris.csv"
   ]
  },
  {
   "cell_type": "code",
   "execution_count": null,
   "metadata": {
    "colab": {},
    "colab_type": "code",
    "id": "dAgKWb1FBFe_",
    "slideshow": {
     "slide_type": "subslide"
    }
   },
   "outputs": [],
   "source": [
    "# Pulling from a local file\n",
    "frame2 = pd.read_csv('iris.csv')\n",
    "frame2"
   ]
  },
  {
   "cell_type": "markdown",
   "metadata": {
    "colab_type": "text",
    "id": "QLbQQzidBFfC",
    "slideshow": {
     "slide_type": "subslide"
    }
   },
   "source": [
    "##  Large Dataframes - Head and Tail\n",
    "\n",
    "- Many times you just want a sampling of the available data\n",
    "- The `head()` command can view the start of a data frame.\n",
    "- The `tail()` command can be used to show the end of a data frame. "
   ]
  },
  {
   "cell_type": "code",
   "execution_count": null,
   "metadata": {
    "colab": {},
    "colab_type": "code",
    "id": "pL-GwDeMBFfG"
   },
   "outputs": [],
   "source": [
    "frame2.head()"
   ]
  },
  {
   "cell_type": "code",
   "execution_count": null,
   "metadata": {
    "colab": {},
    "colab_type": "code",
    "id": "6E6BNSb6BFfJ",
    "slideshow": {
     "slide_type": "subslide"
    }
   },
   "outputs": [],
   "source": [
    "frame2.tail()"
   ]
  },
  {
   "cell_type": "code",
   "execution_count": null,
   "metadata": {
    "colab": {},
    "colab_type": "code",
    "id": "zglB84d_BFfN",
    "slideshow": {
     "slide_type": "subslide"
    }
   },
   "outputs": [],
   "source": [
    "# Pulling from a url.  Notice that this is the raw version of the file.\n",
    "frame3 = pd.read_csv(\"https://raw.githubusercontent.com/rpi-techfundamentals/spring2019-materials/master/input/iris.csv\")\n",
    "frame3.head()\n"
   ]
  },
  {
   "cell_type": "markdown",
   "metadata": {
    "colab_type": "text",
    "id": "yDX01_UxBFfS",
    "slideshow": {
     "slide_type": "subslide"
    }
   },
   "source": [
    "## Indexing/Slicing Rows of DataFrames\n",
    "- Simple ways of selecting all rows and colu (`df[:]`)\n",
    "- Rows can be accessed via a key or a integer corresponding to the row number. \n",
    "- Omitting a value generally means *all values* before or after an item.\n",
    "- When we retrieve a single or mulitiple rows, the result is a Dataframe.\n",
    "- Several ways, either directly, with `iloc`, or with `loc`. (See Examples).\n",
    "- Read more [here](http://pandas.pydata.org/pandas-docs/stable/indexing.html)\n",
    "\n"
   ]
  },
  {
   "cell_type": "code",
   "execution_count": null,
   "metadata": {
    "colab": {},
    "colab_type": "code",
    "id": "k3xlzSrvBFfS"
   },
   "outputs": [],
   "source": [
    "#This is going to create some sample data that we can work with for our analysis. \n",
    "\n",
    "import pandas as pd\n",
    "import numpy as np\n",
    " \n",
    "#Create a dataframe from a random numpy array \n",
    "#http://docs.scipy.org/doc/numpy/reference/generated/numpy.random.randn.html\n",
    "df = pd.DataFrame((20+np.random.randn(10, 4)*5),  columns=['a', 'b', 'c', 'd'] )\n",
    "print (df)\n",
    "df2 = pd.DataFrame((20+np.random.randn(10, 4)*5),  columns=['e', 'f', 'g', 'h'] )\n",
    "print (df2)\n",
    "\n"
   ]
  },
  {
   "cell_type": "markdown",
   "metadata": {
    "colab_type": "text",
    "id": "kQetmMuOBFfV",
    "slideshow": {
     "slide_type": "subslide"
    }
   },
   "source": [
    "## Indexing/Slicing Columns of DataFrames\n",
    "- Simple ways of selecting colum(s) `frame[[colname(s)]]`. \n",
    "- Columns can have one (`df['x']`) or multiple (`df[['x', 'y']]`) columns.\n",
    "- When specifying one column, one can use simplified dot notation `df.x`.\n",
    "- When we include multiple columns the slice that result is a DataFrame.\n",
    "- When we retrieve a single column, the result is a Series.\n",
    "- When we retrieve mulitiple column, the result is a Dataframe.\n"
   ]
  },
  {
   "cell_type": "code",
   "execution_count": null,
   "metadata": {
    "colab": {},
    "colab_type": "code",
    "id": "OoLwXZs_BFfX"
   },
   "outputs": [],
   "source": [
    "#Here we can see that there is a similar structure to R, with selecting the desired columns by passing a list.\n",
    "\n",
    "print (df[['c', 'd']]) #All rows, column c, d\n",
    "print (df[[ 'c', 'd']]) #All rows, column c, d\n",
    "print (df.iloc[:,[0,2,3]]) #All rows, column a,c,d\n",
    "print (df.iloc[:,0:2])     #All rows, column a-b\n",
    "print (df.iloc[:,[0,2,3]])     #All rows, column 0,2,3\n",
    "print (df.loc[:,'a':'b']) #All rows, column a-b\n",
    "print (df.loc[:,['a','c','d']]) #All rows, columns a, c, d\n",
    "\n"
   ]
  },
  {
   "cell_type": "markdown",
   "metadata": {
    "colab_type": "text",
    "id": "V8Fb4qVMBFfZ",
    "slideshow": {
     "slide_type": "subslide"
    }
   },
   "source": [
    "## Dropping Columns from Dataframes\n",
    "- Done using the `drop` syntax. \n",
    "- [Drop Documentation](http://pandas.pydata.org/pandas-docs/stable/generated/pandas.DataFrame.drop.html)"
   ]
  },
  {
   "cell_type": "code",
   "execution_count": null,
   "metadata": {
    "colab": {},
    "colab_type": "code",
    "id": "0C3ERb5QBFfb",
    "slideshow": {
     "slide_type": "-"
    }
   },
   "outputs": [],
   "source": [
    "#Here, we can remove columns specifically from a dataframe using the drop method.\n",
    "df2 = pd.DataFrame((20+np.random.randn(10, 4)*5),  columns=['e', 'f', 'g', 'h'] )\n",
    "print (df2)\n",
    "df2.drop(['e','f'], inplace=True, axis=1)\n",
    "print (df2)"
   ]
  },
  {
   "cell_type": "markdown",
   "metadata": {
    "colab_type": "text",
    "id": "y0mO7JvlBFfg",
    "slideshow": {
     "slide_type": "subslide"
    }
   },
   "source": [
    "## Selecting Rows\n",
    "- Similarly, we also might want to select out rows, and we can utilize the same syntax.\n",
    "- [iloc](https://pandas.pydata.org/pandas-docs/stable/generated/pandas.DataFrame.iloc.html)"
   ]
  },
  {
   "cell_type": "code",
   "execution_count": null,
   "metadata": {
    "colab": {},
    "colab_type": "code",
    "id": "m0XJZ-2bBFfh"
   },
   "outputs": [],
   "source": [
    "\n",
    "## Selecting rows\n",
    "print (df[0:3])     #Select rows 1-3\n",
    "print (df.iloc[0:3,:])     #Select rows 1-3\n",
    "print (df.iloc[0:3,])      #Select rows 1-3\n",
    "print (df.iloc[0:3])       #Select rows 1-3\n",
    "print (df.iloc[[1,2,4]])   #Select rows 1, 2, and 4\n"
   ]
  },
  {
   "cell_type": "markdown",
   "metadata": {
    "colab_type": "text",
    "id": "fMfJUu7hBFfm",
    "slideshow": {
     "slide_type": "subslide"
    }
   },
   "source": [
    "## Intro to Filters (Logical indexing)\n",
    "- Filters are the selection of rows based on criteria.\n",
    "- We can select based on specific criteria.\n",
    "- These criteria can be connected together.\n",
    "- Most of the time we won't specfically assign selection critia to a list. "
   ]
  },
  {
   "cell_type": "code",
   "execution_count": null,
   "metadata": {
    "colab": {},
    "colab_type": "code",
    "id": "Sk4UWcIsBFfp"
   },
   "outputs": [],
   "source": [
    "# At the foundation of the filter is a boolean array based on some type of condition. \n",
    "print(df)\n",
    "df['a'] >= 20"
   ]
  },
  {
   "cell_type": "code",
   "execution_count": null,
   "metadata": {
    "colab": {},
    "colab_type": "code",
    "id": "wLe6_62tBFfw",
    "slideshow": {
     "slide_type": "subslide"
    }
   },
   "outputs": [],
   "source": [
    "#notice how the logical statement is inside the dataframe specification.  This creates an intermediate boolean array. \n",
    "df[df['a'] >= 20]"
   ]
  },
  {
   "cell_type": "code",
   "execution_count": null,
   "metadata": {
    "colab": {},
    "colab_type": "code",
    "id": "pELyQj8tBFf3",
    "slideshow": {
     "slide_type": "subslide"
    }
   },
   "outputs": [],
   "source": [
    "#This is an alternate method where we first set the boolean array. \n",
    "included=df['a'] >= 20\n",
    "df[included]\n"
   ]
  },
  {
   "cell_type": "code",
   "execution_count": null,
   "metadata": {
    "colab": {},
    "colab_type": "code",
    "id": "Z1MhwdsSBFf7"
   },
   "outputs": [],
   "source": [
    "#We can now generate a vector based on a critera and then use this for selection\n",
    "select = df['a']>=20\n",
    "print (select,type(select))\n",
    "print (df.loc[select,'a']) #Notice by including only one variable we are selecting rows and all columns.\n",
    "\n",
    "select2 = (df['a']>20) & (df['c'] < 30)  #More complex criteria\n",
    "print (select2)\n",
    "print (df.loc[select2,['a','c']])\n",
    "\n"
   ]
  },
  {
   "cell_type": "code",
   "execution_count": null,
   "metadata": {
    "colab": {},
    "colab_type": "code",
    "id": "Dz4UeVRnBFf_"
   },
   "outputs": [],
   "source": [
    "#Here we are creating a new variable based on the value of another variable.\n",
    "df['aboveavg']=0  # We first set the default to 0. \n",
    "df.loc[df['a']>=20,'aboveavg']=1 #We then change all rows where a is >=20 to 1.\n",
    "print(df['aboveavg'])"
   ]
  },
  {
   "cell_type": "markdown",
   "metadata": {
    "colab_type": "text",
    "id": "BZl06rEeBFgB",
    "slideshow": {
     "slide_type": "subslide"
    }
   },
   "source": [
    "## Joining Dataframes\n",
    "- Often you need to combine dataframe, \n",
    "- either matching columns for the smae rows (column  bind)\n",
    "- Add rows for the same columns (row bind)"
   ]
  },
  {
   "cell_type": "markdown",
   "metadata": {
    "colab_type": "text",
    "id": "q1pw2jaTBFgC",
    "slideshow": {
     "slide_type": "subslide"
    }
   },
   "source": [
    "## Stacking Dataframes Vertically\n",
    "- Adds rows vertially with the `concat` function\n",
    "- The index is not automatically reset\n",
    "- In R referred to as a row bind."
   ]
  },
  {
   "cell_type": "code",
   "execution_count": null,
   "metadata": {
    "colab": {},
    "colab_type": "code",
    "id": "kr1KXy9XBFgD"
   },
   "outputs": [],
   "source": [
    "#This first generates 2 dataframes. \n",
    "df = pd.DataFrame((20+np.random.randn(10, 4)*5),  columns=['a', 'b', 'c', 'd'] )\n",
    "df2 = pd.DataFrame((20+np.random.randn(10, 4)*5),  columns=['a', 'b', 'c', 'd'] )\n",
    "\n",
    "#This will stack the 2 dataframes vertically on top of one another\n",
    "dfbyrow=pd.concat([df, df2])  #This is equivalent to a rowbind in R. \n",
    "print (dfbyrow)"
   ]
  },
  {
   "cell_type": "code",
   "execution_count": null,
   "metadata": {
    "colab": {},
    "colab_type": "code",
    "id": "ch5RiwEJBFgF"
   },
   "outputs": [],
   "source": [
    "# View how the index here from df has been reset and incremented while in the earlier example the index was kept. \n",
    "\n",
    "addition = df.append(df2)\n",
    "print(addition )\n",
    "addition2 = df.append(df, ignore_index=True)\n",
    "print(addition2 )\n"
   ]
  },
  {
   "cell_type": "markdown",
   "metadata": {
    "colab_type": "text",
    "id": "bX-8Wpt0BFgJ",
    "slideshow": {
     "slide_type": "subslide"
    }
   },
   "source": [
    "## Inner/Outer Joins Dataframes\n",
    "- Adds rows vertially with the `concat` function\n",
    "- In R referred to as a column bind.\n",
    "- Can do the equivalent of an inner and outer join."
   ]
  },
  {
   "cell_type": "code",
   "execution_count": null,
   "metadata": {
    "colab": {},
    "colab_type": "code",
    "id": "NtSYSiG_BFgJ"
   },
   "outputs": [],
   "source": [
    "#Merging additional columns also uses the concat function \n",
    "#This is equavalent to an inner join in SQL.\n",
    "df = pd.DataFrame((20+np.random.randn(10, 4)*5),  columns=['a', 'b', 'c', 'd'] )\n",
    "df4 = pd.DataFrame((20+np.random.randn(10, 4)*5),  columns=['e', 'f', 'g', 'h'] )\n",
    "\n",
    "\n",
    "dfbycolumns = pd.concat([df, df4], axis=1, join='inner')\n",
    "dfbycolumns"
   ]
  },
  {
   "cell_type": "code",
   "execution_count": null,
   "metadata": {
    "colab": {},
    "colab_type": "code",
    "id": "aqIR1WQ8BFgL"
   },
   "outputs": [],
   "source": [
    "#Here we are generating a small dataframe to be used in merging so you can see the differences in specifying inner & outer, \n",
    "shortdf=df[0:5]\n",
    "dfbycolumns = pd.concat([df, shortdf], axis=1, join='inner')\n",
    "dfbycolumns"
   ]
  },
  {
   "cell_type": "code",
   "execution_count": null,
   "metadata": {
    "colab": {},
    "colab_type": "code",
    "id": "qlDpQ-5nBFgO"
   },
   "outputs": [],
   "source": [
    "#Here, the outer does the equivalent of a left outer join for this dataset. \n",
    "shortdf=df[0:5]\n",
    "dfbycolumns = pd.concat([df, shortdf], axis=1, join='outer')\n",
    "dfbycolumns"
   ]
  },
  {
   "cell_type": "markdown",
   "metadata": {
    "colab_type": "text",
    "id": "BWrjyMowBFgQ"
   },
   "source": [
    "Copyright [AnalyticsDojo](http://rpi.analyticsdojo.com) 2016.\n",
    "This work is licensed under the [Creative Commons Attribution 4.0 International](https://creativecommons.org/licenses/by/4.0/) license agreement."
   ]
  },
  {
   "cell_type": "markdown",
   "metadata": {
    "colab_type": "text",
    "id": "BUNhNQ75BFgR",
    "slideshow": {
     "slide_type": "slide"
    }
   },
   "source": [
    "## CREDITS\n",
    "\n",
    "#### Large sections of this were adopted from Analysing structured data with Pandas by [Steve Phelps](http://sphelps.net).  Thanks Steve!\n",
    "\n",
    "\n",
    "This work is licensed under the [Creative Commons Attribution 4.0 International](https://creativecommons.org/licenses/by/4.0/) license agreement.\n",
    "\n"
   ]
  },
  {
   "cell_type": "code",
   "execution_count": null,
   "metadata": {},
   "outputs": [],
   "source": []
  }
 ],
 "metadata": {
  "colab": {
   "name": "04-intro-python-pandas.ipynb",
   "provenance": [],
   "version": "0.3.2"
  },
  "kernelspec": {
   "display_name": "Python 3",
   "language": "python",
   "name": "python3"
  },
  "language_info": {
   "codemirror_mode": {
    "name": "ipython",
    "version": 3
   },
   "file_extension": ".py",
   "mimetype": "text/x-python",
   "name": "python",
   "nbconvert_exporter": "python",
   "pygments_lexer": "ipython3",
   "version": "3.7.6"
  }
 },
 "nbformat": 4,
 "nbformat_minor": 4
}