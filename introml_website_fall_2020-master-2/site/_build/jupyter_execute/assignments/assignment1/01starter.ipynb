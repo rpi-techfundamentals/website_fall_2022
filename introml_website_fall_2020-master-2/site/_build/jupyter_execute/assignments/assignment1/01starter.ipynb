{
 "cells": [
  {
   "cell_type": "markdown",
   "metadata": {
    "colab_type": "text",
    "id": "J3C7q2FR-Y-2"
   },
   "source": [
    "# Assignment 1\n",
    "\n",
    "## ![](https://github.com/rpi-techfundamentals/hm-01-starter/blob/master/notsaved.png?raw=1) Before you start working on this assignment please click File -> Save a Copy in Drive. \n",
    "\n",
    "\n",
    "Before you turn this problem in, make sure everything runs as expected. First, restart the kernel (in the menubar, select Kernel → Restart) and then run all cells (in the menubar, select Cell → Run All).  You can speak with others regarding the assignment but all work must be your own. \n",
    "\n",
    "\n",
    "### This is a 30 point assignment.  \n"
   ]
  },
  {
   "cell_type": "markdown",
   "metadata": {
    "colab_type": "text",
    "id": "vwas4rbT-Y_C"
   },
   "source": [
    "## BEFORE YOU BEGIN\n",
    "\n",
    "Please work through each of these notebooks, which will give you some understanding of the Google Colab environment.\n",
    "\n",
    "### Working with Notebooks in Colaboratory\n",
    "- [Overview of Colaboratory](https://colab.research.google.com/notebooks/basic_features_overview.ipynb)\n",
    "- [Guide to Markdown](https://colab.research.google.com/notebooks/markdown_guide.ipynb)\n",
    "- [Importing libraries and installing dependencies](https://colab.research.google.com/notebooks/snippets/importing_libraries.ipynb)\n",
    "- [Saving and loading notebooks in GitHub](https://colab.research.google.com/github/googlecolab/colabtools/blob/master/notebooks/colab-github-demo.ipynb)\n",
    "\n",
    "\n",
    "### Working with Data\n",
    "Some of this is a bit more advanced, but at this point just make sure you know where the code is for how to upload and download a file. \n",
    "\n",
    "- [Loading data: Drive, Sheets, and Google Cloud Storage](https://colab.research.google.com/notebooks/io.ipynb) \n"
   ]
  },
  {
   "cell_type": "markdown",
   "metadata": {
    "colab_type": "text",
    "id": "UAeTVSwM-Y_E"
   },
   "source": [
    "## Run these Cells\n",
    "This will setup the automated testing environment on Colab"
   ]
  },
  {
   "cell_type": "code",
   "execution_count": null,
   "metadata": {
    "colab": {},
    "colab_type": "code",
    "id": "hxSZBZpoFspJ"
   },
   "outputs": [],
   "source": [
    "files = \"https://github.com/rpi-techfundamentals/introml_website_fall_2020/raw/master/files/assignment1.zip\" \n",
    "!pip install otter-grader && wget $files && unzip -o assignment1.zip"
   ]
  },
  {
   "cell_type": "code",
   "execution_count": null,
   "metadata": {
    "colab": {},
    "colab_type": "code",
    "id": "tQ2gpBeo-Y_L"
   },
   "outputs": [],
   "source": [
    "#Run this. It initiates autograding. \n",
    "import otter\n",
    "grader = otter.Notebook()"
   ]
  },
  {
   "cell_type": "markdown",
   "metadata": {
    "colab_type": "text",
    "id": "02Narz26-Y_O"
   },
   "source": [
    "**Question 1.** \n",
    "\n",
    "In the next cell:\n",
    "\n",
    "a. Assign the value for `x` to 150  \n",
    "\n",
    "b. Set the value for `y` to 13 times `x` \n",
    "\n",
    "c. Set the value for `z` to `y` divided by `x` squared.\n",
    "\n"
   ]
  },
  {
   "cell_type": "code",
   "execution_count": null,
   "metadata": {
    "colab": {},
    "colab_type": "code",
    "id": "g3bpWD_x-Y_P"
   },
   "outputs": [],
   "source": [
    "#enter your answer here\n",
    "\n"
   ]
  },
  {
   "cell_type": "code",
   "execution_count": null,
   "metadata": {
    "colab": {},
    "colab_type": "code",
    "id": "CYm6EYcb-Y_Q"
   },
   "outputs": [],
   "source": [
    "#Run this cell to see if you passed the test.  If it fails, you probably didn't run the above required code. \n",
    "grader.check('q01')"
   ]
  },
  {
   "cell_type": "markdown",
   "metadata": {
    "colab_type": "text",
    "id": "_nqV4th9-Y_S"
   },
   "source": [
    "**Question 2.** \n",
    "\n",
    "Packages are really important compontent of most programming languages. \n",
    "\n",
    "In the overview, you learnned about tab completion as a way to explore python objects.  This can be really useful.  Let's use it to find the formula for the the factorial of 15. Assign the results to the variable `m`."
   ]
  },
  {
   "cell_type": "code",
   "execution_count": null,
   "metadata": {
    "colab": {},
    "colab_type": "code",
    "id": "QZJbI5Ar-Y_T"
   },
   "outputs": [],
   "source": [
    "#we have to first import the math function to use tab completion. \n",
    "import math  "
   ]
  },
  {
   "cell_type": "code",
   "execution_count": null,
   "metadata": {
    "colab": {},
    "colab_type": "code",
    "id": "kLTxbUw7-Y_W"
   },
   "outputs": [],
   "source": [
    "#Assign the result to the variable m.  Press tab after the period to show available functions\n",
    "m = math.\n",
    "m"
   ]
  },
  {
   "cell_type": "code",
   "execution_count": null,
   "metadata": {
    "colab": {},
    "colab_type": "code",
    "id": "4JHxL421-Y_Z"
   },
   "outputs": [],
   "source": [
    "#Run this cell to see if you passed the test.  If it fails, you probably didn't run the above required code. \n",
    "grader.check('q02')"
   ]
  },
  {
   "cell_type": "markdown",
   "metadata": {
    "colab_type": "text",
    "id": "J_RLycx0-Y_c"
   },
   "source": [
    "**Question 3.** \n",
    "\n",
    "Markdown is a useful aspect of Jupyter Notebooks. \n",
    "- [Guide to Markdown](https://colab.research.google.com/notebooks/markdown_guide.ipynb)\n",
    "\n",
    "Use what you learned about markdown to adjust the text below to create the following:\n",
    "![](https://github.com/rpi-techfundamentals/hm-01-starter/blob/master/md_result.png?raw=1)\n",
    "\n",
    "**Double click on cell below to open it for markdown editing. There is no test for this question.**"
   ]
  },
  {
   "cell_type": "markdown",
   "metadata": {
    "colab_type": "text",
    "id": "-z8557v9-Y_e"
   },
   "source": [
    "\n",
    "Header\n",
    "For the above header, make it an h1 tag using markdown. \n",
    "\n",
    "Sub-Header\n",
    "For the above sub-header, make it an h5 tag using markdown. \n",
    "\n",
    "Bold\n",
    "\n",
    "Italics\n",
    "\n",
    "https://tw.rpi.edu//images/rpi-logo-red.jpg  \n",
    "(Embed this image)\n"
   ]
  },
  {
   "cell_type": "markdown",
   "metadata": {
    "colab_type": "text",
    "id": "Tz9xEGJD-Y_s"
   },
   "source": [
    "**Question 4.** \n",
    "\n",
    "### Installing Packages \n",
    "Python packages are an important part of data science and critical to leveraging the broader Python ecosystem.\n",
    "\n",
    "You typically have two options when installing a package. You can install it with [Conda](http://anaconda.org) or [pip](https://pypi.org).\n",
    "\n",
    "The `!` in a jupyter notebook means that the line is being processed on the `commmand line` and not by the Python interpreter. \n",
    "\n",
    "```\n",
    "!conda install -c conda-forge <packagename>\n",
    "\n",
    "!pip install <packagename>\n",
    "\n",
    "```\n",
    "\n",
    "If you try to import something and get an error, it is usally a tell that you need to install a package. \n",
    "\n"
   ]
  },
  {
   "cell_type": "markdown",
   "metadata": {
    "colab_type": "text",
    "id": "zEgTCmYC-Y_t"
   },
   "source": [
    "### Install the `fastparquet` Package to be able to work with Parquet Files\n",
    "- CSV (comma delimited  files are great for humans to read and understand.  \n",
    "- For \"big data\" though, it isn't a great long term storage option (inefficient/slow).\n",
    "- Parquet is a type columnar storage format.  It makes dealing with lots of columns fast. \n",
    "- [fastparquet](https://fastparquet.readthedocs.io) is a Python package for dealing with Parquet files. \n",
    "- Apache Spark also natively reads Parquet Files. \n",
    "- Look [here](https://pypi.org/project/fastparquet/) for instructions on installing the fastparquet package. "
   ]
  },
  {
   "cell_type": "code",
   "execution_count": null,
   "metadata": {
    "colab": {},
    "colab_type": "code",
    "id": "4JK8d9oK-Y_t"
   },
   "outputs": [],
   "source": [
    "#Install package for fastparquet here.   Please comment it out after installing. \n"
   ]
  },
  {
   "cell_type": "code",
   "execution_count": null,
   "metadata": {
    "colab": {},
    "colab_type": "code",
    "id": "n22bqKep-Y_x"
   },
   "outputs": [],
   "source": [
    "#Run this to try to load the name.parq. It won't work unless you downloaded the file and installed the package. \n",
    "from fastparquet import ParquetFile  #This imports the package. \n",
    "import pandas as pd  #pandas is usually imported as pd\n",
    "pf = ParquetFile('./data/Demographic_Statistics_By_Zip_Code.parq')\n",
    "dfparq = pf.to_pandas()   #This changes the Parquet File object to a pandas dataframe. We will learn more about that later. \n",
    "dfparq.head()  #Just listing the value prints it out. "
   ]
  },
  {
   "cell_type": "markdown",
   "metadata": {},
   "source": [
    "## Show All Columns in a Pandas Dataframe\n",
    "\n",
    "Notice there is a `...` which indicates you are only seeing some of the columns, and the output has been truncated. \n",
    "\n",
    "Read [this article](https://towardsdatascience.com/how-to-show-all-columns-rows-of-a-pandas-dataframe-c49d4507fcf) and find how to show all the columns of a pandas dataframe."
   ]
  },
  {
   "cell_type": "code",
   "execution_count": null,
   "metadata": {},
   "outputs": [],
   "source": [
    "#Set the display options to show all columns. \n",
    " "
   ]
  },
  {
   "cell_type": "code",
   "execution_count": null,
   "metadata": {},
   "outputs": [],
   "source": [
    "#This will print out the notebook. \n",
    "dfparq.head() "
   ]
  },
  {
   "cell_type": "code",
   "execution_count": null,
   "metadata": {},
   "outputs": [],
   "source": [
    "#View the dataframe and set the following values to the numbers you see for row 0. Don't put in quotes.  \n",
    "#COUNT PARTICIPANTS\n",
    "row_0_count_participants=    #enter what you see above.\n",
    "row_0_count_hispanic_latino=  #enter what you see above. "
   ]
  },
  {
   "cell_type": "code",
   "execution_count": null,
   "metadata": {
    "colab": {},
    "colab_type": "code",
    "id": "kwFXl5b0-Y_z"
   },
   "outputs": [],
   "source": [
    "#Run this cell to see if you passed the test.  \n",
    "grader.check('q04')"
   ]
  },
  {
   "cell_type": "markdown",
   "metadata": {
    "colab_type": "text",
    "id": "lvl3EU6C-Y_1"
   },
   "source": [
    "**Question 5.** \n",
    "\n",
    "### Importing CSV into a Pandas Dataframe\n",
    "- Comma delimited files are a common way of transmitting data. \n",
    "- Data for different columns is separated by a comma.\n",
    "- It is possible to open a csv in different ways, but Pandas is the easiest.  \n",
    "- Data structured like CSV's are extremely common and known as tabular data.\n",
    "- Pandas will give access to many useful methods for working with data.  \n",
    "- `pandas` is often imported as the abbreviated `pd`.\n",
    "- You can also get help by using a `?` after the method call. For example, to find the doc string for the read csv function you could execute:\n",
    "\n",
    "`pd.read_csv?`  or \n",
    "\n",
    "`help(pd.read_csv)`\n",
    "\n",
    "\n"
   ]
  },
  {
   "cell_type": "code",
   "execution_count": null,
   "metadata": {},
   "outputs": [],
   "source": [
    "# Adjust the code below so that you load only the first 100 rows of a dataframe and assign to df_smalle\n",
    "df_small=\n",
    "df_small.shape"
   ]
  },
  {
   "cell_type": "markdown",
   "metadata": {},
   "source": [
    "### Get CSVs from the Web/Github.  \n",
    "\n",
    "You can also get a CSV directly from a web url. \n",
    "\n",
    "View this file in your web browser. You won't be able to load this into pandas. \n",
    "[https://github.com/rpi-techfundamentals/introml_website_fall_2020/blob/master/files/webfile.csv](https://github.com/rpi-techfundamentals/introml_website_fall_2020/blob/master/files/webfile.csv)\n",
    "\n",
    "To get the link you can load, you need to click on the `raw` button. That should lead to this url:\n",
    "\n",
    "`https://raw.githubusercontent.com/rpi-techfundamentals/introml_website_fall_2020/master/files/webfile.csv`\n"
   ]
  },
  {
   "cell_type": "code",
   "execution_count": null,
   "metadata": {},
   "outputs": [],
   "source": [
    "# Load the web url and set it equal to df_web\n",
    "df_web = \n",
    "df_web.head()"
   ]
  },
  {
   "cell_type": "code",
   "execution_count": null,
   "metadata": {
    "colab": {},
    "colab_type": "code",
    "id": "51TmIvgy-ZAR"
   },
   "outputs": [],
   "source": [
    "#Run this cell to see if you passed the test.  \n",
    "grader.check('q05')"
   ]
  },
  {
   "cell_type": "markdown",
   "metadata": {
    "colab_type": "text",
    "id": "BBXw8RYT-ZAZ"
   },
   "source": [
    "\n",
    "## MAKE SURE THAT THIS ENTIRE NOTEBOOK RUNS WITHOUT ERRORS. TO TEST THIS DO RUNTIME --> RESTART AND RUN ALL\n",
    "\n",
    "It should run without errors.  \n",
    "\n",
    "\n",
    "### Click File -> Download .ipynb to download the assignment.  Then Upload it to Assignment 1 in the LMS.\n"
   ]
  },
  {
   "cell_type": "markdown",
   "metadata": {
    "colab_type": "text",
    "id": "UDIoIgh6-ZAd"
   },
   "source": [
    "\n",
    "This work is licensed under the [Creative Commons Attribution 4.0 International](https://creativecommons.org/licenses/by/4.0/) license agreement."
   ]
  }
 ],
 "metadata": {
  "anaconda-cloud": {
   "attach-environment": true,
   "environment": "py3k",
   "summary": "A test Jupyter notebook to verify local Python Environment.",
   "url": "https://anaconda.org/analyticsdojo/local-intro"
  },
  "celltoolbar": "Slideshow",
  "colab": {
   "collapsed_sections": [],
   "name": "hm01.ipynb",
   "provenance": []
  },
  "kernelspec": {
   "display_name": "Python 3",
   "language": "python",
   "name": "python3"
  },
  "language_info": {
   "codemirror_mode": {
    "name": "ipython",
    "version": 3
   },
   "file_extension": ".py",
   "mimetype": "text/x-python",
   "name": "python",
   "nbconvert_exporter": "python",
   "pygments_lexer": "ipython3",
   "version": "3.7.6"
  }
 },
 "nbformat": 4,
 "nbformat_minor": 4
}