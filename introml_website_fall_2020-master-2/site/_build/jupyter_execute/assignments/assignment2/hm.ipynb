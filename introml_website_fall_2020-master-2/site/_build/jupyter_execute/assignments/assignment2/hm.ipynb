{
 "cells": [
  {
   "cell_type": "markdown",
   "metadata": {
    "colab_type": "text",
    "id": "sAf3Gsm5velW"
   },
   "source": [
    "# Assignment 2\n",
    "\n",
    "## ![](https://github.com/rpi-techfundamentals/hm-01-starter/blob/master/notsaved.png?raw=1) Before you start working on this assignment please click File -> Save a Copy in Drive. \n",
    "\n",
    "Before you turn this problem in, make sure everything runs as expected. First, restart the kernel (in the menubar, select Kernel → Restart) and then run all cells (in the menubar, select Cell → Run All).  You can speak with others regarding the assignment but all work must be your own. \n",
    "\n",
    "### This is a 30 point assignment.  \n",
    "\n",
    "**You may find it useful to go through the notebooks from the course materials when doing these exercises.**\n",
    "\n",
    "**If you attempt to fake passing the tests you will receive a 0 on the assignment and it will be considered an ethical violation.**"
   ]
  },
  {
   "cell_type": "code",
   "execution_count": null,
   "metadata": {
    "colab": {},
    "colab_type": "code",
    "id": "ziN7lGGlvela"
   },
   "outputs": [],
   "source": [
    "files = \"https://github.com/rpi-techfundamentals/introml_website_fall_2020/raw/master/files/assignment2.zip\" \n",
    "!pip install otter-grader && wget $files && unzip -o assignment2.zip"
   ]
  },
  {
   "cell_type": "code",
   "execution_count": null,
   "metadata": {
    "colab": {},
    "colab_type": "code",
    "id": "AdVbmM-tveli"
   },
   "outputs": [],
   "source": [
    "#Run this. It initiates autograding. \n",
    "import otter\n",
    "grader = otter.Notebook()"
   ]
  },
  {
   "cell_type": "markdown",
   "metadata": {
    "colab_type": "text",
    "id": "3mHHPuQOvemq"
   },
   "source": [
    "## Exercise-Packages\n",
    "\n",
    "This creates an Numpy array. Numpy is a common package that we will use to work with arrays. You can read more about Numpy [here](http://www.numpy.org/). \n",
    "\n",
    "```\n",
    "a = np.array([2,3,4])\n",
    "print(a)\n",
    "```\n",
    "\n",
    "To get this to work, you will have to make sure that the numpy(np) package is installed. \n",
    "\n",
    "(1) Verify that Numpy is installed. How did you know?  \n",
    "Describe how you would you install it if it wasn't installed?\n"
   ]
  },
  {
   "cell_type": "code",
   "execution_count": null,
   "metadata": {
    "colab": {},
    "colab_type": "code",
    "id": "9SRVAJkUvemt"
   },
   "outputs": [],
   "source": [
    "man1=\"\"\"\n",
    "Enter your answer here.\n",
    "\"\"\""
   ]
  },
  {
   "cell_type": "markdown",
   "metadata": {
    "colab_type": "text",
    "id": "zeDVp2Sivemw"
   },
   "source": [
    "(2) Fix the cell below so that `a` is a `numpy` array."
   ]
  },
  {
   "cell_type": "code",
   "execution_count": null,
   "metadata": {
    "colab": {},
    "colab_type": "code",
    "id": "Sei-Ye83vemx"
   },
   "outputs": [],
   "source": [
    "#Fix this code of q2. \n",
    "a = [5,6,7,8]\n",
    "print(a, type(a))\n"
   ]
  },
  {
   "cell_type": "code",
   "execution_count": null,
   "metadata": {
    "colab": {},
    "colab_type": "code",
    "id": "U8SBYHzCvenG"
   },
   "outputs": [],
   "source": [
    "grader.check('q02')"
   ]
  },
  {
   "cell_type": "markdown",
   "metadata": {
    "colab_type": "text",
    "id": "JPQJGf-4venI"
   },
   "source": [
    "(3) Create a numpy array `b` with the values `12, 13, 14, 15`.\n",
    "\n"
   ]
  },
  {
   "cell_type": "code",
   "execution_count": null,
   "metadata": {
    "colab": {},
    "colab_type": "code",
    "id": "ZCnMrkR7venI"
   },
   "outputs": [],
   "source": [
    "#<insert q3 code here>\n",
    "\n"
   ]
  },
  {
   "cell_type": "code",
   "execution_count": null,
   "metadata": {
    "colab": {},
    "colab_type": "code",
    "id": "zR8TxGqIvenQ"
   },
   "outputs": [],
   "source": [
    "grader.check('q03')"
   ]
  },
  {
   "cell_type": "markdown",
   "metadata": {
    "colab_type": "text",
    "id": "mw3XWpwLvend"
   },
   "source": [
    "## Exercise - Operations on Variables\n",
    "\n",
    "(4) Describe what happens when you multiply an integer times a boolean? \n",
    "What is the resulting type? Provide examples.\n"
   ]
  },
  {
   "cell_type": "code",
   "execution_count": null,
   "metadata": {
    "colab": {},
    "colab_type": "code",
    "id": "tE8mUzMDvend"
   },
   "outputs": [],
   "source": [
    "#You must assign your answer to q4_answer. \n",
    "man4=\"\"\"\n",
    "Enter your answer here.\n",
    "\"\"\""
   ]
  },
  {
   "cell_type": "markdown",
   "metadata": {
    "colab_type": "text",
    "id": "GYgxT58dvenf"
   },
   "source": [
    "(5) Describe happens when you try to multiply an integer value times a null?"
   ]
  },
  {
   "cell_type": "code",
   "execution_count": null,
   "metadata": {
    "colab": {},
    "colab_type": "code",
    "id": "q3-_3HZbveng"
   },
   "outputs": [],
   "source": [
    "man5=\"\"\"\n",
    "Enter your answer here.\n",
    "\"\"\"\n"
   ]
  },
  {
   "cell_type": "markdown",
   "metadata": {
    "colab_type": "text",
    "id": "mmJfgNELvenh"
   },
   "source": [
    "(6) Take 5 to the power of 4 and assign it to a variable `c`. Then transform the variable `c` to a type `float`. "
   ]
  },
  {
   "cell_type": "code",
   "execution_count": null,
   "metadata": {
    "colab": {},
    "colab_type": "code",
    "id": "rCKk0Jleveni"
   },
   "outputs": [],
   "source": [
    "#<insert q6 code here>"
   ]
  },
  {
   "cell_type": "code",
   "execution_count": null,
   "metadata": {
    "colab": {},
    "colab_type": "code",
    "id": "KF0GNcPCvenk"
   },
   "outputs": [],
   "source": [
    "grader.check('q06')"
   ]
  },
  {
   "cell_type": "markdown",
   "metadata": {
    "colab_type": "text",
    "id": "BUuwcdISvenl"
   },
   "source": [
    "## Exercise-Lists\n",
    "Hint: [This link is useful.](https://docs.python.org/3/tutorial/datastructures.html#more-on-lists) as is the process of tab completion (using tab to find available methods of an object).\n",
    "\n",
    "(7) Create a list `elist1` with the following values `1,2,3,4,5`.<br>\n"
   ]
  },
  {
   "cell_type": "code",
   "execution_count": null,
   "metadata": {
    "colab": {},
    "colab_type": "code",
    "id": "Ez-K3n65venl"
   },
   "outputs": [],
   "source": [
    "#<insert q7 code here>\n"
   ]
  },
  {
   "cell_type": "code",
   "execution_count": null,
   "metadata": {
    "colab": {},
    "colab_type": "code",
    "id": "IC0OKhjFvenn"
   },
   "outputs": [],
   "source": [
    "grader.check('q07')"
   ]
  },
  {
   "cell_type": "markdown",
   "metadata": {
    "colab_type": "text",
    "id": "RlyO4sm0venp"
   },
   "source": [
    "(8) Create a new list `elist2` by first creating a copy of `elist1` and then reversing the order.\n",
    "\n",
    "*HINT, remember there is a specific function to copy a list.* \n"
   ]
  },
  {
   "cell_type": "code",
   "execution_count": null,
   "metadata": {
    "colab": {},
    "colab_type": "code",
    "id": "NH7kHN_xvenq"
   },
   "outputs": [],
   "source": [
    "#<insert q8 code here>\n"
   ]
  },
  {
   "cell_type": "code",
   "execution_count": null,
   "metadata": {
    "colab": {},
    "colab_type": "code",
    "id": "U_AjuZaSvenr"
   },
   "outputs": [],
   "source": [
    "grader.check('q08')"
   ]
  },
  {
   "cell_type": "markdown",
   "metadata": {
    "colab_type": "text",
    "id": "mZS4sc4Zvenu"
   },
   "source": [
    "(9) Create a new list `elist3` by first creating a copy of `elist1` and then adding `7, 8, 9` to the end. (Hint: Search for a different function if appending doesn't work.) "
   ]
  },
  {
   "cell_type": "code",
   "execution_count": null,
   "metadata": {
    "colab": {},
    "colab_type": "code",
    "id": "qOM-WIoEvenu"
   },
   "outputs": [],
   "source": [
    "#<insert q9 code here>\n"
   ]
  },
  {
   "cell_type": "code",
   "execution_count": null,
   "metadata": {
    "colab": {},
    "colab_type": "code",
    "id": "3oHqLKmsvenw"
   },
   "outputs": [],
   "source": [
    "grader.check('q09')"
   ]
  },
  {
   "cell_type": "markdown",
   "metadata": {
    "colab_type": "text",
    "id": "IyrzEdqTven2"
   },
   "source": [
    "(10) Create a new list `elist4` by first creating a copy of `elist3` and then insert `6` between `5` and `7`."
   ]
  },
  {
   "cell_type": "code",
   "execution_count": null,
   "metadata": {
    "colab": {},
    "colab_type": "code",
    "id": "gFgUlCpeven3"
   },
   "outputs": [],
   "source": [
    "#<insert q10 code here>\n"
   ]
  },
  {
   "cell_type": "code",
   "execution_count": null,
   "metadata": {
    "colab": {},
    "colab_type": "code",
    "id": "8WLUG12Iven5"
   },
   "outputs": [],
   "source": [
    "grader.check('q10')"
   ]
  },
  {
   "cell_type": "markdown",
   "metadata": {
    "colab_type": "text",
    "id": "rw6Sh0gWven7"
   },
   "source": [
    "## Exercise-Sets/Dictionary\n",
    "\n",
    "This [link to documentation on sets](https://docs.python.org/3/tutorial/datastructures.html#sets) may be useful.\n",
    "\n",
    "(11) Create a set `eset1` with the following values (1,2,3,4,5).\n"
   ]
  },
  {
   "cell_type": "code",
   "execution_count": null,
   "metadata": {
    "colab": {},
    "colab_type": "code",
    "id": "mte4CjMRven7"
   },
   "outputs": [],
   "source": [
    "#<insert q11 code here>\n"
   ]
  },
  {
   "cell_type": "code",
   "execution_count": null,
   "metadata": {
    "colab": {},
    "colab_type": "code",
    "id": "ATousioRven-"
   },
   "outputs": [],
   "source": [
    "grader.check('q11')"
   ]
  },
  {
   "cell_type": "markdown",
   "metadata": {
    "colab_type": "text",
    "id": "jRJFjKF8veoB"
   },
   "source": [
    "\n",
    "(12) Create a new set `eset2` the following values (1,3,6).\n",
    "\n"
   ]
  },
  {
   "cell_type": "code",
   "execution_count": null,
   "metadata": {
    "colab": {},
    "colab_type": "code",
    "id": "gBMvn0lBveoC"
   },
   "outputs": [],
   "source": [
    "#<insert q12 code here>\n"
   ]
  },
  {
   "cell_type": "code",
   "execution_count": null,
   "metadata": {
    "colab": {},
    "colab_type": "code",
    "id": "gxis27MfveoI"
   },
   "outputs": [],
   "source": [
    "grader.check('q12')"
   ]
  },
  {
   "cell_type": "markdown",
   "metadata": {
    "colab_type": "text",
    "id": "PJo2iKx5veoP"
   },
   "source": [
    "(13) Create a new set `eset3` that is `eset1-eset2`.\n",
    "\n"
   ]
  },
  {
   "cell_type": "code",
   "execution_count": null,
   "metadata": {
    "colab": {},
    "colab_type": "code",
    "id": "-MWFYYgzveoQ"
   },
   "outputs": [],
   "source": [
    "#<insert q13 code here>"
   ]
  },
  {
   "cell_type": "code",
   "execution_count": null,
   "metadata": {
    "colab": {},
    "colab_type": "code",
    "id": "NFEbonxWveoS"
   },
   "outputs": [],
   "source": [
    "grader.check('q13')"
   ]
  },
  {
   "cell_type": "markdown",
   "metadata": {
    "colab_type": "text",
    "id": "WvXjhLl6veoW"
   },
   "source": [
    "(14) Create a new set `eset4` that is the union of `eset1+eset2`.\n"
   ]
  },
  {
   "cell_type": "code",
   "execution_count": null,
   "metadata": {
    "colab": {},
    "colab_type": "code",
    "id": "R3OgsaWmveoX"
   },
   "outputs": [],
   "source": [
    "#<insert q14 code here>"
   ]
  },
  {
   "cell_type": "code",
   "execution_count": null,
   "metadata": {
    "colab": {},
    "colab_type": "code",
    "id": "Pu77neIrveoZ"
   },
   "outputs": [],
   "source": [
    "grader.check('q14')"
   ]
  },
  {
   "cell_type": "markdown",
   "metadata": {
    "colab_type": "text",
    "id": "_gKiO2weveob"
   },
   "source": [
    "\n",
    "(15) Create a new set `eset5` that includes values that are in both `eset1` and `eset2` (intersection).\n",
    "\n"
   ]
  },
  {
   "cell_type": "code",
   "execution_count": null,
   "metadata": {
    "colab": {},
    "colab_type": "code",
    "id": "-vehzEgxveoc"
   },
   "outputs": [],
   "source": [
    "#<insert q15 code here>"
   ]
  },
  {
   "cell_type": "code",
   "execution_count": null,
   "metadata": {
    "colab": {},
    "colab_type": "code",
    "id": "-oR1AM5Sveoe"
   },
   "outputs": [],
   "source": [
    "grader.check('q15')"
   ]
  },
  {
   "cell_type": "markdown",
   "metadata": {
    "colab_type": "text",
    "id": "O77S6aEvveof"
   },
   "source": [
    "(16) Create a new dict `edict1` with the following keys and associated values: st1=45; st2=32; st3=40; st4=31.\n",
    "\n",
    "*Hint: There is a good section on dictionaries [here](https://docs.python.org/3/tutorial/datastructures.html#dictionaries).\n"
   ]
  },
  {
   "cell_type": "code",
   "execution_count": null,
   "metadata": {
    "colab": {},
    "colab_type": "code",
    "id": "dALoqnlmveog"
   },
   "outputs": [],
   "source": [
    "#<insert q16 code here>\n"
   ]
  },
  {
   "cell_type": "code",
   "execution_count": null,
   "metadata": {
    "colab": {},
    "colab_type": "code",
    "id": "iTa-j24Cveok"
   },
   "outputs": [],
   "source": [
    "grader.check('q16')"
   ]
  },
  {
   "cell_type": "markdown",
   "metadata": {
    "colab_type": "text",
    "id": "DPUG_c91veol"
   },
   "source": [
    "\n",
    "(17) Create a new variable `key1` where the value is equal to the value of dictionary edict1 with key `st3`."
   ]
  },
  {
   "cell_type": "code",
   "execution_count": null,
   "metadata": {
    "colab": {},
    "colab_type": "code",
    "id": "57DB91zWveom"
   },
   "outputs": [],
   "source": [
    "#<insert q17 code here>"
   ]
  },
  {
   "cell_type": "code",
   "execution_count": null,
   "metadata": {
    "colab": {},
    "colab_type": "code",
    "id": "SI0poMQbveoo"
   },
   "outputs": [],
   "source": [
    "grader.check('q17')"
   ]
  },
  {
   "cell_type": "markdown",
   "metadata": {
    "colab_type": "text",
    "id": "WCTH_R82veou"
   },
   "source": [
    "## Exercise-Numpy Array\n",
    "\n",
    "(18) Create a new numpy array `nparray1` that is 3x3 and all the number 3 (should be integer type).\n",
    "\n"
   ]
  },
  {
   "cell_type": "code",
   "execution_count": null,
   "metadata": {
    "colab": {},
    "colab_type": "code",
    "id": "qP9SkH5Dveou"
   },
   "outputs": [],
   "source": [
    "#<insert q18 code here>\n"
   ]
  },
  {
   "cell_type": "code",
   "execution_count": null,
   "metadata": {
    "colab": {},
    "colab_type": "code",
    "id": "e5KhrEPPveoy"
   },
   "outputs": [],
   "source": [
    "grader.check('q18')"
   ]
  },
  {
   "cell_type": "markdown",
   "metadata": {
    "colab_type": "text",
    "id": "WIGePWRzveo0"
   },
   "source": [
    "\n",
    "(19) Create a new variable `nparray1sum` that sums all of column 0.\n"
   ]
  },
  {
   "cell_type": "code",
   "execution_count": null,
   "metadata": {
    "colab": {},
    "colab_type": "code",
    "id": "YszPYNJXveo1"
   },
   "outputs": [],
   "source": [
    "#<insert q19 code here>"
   ]
  },
  {
   "cell_type": "code",
   "execution_count": null,
   "metadata": {
    "colab": {},
    "colab_type": "code",
    "id": "PStOnlUqveo3"
   },
   "outputs": [],
   "source": [
    "grader.check('q19')"
   ]
  },
  {
   "cell_type": "markdown",
   "metadata": {
    "colab_type": "text",
    "id": "ewCdbT57veo6"
   },
   "source": [
    "(20) Create a new variable `nparray1mean` that takes the average of column 0.\n"
   ]
  },
  {
   "cell_type": "code",
   "execution_count": null,
   "metadata": {
    "colab": {},
    "colab_type": "code",
    "id": "kWYaDvQcveo7"
   },
   "outputs": [],
   "source": [
    "#<insert q20 code here>\n"
   ]
  },
  {
   "cell_type": "code",
   "execution_count": null,
   "metadata": {
    "colab": {},
    "colab_type": "code",
    "id": "oglCgM9Sveo8"
   },
   "outputs": [],
   "source": [
    "grader.check('q20')"
   ]
  },
  {
   "cell_type": "markdown",
   "metadata": {
    "colab_type": "text",
    "id": "hPwkZIFjvepK"
   },
   "source": [
    "(21) Create a new numpy array `nparray2` that selects only column 1 of `nparray1` (all rows).\n"
   ]
  },
  {
   "cell_type": "code",
   "execution_count": null,
   "metadata": {
    "colab": {},
    "colab_type": "code",
    "id": "_u87TQAWvepM"
   },
   "outputs": [],
   "source": [
    "#<insert q21 code here>\n"
   ]
  },
  {
   "cell_type": "code",
   "execution_count": null,
   "metadata": {
    "colab": {},
    "colab_type": "code",
    "id": "AaITgUOdvepP"
   },
   "outputs": [],
   "source": [
    "grader.check('q21')"
   ]
  },
  {
   "cell_type": "markdown",
   "metadata": {
    "colab_type": "text",
    "id": "DB3DOnfJvepR"
   },
   "source": [
    "(22) Create a new numpy array `nparray3` that is equal to `nparray1` times `2` (you should not alter `nparray1`).\n"
   ]
  },
  {
   "cell_type": "code",
   "execution_count": null,
   "metadata": {
    "colab": {},
    "colab_type": "code",
    "id": "nh46rOKIvepR"
   },
   "outputs": [],
   "source": [
    "#<insert q22 code here>\n"
   ]
  },
  {
   "cell_type": "code",
   "execution_count": null,
   "metadata": {
    "colab": {},
    "colab_type": "code",
    "id": "QqoCpcgGvepT"
   },
   "outputs": [],
   "source": [
    "grader.check('q22')"
   ]
  },
  {
   "cell_type": "markdown",
   "metadata": {
    "colab_type": "text",
    "id": "AcHYqDoJvepW"
   },
   "source": [
    "(23) Create a new numpy array nparray4 that is a verticle stack of `nparray1` and `nparray3`."
   ]
  },
  {
   "cell_type": "code",
   "execution_count": null,
   "metadata": {
    "colab": {},
    "colab_type": "code",
    "id": "UIdFzHX2vepW"
   },
   "outputs": [],
   "source": [
    "#<insert q23 code here>\n"
   ]
  },
  {
   "cell_type": "code",
   "execution_count": null,
   "metadata": {
    "colab": {},
    "colab_type": "code",
    "id": "fRdhG2Qlvepg"
   },
   "outputs": [],
   "source": [
    "grader.check('q23')"
   ]
  },
  {
   "cell_type": "markdown",
   "metadata": {
    "colab_type": "text",
    "id": "ezfqNhP7vepj"
   },
   "source": [
    "## Exercise-Pandas\n",
    "\n",
    "For these you will need to import the iris dataset. You should find the file `iris.csv` in the main directory.  \n",
    "\n",
    "While we showed 2 ways of importing a csv, you should use the `read_csv` method of Pandas to load the csv into a dataframe called `df`. \n",
    "\n",
    "You can fine the IRIS dataset here:\n",
    "\n",
    "[https://raw.githubusercontent.com/rpi-techfundamentals/introml_website_fall_2020/master/files/iris.csv](https://raw.githubusercontent.com/rpi-techfundamentals/introml_website_fall_2020/master/files/iris.csv)"
   ]
  },
  {
   "cell_type": "code",
   "execution_count": null,
   "metadata": {
    "colab": {},
    "colab_type": "code",
    "id": "vV8phxSrvepm"
   },
   "outputs": [],
   "source": [
    "#Load iris.csv into a Pandas dataframe df here.\n",
    "#Check out the first few rows with the head command. \n"
   ]
  },
  {
   "cell_type": "markdown",
   "metadata": {
    "colab_type": "text",
    "id": "9a38atU5vepo"
   },
   "source": [
    "(24) Create a variable `df_rows` that includes the number of rows in the `df` dataframe."
   ]
  },
  {
   "cell_type": "code",
   "execution_count": null,
   "metadata": {
    "colab": {},
    "colab_type": "code",
    "id": "aHJFJBLwvepo"
   },
   "outputs": [],
   "source": [
    "#<insert q24 code here>"
   ]
  },
  {
   "cell_type": "code",
   "execution_count": null,
   "metadata": {
    "colab": {},
    "colab_type": "code",
    "id": "ocyOMCMcvepr"
   },
   "outputs": [],
   "source": [
    "grader.check('q24')"
   ]
  },
  {
   "cell_type": "markdown",
   "metadata": {
    "colab_type": "text",
    "id": "5HIEmJJ7vept"
   },
   "source": [
    "(25) Create a new dataframe `df_train` that includes the first half of the `df` dataframe. Create a new dataframe `df_test` that includes the second half. "
   ]
  },
  {
   "cell_type": "code",
   "execution_count": null,
   "metadata": {
    "colab": {},
    "colab_type": "code",
    "id": "m94FHotyvepu"
   },
   "outputs": [],
   "source": [
    "#<insert q25 code here>\n"
   ]
  },
  {
   "cell_type": "code",
   "execution_count": null,
   "metadata": {
    "colab": {},
    "colab_type": "code",
    "id": "hxI3G7FZvepv"
   },
   "outputs": [],
   "source": [
    "grader.check('q25')"
   ]
  },
  {
   "cell_type": "markdown",
   "metadata": {
    "colab_type": "text",
    "id": "zEAb8ANfvepw"
   },
   "source": [
    "(26) Create a new Pandas Series `sepal_length` from the `sepal_length` column of the df dataframe."
   ]
  },
  {
   "cell_type": "code",
   "execution_count": null,
   "metadata": {
    "colab": {},
    "colab_type": "code",
    "id": "esdxPPVRvepw"
   },
   "outputs": [],
   "source": [
    "#<insert q26 code here>\n"
   ]
  },
  {
   "cell_type": "code",
   "execution_count": null,
   "metadata": {
    "colab": {},
    "colab_type": "code",
    "id": "QDepO9byvepx"
   },
   "outputs": [],
   "source": [
    "grader.check('q26')"
   ]
  },
  {
   "cell_type": "markdown",
   "metadata": {
    "colab_type": "text",
    "id": "o_werxT-veqZ"
   },
   "source": [
    "\n",
    "(27) Using, the Iris dataset, find the mean of the `sepal_length` series in our sample and assign it to the `sepal_length_mean` variable. You should round the result to 3 digits after the decimal. \n",
    "\n",
    "```\n",
    "#Round example\n",
    "a=99.9999999999999\n",
    "#For example, the following will round a to 2 digits.\n",
    "b = round(a,2)   \n",
    "\n",
    "```"
   ]
  },
  {
   "cell_type": "code",
   "execution_count": null,
   "metadata": {
    "colab": {},
    "colab_type": "code",
    "id": "saURdNtTveqZ"
   },
   "outputs": [],
   "source": [
    "#<insert q27 code here>\n"
   ]
  },
  {
   "cell_type": "code",
   "execution_count": null,
   "metadata": {
    "colab": {},
    "colab_type": "code",
    "id": "Iof0VHXhveqa"
   },
   "outputs": [],
   "source": [
    "grader.check('q27')"
   ]
  },
  {
   "cell_type": "markdown",
   "metadata": {},
   "source": [
    "\n",
    "## MAKE SURE THAT THIS ENTIRE NOTEBOOK RUNS WITHOUT ERRORS. TO TEST THIS DO RUNTIME --> RESTART AND RUN ALL\n",
    "\n",
    "It should run without errors.  \n",
    "\n",
    "\n",
    "### Click File -> Download .ipynb to download the assignment.  Then Upload it to  the LMS."
   ]
  },
  {
   "cell_type": "code",
   "execution_count": null,
   "metadata": {},
   "outputs": [],
   "source": []
  }
 ],
 "metadata": {
  "anaconda-cloud": {},
  "celltoolbar": "Slideshow",
  "colab": {
   "name": "hm.ipynb",
   "provenance": [],
   "version": "0.3.2"
  },
  "kernelspec": {
   "display_name": "Python 3",
   "language": "python",
   "name": "python3"
  },
  "language_info": {
   "codemirror_mode": {
    "name": "ipython",
    "version": 3
   },
   "file_extension": ".py",
   "mimetype": "text/x-python",
   "name": "python",
   "nbconvert_exporter": "python",
   "pygments_lexer": "ipython3",
   "version": "3.7.6"
  }
 },
 "nbformat": 4,
 "nbformat_minor": 4
}