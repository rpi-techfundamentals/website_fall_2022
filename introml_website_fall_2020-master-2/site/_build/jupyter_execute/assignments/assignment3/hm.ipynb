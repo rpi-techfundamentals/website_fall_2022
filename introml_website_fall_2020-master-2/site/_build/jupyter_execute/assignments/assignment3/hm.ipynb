{
 "cells": [
  {
   "cell_type": "markdown",
   "metadata": {
    "colab_type": "text",
    "id": "hSXsCkclbiAj"
   },
   "source": [
    "# Assignment 3\n",
    "\n",
    "![](https://github.com/rpi-techfundamentals/hm-01-starter/blob/master/notsaved.png?raw=1)\n",
    "\n",
    "**Save your working file in Google drive so that all changes will be saved as you work. MAKE SURE that your final version is saved to GitHub.** \n",
    "\n",
    "Before you turn this in, make sure everything runs as expected. First, restart the kernel (in the menu, select Kernel → Restart) and then run all cells (in the menubar, select Cell → Run All).  You can speak with others regarding the assignment but all work must be your own. \n",
    "\n",
    "\n",
    "## This is a 30 point assignment.\n",
    "\n",
    "**You may find it useful to go through the notebooks from the course materials when doing these exercises.**\n",
    "\n",
    "**If you attempt to fake passing the tests you will receive a 0 on the assignment and it will be considered an ethical violation.**\n"
   ]
  },
  {
   "cell_type": "code",
   "execution_count": null,
   "metadata": {
    "colab": {},
    "colab_type": "code",
    "id": "8TCzCgMRbiAk"
   },
   "outputs": [],
   "source": [
    "files = \"https://github.com/rpi-techfundamentals/hm-03-starter/raw/master/files.zip\"\n",
    "!pip install otter-grader && wget $files && unzip -o files.zip"
   ]
  },
  {
   "cell_type": "code",
   "execution_count": null,
   "metadata": {
    "colab": {},
    "colab_type": "code",
    "id": "moTUYN9VbiAm"
   },
   "outputs": [],
   "source": [
    "#Run this. It initiates autograding. \n",
    "import otter\n",
    "grader = otter.Notebook()"
   ]
  },
  {
   "cell_type": "markdown",
   "metadata": {
    "colab_type": "text",
    "id": "mAC6v0SQbiAp"
   },
   "source": [
    "## Exercises - For and If and Functions\n",
    "\n",
    "(1). Create a function `list_step` that accepts 3 variables (`start`, `stop`, `step`).  The function returns a list starting at `start`, ending at `stop`, and with a step of `step`.\n",
    "\n",
    "For example:\n",
    "\n",
    "`list_step(5, 19, 2)`\n",
    "\n",
    "Should return: \n",
    "\n",
    "`[5, 7, 9, 11, 13, 15, 17]`\n"
   ]
  },
  {
   "cell_type": "code",
   "execution_count": null,
   "metadata": {
    "colab": {},
    "colab_type": "code",
    "id": "QM-6RxE3biAp"
   },
   "outputs": [],
   "source": [
    "#Answer question 1 here.\n"
   ]
  },
  {
   "cell_type": "code",
   "execution_count": null,
   "metadata": {
    "colab": {},
    "colab_type": "code",
    "id": "ZyGkeyIabiAs"
   },
   "outputs": [],
   "source": [
    "list1= list_step(5, 19, 2) #include this code\n",
    "grader.check('q01')"
   ]
  },
  {
   "cell_type": "markdown",
   "metadata": {
    "colab_type": "text",
    "id": "2MlJHdBIbiAv"
   },
   "source": [
    "(2). Create a function `list_divisible` that accepts 3 variables (`start`, `stop`, `divisible`).  Use a for loop to create a list of all numbers from `start` to `stop` which are divisible by `divisible`.\n",
    "\n",
    "For example:\n",
    "\n",
    "`list_divisible(1, 50, 7)`\n",
    "\n",
    "Should return: \n",
    "\n",
    "`[7, 14, 21, 28, 35, 42, 49]`"
   ]
  },
  {
   "cell_type": "code",
   "execution_count": null,
   "metadata": {
    "colab": {},
    "colab_type": "code",
    "id": "5_MwSa5lbiAv"
   },
   "outputs": [],
   "source": [
    "#Answer question 2 here.\n"
   ]
  },
  {
   "cell_type": "code",
   "execution_count": null,
   "metadata": {
    "colab": {},
    "colab_type": "code",
    "id": "8jttsZuUbiAy"
   },
   "outputs": [],
   "source": [
    "list2= list_divisible(1, 50, 7) #include this code\n",
    "grader.check('q02')\n"
   ]
  },
  {
   "cell_type": "markdown",
   "metadata": {
    "colab_type": "text",
    "id": "Uq-Ez73bbiA0"
   },
   "source": [
    "(3). Create a function `list_divisible_not` that accepts 4 variables (`start`, `stop`, `divisible`, `not_divisible`).  Use a for loop to create a list of all numbers from `start` to `stop` which are divisible by `divisible` but not divisible by `not_divisible`.\n",
    "\n",
    "For example:\n",
    "\n",
    "`list_divisible_not(1, 100, 4, 3)`\n",
    "\n",
    "Should return: \n",
    "\n",
    "`[4, 8, 16, 20, 28, 32, 40, 44, 52, 56, 64, 68, 76, 80, 88, 92]`\n"
   ]
  },
  {
   "cell_type": "code",
   "execution_count": null,
   "metadata": {
    "colab": {},
    "colab_type": "code",
    "id": "v3gDy1YrbiA1"
   },
   "outputs": [],
   "source": [
    "#Answer question 3 here.\n"
   ]
  },
  {
   "cell_type": "code",
   "execution_count": null,
   "metadata": {
    "colab": {},
    "colab_type": "code",
    "id": "8SbK9vjgbiA3"
   },
   "outputs": [],
   "source": [
    "list3= list_divisible_not(1, 100, 4, 3) #include this code\n",
    "grader.check('q03')"
   ]
  },
  {
   "cell_type": "markdown",
   "metadata": {
    "colab_type": "text",
    "id": "NxikYaAUbiA5"
   },
   "source": [
    "## Exercises-Titanic\n",
    "\n",
    "The following exercises will use the titanic data from Kaggle.  I've included it in the input folder just like Kaggle. "
   ]
  },
  {
   "cell_type": "code",
   "execution_count": null,
   "metadata": {
    "colab": {},
    "colab_type": "code",
    "id": "eXeFgxJ5biA7"
   },
   "outputs": [],
   "source": [
    "import numpy as np \n",
    "import pandas as pd \n",
    "\n",
    "# Input data files are available in the \"../input/\" directory.\n",
    "# Let's input them into a Pandas DataFrame\n",
    "train = pd.read_csv(\"./input/train.csv\")\n",
    "test  = pd.read_csv(\"./input/test.csv\")"
   ]
  },
  {
   "cell_type": "markdown",
   "metadata": {
    "colab_type": "text",
    "id": "djs2sUOWbiA-"
   },
   "source": [
    "(4) What is the key difference between the train and the test?"
   ]
  },
  {
   "cell_type": "code",
   "execution_count": null,
   "metadata": {
    "colab": {},
    "colab_type": "code",
    "id": "9kqVcP-7biA-"
   },
   "outputs": [],
   "source": [
    "man4=\"\"\"\n",
    "\n",
    "\"\"\""
   ]
  },
  {
   "cell_type": "markdown",
   "metadata": {
    "colab_type": "text",
    "id": "anLIL5fTbiBA"
   },
   "source": [
    "(5) Create a new column `family` that is equal to the `SibSp` * `Parch` for both the train and the test dataframes.  DON'T use a `for` loop. \n"
   ]
  },
  {
   "cell_type": "code",
   "execution_count": null,
   "metadata": {
    "colab": {},
    "colab_type": "code",
    "id": "Q7j4F61AbiBB"
   },
   "outputs": [],
   "source": [
    "#Answer "
   ]
  },
  {
   "cell_type": "code",
   "execution_count": null,
   "metadata": {
    "colab": {},
    "colab_type": "code",
    "id": "lrzDBkWUbiBD"
   },
   "outputs": [],
   "source": [
    "grader.check('q05')"
   ]
  },
  {
   "cell_type": "markdown",
   "metadata": {
    "colab_type": "text",
    "id": "g5jaVVvybiBF"
   },
   "source": [
    "\n",
    "(6). While we can submit our answer to Kaggle to see how it will perform, we can also utilize our training data to assess accuracy. Accuracy is the percentage of predictions made correctly-i.e., the percentage of people in which our prediction regarding their survival is correct. In other words, accuracy = (#correct predictions)/(Total # of predictions). Create a function `generate_accuracy` which accepts two Pandas series objects (`predicted`, `actual`) and returns the accuracy.  \n",
    "\n",
    "For example, when a and b are two different Pandas Series: \n",
    "`generate_accuracy(predicted, actual)`\n",
    "\n",
    "For the sample data below, the data should retun `50.0` (i.e., a percentage).\n",
    "\n"
   ]
  },
  {
   "cell_type": "code",
   "execution_count": null,
   "metadata": {
    "colab": {},
    "colab_type": "code",
    "id": "FvXAq_TjbiBG"
   },
   "outputs": [],
   "source": [
    "#Example DATA\n",
    "import pandas as pd\n",
    "ex = [{'predicted': 1, 'actual': 1},\n",
    "         {'predicted': 1,  'actual': 0},\n",
    "         {'predicted': 0,  'actual': 1},\n",
    "         {'predicted': 0,  'actual': 0} ]\n",
    "\n",
    "df = pd.DataFrame(ex)\n",
    "df"
   ]
  },
  {
   "cell_type": "code",
   "execution_count": null,
   "metadata": {
    "colab": {},
    "colab_type": "code",
    "id": "ou4dAw_UbiBH"
   },
   "outputs": [],
   "source": [
    "#Answer\n",
    "\n"
   ]
  },
  {
   "cell_type": "code",
   "execution_count": null,
   "metadata": {
    "colab": {},
    "colab_type": "code",
    "id": "cD_ea-GcbiBK"
   },
   "outputs": [],
   "source": [
    "grader.check('q06')"
   ]
  },
  {
   "cell_type": "markdown",
   "metadata": {
    "colab_type": "text",
    "id": "L0GTY_EcbiBN"
   },
   "source": [
    "(7) Create a column `PredEveryoneDies` which is equal to 0 for everyone in both training and testing datasets. "
   ]
  },
  {
   "cell_type": "code",
   "execution_count": null,
   "metadata": {
    "colab": {},
    "colab_type": "code",
    "id": "dlWR17fEbiBN"
   },
   "outputs": [],
   "source": [
    "#Answer"
   ]
  },
  {
   "cell_type": "code",
   "execution_count": null,
   "metadata": {
    "colab": {},
    "colab_type": "code",
    "id": "v1FV-k1hbiBP"
   },
   "outputs": [],
   "source": [
    "grader.check('q07')"
   ]
  },
  {
   "cell_type": "markdown",
   "metadata": {
    "colab_type": "text",
    "id": "51O0IxAbbiBS"
   },
   "source": [
    "(8) Find the accuracy of `PredEveryoneDies` in predicting `Survived` using the function `generate_accuracy` that you created earlier and assign it to the `AccEveryoneDies` variable. "
   ]
  },
  {
   "cell_type": "code",
   "execution_count": null,
   "metadata": {
    "colab": {},
    "colab_type": "code",
    "id": "sZ_S3mZ0biBS"
   },
   "outputs": [],
   "source": [
    "# Answer\n"
   ]
  },
  {
   "cell_type": "code",
   "execution_count": null,
   "metadata": {
    "colab": {},
    "colab_type": "code",
    "id": "rs1ZieiWbiBZ"
   },
   "outputs": [],
   "source": [
    "grader.check('q08')"
   ]
  },
  {
   "cell_type": "markdown",
   "metadata": {
    "colab_type": "text",
    "id": "2VJPRTrCbiBb"
   },
   "source": [
    "(9) In both the training and testing datasets, create the column `PredGender` that is 1 -- if the person is a woman and 0 -- if the person is a man. (This is based on the \"women and children first\" law of shipwrecks).  Then set `AccGender` to the accuracy of the `PredGender` in the Train dataset.\n"
   ]
  },
  {
   "cell_type": "code",
   "execution_count": null,
   "metadata": {
    "colab": {},
    "colab_type": "code",
    "id": "YQPXJQ8bbiBb"
   },
   "outputs": [],
   "source": [
    "#Answer\n"
   ]
  },
  {
   "cell_type": "code",
   "execution_count": null,
   "metadata": {
    "colab": {},
    "colab_type": "code",
    "id": "LYA7qFwEbiBe"
   },
   "outputs": [],
   "source": [
    "grader.check('q09')"
   ]
  },
  {
   "cell_type": "markdown",
   "metadata": {
    "colab_type": "text",
    "id": "DJ_IGh2ubiBh"
   },
   "source": [
    "(10). Create a `generate_submission` function that accepts a DataFrame, a target column, and a filename (`df`, `target`, `filename`) and writes out the submission file with just the `passengerID` and the `Survived` columns, where the `Survived` column is equal to the target column.\n",
    "\n",
    "For example:\n",
    "`submitdie = generate_submission(train, 'PredEveryoneDies', 'submiteveryonedies.csv')`\n",
    "\n",
    "Should return a dataframe with just `passengerID` and the `Survived` column.  \n",
    "\n",
    "**Make sure your submission file prediction for Survived is an integer and not at float. If you submit a float it may not work.**\n"
   ]
  },
  {
   "cell_type": "code",
   "execution_count": null,
   "metadata": {
    "colab": {},
    "colab_type": "code",
    "id": "F4vp7SOwbiBi"
   },
   "outputs": [],
   "source": [
    "#Answer\n"
   ]
  },
  {
   "cell_type": "code",
   "execution_count": null,
   "metadata": {
    "colab": {},
    "colab_type": "code",
    "id": "fLk5RV8JbiBk"
   },
   "outputs": [],
   "source": [
    "grader.check('q10')"
   ]
  },
  {
   "cell_type": "markdown",
   "metadata": {
    "colab_type": "text",
    "id": "hJd-vOiZbiBm"
   },
   "source": [
    "(11).  To use the [women and children first](https://en.wikipedia.org/wiki/Women_and_children_first) protocol, we will need to use the age field. This has some missing values. We are going to replace null values in the train and test set with the median value for each.  \n",
    "\n",
    "\n",
    "For this particular question: \n",
    "\n",
    "Set the variables `AgeMissingTrain` and `AgeMissingTest` using the count of the number of missing values in the train and test sets, respectively.\n",
    "\n",
    "Set the variable `AgeMedianTrain` and `AgeMedianTest` using the median age of the train and test sets, respectively. "
   ]
  },
  {
   "cell_type": "code",
   "execution_count": null,
   "metadata": {
    "colab": {},
    "colab_type": "code",
    "id": "aFyw0ZeSbiBm"
   },
   "outputs": [],
   "source": [
    "#Answer\n"
   ]
  },
  {
   "cell_type": "code",
   "execution_count": null,
   "metadata": {
    "colab": {},
    "colab_type": "code",
    "id": "bR36brWDbiBo"
   },
   "outputs": [],
   "source": [
    "grader.check('q11')"
   ]
  },
  {
   "cell_type": "markdown",
   "metadata": {
    "colab_type": "text",
    "id": "o8F0wyrEbiBq"
   },
   "source": [
    "(12) For rows in which the age value is  missing, set the age to the appropriate median value for the train/test set. "
   ]
  },
  {
   "cell_type": "code",
   "execution_count": null,
   "metadata": {
    "colab": {},
    "colab_type": "code",
    "id": "319cK3sNbiBq"
   },
   "outputs": [],
   "source": [
    "#Answer\n"
   ]
  },
  {
   "cell_type": "code",
   "execution_count": null,
   "metadata": {
    "colab": {},
    "colab_type": "code",
    "id": "VIWAu76wbiBw"
   },
   "outputs": [],
   "source": [
    "grader.check('q12')"
   ]
  },
  {
   "cell_type": "markdown",
   "metadata": {
    "colab_type": "text",
    "id": "4WYb1qQ6biBy"
   },
   "source": [
    "\n",
    "(13). In our initial calculation of the `PredGender` column, we made our prediction based on whether the individual was male or female.  In accordance to the [women and children first](https://en.wikipedia.org/wiki/Women_and_children_first) protocol, we hypothesize that our model could be improved by including whether the individual was a child in addition to gender. We also have a question, what age to use to determine \"child\"? (People weren't likely to check for IDs.)  We will check 2 ages...<13 and <18 (somewhat arbitrary but have to start somewhere) and see which yields a better accuracy. <br>\n",
    "\n",
    "<br> \n",
    "\n",
    "Specifically, create 2 predictions as follows:\n",
    "\n",
    "`train['PredGenderAge13']` should be the prediction incorporating both Gender (women survive) and Age (Children Age<13 survived while Age>=13 died)  <br>\n",
    "`train['PredGenderAge18']` should be the prediction incorporating both Gender (women survive) and Age (Children Age<18 survived while Age>=18 died)  <br>\n",
    "\n",
    "*The analysis assumes that you have addressed missing values in the earlier step and you should do it for both the train and test dataframes*"
   ]
  },
  {
   "cell_type": "code",
   "execution_count": null,
   "metadata": {
    "colab": {},
    "colab_type": "code",
    "id": "Z_RXLnoXbiBz"
   },
   "outputs": [],
   "source": [
    "#Answer\n"
   ]
  },
  {
   "cell_type": "code",
   "execution_count": null,
   "metadata": {
    "colab": {},
    "colab_type": "code",
    "id": "bg1Fep69biB1"
   },
   "outputs": [],
   "source": [
    "grader.check('q13')"
   ]
  },
  {
   "cell_type": "markdown",
   "metadata": {
    "colab_type": "text",
    "id": "FYkYiEckbiB3"
   },
   "source": [
    "(14). Calculate the accuracy for your new predictions.  Use `PredGenderAge13` in the training set to calculate `AccGenderAge13` (you can use your function again!) and `PredGenderAge18` to calcuate `AccGenderAge18`. "
   ]
  },
  {
   "cell_type": "code",
   "execution_count": null,
   "metadata": {
    "colab": {},
    "colab_type": "code",
    "id": "udYOXsOxbiB3"
   },
   "outputs": [],
   "source": [
    "#Answer\n"
   ]
  },
  {
   "cell_type": "code",
   "execution_count": null,
   "metadata": {
    "colab": {},
    "colab_type": "code",
    "id": "y5mSZcrTbiB5"
   },
   "outputs": [],
   "source": [
    "grader.check('q14')"
   ]
  },
  {
   "cell_type": "markdown",
   "metadata": {
    "colab_type": "text",
    "id": "X_ZLsCx5biCA"
   },
   "source": [
    "(15). You should find that the accuracy is higher when using 13 as a designation for a child than 18. What does this tell you about the role of age in surviving a shipwreck? "
   ]
  },
  {
   "cell_type": "code",
   "execution_count": null,
   "metadata": {
    "colab": {},
    "colab_type": "code",
    "id": "8_GkUNYcbiCB"
   },
   "outputs": [],
   "source": [
    "\n",
    "man15=\"\"\"\n",
    "Answer here.\n",
    "\"\"\""
   ]
  },
  {
   "cell_type": "markdown",
   "metadata": {
    "colab_type": "text",
    "id": "5QoaQ9hQbiCD"
   },
   "source": [
    "(16) Create a prediction file for the \"women and children first\" model in using the test dataset and upload it to Kaggle. Go through the process of uploading it to Kaggle. Put your Kaggle username so we can verify your prediction occued. \n",
    "\n",
    "**Make sure your submission file prediction is an integer and not at float. If you submit a float it may not work.**"
   ]
  },
  {
   "cell_type": "code",
   "execution_count": null,
   "metadata": {
    "colab": {},
    "colab_type": "code",
    "id": "KFSWJLZYbiCD"
   },
   "outputs": [],
   "source": [
    "kaggle_username=\"***your kaggle username****\"\n",
    "man15=\"https://www.kaggle.com/\"+kaggle_username+\"/competitions\"\n",
    "#This gives a link to your competition page\n",
    "man15"
   ]
  }
 ],
 "metadata": {
  "anaconda-cloud": {},
  "celltoolbar": "Slideshow",
  "colab": {
   "collapsed_sections": [
    "LSlwyk65biCG"
   ],
   "include_colab_link": true,
   "name": "hm3_starter.ipynb",
   "provenance": [],
   "version": "0.3.2"
  },
  "kernelspec": {
   "display_name": "Python 3",
   "language": "python",
   "name": "python3"
  },
  "language_info": {
   "codemirror_mode": {
    "name": "ipython",
    "version": 3
   },
   "file_extension": ".py",
   "mimetype": "text/x-python",
   "name": "python",
   "nbconvert_exporter": "python",
   "pygments_lexer": "ipython3",
   "version": "3.7.6"
  }
 },
 "nbformat": 4,
 "nbformat_minor": 4
}