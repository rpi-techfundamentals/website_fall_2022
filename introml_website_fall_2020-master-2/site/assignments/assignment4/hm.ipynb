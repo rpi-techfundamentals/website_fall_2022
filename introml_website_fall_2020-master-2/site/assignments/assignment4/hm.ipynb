{
 "cells": [
  {
   "cell_type": "markdown",
   "metadata": {
    "colab_type": "text",
    "id": "YRxEdhsZhrkG"
   },
   "source": [
    "# Assignment 4\n",
    "\n",
    "![](https://github.com/rpi-techfundamentals/hm-01-starter/blob/master/notsaved.png?raw=1)\n",
    "\n",
    "**WARNING!!!  If you see this icon on the top of your COLAB sesssion, your work is not saved automatically.**\n",
    "\n",
    "\n",
    "**When you are working on homeworks, make sure that you save often. You may find it easier to save intermident copies in Google drive. If you save your working file in Google drive all changes will be saved as you work. MAKE SURE that your final version is saved to GitHub.** \n",
    "\n",
    "Before you turn this problem in, make sure everything runs as expected. First, restart the kernel (in the menubar, select Kernel → Restart) and then run all cells (in the menubar, select Cell → Run All).  You can speak with others regarding the assignment but all work must be your own. \n",
    "\n",
    "\n",
    "### This is a 30 point assignment graded from answers to questions and automated tests that should be run at the bottom. Be sure to clearly label all of your answers and commit final tests at the end.  \n"
   ]
  },
  {
   "cell_type": "code",
   "execution_count": null,
   "metadata": {
    "colab": {},
    "colab_type": "code",
    "id": "kt0h7WvWhrkK"
   },
   "outputs": [],
   "source": [
    "files = \"https://github.com/rpi-techfundamentals/introml_website_fall_2020/raw/master/files/assignment4.zip\" \n",
    "!pip install otter-grader && wget $files && unzip -o assignment4.zip"
   ]
  },
  {
   "cell_type": "code",
   "execution_count": null,
   "metadata": {},
   "outputs": [],
   "source": [
    "#Run this. It initiates autograding. \n",
    "import otter\n",
    "grader = otter.Notebook()"
   ]
  },
  {
   "cell_type": "markdown",
   "metadata": {
    "colab_type": "text",
    "id": "WocLLQou0_Tc"
   },
   "source": [
    "## Exercise - Seaborn\n"
   ]
  },
  {
   "cell_type": "code",
   "execution_count": null,
   "metadata": {
    "colab": {},
    "colab_type": "code",
    "id": "dvKqATXthrkd"
   },
   "outputs": [],
   "source": [
    "#Import and load some libraries\n",
    "import numpy as np\n",
    "import pandas as pd\n",
    "from scipy import stats, integrate\n",
    "import matplotlib.pyplot as plt\n",
    "import seaborn as sns\n",
    "titanic = sns.load_dataset(\"titanic\")\n",
    "import grading_object_detection as god"
   ]
  },
  {
   "cell_type": "markdown",
   "metadata": {
    "colab_type": "text",
    "id": "sKw1DGi3hrkm"
   },
   "source": [
    "\n",
    "(S1) Create the following figure using the Titanic dataset (included with Seaborn). Output the file to hm4-1.png in the current directory.  \n",
    "![](https://github.com/rpi-techfundamentals/hm-04-starter/raw/master/fig/hm4-1.png)\n",
    "\n"
   ]
  },
  {
   "cell_type": "code",
   "execution_count": null,
   "metadata": {
    "colab": {},
    "colab_type": "code",
    "id": "yR9pQbiOhrko"
   },
   "outputs": [],
   "source": [
    "#Answer\n",
    "\n"
   ]
  },
  {
   "cell_type": "code",
   "execution_count": null,
   "metadata": {
    "colab": {},
    "colab_type": "code",
    "id": "qY3sKzN5hrkw"
   },
   "outputs": [],
   "source": [
    "#Test\n",
    "grader.check('q01')"
   ]
  },
  {
   "cell_type": "markdown",
   "metadata": {
    "colab_type": "text",
    "id": "sKSRVPObhrkz"
   },
   "source": [
    "(S2) Create the following figure using the Titanic dataset (included with Seaborn). Output the plot to hm4-2.png in the current directory.  \n",
    "![](https://github.com/rpi-techfundamentals/hm-04-starter/raw/master/fig/hm4-2.png)"
   ]
  },
  {
   "cell_type": "code",
   "execution_count": null,
   "metadata": {
    "colab": {},
    "colab_type": "code",
    "id": "uifBYKMyhrk3"
   },
   "outputs": [],
   "source": [
    "#Answer\n"
   ]
  },
  {
   "cell_type": "code",
   "execution_count": null,
   "metadata": {
    "colab": {},
    "colab_type": "code",
    "id": "vsaHa89Khrk-"
   },
   "outputs": [],
   "source": [
    "grader.check('q02')"
   ]
  },
  {
   "cell_type": "markdown",
   "metadata": {
    "colab_type": "text",
    "id": "jUP8uWPahrlB"
   },
   "source": [
    "(S3) Create the following figure using the Titanic dataset (included with Seaborn). Output the plot to hm4-3.png in the current directory.  \n",
    "![](https://github.com/rpi-techfundamentals/hm-04-starter/raw/master/fig/hm4-3.png)"
   ]
  },
  {
   "cell_type": "code",
   "execution_count": null,
   "metadata": {
    "colab": {},
    "colab_type": "code",
    "id": "KwTkdQ3shrlC"
   },
   "outputs": [],
   "source": [
    "#Answer\n"
   ]
  },
  {
   "cell_type": "code",
   "execution_count": null,
   "metadata": {
    "colab": {},
    "colab_type": "code",
    "id": "_HV7_SQQhrlG"
   },
   "outputs": [],
   "source": [
    "grader.check('q03')"
   ]
  },
  {
   "cell_type": "code",
   "execution_count": null,
   "metadata": {
    "colab": {},
    "colab_type": "code",
    "id": "1FVi0j13hrlO"
   },
   "outputs": [],
   "source": [
    "#Please provide an interpretation for the graph provided in question 3. \n",
    "\n",
    "man4=\"\"\"\n",
    "\n",
    "\n",
    "\n",
    "\"\"\""
   ]
  },
  {
   "cell_type": "markdown",
   "metadata": {
    "colab_type": "text",
    "id": "l5msY87NhrlT"
   },
   "source": [
    "(S5) Create the following figure using the Titanic dataset (included with Seaborn). Output the plot to hm4-5.png in the current directory.  \n",
    "![](https://github.com/rpi-techfundamentals/hm-04-starter/raw/master/fig/hm4-5.png)"
   ]
  },
  {
   "cell_type": "code",
   "execution_count": null,
   "metadata": {
    "colab": {},
    "colab_type": "code",
    "id": "l9epWWpnhrlU"
   },
   "outputs": [],
   "source": [
    "#Answer"
   ]
  },
  {
   "cell_type": "code",
   "execution_count": null,
   "metadata": {
    "colab": {},
    "colab_type": "code",
    "id": "r2IxIUJehrlW"
   },
   "outputs": [],
   "source": [
    "grader.check('q05')"
   ]
  },
  {
   "cell_type": "markdown",
   "metadata": {
    "colab_type": "text",
    "id": "o4ZXQ7mLhrlY"
   },
   "source": [
    "## Exercise-Beautiful Soup\n",
    "Imagine you would like to write a simple python script that pulls in data from https://webrobots.io/kickstarter-datasets/.   \n",
    "\n",
    "First go to the above website.\n",
    "\n",
    "![](https://github.com/rpi-techfundamentals/hm-04-starter/raw/master/fig/crawler.png)\n",
    "\n",
    "\n",
    "To do that, we would have to get all the links.  Here is some starter code that will download the url into a soup object.\n",
    "\n",
    "```\n",
    "#This will pull the data\n",
    "from bs4 import BeautifulSoup\n",
    "import requests\n",
    "response = requests.get(\"https://webrobots.io/kickstarter-datasets/\")\n",
    "html_doc = response.text\n",
    "soup = BeautifulSoup(html_doc, 'html.parser')\n",
    "print(soup.prettify())\n",
    " \n",
    "```\n"
   ]
  },
  {
   "cell_type": "code",
   "execution_count": null,
   "metadata": {
    "colab": {},
    "colab_type": "code",
    "id": "3aTcIyIt1Ylw"
   },
   "outputs": [],
   "source": []
  },
  {
   "cell_type": "code",
   "execution_count": null,
   "metadata": {
    "colab": {},
    "colab_type": "code",
    "id": "ldhs0HrfhrlY"
   },
   "outputs": [],
   "source": [
    "#This will pull the data\n",
    "from bs4 import BeautifulSoup\n",
    "import requests\n",
    "response = requests.get(\"https://webrobots.io/kickstarter-datasets/\")\n",
    "html_doc = response.text\n",
    "soup = BeautifulSoup(html_doc, 'html.parser')\n",
    "print(soup.prettify())\n",
    " "
   ]
  },
  {
   "cell_type": "markdown",
   "metadata": {
    "colab_type": "text",
    "id": "7VC0CnFVhrlc"
   },
   "source": [
    "(bs1) Look through the html and find the links to the files that we want.  Set the variable `file_url` to be equal to the url of the files that we want to get"
   ]
  },
  {
   "cell_type": "code",
   "execution_count": null,
   "metadata": {
    "colab": {},
    "colab_type": "code",
    "id": "Krc-H7rxhrld"
   },
   "outputs": [],
   "source": [
    "#update base url up to but not including the first /\n",
    "file_url= \"https://**************\"\n"
   ]
  },
  {
   "cell_type": "code",
   "execution_count": null,
   "metadata": {
    "colab": {},
    "colab_type": "code",
    "id": "VDSEWiVohrlg"
   },
   "outputs": [],
   "source": [
    "grader.check('bs1')"
   ]
  },
  {
   "cell_type": "markdown",
   "metadata": {
    "colab_type": "text",
    "id": "BcjfQ-07hrli"
   },
   "source": [
    "(bs2) Before we try to get the links, lets make sure we can parse the web page. Set the value of the variable `page_title` equal to the contents inside the page `<title>` tag. The variable `page_title` should not include the title tag (i.e., the `<title>`). "
   ]
  },
  {
   "cell_type": "code",
   "execution_count": null,
   "metadata": {
    "colab": {},
    "colab_type": "code",
    "id": "g_jdtn2_hrli"
   },
   "outputs": [],
   "source": [
    "#answer\n"
   ]
  },
  {
   "cell_type": "code",
   "execution_count": null,
   "metadata": {
    "colab": {},
    "colab_type": "code",
    "id": "g34V5kgChrlk"
   },
   "outputs": [],
   "source": [
    "grader.check('bs2')"
   ]
  },
  {
   "cell_type": "markdown",
   "metadata": {
    "colab_type": "text",
    "id": "7hr9a5_6hrln"
   },
   "source": [
    "(bs3) We talked about both regular expressions and beautiful soup.  Here is an example of how you could combine them to match a pattern. \n",
    "\n",
    "\n",
    "```\n",
    "import re\n",
    "soup.find(\"a\", href=re.compile(file_url), href=True)\n",
    "```\n",
    "\n",
    "Further process the data so that you get a list equal to all of the links to the json files `json_links` and a list equal to all the csv files `csv_links`.  \n",
    "\n",
    "![](https://github.com/rpi-techfundamentals/hm-04-starter/raw/master/fig/links.png)\n",
    "\n"
   ]
  },
  {
   "cell_type": "code",
   "execution_count": null,
   "metadata": {
    "colab": {},
    "colab_type": "code",
    "id": "L6og90cBhrlo"
   },
   "outputs": [],
   "source": [
    "#Answer \n"
   ]
  },
  {
   "cell_type": "code",
   "execution_count": null,
   "metadata": {
    "colab": {},
    "colab_type": "code",
    "id": "dNE5iUvthrlr"
   },
   "outputs": [],
   "source": [
    "grader.check('bs3')"
   ]
  },
  {
   "cell_type": "markdown",
   "metadata": {
    "colab_type": "text",
    "id": "vgLdbR9Zhrls"
   },
   "source": [
    "### Regular Expressions\n",
    "\n",
    "Regular expressions is a useful way of parsing through string data. \n",
    "\n",
    "(RE1) Please complete a function `blind_text` that accepts a text string and does the the following transformations. \n",
    "\n",
    "- Change `text` to lower case.\n",
    "- Remove all emails and substitute them with '--'\n",
    "- Remove all digits and replace with *. \n",
    "- Split the lines and put them into a list called `textlines`.\n",
    "\n",
    "Given the text string:\n",
    "\n",
    "```\n",
    "my_text=\"\"\"The test score is 85 with the email john@rpi.edu for MGMT33223.\n",
    "The test score is 83 with the email jim@rpi.edu for MGMT33223.\"\"\"\n",
    "```\n",
    "\n",
    "The resulting list should be:\n",
    "```\n",
    "['the test score is ** with the email -- for mgmt*****.',\n",
    " 'the test score is ** with the email -- for mgmt*****.']\n",
    "```\n",
    "\n",
    "\n"
   ]
  },
  {
   "cell_type": "code",
   "execution_count": null,
   "metadata": {
    "colab": {},
    "colab_type": "code",
    "id": "di4OPlZUhrlt"
   },
   "outputs": [],
   "source": [
    "my_text=\"\"\"The test score is 85 with the email john@rpi.edu for MGMT33223.\n",
    "The test score is 83 with the email jim@rpi.edu for MGMT33223.\"\"\"\n",
    "\n",
    "#Create your function here. \n",
    "\n",
    "#Call the function\n",
    "result = blind_text(my_text)\n",
    "print(result)  \n"
   ]
  },
  {
   "cell_type": "code",
   "execution_count": null,
   "metadata": {
    "colab": {},
    "colab_type": "code",
    "id": "neSzaGBuhrlx"
   },
   "outputs": [],
   "source": [
    "#Tests\n",
    "grader.check('re1')"
   ]
  },
  {
   "cell_type": "markdown",
   "metadata": {},
   "source": [
    "\n",
    "## MAKE SURE THAT THIS ENTIRE NOTEBOOK RUNS WITHOUT ERRORS. TO TEST THIS DO RUNTIME --> RESTART AND RUN ALL\n",
    "\n",
    "It should run without errors.  \n",
    "\n",
    "\n",
    "### Click File -> Download .ipynb to download the assignment.  Then Upload it to  the LMS."
   ]
  },
  {
   "cell_type": "code",
   "execution_count": null,
   "metadata": {},
   "outputs": [],
   "source": []
  }
 ],
 "metadata": {
  "celltoolbar": "Slideshow",
  "colab": {
   "name": "hm.ipynb",
   "provenance": []
  },
  "kernelspec": {
   "display_name": "Python 3",
   "language": "python",
   "name": "python3"
  },
  "language_info": {
   "codemirror_mode": {
    "name": "ipython",
    "version": 3
   },
   "file_extension": ".py",
   "mimetype": "text/x-python",
   "name": "python",
   "nbconvert_exporter": "python",
   "pygments_lexer": "ipython3",
   "version": "3.6.9"
  }
 },
 "nbformat": 4,
 "nbformat_minor": 2
}
