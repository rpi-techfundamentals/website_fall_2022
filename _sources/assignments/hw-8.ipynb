{
 "cells": [
  {
   "cell_type": "markdown",
   "id": "electronic-sandwich",
   "metadata": {
    "deletable": false,
    "editable": false,
    "nbgrader": {
     "cell_type": "markdown",
     "checksum": "39b357e220b34e32385d5258a38c0b88",
     "grade": false,
     "grade_id": "Desc",
     "locked": true,
     "schema_version": 3,
     "solution": false,
     "task": false
    }
   },
   "source": [
    "###### Exam-3: Fall 2022\n",
    "#### Total number of points: 51\n",
    "\n",
    "This is an open-book test. However, talking or chatting with your classmates is NOT permitted and will be considered plagiarism. \n",
    "\n",
    "<b>Before you submit this test, make sure your answers are saved, and everything runs as expected</b>. \n",
    "\n",
    "- For empty notebook submissions, you will receive 0 points. \n",
    "- If instructions (including not using the same variable names) are not followed that led to a wrong answer, you will receive 0 points. \n",
    "\n",
    "First, restart the kernel (in the menu, select Kernel → Restart) and then run all cells (in the menubar, select Cell → Run All).\n",
    "Steps to evaluate your solutions:\n",
    "\n",
    "Step-1: Ensure you have installed Anaconda (Windows: https://docs.anaconda.com/anaconda/install/windows/ ; Mac:https://docs.anaconda.com/anaconda/install/mac-os/ ; Linux: https://docs.anaconda.com/anaconda/install/linux/)\n",
    "\n",
    "Step-2: Open the Jupyter Notebook by first launching the anaconda software console\n",
    "\n",
    "Step-3: Open the .ipynb file and write your solutions at the appropriate location \"# YOUR CODE HERE\"\n",
    "\n",
    "Step-4: You can restart the kernel and click run all (in the menubar, select Cell → Run All) on the center-right on the top of this window.\n",
    "\n",
    "Step-5: Now go to \"File\" then click on \"Download as\" then click on \"Notebook (.ipynb)\" Please DO NOT change the file name and just keep it as .ipynb file format\n",
    "\n",
    "Step-6: Go to lms.rpi.edu and upload your notebook at the appropriate link to submit this homework. Make sure your answers are saved before you submit. \n",
    "\n",
    "#### Please note that for any question in this test you will receive points ONLY if your solution passes all the hidden testcases. So please make sure you try to think all possible scenarios before submitting your answers.  \n",
    "- Note that hidden tests are present to ensure you are not hardcoding. \n",
    "- If caught cheating: \n",
    "    - you will receive a score of 0 for the 1st violation. \n",
    "    - for repeated incidents, you will receive an automatic 'F' grade and will be reported to the dean of Lally School of Management. "
   ]
  },
  {
   "cell_type": "code",
   "execution_count": null,
   "id": "3e43df78",
   "metadata": {},
   "outputs": [],
   "source": [
    "#Please do not modify/delete this cell\n",
    "import pandas as pd\n",
    "pd.set_option('display.max_columns', None)\n",
    "df  = pd.read_csv(\"https://raw.githubusercontent.com/rpi-techfundamentals/website_fall_2022/master/site/public/data2.csv\")\n",
    "print(df.shape)\n",
    "df\n"
   ]
  },
  {
   "cell_type": "markdown",
   "id": "removable-cursor",
   "metadata": {
    "deletable": false,
    "editable": false,
    "nbgrader": {
     "cell_type": "markdown",
     "checksum": "37758a65f414447342fa5d2b71068e74",
     "grade": false,
     "grade_id": "Q1",
     "locked": true,
     "schema_version": 3,
     "solution": false,
     "task": false
    }
   },
   "source": [
    "### Q-1 [15 points] Please answer the following questions in the same order as listed here below: \n",
    "\n",
    "1. Select all features that start with a `w` and assign them to the dataframe `df_w`. \n",
    "\n",
    "2. Select all features that start with `cad` and assign them to the dataframe `df_cad`.\n",
    "\n",
    "3. Split `df` (using all columns) into one dataframe (`df_1`) that includes the first 7000 rows and a second one (`df_2`) that includes the second 3000 rows. Reset the index for `df_2`, dropping it in the process (i.e., it should not be added to the dataframe). \n",
    "\n",
    "\n"
   ]
  },
  {
   "cell_type": "code",
   "execution_count": null,
   "id": "horizontal-northwest",
   "metadata": {
    "deletable": false,
    "nbgrader": {
     "cell_type": "code",
     "checksum": "b02077008bf3d1473c94c6baf0448a2b",
     "grade": false,
     "grade_id": "Q1-sol",
     "locked": false,
     "schema_version": 3,
     "solution": true,
     "task": false
    }
   },
   "outputs": [],
   "source": [
    "\n",
    "# YOUR CODE HERE\n",
    "raise NotImplementedError()"
   ]
  },
  {
   "cell_type": "code",
   "execution_count": null,
   "id": "worldwide-change",
   "metadata": {
    "deletable": false,
    "editable": false,
    "nbgrader": {
     "cell_type": "code",
     "checksum": "bb1817dded5789d878e9c8988875f775",
     "grade": false,
     "grade_id": "varcheck1",
     "locked": true,
     "schema_version": 3,
     "solution": false,
     "task": false
    }
   },
   "outputs": [],
   "source": [
    "#This will test that you have not mislabeled a variable. \n",
    "assert 'df_w' in globals()\n",
    "assert 'df_cad' in globals()\n",
    "assert 'df_1' in globals()\n",
    "assert 'df_2' in globals()\n"
   ]
  },
  {
   "cell_type": "code",
   "execution_count": null,
   "id": "round-eagle",
   "metadata": {
    "deletable": false,
    "editable": false,
    "nbgrader": {
     "cell_type": "code",
     "checksum": "413b85ae99bd082427d2522b378686b3",
     "grade": true,
     "grade_id": "1",
     "locked": true,
     "points": 3,
     "schema_version": 3,
     "solution": false,
     "task": false
    }
   },
   "outputs": [],
   "source": [
    "#Test cell-1 [3pt] Hidden tests\n",
    "#DO NOT MODIFY/DELETE THIS CELL \n",
    "\n",
    "\n",
    "assert df_1.shape[0]==7000\n"
   ]
  },
  {
   "cell_type": "code",
   "execution_count": null,
   "id": "4db1e816",
   "metadata": {
    "deletable": false,
    "editable": false,
    "nbgrader": {
     "cell_type": "code",
     "checksum": "955bd3bcb68de8cb230bba4292790da6",
     "grade": true,
     "grade_id": "2",
     "locked": true,
     "points": 3,
     "schema_version": 3,
     "solution": false,
     "task": false
    }
   },
   "outputs": [],
   "source": [
    "#Test cell-2 [3pt] Hidden tests\n",
    "#DO NOT MODIFY/DELETE THIS CELL \n",
    "\n",
    "\n",
    "assert df_2.shape[0]==3000"
   ]
  },
  {
   "cell_type": "code",
   "execution_count": null,
   "id": "martial-superior",
   "metadata": {
    "deletable": false,
    "editable": false,
    "nbgrader": {
     "cell_type": "code",
     "checksum": "7cba1f3fad7190c56cc408c6ed4ef876",
     "grade": true,
     "grade_id": "3",
     "locked": true,
     "points": 3,
     "schema_version": 3,
     "solution": false,
     "task": false
    }
   },
   "outputs": [],
   "source": [
    "#Test cell-3 [3pt] Hidden tests\n",
    "#DO NOT MODIFY/DELETE THIS CELL \n",
    "\n",
    "\n",
    "assert len (set(df_cad.columns).difference({'cad0','cad1','cad2','cad3','cad4','cad5','cad6','cad7','cad8','cad9'}))==0\n"
   ]
  },
  {
   "cell_type": "code",
   "execution_count": null,
   "id": "fancy-complexity",
   "metadata": {
    "deletable": false,
    "editable": false,
    "nbgrader": {
     "cell_type": "code",
     "checksum": "a2bac07cd81bf20a4eb8b1ee72de2d85",
     "grade": true,
     "grade_id": "4",
     "locked": true,
     "points": 3,
     "schema_version": 3,
     "solution": false,
     "task": false
    }
   },
   "outputs": [],
   "source": [
    "#Test cell-4 [3pt] Hidden tests\n",
    "#DO NOT MODIFY/DELETE THIS CELL \n",
    "\n",
    "\n",
    "assert len (set(df_w.columns).difference({'w0','w1','w2','w3','w4','w5','w6','w7','w8','w9','w10','w11','w12','w13','w14','w15','w16','w17','w18','w19','w20','w21','w22','w23','w24','w25','w26','w27','w28','w29'}))==0\n"
   ]
  },
  {
   "cell_type": "code",
   "execution_count": null,
   "id": "7daf820a",
   "metadata": {
    "deletable": false,
    "editable": false,
    "nbgrader": {
     "cell_type": "code",
     "checksum": "a17dfaa7150b7f18f25462d6fc4dcc49",
     "grade": true,
     "grade_id": "5",
     "locked": true,
     "points": 3,
     "schema_version": 3,
     "solution": false,
     "task": false
    }
   },
   "outputs": [],
   "source": [
    "#Test cell-5 [1pt] Hidden tests\n",
    "#DO NOT MODIFY/DELETE THIS CELL \n",
    "\n",
    "\n",
    "assert df_1.shape[1]==42\n",
    "assert df_2.shape[1]==42\n",
    "assert df_2.index[0]==0\n"
   ]
  },
  {
   "cell_type": "markdown",
   "id": "received-bangkok",
   "metadata": {
    "deletable": false,
    "editable": false,
    "nbgrader": {
     "cell_type": "markdown",
     "checksum": "0241bd434f584d2bf5c22f2868cf915a",
     "grade": false,
     "grade_id": "Q2",
     "locked": true,
     "schema_version": 3,
     "solution": false,
     "task": false
    }
   },
   "source": [
    "## Q-2 [12 points] Please answer the following questions in the same order as listed here below: \n",
    "\n",
    "Use the values `X_train`, `X_test`, `y_train`, `y_test` provided below to answer the following questions. \n",
    " \n",
    "1. Use a  support vector classifier with `random_state`=0 to train a machine learning model. \n",
    "\n",
    "2. Compute the accuracy for the train and the test sets and assigning to the variables `acc_train` and `acc_test`, respectively.  \n",
    "\n",
    "3. Compute the roc_auc_score for the train and the test sets and assigning to the variables `roc_train` and `roc_test`, respectively. \n",
    "\n"
   ]
  },
  {
   "cell_type": "code",
   "execution_count": null,
   "id": "07934851",
   "metadata": {
    "deletable": false,
    "editable": false,
    "nbgrader": {
     "cell_type": "code",
     "checksum": "3d8674ac0c41b2a3dde08259f198e2bb",
     "grade": false,
     "grade_id": "Q2-pre",
     "locked": true,
     "schema_version": 3,
     "solution": false,
     "task": false
    }
   },
   "outputs": [],
   "source": [
    "#This loads our data\n",
    "from sklearn.model_selection import train_test_split\n",
    "df  = pd.read_csv(\"https://raw.githubusercontent.com/rpi-techfundamentals/website_fall_2022/master/site/public/data2.csv\")\n",
    "X = df.iloc[:,2:]\n",
    "y = df['treatment']\n",
    "X_train, X_test, y_train, y_test = train_test_split(X, y, test_size=0.7, random_state=0)\n",
    "\n"
   ]
  },
  {
   "cell_type": "code",
   "execution_count": null,
   "id": "ranging-arena",
   "metadata": {
    "deletable": false,
    "nbgrader": {
     "cell_type": "code",
     "checksum": "11b802b6024ad072a938ab50b552a7ff",
     "grade": false,
     "grade_id": "Q2-Sol",
     "locked": false,
     "schema_version": 3,
     "solution": true,
     "task": false
    }
   },
   "outputs": [],
   "source": [
    "\n",
    "#Your solution here. Make sure the cell executes without errors. \n",
    "\n",
    "# YOUR CODE HERE\n",
    "raise NotImplementedError()"
   ]
  },
  {
   "cell_type": "code",
   "execution_count": null,
   "id": "maritime-allocation",
   "metadata": {
    "deletable": false,
    "editable": false,
    "nbgrader": {
     "cell_type": "code",
     "checksum": "0a927d7c100e63cafbeed3cdf83ac1a6",
     "grade": false,
     "grade_id": "varcheck2",
     "locked": true,
     "schema_version": 3,
     "solution": false,
     "task": false
    }
   },
   "outputs": [],
   "source": [
    "#This will test that you have not mislabeled a variable. \n",
    "assert 'acc_train' in globals()\n",
    "assert 'acc_test' in globals()\n",
    "assert 'roc_train' in globals()\n",
    "assert 'roc_test' in globals()\n"
   ]
  },
  {
   "cell_type": "code",
   "execution_count": null,
   "id": "seeing-maryland",
   "metadata": {
    "deletable": false,
    "editable": false,
    "nbgrader": {
     "cell_type": "code",
     "checksum": "0737629d5d687391d1a6eaaca17dbd99",
     "grade": true,
     "grade_id": "6",
     "locked": true,
     "points": 3,
     "schema_version": 3,
     "solution": false,
     "task": false
    }
   },
   "outputs": [],
   "source": [
    "#Test cell-6 [3pt] Hidden tests\n",
    "#DO NOT MODIFY/DELETE THIS CELL \n",
    "\n",
    "assert round(acc_train,2)==0.87\n"
   ]
  },
  {
   "cell_type": "code",
   "execution_count": null,
   "id": "fa618f14",
   "metadata": {
    "deletable": false,
    "editable": false,
    "nbgrader": {
     "cell_type": "code",
     "checksum": "663fbc3aaa54aa043f80107975cf3bf9",
     "grade": true,
     "grade_id": "7",
     "locked": true,
     "points": 3,
     "schema_version": 3,
     "solution": false,
     "task": false
    }
   },
   "outputs": [],
   "source": [
    "#Test cell-7 [3pt] Hidden tests\n",
    "#DO NOT MODIFY/DELETE THIS CELL \n",
    "\n",
    "assert round(acc_test,2)==0.77\n"
   ]
  },
  {
   "cell_type": "code",
   "execution_count": null,
   "id": "3d3eaebd",
   "metadata": {
    "deletable": false,
    "editable": false,
    "nbgrader": {
     "cell_type": "code",
     "checksum": "94be9f762c3c8bd0e2209f49f248dd92",
     "grade": true,
     "grade_id": "8",
     "locked": true,
     "points": 3,
     "schema_version": 3,
     "solution": false,
     "task": false
    }
   },
   "outputs": [],
   "source": [
    "#Test cell-8 [3pt] Hidden tests\n",
    "#DO NOT MODIFY/DELETE THIS CELL \n",
    "\n",
    "assert round(roc_train,2)==0.94\n"
   ]
  },
  {
   "cell_type": "code",
   "execution_count": null,
   "id": "smart-soccer",
   "metadata": {
    "deletable": false,
    "editable": false,
    "nbgrader": {
     "cell_type": "code",
     "checksum": "2be21b1b005f90d451399306b24f0c7a",
     "grade": true,
     "grade_id": "9",
     "locked": true,
     "points": 3,
     "schema_version": 3,
     "solution": false,
     "task": false
    }
   },
   "outputs": [],
   "source": [
    "#Test cell-9 [3pt] Hidden tests\n",
    "#DO NOT MODIFY/DELETE THIS CELL \n",
    "\n",
    "assert round(roc_test,2)==0.85\n"
   ]
  },
  {
   "cell_type": "markdown",
   "id": "8ff1adea",
   "metadata": {
    "deletable": false,
    "editable": false,
    "nbgrader": {
     "cell_type": "markdown",
     "checksum": "144a7854cb2b017048d2805fdb772e3c",
     "grade": false,
     "grade_id": "Q3-2",
     "locked": true,
     "schema_version": 3,
     "solution": false,
     "task": false
    }
   },
   "source": [
    "### Q-3 [24 points] Please answer the following questions in the same order as listed here below:\n",
    "\n",
    "Use the values X_train, X_test, y_train, y_test provided below to answer the following questions.\n",
    "\n",
    "1. Use a GradientBoostingRegressor() to train a machine learning model to predict the continuous variable `y` (which was named target in the origional dataframe.\n",
    "\n",
    "\n",
    "2. Compute the r2 for the train and the test sets and assigning to the variables `r2_train` and `r2_test`, respectively.\n",
    "\n",
    "3. Compute the mean_absolute_percentage_error for the train and the test sets and assigning to the variables `mape_train` and `mape_test`, respectively.\n",
    "\n",
    "4. Create a very simple model which uses the mean value from the *training data* as the prediction for both the training `y_train_pred_s` and the test data `y_test_pred_s`, where both should be Pandas Series of the appropriate length.  \n",
    "\n",
    "5. Evaluate the R2 of `y_train_pred_s` (generating `r2_train_s`) and `y_test_pred_s` (generating `r2_test_s`).\n"
   ]
  },
  {
   "cell_type": "code",
   "execution_count": null,
   "id": "643d4f91",
   "metadata": {},
   "outputs": [],
   "source": [
    "from sklearn.model_selection import train_test_split\n",
    "df  = pd.read_csv(\"https://raw.githubusercontent.com/rpi-techfundamentals/website_fall_2022/master/site/public/data2.csv\")\n",
    "X = df.iloc[:,2:]\n",
    "y = df['target']\n",
    "X_train, X_test, y_train, y_test = train_test_split(X, y, test_size=0.7, random_state=0)\n"
   ]
  },
  {
   "cell_type": "code",
   "execution_count": null,
   "id": "5afe08cb",
   "metadata": {
    "deletable": false,
    "nbgrader": {
     "cell_type": "code",
     "checksum": "d10ef3723a7b359fb89c961523864b12",
     "grade": false,
     "grade_id": "Q3-2-SOL",
     "locked": false,
     "schema_version": 3,
     "solution": true,
     "task": false
    }
   },
   "outputs": [],
   "source": [
    "#Your solution here. Make sure the cell executes without errors. \n",
    "\n",
    "# YOUR CODE HERE\n",
    "raise NotImplementedError()"
   ]
  },
  {
   "cell_type": "code",
   "execution_count": null,
   "id": "5b12c7f6",
   "metadata": {
    "deletable": false,
    "editable": false,
    "nbgrader": {
     "cell_type": "code",
     "checksum": "4ccd008971d0be30510e8b1b5099b780",
     "grade": false,
     "grade_id": "varcheck3-2",
     "locked": true,
     "schema_version": 3,
     "solution": false,
     "task": false
    }
   },
   "outputs": [],
   "source": [
    "#This will test that you have not mislabeled a variable. \n",
    "assert 'r2_train' in globals()\n",
    "assert 'r2_test' in globals()\n",
    "assert 'mape_train' in globals()\n",
    "assert 'mape_test' in globals()\n",
    "assert 'y_train_pred_s' in globals()\n",
    "assert 'y_test_pred_s' in globals()\n",
    "assert 'r2_train_s' in globals()\n",
    "assert 'r2_test_s' in globals()\n"
   ]
  },
  {
   "cell_type": "code",
   "execution_count": null,
   "id": "455e05d7",
   "metadata": {
    "deletable": false,
    "editable": false,
    "nbgrader": {
     "cell_type": "code",
     "checksum": "451d967f44ebc14d40eef228295e3902",
     "grade": true,
     "grade_id": "10",
     "locked": true,
     "points": 3,
     "schema_version": 3,
     "solution": false,
     "task": false
    }
   },
   "outputs": [],
   "source": [
    "#Test cell-10 [3pt] Hidden tests\n",
    "#DO NOT MODIFY/DELETE THIS CELL \n",
    "\n",
    "\n",
    "assert round(r2_train,1)==0.6\n",
    "\n"
   ]
  },
  {
   "cell_type": "code",
   "execution_count": null,
   "id": "9bc2df16",
   "metadata": {
    "deletable": false,
    "editable": false,
    "nbgrader": {
     "cell_type": "code",
     "checksum": "393dfe689ae2724f9aa4eddc572b2ca4",
     "grade": true,
     "grade_id": "11",
     "locked": true,
     "points": 3,
     "schema_version": 3,
     "solution": false,
     "task": false
    }
   },
   "outputs": [],
   "source": [
    "#Test cell-11 [3pt] Hidden tests\n",
    "#DO NOT MODIFY/DELETE THIS CELL \n",
    "\n",
    "\n",
    "assert round(r2_test,1)==0.4\n"
   ]
  },
  {
   "cell_type": "code",
   "execution_count": null,
   "id": "b75613e9",
   "metadata": {
    "deletable": false,
    "editable": false,
    "nbgrader": {
     "cell_type": "code",
     "checksum": "cff1adaeddfe1ff3d40478d4e8cd1ced",
     "grade": true,
     "grade_id": "12",
     "locked": true,
     "points": 3,
     "schema_version": 3,
     "solution": false,
     "task": false
    }
   },
   "outputs": [],
   "source": [
    "#Test cell-12 [3pt] Hidden tests\n",
    "#DO NOT MODIFY/DELETE THIS CELL \n",
    "\n",
    "\n",
    "assert round(mape_train,0)==90\n"
   ]
  },
  {
   "cell_type": "code",
   "execution_count": null,
   "id": "ecc4c056",
   "metadata": {
    "deletable": false,
    "editable": false,
    "nbgrader": {
     "cell_type": "code",
     "checksum": "7dc934eb64ce68c8f0b097c5e3a34531",
     "grade": true,
     "grade_id": "13",
     "locked": true,
     "points": 3,
     "schema_version": 3,
     "solution": false,
     "task": false
    }
   },
   "outputs": [],
   "source": [
    "#Test cell-13 [3pt] Hidden tests\n",
    "#DO NOT MODIFY/DELETE THIS CELL \n",
    "\n",
    "assert round(mape_test,0)==114\n"
   ]
  },
  {
   "cell_type": "code",
   "execution_count": null,
   "id": "b2490edf",
   "metadata": {
    "deletable": false,
    "editable": false,
    "nbgrader": {
     "cell_type": "code",
     "checksum": "1c270f3712bffd0d30a405618021b59c",
     "grade": true,
     "grade_id": "14",
     "locked": true,
     "points": 3,
     "schema_version": 3,
     "solution": false,
     "task": false
    }
   },
   "outputs": [],
   "source": [
    "#Test cell-14 [3pt] Hidden tests\n",
    "#DO NOT MODIFY/DELETE THIS CELL \n",
    "\n",
    "\n",
    "assert round(r2_train_s,1)==0.0\n"
   ]
  },
  {
   "cell_type": "code",
   "execution_count": null,
   "id": "8b77d6a2",
   "metadata": {
    "deletable": false,
    "editable": false,
    "nbgrader": {
     "cell_type": "code",
     "checksum": "8626bd0714495fd95d7c918e2fa5b9a0",
     "grade": true,
     "grade_id": "15",
     "locked": true,
     "points": 3,
     "schema_version": 3,
     "solution": false,
     "task": false
    }
   },
   "outputs": [],
   "source": [
    "#Test cell-15 [3pt] Hidden tests\n",
    "#DO NOT MODIFY/DELETE THIS CELL \n",
    "\n",
    "\n",
    "assert round(r2_test_s,3)==-0.001\n"
   ]
  },
  {
   "cell_type": "code",
   "execution_count": null,
   "id": "c78d3d98",
   "metadata": {
    "deletable": false,
    "editable": false,
    "nbgrader": {
     "cell_type": "code",
     "checksum": "a9d7595cd2e86362fa349acbe7c28350",
     "grade": true,
     "grade_id": "16",
     "locked": true,
     "points": 3,
     "schema_version": 3,
     "solution": false,
     "task": false
    }
   },
   "outputs": [],
   "source": [
    "#Test cell-16 [3pt] Hidden tests\n",
    "#DO NOT MODIFY/DELETE THIS CELL \n",
    "\n",
    "\n",
    "assert len(y_train_pred_s)==3000\n"
   ]
  },
  {
   "cell_type": "code",
   "execution_count": null,
   "id": "f205af44",
   "metadata": {
    "deletable": false,
    "editable": false,
    "nbgrader": {
     "cell_type": "code",
     "checksum": "c2c0df10f9000274114ba3e33c5ba334",
     "grade": true,
     "grade_id": "17",
     "locked": true,
     "points": 3,
     "schema_version": 3,
     "solution": false,
     "task": false
    }
   },
   "outputs": [],
   "source": [
    "#Test cell-16 [3pt] Hidden tests\n",
    "#DO NOT MODIFY/DELETE THIS CELL \n",
    "\n",
    "\n",
    "assert len(y_test_pred_s)==7000\n"
   ]
  }
 ],
 "metadata": {
  "kernelspec": {
   "display_name": "Python 3",
   "language": "python",
   "name": "python3"
  },
  "language_info": {
   "codemirror_mode": {
    "name": "ipython",
    "version": 3
   },
   "file_extension": ".py",
   "mimetype": "text/x-python",
   "name": "python",
   "nbconvert_exporter": "python",
   "pygments_lexer": "ipython3",
   "version": "3.7.10"
  }
 },
 "nbformat": 4,
 "nbformat_minor": 5
}
