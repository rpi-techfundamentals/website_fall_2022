{
 "cells": [
  {
   "cell_type": "markdown",
   "metadata": {
    "deletable": false,
    "editable": false,
    "nbgrader": {
     "cell_type": "markdown",
     "checksum": "440345a5a8ad9305c6f6af81073cc840",
     "grade": false,
     "grade_id": "Description",
     "locked": true,
     "schema_version": 3,
     "solution": false,
     "task": false
    }
   },
   "source": [
    "##### Homework-4\n",
    "##### Total number of points: 50\n",
    "#### Due date: October 7, 2021\n",
    "\n",
    "Before you submit this homework, make sure everything runs as expected. First, restart the kernel (in the menu, select Kernel → Restart) and then run all cells (in the menubar, select Cell → Run All). You can discuss with others regarding the homework but all work must be your own.\n",
    "\n",
    "This homework will test your knowledge on data manipulation, manipulating strings and feature preprocessing. The Python notebooks shared will be helpful to solve these problems.  \n",
    "\n",
    "Steps to evaluate your solutions:\n",
    "\n",
    "Step-1: Try on Colab or Anaconda (Windows: https://docs.anaconda.com/anaconda/install/windows/ ; Mac:https://docs.anaconda.com/anaconda/install/mac-os/ ; Linux: https://docs.anaconda.com/anaconda/install/linux/)\n",
    "\n",
    "Step-2: Open the Jupyter Notebook by first launching the anaconda software console\n",
    "\n",
    "Step-3: Open the homework's .ipynb file and write your solutions at the appropriate location \"# YOUR CODE HERE\"\n",
    "\n",
    "Step-4: You can restart the kernel and click run all (in the menubar, select Cell → Run All) on the center-right on the top of this window.\n",
    "\n",
    "Step-5: Now go to \"File\" then click on \"Download as\" then click on \"Notebook (.ipynb)\" Please DO NOT change the file name and just keep it as \".ipynb\"\n",
    "\n",
    "Step-6: Go to lms.rpi.edu and upload your homework at the appropriate link to submit this homework.\n",
    "\n",
    "\n",
    "#### Please note that for any question in this assignment you will receive points ONLY if your solution passes all the test cases including hidden testcases as well. So please make sure you try to think all possible scenarios before submitting your answers.  \n",
    "- Note that hidden tests are present to ensure you are not hardcoding. \n",
    "- If caught cheating: \n",
    "    - you will receive a score of 0 for the 1st violation. \n",
    "    - for repeated incidents, you will receive an automatic 'F' grade and will be reported to the dean of Lally School of Management. "
   ]
  },
  {
   "cell_type": "markdown",
   "metadata": {
    "deletable": false,
    "editable": false,
    "nbgrader": {
     "cell_type": "markdown",
     "checksum": "4ef0a535f35c1f7e23842b75b8da43e2",
     "grade": false,
     "grade_id": "Q1-desc",
     "locked": true,
     "schema_version": 3,
     "solution": false,
     "task": false
    }
   },
   "source": [
    "#### Q1 [10 points]. Given the groundtruth or actual class labels `y_true` and the predicted class labels `y_pred`, \n",
    "#### build a confusion matrix without using any existing library to compute \n",
    "- `fp` false positives, \n",
    "- `tp` true positives, \n",
    "- `fn` false negatives and \n",
    "- `tn` true negatives. \n"
   ]
  },
  {
   "cell_type": "code",
   "execution_count": null,
   "metadata": {
    "deletable": false,
    "nbgrader": {
     "cell_type": "code",
     "checksum": "b26d4cfda12656936fb50bfdbbcf8f74",
     "grade": false,
     "grade_id": "Q1-sol",
     "locked": false,
     "schema_version": 3,
     "solution": true,
     "task": false
    }
   },
   "outputs": [],
   "source": [
    "\n",
    "y_true=[1, 1, 0, 0, 1, 1, 1, 1]\n",
    "y_pred=[1, 0, 0, 1, 1, 0, 1, 1]\n",
    "\n",
    "tp=0\n",
    "fp=0\n",
    "fn=0\n",
    "tn=0\n",
    "\n",
    "# YOUR CODE HERE\n",
    "raise NotImplementedError()\n"
   ]
  },
  {
   "cell_type": "code",
   "execution_count": null,
   "metadata": {
    "deletable": false,
    "editable": false,
    "nbgrader": {
     "cell_type": "code",
     "checksum": "065c310ffe19bde7b7f924f51745ed33",
     "grade": true,
     "grade_id": "Q1-tests",
     "locked": true,
     "points": 5,
     "schema_version": 3,
     "solution": false,
     "task": false
    }
   },
   "outputs": [],
   "source": [
    "#Please do not modify/delete this cell\n",
    "assert tp==4\n",
    "assert fp==1"
   ]
  },
  {
   "cell_type": "code",
   "execution_count": null,
   "metadata": {
    "deletable": false,
    "editable": false,
    "nbgrader": {
     "cell_type": "code",
     "checksum": "b4e25167aa30fc98b13774dd5187ba25",
     "grade": true,
     "grade_id": "Q1-tests2",
     "locked": true,
     "points": 5,
     "schema_version": 3,
     "solution": false,
     "task": false
    }
   },
   "outputs": [],
   "source": [
    "#Please do not modify/delete this cell\n"
   ]
  },
  {
   "cell_type": "markdown",
   "metadata": {
    "deletable": false,
    "editable": false,
    "nbgrader": {
     "cell_type": "markdown",
     "checksum": "91513a5e21d6859bfac7a5e213685b63",
     "grade": false,
     "grade_id": "Q2-desc",
     "locked": true,
     "schema_version": 3,
     "solution": false,
     "task": false
    }
   },
   "source": [
    "#### Q2 [5 points]. Given the `y_true` which is the groundtruth (or the actual class labels), create a list of predicted labels `y_pred` \n",
    "#### that reflects the respective worst-performing model where accuracy will be '0'. \n",
    "\n"
   ]
  },
  {
   "cell_type": "code",
   "execution_count": null,
   "metadata": {
    "deletable": false,
    "nbgrader": {
     "cell_type": "code",
     "checksum": "ffec44ef7d6a943d9209bb24a66b495a",
     "grade": false,
     "grade_id": "Q2-sol",
     "locked": false,
     "schema_version": 3,
     "solution": true,
     "task": false
    }
   },
   "outputs": [],
   "source": [
    "from sklearn.metrics import accuracy_score\n",
    "\n",
    "y_true = [1, 1, 1, 1, 1, 1, 1, 1]\n",
    "\n",
    "# YOUR CODE HERE\n",
    "raise NotImplementedError()"
   ]
  },
  {
   "cell_type": "code",
   "execution_count": null,
   "metadata": {
    "deletable": false,
    "editable": false,
    "nbgrader": {
     "cell_type": "code",
     "checksum": "a87f37e3be3750b7cf7851bf43e41160",
     "grade": true,
     "grade_id": "Q2-tests",
     "locked": true,
     "points": 5,
     "schema_version": 3,
     "solution": false,
     "task": false
    }
   },
   "outputs": [],
   "source": [
    "#Please do not modify/delete this cell\n",
    "assert accuracy_score(y_true, y_pred)==0"
   ]
  },
  {
   "cell_type": "markdown",
   "metadata": {
    "deletable": false,
    "editable": false,
    "nbgrader": {
     "cell_type": "markdown",
     "checksum": "cd87b484f811fdbdb8d2544860c368a7",
     "grade": false,
     "grade_id": "Q3-desc",
     "locked": true,
     "schema_version": 3,
     "solution": false,
     "task": false
    }
   },
   "source": [
    "#### Q3 [10 points]. More Calculations of Classification Performance \n",
    "\n",
    "By utilizing the proposed `y_prob` and `y_true` and using a threshold of 0.5 (where the class is 1 if the probability is >= 0.5 and 0 if the probability is < 0.5) calculate the predicted class `y_pred`. Compute the accuracy as `acc`, true positive rate as `tpr`, sensitivity value as `sens`, and Area Under the Receiver Operating Characteristic Curve (ROC AUC) as `auc`. \n",
    "\n",
    "**Hint, one of the evaluation functions takes the probability as an input.**\n"
   ]
  },
  {
   "cell_type": "code",
   "execution_count": null,
   "metadata": {
    "deletable": false,
    "nbgrader": {
     "cell_type": "code",
     "checksum": "8fa9d6de9e0b863c8da23cc7cfde2533",
     "grade": false,
     "grade_id": "Q3-sol",
     "locked": false,
     "schema_version": 3,
     "solution": true,
     "task": false
    }
   },
   "outputs": [],
   "source": [
    "y_true=[0, 1, 0, 0, 1, 1, 1, 0]\n",
    "y_prob=[0.40, 0.70, 0.20, 0.30, 0.40, 0.65, 0.70, 0.80]\n",
    "\n",
    "\n",
    "# YOUR CODE HERE\n",
    "raise NotImplementedError()"
   ]
  },
  {
   "cell_type": "code",
   "execution_count": null,
   "metadata": {
    "deletable": false,
    "editable": false,
    "nbgrader": {
     "cell_type": "code",
     "checksum": "c96739420af35685b06b74c9e6c92c29",
     "grade": true,
     "grade_id": "Q3-tests1",
     "locked": true,
     "points": 5,
     "schema_version": 3,
     "solution": false,
     "task": false
    }
   },
   "outputs": [],
   "source": [
    "#Please do not modify/delete this cell\n",
    "assert y_pred == [0, 1, 0, 0, 0, 1, 1, 1]\n",
    "assert round(acc,3)==0.75\n",
    "assert round(sens,3)==0.75\n",
    "assert round(tpr,3)==0.75"
   ]
  },
  {
   "cell_type": "code",
   "execution_count": null,
   "metadata": {
    "deletable": false,
    "editable": false,
    "nbgrader": {
     "cell_type": "code",
     "checksum": "ec01915e0494c2717447b64583b8ebfc",
     "grade": true,
     "grade_id": "Q3-tests2",
     "locked": true,
     "points": 5,
     "schema_version": 3,
     "solution": false,
     "task": false
    }
   },
   "outputs": [],
   "source": [
    "#Please do not modify/delete this cell\n",
    "assert round(auc,3)== 0.719"
   ]
  },
  {
   "cell_type": "code",
   "execution_count": null,
   "metadata": {
    "deletable": false,
    "editable": false,
    "nbgrader": {
     "cell_type": "code",
     "checksum": "65c85cd2098af532aaf95806b38d85ce",
     "grade": false,
     "grade_id": "download",
     "locked": true,
     "schema_version": 3,
     "solution": false,
     "task": false
    }
   },
   "outputs": [],
   "source": [
    "#Please do not modify/delete this cell\n",
    "import pandas as pd\n",
    "df=pd.read_csv('https://raw.githubusercontent.com/rpi-techfundamentals/website_fall_2021/master/site/public/titanic_processed_train3.csv')\n",
    "#View the dataframe\n",
    "df"
   ]
  },
  {
   "cell_type": "markdown",
   "metadata": {
    "deletable": false,
    "editable": false,
    "nbgrader": {
     "cell_type": "markdown",
     "checksum": "c572c63a16f485115b48abb48a77b80c",
     "grade": false,
     "grade_id": "q4-desc",
     "locked": true,
     "schema_version": 3,
     "solution": false,
     "task": false
    }
   },
   "source": [
    "### Q4 [10 points]. Evaluation\n",
    "\n",
    "Calculate the accuracy (`tacc`), precision(`tprec`), recall(`trecall`), and Area Under the Receiver Operating Characteristic Curve (ROC AUC) `tauc` for the dataframe `df`.  The predicted class is in the column `pred` and the predicted probability from the model is in the column `pred_prob`. "
   ]
  },
  {
   "cell_type": "code",
   "execution_count": null,
   "metadata": {
    "deletable": false,
    "nbgrader": {
     "cell_type": "code",
     "checksum": "e590848c16247d9c257f2d02a3644d2b",
     "grade": false,
     "grade_id": "q4-sol",
     "locked": false,
     "schema_version": 3,
     "solution": true,
     "task": false
    }
   },
   "outputs": [],
   "source": [
    "#Answer here\n",
    "\n",
    "\n",
    "\n",
    "# YOUR CODE HERE\n",
    "raise NotImplementedError()\n"
   ]
  },
  {
   "cell_type": "code",
   "execution_count": null,
   "metadata": {
    "deletable": false,
    "editable": false,
    "nbgrader": {
     "cell_type": "code",
     "checksum": "0eee5776fc4980060d51f53db6f88e27",
     "grade": true,
     "grade_id": "q4-test1",
     "locked": true,
     "points": 5,
     "schema_version": 3,
     "solution": false,
     "task": false
    }
   },
   "outputs": [],
   "source": [
    "#Please do not modify/delete this cell\n",
    "assert tacc>0 and tacc<1.0\n",
    "assert tprec>0 and tprec<1.0\n",
    "assert trecall>0 and trecall<1.0\n",
    "\n"
   ]
  },
  {
   "cell_type": "code",
   "execution_count": null,
   "metadata": {
    "deletable": false,
    "editable": false,
    "nbgrader": {
     "cell_type": "code",
     "checksum": "758bd7f8a0961ffe418b7afe7f2b4c0f",
     "grade": true,
     "grade_id": "q4-test2",
     "locked": true,
     "points": 5,
     "schema_version": 3,
     "solution": false,
     "task": false
    }
   },
   "outputs": [],
   "source": [
    "#Please do not modify/delete this cell"
   ]
  },
  {
   "cell_type": "markdown",
   "metadata": {
    "deletable": false,
    "editable": false,
    "nbgrader": {
     "cell_type": "markdown",
     "checksum": "a07dfcc2baaf2e7e0c1864e2dc0d24bd",
     "grade": false,
     "grade_id": "q5-desc",
     "locked": true,
     "schema_version": 3,
     "solution": false,
     "task": false
    }
   },
   "source": [
    "### Q5 Generate a Confusion Matrix\n",
    "\n",
    "Use the the standard module confusion_matrix function from Scikit Learn to find the confusion matrix, setting it equal to `cm`. \n",
    "\n",
    "Parse the confusion matrix to set the true postives equal to `cm_tp` and the true negatives equal to `cm_tn`. \n",
    "\n",
    "Documentation \n",
    "[https://scikit-learn.org/0.16/modules/generated/sklearn.metrics.confusion_matrix.html](https://scikit-learn.org/0.16/modules/generated/sklearn.metrics.confusion_matrix.html)\n",
    "\n",
    "\n"
   ]
  },
  {
   "cell_type": "code",
   "execution_count": null,
   "metadata": {
    "deletable": false,
    "nbgrader": {
     "cell_type": "code",
     "checksum": "6d08a1834d899874db41094c8e7b4741",
     "grade": false,
     "grade_id": "q5-sol",
     "locked": false,
     "schema_version": 3,
     "solution": true,
     "task": false
    }
   },
   "outputs": [],
   "source": [
    "from sklearn.metrics import confusion_matrix\n",
    "\n",
    "# YOUR CODE HERE\n",
    "raise NotImplementedError()\n"
   ]
  },
  {
   "cell_type": "code",
   "execution_count": null,
   "metadata": {
    "deletable": false,
    "editable": false,
    "nbgrader": {
     "cell_type": "code",
     "checksum": "4019dc7e69c93f9ae0dfab9cc6514543",
     "grade": true,
     "grade_id": "q5-test",
     "locked": true,
     "points": 5,
     "schema_version": 3,
     "solution": false,
     "task": false
    }
   },
   "outputs": [],
   "source": [
    "#Please do not modify/delete this cell\n",
    "assert len(cm)==2\n",
    "assert cm_tp>0\n",
    "assert cm_tn>0\n",
    "\n"
   ]
  },
  {
   "cell_type": "markdown",
   "metadata": {
    "deletable": false,
    "editable": false,
    "nbgrader": {
     "cell_type": "markdown",
     "checksum": "4f95c568487169840820b4e4ed60357f",
     "grade": false,
     "grade_id": "q6-desc",
     "locked": true,
     "schema_version": 3,
     "solution": false,
     "task": false
    }
   },
   "source": [
    "### q6 Evaluation - By Gender\n",
    "\n",
    "Conduct the same analysis as above, but for the different subgroups of men and women.\n",
    "\n",
    "##### Calculate Metrics for Men\n",
    "Calculate accuracy (`tacc_m`) and Area Under the Receiver Operating Characteristic Curve (ROC AUC) `tauc_m` for only the men.\n",
    "\n",
    "\n",
    "##### Calculate Metrics for Women\n",
    "Calculate accuracy (`tacc_w`) and Area Under the Receiver Operating Characteristic Curve (ROC AUC) `tauc_w` for only the women."
   ]
  },
  {
   "cell_type": "code",
   "execution_count": null,
   "metadata": {
    "deletable": false,
    "nbgrader": {
     "cell_type": "code",
     "checksum": "265beeae4dc060f95a2f100f09518f5e",
     "grade": false,
     "grade_id": "q6-sol",
     "locked": false,
     "schema_version": 3,
     "solution": true,
     "task": false
    }
   },
   "outputs": [],
   "source": [
    "#Your solution here. \n",
    "\n",
    "# YOUR CODE HERE\n",
    "raise NotImplementedError()"
   ]
  },
  {
   "cell_type": "code",
   "execution_count": null,
   "metadata": {
    "deletable": false,
    "editable": false,
    "nbgrader": {
     "cell_type": "code",
     "checksum": "cb4d1ed1ccf48a9b6ead675d0815fed1",
     "grade": true,
     "grade_id": "q6-tests1",
     "locked": true,
     "points": 5,
     "schema_version": 3,
     "solution": false,
     "task": false
    }
   },
   "outputs": [],
   "source": [
    "#Please do not modify/delete this cell\n",
    "assert len(cm)==2\n",
    "assert tacc_m>0\n",
    "assert tacc_fm>0"
   ]
  },
  {
   "cell_type": "code",
   "execution_count": null,
   "metadata": {
    "deletable": false,
    "editable": false,
    "nbgrader": {
     "cell_type": "code",
     "checksum": "463194385cd209f372ce8cd02a06e31b",
     "grade": true,
     "grade_id": "q6-tests2",
     "locked": true,
     "points": 5,
     "schema_version": 3,
     "solution": false,
     "task": false
    }
   },
   "outputs": [],
   "source": [
    "#Please do not modify/delete this cell"
   ]
  }
 ],
 "metadata": {
  "kernelspec": {
   "display_name": "Python 3",
   "language": "python",
   "name": "python3"
  },
  "language_info": {
   "codemirror_mode": {
    "name": "ipython",
    "version": 3
   },
   "file_extension": ".py",
   "mimetype": "text/x-python",
   "name": "python",
   "nbconvert_exporter": "python",
   "pygments_lexer": "ipython3",
   "version": "3.7.10"
  }
 },
 "nbformat": 4,
 "nbformat_minor": 4
}
