{
 "cells": [
  {
   "cell_type": "markdown",
   "metadata": {
    "deletable": false,
    "editable": false,
    "nbgrader": {
     "cell_type": "markdown",
     "checksum": "2bdbafe9fae1e0fa88f6bd5bd5e932d9",
     "grade": false,
     "grade_id": "cell-description",
     "locked": true,
     "schema_version": 3,
     "solution": false,
     "task": false
    }
   },
   "source": [
    "## Final Exam\n",
    "#### 81 Points\n",
    "#### Due date: Dec 17 7:30 PM\n",
    "\n",
    "Before you submit this homework, make sure everything runs as expected. First, restart the kernel (in the menu, select Kernel → Restart) and then run all cells (in the menubar, select Cell → Run All). You can discuss with others regarding the homework but all work must be your own.\n",
    "\n",
    "Steps to evaluate your solutions:\n",
    "\n",
    "Step-1: Try on Colab or Anaconda (Windows: https://docs.anaconda.com/anaconda/install/windows/ ; Mac:https://docs.anaconda.com/anaconda/install/mac-os/ ; Linux: https://docs.anaconda.com/anaconda/install/linux/)\n",
    "\n",
    "Step-2: Open the Jupyter Notebook by first launching the anaconda software console\n",
    "\n",
    "Step-3: Open the homework's .ipynb file and write your solutions at the appropriate location \"# YOUR CODE HERE\"\n",
    "\n",
    "Step-4: You can restart the kernel and click run all (in the menubar, select Cell → Run All) on the center-right on the top of this window.\n",
    "\n",
    "Step-5: Now go to \"File\" then click on \"Download as\" then click on \"Notebook (.ipynb)\" Please DO NOT change the file name and just keep it as \".ipynb\"\n",
    "\n",
    "Step-6: Go to lms.rpi.edu and upload your homework at the appropriate link to submit this homework.\n",
    "\n",
    "\n",
    "#### Please note that for any question in this assignment you will receive points ONLY if your solution passes all the test cases including hidden testcases as well. So please make sure you try to think all possible scenarios before submitting your answers.  \n",
    "- Note that hidden tests are present to ensure you are not hardcoding. \n",
    "- If caught cheating: \n",
    "    - you will receive a score of 0 for the 1st violation. \n",
    "    - for repeated incidents, you will receive an automatic 'F' grade and will be reported to the dean of Lally School of Management. "
   ]
  },
  {
   "cell_type": "code",
   "execution_count": null,
   "metadata": {
    "deletable": false,
    "editable": false,
    "nbgrader": {
     "cell_type": "code",
     "checksum": "232ea13031b82cb4ba85c675a0ed264a",
     "grade": false,
     "grade_id": "q1-setup",
     "locked": true,
     "schema_version": 3,
     "solution": false,
     "task": false
    }
   },
   "outputs": [],
   "source": [
    "#Please do not modify/delete this cell\n",
    "import pandas as pd\n",
    "pd.set_option('display.max_columns', None)\n",
    "df  = pd.read_csv(\"https://raw.githubusercontent.com/rpi-techfundamentals/website_fall_2021/master/site/public/data2.csv\")\n",
    "df\n"
   ]
  },
  {
   "cell_type": "markdown",
   "metadata": {
    "deletable": false,
    "editable": false,
    "nbgrader": {
     "cell_type": "markdown",
     "checksum": "85e4ab00868e65183aa43ba9d84c3703",
     "grade": false,
     "grade_id": "q1-desc",
     "locked": true,
     "schema_version": 3,
     "solution": false,
     "task": false
    }
   },
   "source": [
    "### Q1 [20 points]. Cluster Analysis  \n",
    "\n",
    "For the cluster analysis below use all variables in `df` except the `target` column. \n",
    "\n",
    "1. Using the KMEANS function to create a `kmeans` cluster mode in sklearn. Create columns in df called `kmeans_3` and `kmeans_5` which includes the cluster `labels` for a cluster analysis with `3` and `5` clusters. Use `random_state=100` as a parameter in the KMeans. \n",
    "\n",
    "\n",
    "2. Create a dictionary from the analysis in 1 called `inert` in which the key of the dictionary is the number of clusters (3 and 5 in `int` type) and the value is the sum of squared distances of samples to their closest cluster center (i.e., the inertia). \n",
    "\n",
    "#For example\n",
    "```\n",
    "inter[3] = <get the inertia for the model with 3 clusters>\n",
    "inter[5] = <get the intertia for the model with 5 clusters>\n",
    "\n",
    "```\n",
    "\n"
   ]
  },
  {
   "cell_type": "code",
   "execution_count": null,
   "metadata": {
    "deletable": false,
    "nbgrader": {
     "cell_type": "code",
     "checksum": "f614753ccd12d0907d9d1c7e65ba90c7",
     "grade": false,
     "grade_id": "q1-sol",
     "locked": false,
     "schema_version": 3,
     "solution": true,
     "task": false
    }
   },
   "outputs": [],
   "source": [
    "#Put your entire answer here in this cell. \n",
    "#It is ok to use other temporary cells while working but for final submission move all related code to this cell.\n",
    "\n",
    "# YOUR CODE HERE\n",
    "raise NotImplementedError()\n"
   ]
  },
  {
   "cell_type": "code",
   "execution_count": null,
   "metadata": {
    "deletable": false,
    "editable": false,
    "nbgrader": {
     "cell_type": "code",
     "checksum": "2755f932a0919bb5b3ea4ea716aa3a23",
     "grade": false,
     "grade_id": "q1-helper",
     "locked": true,
     "schema_version": 3,
     "solution": false,
     "task": false
    }
   },
   "outputs": [],
   "source": [
    "#These are helper tests to make sure you have answers.  If this fails, please check your naming. \n",
    "assert 'kmeans_3' in df.columns\n",
    "assert 'kmeans_5' in df.columns\n",
    "assert 'inert' in globals()"
   ]
  },
  {
   "cell_type": "code",
   "execution_count": null,
   "metadata": {
    "deletable": false,
    "editable": false,
    "nbgrader": {
     "cell_type": "code",
     "checksum": "f3d221db5af8664b2594bc9f4d7e7ac3",
     "grade": true,
     "grade_id": "q1-tests1",
     "locked": true,
     "points": 5,
     "schema_version": 3,
     "solution": false,
     "task": false
    }
   },
   "outputs": [],
   "source": [
    "#Please do not modify/delete this cell"
   ]
  },
  {
   "cell_type": "code",
   "execution_count": null,
   "metadata": {
    "deletable": false,
    "editable": false,
    "nbgrader": {
     "cell_type": "code",
     "checksum": "d224b7cbb3db7ce9b02bc8418e7e6504",
     "grade": true,
     "grade_id": "q1-tests2",
     "locked": true,
     "points": 5,
     "schema_version": 3,
     "solution": false,
     "task": false
    }
   },
   "outputs": [],
   "source": [
    "#Please do not modify/delete this cell"
   ]
  },
  {
   "cell_type": "code",
   "execution_count": null,
   "metadata": {
    "deletable": false,
    "editable": false,
    "nbgrader": {
     "cell_type": "code",
     "checksum": "5d0a57fed4154feff41a6735200f2fd9",
     "grade": true,
     "grade_id": "q1-tests3",
     "locked": true,
     "points": 5,
     "schema_version": 3,
     "solution": false,
     "task": false
    }
   },
   "outputs": [],
   "source": [
    "#Please do not modify/delete this cell"
   ]
  },
  {
   "cell_type": "code",
   "execution_count": null,
   "metadata": {
    "deletable": false,
    "editable": false,
    "nbgrader": {
     "cell_type": "code",
     "checksum": "a7a37836f0fa6fa5ae6581fb7e3ed197",
     "grade": true,
     "grade_id": "q1-tests4",
     "locked": true,
     "points": 5,
     "schema_version": 3,
     "solution": false,
     "task": false
    }
   },
   "outputs": [],
   "source": [
    "#Please do not modify/delete this cell"
   ]
  },
  {
   "cell_type": "code",
   "execution_count": null,
   "metadata": {
    "deletable": false,
    "editable": false,
    "nbgrader": {
     "cell_type": "code",
     "checksum": "49949f3efd6c7a5d34778403c936630f",
     "grade": false,
     "grade_id": "q2-setup",
     "locked": true,
     "schema_version": 3,
     "solution": false,
     "task": false
    }
   },
   "outputs": [],
   "source": [
    "#Please do not modify/delete this cell\n",
    "#Reload data\n",
    "import pandas as pd\n",
    "from sklearn.model_selection import train_test_split\n",
    "df_q2= pd.read_csv(\"https://raw.githubusercontent.com/rpi-techfundamentals/website_fall_2021/master/site/public/data2.csv\")\n",
    "train_X, test_X, train_y, test_y = train_test_split(df_q2.iloc[:,1:], df_q2['target'], \n",
    "                                                    train_size=0.7,\n",
    "                                                    test_size=0.3,\n",
    "                                                    random_state=122)\n"
   ]
  },
  {
   "cell_type": "markdown",
   "metadata": {
    "deletable": false,
    "editable": false,
    "nbgrader": {
     "cell_type": "markdown",
     "checksum": "7d0f1212d4d8fd33230cf790372d85db",
     "grade": false,
     "grade_id": "q2-desc",
     "locked": true,
     "schema_version": 3,
     "solution": false,
     "task": false
    }
   },
   "source": [
    "## Q2 [21 points]. GBM Regressor\n",
    "\n",
    "Using the training and test data provided (`train_X`, `test_X`, `train_y`, `test_y`), use the `sklearn.ensemble.GradientBoostingRegressor` with `random_state = 100`.\n",
    "\n",
    "1. Calculate the r-squared for both the `train` and the `test` set and assign to `gbm_r2_train` and `gbm_r2_test`, respectively.\n",
    "\n",
    "2. Calculate the mean absolute error for both the `train` and the `test` set and assign to `gbm_mae_train` and `gbm_mae_test`, respectively.\n",
    "\n",
    "3. Create a varaible `gbm_most_important` and indicate the column name of the most important column from the GradientBoostingRegressor analysis. \n"
   ]
  },
  {
   "cell_type": "code",
   "execution_count": null,
   "metadata": {
    "deletable": false,
    "nbgrader": {
     "cell_type": "code",
     "checksum": "748a7fb2d1882b9e4df8745de70b26f4",
     "grade": false,
     "grade_id": "q2-solution",
     "locked": false,
     "schema_version": 3,
     "solution": true,
     "task": false
    }
   },
   "outputs": [],
   "source": [
    "#Put your entire answer here in this cell. \n",
    "#It is ok to use other temporary cells while working but for final submission move all related code to this cell.\n",
    "\n",
    "# YOUR CODE HERE\n",
    "raise NotImplementedError()"
   ]
  },
  {
   "cell_type": "code",
   "execution_count": null,
   "metadata": {
    "deletable": false,
    "editable": false,
    "nbgrader": {
     "cell_type": "code",
     "checksum": "72eaf5c0b31205e9aa5645c6447ae39d",
     "grade": false,
     "grade_id": "q2-helper",
     "locked": true,
     "schema_version": 3,
     "solution": false,
     "task": false
    }
   },
   "outputs": [],
   "source": [
    "#These are helper tests to make sure you have answers.  If this fails, please check your naming. \n",
    "assert 'gbm_mae_train' in globals()\n",
    "assert 'gbm_mae_test' in globals()\n",
    "assert 'gbm_r2_test' in globals()\n",
    "assert 'gbm_r2_train' in globals()\n",
    "assert 'gbm_most_important' in globals()"
   ]
  },
  {
   "cell_type": "code",
   "execution_count": null,
   "metadata": {
    "deletable": false,
    "editable": false,
    "nbgrader": {
     "cell_type": "code",
     "checksum": "a7e437051a817e45dca372c7cacc2d7f",
     "grade": true,
     "grade_id": "q2-tests1",
     "locked": true,
     "points": 3.5,
     "schema_version": 3,
     "solution": false,
     "task": false
    }
   },
   "outputs": [],
   "source": [
    "#Please do not modify/delete this cell"
   ]
  },
  {
   "cell_type": "code",
   "execution_count": null,
   "metadata": {
    "deletable": false,
    "editable": false,
    "nbgrader": {
     "cell_type": "code",
     "checksum": "3cd0f6548ac1d80cf345d59f828ff872",
     "grade": true,
     "grade_id": "q2-tests2",
     "locked": true,
     "points": 3.5,
     "schema_version": 3,
     "solution": false,
     "task": false
    }
   },
   "outputs": [],
   "source": [
    "#Please do not modify/delete this cell"
   ]
  },
  {
   "cell_type": "code",
   "execution_count": null,
   "metadata": {
    "deletable": false,
    "editable": false,
    "nbgrader": {
     "cell_type": "code",
     "checksum": "03ec7241d943ff9ebf385d571ae11d1b",
     "grade": true,
     "grade_id": "q2-tests3",
     "locked": true,
     "points": 3.5,
     "schema_version": 3,
     "solution": false,
     "task": false
    }
   },
   "outputs": [],
   "source": [
    "#Please do not modify/delete this cell"
   ]
  },
  {
   "cell_type": "code",
   "execution_count": null,
   "metadata": {
    "deletable": false,
    "editable": false,
    "nbgrader": {
     "cell_type": "code",
     "checksum": "4d45743daeb2b0f90dcd01253b3bf667",
     "grade": true,
     "grade_id": "q2-tests4",
     "locked": true,
     "points": 3.5,
     "schema_version": 3,
     "solution": false,
     "task": false
    }
   },
   "outputs": [],
   "source": [
    "#Please do not modify/delete this cell"
   ]
  },
  {
   "cell_type": "code",
   "execution_count": null,
   "metadata": {
    "deletable": false,
    "editable": false,
    "nbgrader": {
     "cell_type": "code",
     "checksum": "47082bc492d716756327865de5b43586",
     "grade": true,
     "grade_id": "q2-tests5",
     "locked": true,
     "points": 7,
     "schema_version": 3,
     "solution": false,
     "task": false
    }
   },
   "outputs": [],
   "source": [
    "#Please do not modify/delete this cell"
   ]
  },
  {
   "cell_type": "markdown",
   "metadata": {
    "deletable": false,
    "editable": false,
    "nbgrader": {
     "cell_type": "markdown",
     "checksum": "3dd175b5fcd77ca772b10284a0e6d648",
     "grade": false,
     "grade_id": "q3-desc",
     "locked": true,
     "schema_version": 3,
     "solution": false,
     "task": false
    }
   },
   "source": [
    "### Q3 [15 points] Regression\n",
    "Using the  `df_q2` dataframe, use the `sklearn.linear_model.LinearRegression` to do linear regression.\n",
    "\n",
    "1. Calculate the r-squared for both the `train` and the `test` set and assign to `reg_r2_train` and `reg_r2_test`, respectively.\n",
    "\n",
    "2. Calculate the mean absolute error for both the `train` and the `test` set and assign to `reg_mae_train` and `reg_mae_test`, respectively.\n",
    "\n",
    "3. From you regression model, get the  beta coefficient of the column `treatment` and set it to the variable  `treat_coef`. \n",
    "\n",
    "4. Based on the coefficient (don't worry about significance) does the treatment tend to `increase` or `decrease` the `target`? Set the value of `treat_dir` to your answer. \n",
    "\n",
    "\n",
    "\n"
   ]
  },
  {
   "cell_type": "code",
   "execution_count": null,
   "metadata": {
    "deletable": false,
    "nbgrader": {
     "cell_type": "code",
     "checksum": "4c45feff68ff3e0f7d07af8c4ce89256",
     "grade": false,
     "grade_id": "q3-solution",
     "locked": false,
     "schema_version": 3,
     "solution": true,
     "task": false
    }
   },
   "outputs": [],
   "source": [
    "#Put your entire answer here in this cell. \n",
    "#It is ok to use other temporary cells while working but for final submission move all related code to this cell.\n",
    "\n",
    "\n",
    "# YOUR CODE HERE\n",
    "raise NotImplementedError()"
   ]
  },
  {
   "cell_type": "code",
   "execution_count": null,
   "metadata": {
    "deletable": false,
    "editable": false,
    "nbgrader": {
     "cell_type": "code",
     "checksum": "9e2c48f8f6ea0b2b6f735470a3d0b0f6",
     "grade": false,
     "grade_id": "q3-helper",
     "locked": true,
     "schema_version": 3,
     "solution": false,
     "task": false
    }
   },
   "outputs": [],
   "source": [
    "#These are helper tests to make sure you have answers.  If this fails, please check your naming. \n",
    "assert 'reg_mae_train' in globals()\n",
    "assert 'reg_mae_test' in globals()\n",
    "assert 'reg_r2_test' in globals()\n",
    "assert 'reg_r2_train' in globals()\n",
    "assert 'treat_coef' in globals()\n",
    "assert treat_dir in ['increase','decrease']"
   ]
  },
  {
   "cell_type": "code",
   "execution_count": null,
   "metadata": {
    "deletable": false,
    "editable": false,
    "nbgrader": {
     "cell_type": "code",
     "checksum": "db1651e21b82a21dd3eddcc5c0333c40",
     "grade": true,
     "grade_id": "q3-tests1",
     "locked": true,
     "points": 5,
     "schema_version": 3,
     "solution": false,
     "task": false
    }
   },
   "outputs": [],
   "source": [
    "#Please do not modify/delete this cell\n"
   ]
  },
  {
   "cell_type": "code",
   "execution_count": null,
   "metadata": {
    "deletable": false,
    "editable": false,
    "nbgrader": {
     "cell_type": "code",
     "checksum": "840db3ce3d08acc584961273d6023898",
     "grade": true,
     "grade_id": "q3-tests2",
     "locked": true,
     "points": 5,
     "schema_version": 3,
     "solution": false,
     "task": false
    }
   },
   "outputs": [],
   "source": [
    "#Please do not modify/delete this cell"
   ]
  },
  {
   "cell_type": "code",
   "execution_count": null,
   "metadata": {
    "deletable": false,
    "editable": false,
    "nbgrader": {
     "cell_type": "code",
     "checksum": "a2e0dc2c6e4af4cd39a585c4b5ce8512",
     "grade": true,
     "grade_id": "q3-tests3",
     "locked": true,
     "points": 5,
     "schema_version": 3,
     "solution": false,
     "task": false
    }
   },
   "outputs": [],
   "source": [
    "#Please do not modify/delete this cell"
   ]
  },
  {
   "cell_type": "code",
   "execution_count": null,
   "metadata": {
    "deletable": false,
    "editable": false,
    "nbgrader": {
     "cell_type": "code",
     "checksum": "2fa420e807a944043b2e3a16a523cfb5",
     "grade": true,
     "grade_id": "q3-tests4",
     "locked": true,
     "points": 5,
     "schema_version": 3,
     "solution": false,
     "task": false
    }
   },
   "outputs": [],
   "source": [
    "#Please do not modify/delete this cell"
   ]
  },
  {
   "cell_type": "markdown",
   "metadata": {
    "deletable": false,
    "editable": false,
    "nbgrader": {
     "cell_type": "markdown",
     "checksum": "af21a163c21b60b4eeb5c486ebe3e5a9",
     "grade": false,
     "grade_id": "q4-overview",
     "locked": true,
     "schema_version": 3,
     "solution": false,
     "task": false
    }
   },
   "source": [
    "#### Q4[15 points]. Deep Learning. \n",
    "\n",
    "Build a 4-layer neural network called `model`:\n",
    "\n",
    "- Layer 0 is a normalization layer.\n",
    "- Layer 1 is a dense layer with 100 nodes and relu activation\n",
    "- Layer 2 is a dense layer with 100 nodes and relu activation\n",
    "- Layer 3 is the final dense layer with 1 output. \n",
    "\n",
    "\n",
    "Use the `adam` optimizer and `mean_absolute_error` as the loss function with `epochs`=175.\n",
    "\n",
    "Also, evaluate the model. Calculate `deep_r2_train`, `deep_mae_train`,  `deep_r2_test`, and   `deep_mae_test`.  \n",
    "\n"
   ]
  },
  {
   "cell_type": "code",
   "execution_count": null,
   "metadata": {
    "deletable": false,
    "nbgrader": {
     "cell_type": "code",
     "checksum": "9fb2cf9389ee050dd8985df0ac8413fc",
     "grade": false,
     "grade_id": "q4-sol",
     "locked": false,
     "schema_version": 3,
     "solution": true,
     "task": false
    }
   },
   "outputs": [],
   "source": [
    "#Put your entire answer here in this cell. \n",
    "#It is ok to use other temporary cells while working but for final submission move all related code to this cell.\n",
    "\n",
    "\n",
    "# YOUR CODE HERE\n",
    "raise NotImplementedError()\n",
    "\n"
   ]
  },
  {
   "cell_type": "code",
   "execution_count": null,
   "metadata": {
    "deletable": false,
    "editable": false,
    "nbgrader": {
     "cell_type": "code",
     "checksum": "0ed74b11f5055a7d3cbc7c22352bf798",
     "grade": false,
     "grade_id": "q4-help",
     "locked": true,
     "schema_version": 3,
     "solution": false,
     "task": false
    }
   },
   "outputs": [],
   "source": [
    "assert 'model' in globals()\n",
    "assert 'deep_r2_train' in globals()\n",
    "assert 'deep_mae_train' in globals()\n",
    "assert 'deep_r2_test' in globals()\n",
    "assert 'deep_mae_test' in globals()\n"
   ]
  },
  {
   "cell_type": "code",
   "execution_count": null,
   "metadata": {
    "deletable": false,
    "editable": false,
    "nbgrader": {
     "cell_type": "code",
     "checksum": "7eb8a3ac7dfc5e7507ce10537e503e94",
     "grade": true,
     "grade_id": "q4-tests1",
     "locked": true,
     "points": 5,
     "schema_version": 3,
     "solution": false,
     "task": false
    }
   },
   "outputs": [],
   "source": [
    "#Please do not modify/delete this cell"
   ]
  },
  {
   "cell_type": "code",
   "execution_count": null,
   "metadata": {
    "deletable": false,
    "editable": false,
    "nbgrader": {
     "cell_type": "code",
     "checksum": "85a236641706428b932a71834679282c",
     "grade": true,
     "grade_id": "q4-tests2",
     "locked": true,
     "points": 5,
     "schema_version": 3,
     "solution": false,
     "task": false
    }
   },
   "outputs": [],
   "source": [
    "#Please do not modify/delete this cell"
   ]
  },
  {
   "cell_type": "code",
   "execution_count": null,
   "metadata": {
    "deletable": false,
    "editable": false,
    "nbgrader": {
     "cell_type": "code",
     "checksum": "e49029933f1e46e78040f26fef84850e",
     "grade": true,
     "grade_id": "q4-tests3",
     "locked": true,
     "points": 5,
     "schema_version": 3,
     "solution": false,
     "task": false
    }
   },
   "outputs": [],
   "source": [
    "#Please do not modify/delete this cell"
   ]
  },
  {
   "cell_type": "code",
   "execution_count": null,
   "metadata": {
    "deletable": false,
    "editable": false,
    "nbgrader": {
     "cell_type": "code",
     "checksum": "58564d0a1cdf0db30cb08dedfa10118d",
     "grade": true,
     "grade_id": "q4-tests4",
     "locked": true,
     "points": 5,
     "schema_version": 3,
     "solution": false,
     "task": false
    }
   },
   "outputs": [],
   "source": [
    "#Please do not modify/delete this cell"
   ]
  },
  {
   "cell_type": "markdown",
   "metadata": {
    "deletable": false,
    "editable": false,
    "nbgrader": {
     "cell_type": "markdown",
     "checksum": "2eddd94a0f30b83d8f38322481f1db2e",
     "grade": false,
     "grade_id": "q5-desc",
     "locked": true,
     "schema_version": 3,
     "solution": false,
     "task": false
    }
   },
   "source": [
    "#### Q5 [17.5 points]. Comparison\n",
    "\n",
    "For each of the questions below, reply with the available options in `()`. Even if you didn't get all models to work, at least make a guess. Hint: The intuition of what you might expect for the 3 different models is correct. \n",
    "\n",
    "`q5a`  Which is a linear model? (`gbm` or `reg` or `deep`)\n",
    "\n",
    "`q5b`  Which is actually make up of many different models working together (an ensemble model) (`gbm` or `reg` or `deep`)?\n",
    "\n",
    "`q5c`  Which performs better from a prediction standpoint (`gbm` or `reg` or `deep`)? \n",
    "\n",
    "`q5d`  Which gives you an understanding of the direction of the treatment on the target (`gbm` or `reg` or `deep`)?\n",
    "\n",
    "`q5e`  Which shows more evidence of overfitting between train and test (`gbm` or `reg` or `deep`)? \n",
    "\n",
    "\n",
    "`q5f`  Which model has the most parameters?(`gbm` or `reg` or `deep`)\n",
    "\n",
    "`q5g`  The importance metric from a GBM analysis is always very highly correlated with the coefficients from a regression analysis (`True` or `False`).\n",
    " \n"
   ]
  },
  {
   "cell_type": "code",
   "execution_count": null,
   "metadata": {
    "deletable": false,
    "nbgrader": {
     "cell_type": "code",
     "checksum": "27019d8dfea4d9464158b6a1e1e6349a",
     "grade": false,
     "grade_id": "q5-sol",
     "locked": false,
     "schema_version": 3,
     "solution": true,
     "task": false
    }
   },
   "outputs": [],
   "source": [
    "#Put your entire answer here in this cell. \n",
    "#It is ok to use other temporary cells while working but for final submission move all related code to this cell.\n",
    "\n",
    "\n",
    "# YOUR CODE HERE\n",
    "raise NotImplementedError()\n"
   ]
  },
  {
   "cell_type": "code",
   "execution_count": null,
   "metadata": {
    "deletable": false,
    "editable": false,
    "nbgrader": {
     "cell_type": "code",
     "checksum": "f4b5bf88265abe97fae6926436872691",
     "grade": false,
     "grade_id": "q5-helper",
     "locked": true,
     "schema_version": 3,
     "solution": false,
     "task": false
    }
   },
   "outputs": [],
   "source": [
    "#These are helper tests to make sure you have answers.  If this fails, please check your naming. \n",
    "assert q5a in ['reg','gbm','deep']\n",
    "assert q5b in ['reg','gbm','deep']\n",
    "assert q5c in ['reg','gbm','deep']\n",
    "assert q5d in ['reg','gbm','deep']\n",
    "assert q5e in ['reg','gbm','deep']\n",
    "assert q5f in ['reg','gbm','deep']\n",
    "assert q5g in ['True','False']"
   ]
  },
  {
   "cell_type": "code",
   "execution_count": null,
   "metadata": {
    "deletable": false,
    "editable": false,
    "nbgrader": {
     "cell_type": "code",
     "checksum": "29bbe921ed6283d24666cf070b744101",
     "grade": true,
     "grade_id": "q5-tests1",
     "locked": true,
     "points": 2.5,
     "schema_version": 3,
     "solution": false,
     "task": false
    }
   },
   "outputs": [],
   "source": [
    "#Please do not modify/delete this cell"
   ]
  },
  {
   "cell_type": "code",
   "execution_count": null,
   "metadata": {
    "deletable": false,
    "editable": false,
    "nbgrader": {
     "cell_type": "code",
     "checksum": "a67030668954292b474801a8a6307b2b",
     "grade": true,
     "grade_id": "q5-tests2",
     "locked": true,
     "points": 2.5,
     "schema_version": 3,
     "solution": false,
     "task": false
    }
   },
   "outputs": [],
   "source": [
    "#Please do not modify/delete this cell"
   ]
  },
  {
   "cell_type": "code",
   "execution_count": null,
   "metadata": {
    "deletable": false,
    "editable": false,
    "nbgrader": {
     "cell_type": "code",
     "checksum": "a22a876593c5f4f8464729fb278aa8fa",
     "grade": true,
     "grade_id": "q5-tests3",
     "locked": true,
     "points": 2.5,
     "schema_version": 3,
     "solution": false,
     "task": false
    }
   },
   "outputs": [],
   "source": [
    "#Please do not modify/delete this cell"
   ]
  },
  {
   "cell_type": "code",
   "execution_count": null,
   "metadata": {
    "deletable": false,
    "editable": false,
    "nbgrader": {
     "cell_type": "code",
     "checksum": "1e9c20e6c47c291df228a688981886c8",
     "grade": true,
     "grade_id": "q5-tests4",
     "locked": true,
     "points": 2.5,
     "schema_version": 3,
     "solution": false,
     "task": false
    }
   },
   "outputs": [],
   "source": [
    "#Please do not modify/delete this cell"
   ]
  },
  {
   "cell_type": "code",
   "execution_count": null,
   "metadata": {
    "deletable": false,
    "editable": false,
    "nbgrader": {
     "cell_type": "code",
     "checksum": "9e65f41948fcd896d38f3f4e1d05938f",
     "grade": true,
     "grade_id": "q5-tests5",
     "locked": true,
     "points": 2.5,
     "schema_version": 3,
     "solution": false,
     "task": false
    }
   },
   "outputs": [],
   "source": [
    "#Please do not modify/delete this cell"
   ]
  },
  {
   "cell_type": "code",
   "execution_count": null,
   "metadata": {
    "deletable": false,
    "editable": false,
    "nbgrader": {
     "cell_type": "code",
     "checksum": "294834d0c6d22304337bdf98b02b9d2d",
     "grade": true,
     "grade_id": "q5-tests6",
     "locked": true,
     "points": 2.5,
     "schema_version": 3,
     "solution": false,
     "task": false
    }
   },
   "outputs": [],
   "source": [
    "#Please do not modify/delete this cell"
   ]
  },
  {
   "cell_type": "code",
   "execution_count": null,
   "metadata": {
    "deletable": false,
    "editable": false,
    "nbgrader": {
     "cell_type": "code",
     "checksum": "1402a147e7f5d803ebae897db9d60f36",
     "grade": true,
     "grade_id": "q5-tests7",
     "locked": true,
     "points": 2.5,
     "schema_version": 3,
     "solution": false,
     "task": false
    }
   },
   "outputs": [],
   "source": [
    "#Please do not modify/delete this cell"
   ]
  }
 ],
 "metadata": {
  "kernelspec": {
   "display_name": "Python 3",
   "language": "python",
   "name": "python3"
  },
  "language_info": {
   "codemirror_mode": {
    "name": "ipython",
    "version": 3
   },
   "file_extension": ".py",
   "mimetype": "text/x-python",
   "name": "python",
   "nbconvert_exporter": "python",
   "pygments_lexer": "ipython3",
   "version": "3.7.10"
  }
 },
 "nbformat": 4,
 "nbformat_minor": 4
}
