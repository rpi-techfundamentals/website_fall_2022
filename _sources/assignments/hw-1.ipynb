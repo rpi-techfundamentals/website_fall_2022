{
 "cells": [
  {
   "cell_type": "markdown",
   "metadata": {
    "deletable": false,
    "editable": false,
    "nbgrader": {
     "cell_type": "markdown",
     "checksum": "7de893fbf63fe5baeb58307eaf41d4ea",
     "grade": false,
     "grade_id": "Description",
     "locked": true,
     "schema_version": 3,
     "solution": false,
     "task": false
    }
   },
   "source": [
    "#### Homework-1\n",
    "##### Total number of points: 50\n",
    "#### Due date: September 9th 2021\n",
    "\n",
    "Before you submit this homework, make sure everything runs as expected. First, restart the kernel (in the menu, select Kernel → Restart) and then run all cells (in the menubar, select Cell → Run All). You can discuss with others regarding the homework but all work must be your own.\n",
    "\n",
    "This homework will test your knowledge on basics of Python. The Python notebooks shared will be helpful to solve these problems.  \n",
    "\n",
    "Steps to evaluate your solutions:\n",
    "\n",
    "Step-1: Ensure you have installed Anaconda (Windows: https://docs.anaconda.com/anaconda/install/windows/ ; Mac:https://docs.anaconda.com/anaconda/install/mac-os/ ; Linux: https://docs.anaconda.com/anaconda/install/linux/)\n",
    "\n",
    "Step-2: Open the Jupyter Notebook by first launching the anaconda software console\n",
    "\n",
    "Step-3: Open the hw1.ipynb file and write your solutions at the appropriate location \"# YOUR CODE HERE\"\n",
    "\n",
    "Step-4: You can restart the kernel and click run all (in the menubar, select Cell → Run All) on the center-right on the top of this window.\n",
    "\n",
    "Step-5: Now go to \"File\" then click on \"Download as\" then click on \"Notebook (.ipynb)\" Please DO NOT change the file name and just keep it as \"hw1.ipynb\"\n",
    "\n",
    "Step-6: Go to lms.rpi.edu and upload your homework at the appropriate link to submit this homework.\n",
    "\n",
    "#### Please note that for any question in this assignment you will receive points ONLY if your solution passes all the test cases including hidden testcases as well. So please make sure you try to think all possible scenarios before submitting your answers.  \n",
    "- Note that hidden tests are present to ensure you are not hardcoding. \n",
    "- If caught cheating: \n",
    "    - you will receive a score of 0 for the 1st violation. \n",
    "    - for repeated incidents, you will receive an automatic 'F' grade and will be reported to the dean of Lally School of Management. "
   ]
  },
  {
   "cell_type": "markdown",
   "metadata": {
    "deletable": false,
    "editable": false,
    "nbgrader": {
     "cell_type": "markdown",
     "checksum": "b7863cc0e1aa9ed60437fcaf4bc585e5",
     "grade": false,
     "grade_id": "q1-desc",
     "locked": true,
     "schema_version": 3,
     "solution": false,
     "task": false
    }
   },
   "source": [
    "#### Q1[5 points]. Assign the value for `x` to `150`. Set the value for `y` to `15` times `x` , and set the value for `z` to `y` divided by `x^2` (square of `x`)."
   ]
  },
  {
   "cell_type": "code",
   "execution_count": null,
   "metadata": {
    "deletable": false,
    "nbgrader": {
     "cell_type": "code",
     "checksum": "2685efad3926e00456ae6b41faf11d12",
     "grade": false,
     "grade_id": "q1-sol",
     "locked": false,
     "schema_version": 3,
     "solution": true,
     "task": false
    }
   },
   "outputs": [],
   "source": [
    "#Assign x; y; z\n",
    "\n",
    "# YOUR CODE HERE\n",
    "raise NotImplementedError()"
   ]
  },
  {
   "cell_type": "code",
   "execution_count": null,
   "metadata": {
    "deletable": false,
    "editable": false,
    "nbgrader": {
     "cell_type": "code",
     "checksum": "8b334b586a210b0bac074e8f65ce08f5",
     "grade": true,
     "grade_id": "q1-tests",
     "locked": true,
     "points": 5,
     "schema_version": 3,
     "solution": false,
     "task": false
    }
   },
   "outputs": [],
   "source": [
    "assert x==150\n",
    "assert y==2250\n",
    "assert z==0.1"
   ]
  },
  {
   "cell_type": "markdown",
   "metadata": {
    "deletable": false,
    "editable": false,
    "nbgrader": {
     "cell_type": "markdown",
     "checksum": "eecbd5028dd471b1bf1ca8ae40677b29",
     "grade": false,
     "grade_id": "q21-desc",
     "locked": true,
     "schema_version": 3,
     "solution": false,
     "task": false
    }
   },
   "source": [
    "#### Q2-1 [5 points]: \n",
    "\n",
    "- Create an empty list `li1`\n",
    "- Create a list `li2` with integers 1, 2, 3\n",
    "- Create a nested list `li3` with `li1` and `li2`\n",
    "- Create a list `li4` with only `4` repeated 3 times.\n",
    "- Create a list `li5` with your firstName and lastName as two separate strings -- for example, li5 that I will build will be ['lydia', 'manikonda']\n"
   ]
  },
  {
   "cell_type": "code",
   "execution_count": null,
   "metadata": {
    "deletable": false,
    "nbgrader": {
     "cell_type": "code",
     "checksum": "dbe013b48499157e9d462aa1c72adfa0",
     "grade": false,
     "grade_id": "q21-sol",
     "locked": false,
     "schema_version": 3,
     "solution": true,
     "task": false
    }
   },
   "outputs": [],
   "source": [
    "#Need to create li1, li2, li3, li4, li5 according to the instructions\n",
    "\n",
    "# YOUR CODE HERE\n",
    "raise NotImplementedError()"
   ]
  },
  {
   "cell_type": "code",
   "execution_count": null,
   "metadata": {
    "deletable": false,
    "editable": false,
    "nbgrader": {
     "cell_type": "code",
     "checksum": "6434cc1cf61491f774dece24d9e121ed",
     "grade": true,
     "grade_id": "q21-tests",
     "locked": true,
     "points": 5,
     "schema_version": 3,
     "solution": false,
     "task": false
    }
   },
   "outputs": [],
   "source": [
    "assert len(li1) == 0\n",
    "assert set(li2) == {1,2,3}\n",
    "assert len(li3) == 2\n",
    "assert len(set(li4)) == 1\n",
    "assert len(li5)==2"
   ]
  },
  {
   "cell_type": "markdown",
   "metadata": {
    "deletable": false,
    "editable": false,
    "nbgrader": {
     "cell_type": "markdown",
     "checksum": "b2aa9b9d085c930e0dd11093364e073a",
     "grade": false,
     "grade_id": "q22-desc",
     "locked": true,
     "schema_version": 3,
     "solution": false,
     "task": false
    }
   },
   "source": [
    "#### Q2-2 [5 points]: \n",
    "\n",
    "###### Note that all are integers in this list. Please follow the exact order of execution here below from first line to the last line\n",
    "- Create a list `li1` with values in an order -- 10, -10, 20, -20 \n",
    "- Append a new element `30` to list `li1`  \n",
    "- Insert a new element `-30` at position `2`\n",
    "- Insert a new element `15` at position `20` (Yes it is 20 -- check what happens)"
   ]
  },
  {
   "cell_type": "code",
   "execution_count": null,
   "metadata": {
    "deletable": false,
    "nbgrader": {
     "cell_type": "code",
     "checksum": "fc11b48467b6675d9369155ae1bb15e5",
     "grade": false,
     "grade_id": "q22-sol",
     "locked": false,
     "schema_version": 3,
     "solution": true,
     "task": false
    }
   },
   "outputs": [],
   "source": [
    "#Need to create li1 according to the instructions above\n",
    "\n",
    "# YOUR CODE HERE\n",
    "raise NotImplementedError()"
   ]
  },
  {
   "cell_type": "code",
   "execution_count": null,
   "metadata": {
    "deletable": false,
    "editable": false,
    "nbgrader": {
     "cell_type": "code",
     "checksum": "800c9edea0a819df2a684c83402aad49",
     "grade": true,
     "grade_id": "q22-tests",
     "locked": true,
     "points": 5,
     "schema_version": 3,
     "solution": false,
     "task": false
    }
   },
   "outputs": [],
   "source": [
    "assert len(li1)==7"
   ]
  },
  {
   "cell_type": "markdown",
   "metadata": {
    "deletable": false,
    "editable": false,
    "nbgrader": {
     "cell_type": "markdown",
     "checksum": "4a86e63bc0deec424c25c2c446cc45ca",
     "grade": false,
     "grade_id": "q31-desc",
     "locked": true,
     "schema_version": 3,
     "solution": false,
     "task": false
    }
   },
   "source": [
    "#### Q3-1 [5 points] \n",
    "\n",
    "###### Create a dictionary `d1` with 5 keys 1, 2, 3, 4, 5 and their corresponding values as 2, 4, 6, 8, 10 respectively. "
   ]
  },
  {
   "cell_type": "code",
   "execution_count": null,
   "metadata": {
    "deletable": false,
    "nbgrader": {
     "cell_type": "code",
     "checksum": "3adf4214cf365669c7174e5c95a638da",
     "grade": false,
     "grade_id": "q31-sol",
     "locked": false,
     "schema_version": 3,
     "solution": true,
     "task": false
    }
   },
   "outputs": [],
   "source": [
    "#Creating the dictionary d1\n",
    "\n",
    "# YOUR CODE HERE\n",
    "raise NotImplementedError()"
   ]
  },
  {
   "cell_type": "code",
   "execution_count": null,
   "metadata": {
    "deletable": false,
    "editable": false,
    "nbgrader": {
     "cell_type": "code",
     "checksum": "01e8c80ffbcb0685192ae7d1095b5201",
     "grade": true,
     "grade_id": "q31-tests",
     "locked": true,
     "points": 5,
     "schema_version": 3,
     "solution": false,
     "task": false
    }
   },
   "outputs": [],
   "source": [
    "assert len(d1)==5\n",
    "assert d1[3]==6\n",
    "assert d1[5]==10"
   ]
  },
  {
   "cell_type": "markdown",
   "metadata": {
    "deletable": false,
    "editable": false,
    "nbgrader": {
     "cell_type": "markdown",
     "checksum": "a98ba20d6a35f6fcc494ae1e3bd2fea9",
     "grade": false,
     "grade_id": "q32-desc",
     "locked": true,
     "schema_version": 3,
     "solution": false,
     "task": false
    }
   },
   "source": [
    "#### Q3-2 [5 points] \n",
    "\n",
    "###### Create a dictionary `d2` with 5 keys 1, 2, 3, 4, 5 and their corresponding values as 2, 4, 6, 8, 10 respectively. \n",
    "###### Add a new key-value pair to `d2` with key as `6` and value as `12`"
   ]
  },
  {
   "cell_type": "code",
   "execution_count": null,
   "metadata": {
    "deletable": false,
    "nbgrader": {
     "cell_type": "code",
     "checksum": "09ede700f574cae96ccc0ff4eceed83f",
     "grade": false,
     "grade_id": "q32-sol",
     "locked": false,
     "schema_version": 3,
     "solution": true,
     "task": false
    }
   },
   "outputs": [],
   "source": [
    "#Creating the dictionary d2 and add a new key-value pair\n",
    "\n",
    "# YOUR CODE HERE\n",
    "raise NotImplementedError()\n"
   ]
  },
  {
   "cell_type": "code",
   "execution_count": null,
   "metadata": {
    "deletable": false,
    "editable": false,
    "nbgrader": {
     "cell_type": "code",
     "checksum": "fe86573d53293d9229e23e4095ef23dd",
     "grade": true,
     "grade_id": "q32-tests",
     "locked": true,
     "points": 5,
     "schema_version": 3,
     "solution": false,
     "task": false
    }
   },
   "outputs": [],
   "source": [
    "assert len(d2)==6"
   ]
  },
  {
   "cell_type": "markdown",
   "metadata": {
    "deletable": false,
    "editable": false,
    "nbgrader": {
     "cell_type": "markdown",
     "checksum": "8aaa42a4b1d97d8c5e28eb44d72e789f",
     "grade": false,
     "grade_id": "q33-desc",
     "locked": true,
     "schema_version": 3,
     "solution": false,
     "task": false
    }
   },
   "source": [
    "#### Q3-3 [5 points].\n",
    "\n",
    "- Create a list `l31` with numbers 1, 2, 3\n",
    "- Create another list `l32` with strings 'a', 'b', 'c'\n",
    "- Create a dictionary `d3` where length of `l31` is the key and `l32` is the value\n",
    "- Create a list `l33` that contains keys of dictionary `d3`"
   ]
  },
  {
   "cell_type": "code",
   "execution_count": null,
   "metadata": {
    "deletable": false,
    "nbgrader": {
     "cell_type": "code",
     "checksum": "fc620bac65bceeb5070bdcbf987c5a36",
     "grade": false,
     "grade_id": "q33-sol",
     "locked": false,
     "schema_version": 3,
     "solution": true,
     "task": false
    }
   },
   "outputs": [],
   "source": [
    "#Creating l31 and l32 and follow the instructions to create dictionary d3 \n",
    "\n",
    "# YOUR CODE HERE\n",
    "raise NotImplementedError()\n"
   ]
  },
  {
   "cell_type": "code",
   "execution_count": null,
   "metadata": {
    "deletable": false,
    "editable": false,
    "nbgrader": {
     "cell_type": "code",
     "checksum": "4cbaeef96a9b4dfb3a8510d3d985f609",
     "grade": true,
     "grade_id": "q33-tests",
     "locked": true,
     "points": 5,
     "schema_version": 3,
     "solution": false,
     "task": false
    }
   },
   "outputs": [],
   "source": [
    "assert len(l31)==3\n",
    "assert set(l32)=={'a', 'b','c'}\n",
    "assert len(d3)==1\n",
    "assert len(l33)==1"
   ]
  },
  {
   "cell_type": "markdown",
   "metadata": {
    "deletable": false,
    "editable": false,
    "nbgrader": {
     "cell_type": "markdown",
     "checksum": "66409dbae4231e8fa6e1a6165b039d71",
     "grade": false,
     "grade_id": "q41-desc",
     "locked": true,
     "schema_version": 3,
     "solution": false,
     "task": false
    }
   },
   "source": [
    "#### Q4-1 [5 points]. \n",
    "\n",
    "- Create a set `S1` with values 1, 2, 3 in the same order as stated. \n",
    "- Assign the variable `Slen` as the length of this set `S1` \n",
    "- Create another set `S2` with values 4, 5, 6 in the same order as stated. \n",
    "- Create a new set `S3` by merging sets `S1` and `S2`"
   ]
  },
  {
   "cell_type": "code",
   "execution_count": null,
   "metadata": {
    "deletable": false,
    "nbgrader": {
     "cell_type": "code",
     "checksum": "72c7d833d08130e6d9c7bd1f73f26db7",
     "grade": false,
     "grade_id": "q41-sol",
     "locked": false,
     "schema_version": 3,
     "solution": true,
     "task": false
    }
   },
   "outputs": [],
   "source": [
    "#Please follow the above instructions to create S1, S2, S3\n",
    "\n",
    "\n",
    "# YOUR CODE HERE\n",
    "raise NotImplementedError()"
   ]
  },
  {
   "cell_type": "code",
   "execution_count": null,
   "metadata": {
    "deletable": false,
    "editable": false,
    "nbgrader": {
     "cell_type": "code",
     "checksum": "315c68217d28613ef7ac22b596c74ff7",
     "grade": true,
     "grade_id": "q41-tests",
     "locked": true,
     "points": 5,
     "schema_version": 3,
     "solution": false,
     "task": false
    }
   },
   "outputs": [],
   "source": [
    "assert Slen==3\n",
    "assert 1 in S1\n",
    "assert S3=={1, 2, 3, 4, 5, 6}"
   ]
  },
  {
   "cell_type": "markdown",
   "metadata": {
    "deletable": false,
    "editable": false,
    "nbgrader": {
     "cell_type": "markdown",
     "checksum": "d026aa7d2ce656d21dbec6d646da0732",
     "grade": false,
     "grade_id": "q42-desc",
     "locked": true,
     "schema_version": 3,
     "solution": false,
     "task": false
    }
   },
   "source": [
    "#### Q4-2 [5 points]\n",
    "\n",
    "- Create a set `S4` with values 1, 2, 3, 4, 5 passed as strings \n",
    "- Add another string `'6'` to `S4`\n",
    "- Convert each element in S4 which is a string to integer and save this new set as `S5`"
   ]
  },
  {
   "cell_type": "code",
   "execution_count": null,
   "metadata": {
    "deletable": false,
    "nbgrader": {
     "cell_type": "code",
     "checksum": "e26198608b49949c78247d93665a4b4c",
     "grade": false,
     "grade_id": "q42-sol",
     "locked": false,
     "schema_version": 3,
     "solution": true,
     "task": false
    }
   },
   "outputs": [],
   "source": [
    "# YOUR CODE HERE\n",
    "raise NotImplementedError()"
   ]
  },
  {
   "cell_type": "code",
   "execution_count": null,
   "metadata": {
    "deletable": false,
    "editable": false,
    "nbgrader": {
     "cell_type": "code",
     "checksum": "bd9d2cfc03c3a4e33d3bb9ea24e4c34c",
     "grade": true,
     "grade_id": "q42-tests",
     "locked": true,
     "points": 5,
     "schema_version": 3,
     "solution": false,
     "task": false
    }
   },
   "outputs": [],
   "source": [
    "assert set(S4)=={'1', '2', '3', '4', '5','6'}\n",
    "assert S5=={1, 2, 3, 4, 5, 6}"
   ]
  },
  {
   "cell_type": "markdown",
   "metadata": {
    "deletable": false,
    "editable": false,
    "nbgrader": {
     "cell_type": "markdown",
     "checksum": "b5f190c861a21362dd4dd91490ad835e",
     "grade": false,
     "grade_id": "q5-desc",
     "locked": true,
     "schema_version": 3,
     "solution": false,
     "task": false
    }
   },
   "source": [
    "#### Q5 [5 points]. Write a function that takes a number `num` (where `num` is >0) and returns a list of numbers from 0 to `num` (inclusive). If number `num`<=0 return `[-1]`. "
   ]
  },
  {
   "cell_type": "code",
   "execution_count": null,
   "metadata": {
    "deletable": false,
    "nbgrader": {
     "cell_type": "code",
     "checksum": "8e1d67fd1393c90ed94abf8e8ae64a1f",
     "grade": false,
     "grade_id": "q5-sol",
     "locked": false,
     "schema_version": 3,
     "solution": true,
     "task": false
    }
   },
   "outputs": [],
   "source": [
    "\n",
    "def PrintNums(num):\n",
    "\n",
    "    # YOUR CODE HERE\n",
    "    raise NotImplementedError()"
   ]
  },
  {
   "cell_type": "code",
   "execution_count": null,
   "metadata": {
    "deletable": false,
    "editable": false,
    "nbgrader": {
     "cell_type": "code",
     "checksum": "5be0d6635b434ff44abbf897ec0e4fe4",
     "grade": true,
     "grade_id": "q5-tests",
     "locked": true,
     "points": 5,
     "schema_version": 3,
     "solution": false,
     "task": false
    }
   },
   "outputs": [],
   "source": [
    "assert PrintNums(3)==[0, 1, 2, 3]\n",
    "assert PrintNums(4)==[0, 1, 2, 3, 4]\n",
    "assert PrintNums(6)==[0, 1, 2, 3, 4, 5, 6]"
   ]
  },
  {
   "cell_type": "markdown",
   "metadata": {
    "deletable": false,
    "editable": false,
    "nbgrader": {
     "cell_type": "markdown",
     "checksum": "06ae0d430f98696eccaa5bed83c3e8a5",
     "grade": false,
     "grade_id": "q6-desc",
     "locked": true,
     "schema_version": 3,
     "solution": false,
     "task": false
    }
   },
   "source": [
    "#### Q6 [5 points]. Write a function that takes two numbers `num1` and `num2`. Note that both `num1` and `num2` are `> 0`.  This function should return a list of numbers, where the length of the list is `num2`. \n",
    "\n",
    "##### All the numbers in this list should be equal to `num1`. In other words, create a list that contains `num1` that is repeated `num2` number of times.\n",
    "##### If `num1 <= 0` or `num2 <= 0` return `[-1]`"
   ]
  },
  {
   "cell_type": "code",
   "execution_count": null,
   "metadata": {
    "deletable": false,
    "nbgrader": {
     "cell_type": "code",
     "checksum": "03f064c6cb0c84e6ddf1e9a5c97e0254",
     "grade": false,
     "grade_id": "q6-sol",
     "locked": false,
     "schema_version": 3,
     "solution": true,
     "task": false
    }
   },
   "outputs": [],
   "source": [
    "def PrintRepeatNums(num1, num2):\n",
    "    # YOUR CODE HERE\n",
    "    raise NotImplementedError()\n"
   ]
  },
  {
   "cell_type": "code",
   "execution_count": null,
   "metadata": {
    "deletable": false,
    "editable": false,
    "nbgrader": {
     "cell_type": "code",
     "checksum": "e2ee538be3d1532b867f8cabcd87036d",
     "grade": true,
     "grade_id": "q6-tests",
     "locked": true,
     "points": 5,
     "schema_version": 3,
     "solution": false,
     "task": false
    }
   },
   "outputs": [],
   "source": [
    "assert PrintRepeatNums(3,2)==[3, 3]\n",
    "assert PrintRepeatNums(2,4)==[2, 2, 2, 2]\n",
    "assert PrintRepeatNums(6,1)==[6]"
   ]
  }
 ],
 "metadata": {
  "kernelspec": {
   "display_name": "Python 3",
   "language": "python",
   "name": "python3"
  },
  "language_info": {
   "codemirror_mode": {
    "name": "ipython",
    "version": 3
   },
   "file_extension": ".py",
   "mimetype": "text/x-python",
   "name": "python",
   "nbconvert_exporter": "python",
   "pygments_lexer": "ipython3",
   "version": "3.8.3"
  }
 },
 "nbformat": 4,
 "nbformat_minor": 4
}
