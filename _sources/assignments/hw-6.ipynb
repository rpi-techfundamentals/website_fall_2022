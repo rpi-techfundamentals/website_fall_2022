{
 "cells": [
  {
   "cell_type": "markdown",
   "id": "48db5f27",
   "metadata": {
    "deletable": false,
    "editable": false,
    "nbgrader": {
     "cell_type": "markdown",
     "checksum": "95daa94acaa0fd0c7c27667d83e7c723",
     "grade": false,
     "grade_id": "Desc",
     "locked": true,
     "schema_version": 3,
     "solution": false,
     "task": false
    }
   },
   "source": [
    "#### Homework-6\n",
    "##### Total number of points: 40\n",
    "#### Due date: Nov 10, 2022\n",
    "\n",
    "Before you submit this homework, make sure everything runs as expected. First, restart the kernel (in the menu, select Kernel → Restart) and then run all cells (in the menubar, select Cell → Run All). You can discuss with others regarding the homework but all work must be your own.\n",
    "\n",
    "This homework will test your knowledge on basics of Python. The Python notebooks shared will be helpful to solve these problems. \n",
    "\n",
    "Steps to evaluate your solutions:\n",
    "\n",
    "Step-1: Ensure you have installed Anaconda (Windows: https://docs.anaconda.com/anaconda/install/windows/ ; Mac:https://docs.anaconda.com/anaconda/install/mac-os/ ; Linux: https://docs.anaconda.com/anaconda/install/linux/)\n",
    "\n",
    "Step-2: Open the Jupyter Notebook by first launching the anaconda software console\n",
    "\n",
    "Step-3: Open the .ipynb file and write your solutions at the appropriate location \"# YOUR CODE HERE\"\n",
    "\n",
    "Step-4: You can restart the kernel and click run all (in the menubar, select Cell → Run All) on the center-right on the top of this window.\n",
    "\n",
    "Step-5: Now go to \"File\" then click on \"Download as\" then click on \"Notebook (.ipynb)\" Please DO NOT change the file name and just keep it as .ipynb file format\n",
    "\n",
    "Step-6: Go to lms.rpi.edu and upload your homework at the appropriate link to submit this homework.\n",
    "\n",
    "#### Please note that for any question in this assignment you will receive points ONLY if your solution passes all the test cases including hidden testcases as well. So please make sure you try to think all possible scenarios before submitting your answers.  \n",
    "- Note that hidden tests are present to ensure you are not hardcoding. \n",
    "- If caught cheating: \n",
    "    - you will receive a score of 0 for the 1st violation. \n",
    "    - for repeated incidents, you will receive an automatic 'F' grade and will be reported to the dean of Lally School of Management. "
   ]
  },
  {
   "cell_type": "code",
   "execution_count": null,
   "id": "1371c329",
   "metadata": {
    "deletable": false,
    "editable": false,
    "nbgrader": {
     "cell_type": "code",
     "checksum": "41d73ef36641cca3198b46da78291674",
     "grade": false,
     "grade_id": "Data",
     "locked": true,
     "schema_version": 3,
     "solution": false,
     "task": false
    }
   },
   "outputs": [],
   "source": [
    "import pandas as pd\n",
    "import numpy as np\n",
    "df = pd.read_csv('https://raw.githubusercontent.com/lmanikon/lmanikon.github.io/master/teaching/datasets/KaggleAdmissions.csv')\n",
    "df.columns=['Serial No.', 'GRE Score', 'TOEFL Score', 'University Rating', 'SOP',\n",
    "       'LOR', 'CGPA', 'Research', 'Chance of Admit']\n",
    "df.head()"
   ]
  },
  {
   "cell_type": "markdown",
   "id": "0e0c08b0",
   "metadata": {
    "deletable": false,
    "editable": false,
    "nbgrader": {
     "cell_type": "markdown",
     "checksum": "19fdb1494ae2723a1e0ae94ea4851b2d",
     "grade": false,
     "grade_id": "Q1",
     "locked": true,
     "schema_version": 3,
     "solution": false,
     "task": false
    }
   },
   "source": [
    "### Q1 [18 points]\n",
    "\n",
    "#### 1. Create a new dataframe `df_sub`, that is a copy of `df`.   Drop `Serial No.` from  `df`.  \n",
    "\n",
    "#### 2. Standardize only these attributes in `df_sub` using the function `RobustScaler()`: \n",
    "- `GRE Score`, `TOEFL Score`\n",
    "\n",
    "#### 3. Perform normalization only on these attributes in `df_sub` using the function `StandardScaler()`\n",
    "- `University Rating`, `SOP`, `LOR`, `CGPA`, `Research` \n",
    "    \n",
    "#### Note that after steps 3 and 4, make sure you still have the transformed values saved in `df_sub` \n",
    "\n",
    "#### 4. Create a new column named `Admit` using original column `Chance of Admit ` to create a discrete set of class labels using these conditions. Then drop `Chance of Admit ` column from `df_sub`. \n",
    "- Convert to 2, if `Chance of Admit` value is `>= 0.65`\n",
    "- 1, if `Chance of Admit` value is `< 0.65`\n",
    "\n"
   ]
  },
  {
   "cell_type": "code",
   "execution_count": null,
   "id": "5e272907",
   "metadata": {
    "deletable": false,
    "nbgrader": {
     "cell_type": "code",
     "checksum": "377e6483c715d5f38bfc5c226ac58c3e",
     "grade": false,
     "grade_id": "Q1-sol",
     "locked": false,
     "schema_version": 3,
     "solution": true,
     "task": false
    }
   },
   "outputs": [],
   "source": [
    "#Answering the above questions in the same order as listed\n",
    "\n",
    "# YOUR CODE HERE\n",
    "raise NotImplementedError()\n"
   ]
  },
  {
   "cell_type": "code",
   "execution_count": null,
   "id": "c032e4c8",
   "metadata": {
    "deletable": false,
    "editable": false,
    "nbgrader": {
     "cell_type": "code",
     "checksum": "db82ab9c9990e0a2ba96df19904dba48",
     "grade": true,
     "grade_id": "1",
     "locked": true,
     "points": 6,
     "schema_version": 3,
     "solution": false,
     "task": false
    }
   },
   "outputs": [],
   "source": [
    "#[6 points] Test cell-1\n",
    "#DO NOT MODIFY/DELETE THIS CELL \n",
    "assert (len(df_sub))==400\n",
    "assert (len(df_sub.columns))==8\n",
    "assert (set(df_sub.columns))=={'LOR', 'SOP', 'CGPA', 'TOEFL Score', 'GRE Score', 'Research', 'Admit', 'University Rating'}\n"
   ]
  },
  {
   "cell_type": "code",
   "execution_count": null,
   "id": "81ba563c",
   "metadata": {
    "deletable": false,
    "editable": false,
    "nbgrader": {
     "cell_type": "code",
     "checksum": "37e78440bfc06cf8ed815ce0f2c5f5dd",
     "grade": true,
     "grade_id": "2",
     "locked": true,
     "points": 6,
     "schema_version": 3,
     "solution": false,
     "task": false
    }
   },
   "outputs": [],
   "source": [
    "#[6 points] Test cell-2\n",
    "#DO NOT MODIFY/DELETE THIS CELL \n",
    "assert (round(np.mean(df_sub['CGPA']), 2))==0.0\n",
    "assert (round(np.std(df_sub['CGPA']), 2))==1.0\n",
    "assert (round(np.mean(df_sub['TOEFL Score']), 2))==0.05"
   ]
  },
  {
   "cell_type": "code",
   "execution_count": null,
   "id": "cf3c606d",
   "metadata": {
    "deletable": false,
    "editable": false,
    "nbgrader": {
     "cell_type": "code",
     "checksum": "6262e8db18e32ef3b4beba995792a7c0",
     "grade": true,
     "grade_id": "3",
     "locked": true,
     "points": 6,
     "schema_version": 3,
     "solution": false,
     "task": false
    }
   },
   "outputs": [],
   "source": [
    "#[6 points] Test cell-3\n",
    "#DO NOT MODIFY/DELETE THIS CELL \n",
    "assert (round(np.sum(df_sub['Admit']), 2))==687\n",
    "assert (set(df_sub['Admit']))=={1, 2}\n",
    "assert (len(df_sub['Admit'].loc[df_sub['Admit']==1]))==113"
   ]
  },
  {
   "cell_type": "markdown",
   "id": "6d6a91a7",
   "metadata": {
    "deletable": false,
    "editable": false,
    "nbgrader": {
     "cell_type": "markdown",
     "checksum": "517bddbe3d6dae336e9fe42bbd4fa450",
     "grade": false,
     "grade_id": "Q2",
     "locked": true,
     "schema_version": 3,
     "solution": false,
     "task": false
    }
   },
   "source": [
    "### Q2 [15 points]\n",
    "#### 1. Split the data into `X` and `y` for feature columns and class label column respectively. \n",
    "- Feature columns (X): `GRE Score`, `TOEFL Score`, `University Rating`, `SOP`, `LOR`, `CGPA`, `Research` \n",
    "- CLass label column (y): `Admit`\n",
    "\n",
    "#### 2. Using `X` and `y` variables representing features and class labels, perform train_test_split operation to build training (`X_train`, `y_train`) and testing data (`X_test`, `y_test`). \n",
    "- Use test_size=0.4, random_state=55 as the parameters for train_test_split() function. \n",
    "\n",
    "#### 3. Train the randomforest classifier (initialized as variable `rf`) using these parameters: max_depth=7, random_state=23. \n",
    "- Using the trained model `rf` to first compute accuracy score and assign it to variable `acc_rf`. \n",
    "- Then compute the impurity-based feature importances.\n",
    "- Append the names of these top-3 features to a list `impFeatures`. Please make sure you type the feature names exactly as in `df_sub` \n",
    "\n",
    "#### 4. Train a K-Nearest Neighbors classifier (initialized as variable `knn1` and `knn2`) using these parameters: n_neighbors=5 and n_neighbors=20 and the `kd_tree` algorithm.\n",
    "- Using the trained models `knn1` and `knn2` on training data, compute the accuracy score using test data and assign that to variables `acc_knn_5` and `acc_knn_22` respectively for `k=2` and `k=22`. "
   ]
  },
  {
   "cell_type": "code",
   "execution_count": null,
   "id": "e6ae473c",
   "metadata": {
    "deletable": false,
    "nbgrader": {
     "cell_type": "code",
     "checksum": "948c6b02beba205b183ebadf570fb636",
     "grade": false,
     "grade_id": "Q2-sol",
     "locked": false,
     "schema_version": 3,
     "solution": true,
     "task": false
    }
   },
   "outputs": [],
   "source": [
    "from sklearn.model_selection import train_test_split\n",
    "from sklearn.ensemble import RandomForestClassifier\n",
    "from sklearn.neighbors import KNeighborsClassifier\n",
    "from sklearn.metrics import accuracy_score\n",
    "\n",
    "#Answering the above questions in the same order as listed\n",
    "\n",
    "impFeatures=[]\n",
    "\n",
    "# YOUR CODE HERE\n",
    "raise NotImplementedError()"
   ]
  },
  {
   "cell_type": "code",
   "execution_count": null,
   "id": "b808259f",
   "metadata": {
    "deletable": false,
    "editable": false,
    "nbgrader": {
     "cell_type": "code",
     "checksum": "ddd3bc0f502e1339744733f1e0fb1d1a",
     "grade": true,
     "grade_id": "4",
     "locked": true,
     "points": 8,
     "schema_version": 3,
     "solution": false,
     "task": false
    }
   },
   "outputs": [],
   "source": [
    "#[8 points] Test cell-4\n",
    "#DO NOT MODIFY/DELETE THIS CELL \n",
    "assert (rf.max_depth)==7\n",
    "assert (rf.n_estimators)==100\n",
    "#assert round(acc_rf,2)==0.9\n",
    "assert round(acc_rf,2)<=0.9\n",
    "assert set(impFeatures)=={'GRE Score', 'CGPA', 'TOEFL Score'}"
   ]
  },
  {
   "cell_type": "code",
   "execution_count": null,
   "id": "0385ae18",
   "metadata": {
    "deletable": false,
    "editable": false,
    "nbgrader": {
     "cell_type": "code",
     "checksum": "9feadfe46b58489a8695b68e4b7f4600",
     "grade": true,
     "grade_id": "5",
     "locked": true,
     "points": 6,
     "schema_version": 3,
     "solution": false,
     "task": false
    }
   },
   "outputs": [],
   "source": [
    "#[6 points] Test cell-5\n",
    "#DO NOT MODIFY/DELETE THIS CELL \n",
    "assert knn1.algorithm==\"kd_tree\"\n",
    "assert knn1.algorithm==\"kd_tree\"\n",
    "assert (round(acc_knn_5,2))<=0.87\n",
    "assert (round(acc_knn_22, 2))<=0.9\n"
   ]
  },
  {
   "cell_type": "markdown",
   "id": "57de5d0d",
   "metadata": {
    "deletable": false,
    "editable": false,
    "nbgrader": {
     "cell_type": "markdown",
     "checksum": "ef18918e2234d47a52f083822440c1cc",
     "grade": false,
     "grade_id": "Q3",
     "locked": true,
     "schema_version": 3,
     "solution": false,
     "task": false
    }
   },
   "source": [
    "### Q3 [10 points]\n",
    "\n",
    "#### 1. Assign your response to this string variable `your_response1` explaining why there is a performance difference between `knn1` and `knn2` models that were trained with neighbors `4` and `20` respectively? Justify. \n",
    "#### 2. Include your response in this variable `your_response2` describing if this is a reasonable way to perform normalization? "
   ]
  },
  {
   "cell_type": "code",
   "execution_count": null,
   "id": "01205ce5",
   "metadata": {
    "deletable": false,
    "nbgrader": {
     "cell_type": "code",
     "checksum": "a60def23ca89a54ea566591f86ea29ea",
     "grade": false,
     "grade_id": "Q3-sol",
     "locked": false,
     "schema_version": 3,
     "solution": true,
     "task": false
    }
   },
   "outputs": [],
   "source": [
    "your_response1=\" \"\n",
    "your_response2=\" \"\n",
    "\n",
    "# YOUR CODE HERE\n",
    "raise NotImplementedError()"
   ]
  },
  {
   "cell_type": "code",
   "execution_count": null,
   "id": "d1c2dfd6",
   "metadata": {
    "deletable": false,
    "editable": false,
    "nbgrader": {
     "cell_type": "code",
     "checksum": "297cc5d6702132fe9dd0409519ba7e43",
     "grade": true,
     "grade_id": "6",
     "locked": true,
     "points": 8,
     "schema_version": 3,
     "solution": false,
     "task": false
    }
   },
   "outputs": [],
   "source": [
    "#[8 points] Hidden Test cell-6\n",
    "#DO NOT MODIFY/DELETE THIS CELL "
   ]
  },
  {
   "cell_type": "code",
   "execution_count": null,
   "id": "92a1284e",
   "metadata": {},
   "outputs": [],
   "source": []
  }
 ],
 "metadata": {
  "kernelspec": {
   "display_name": "Python 3",
   "language": "python",
   "name": "python3"
  },
  "language_info": {
   "codemirror_mode": {
    "name": "ipython",
    "version": 3
   },
   "file_extension": ".py",
   "mimetype": "text/x-python",
   "name": "python",
   "nbconvert_exporter": "python",
   "pygments_lexer": "ipython3",
   "version": "3.7.10"
  }
 },
 "nbformat": 4,
 "nbformat_minor": 5
}
