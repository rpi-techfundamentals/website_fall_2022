{
 "cells": [
  {
   "cell_type": "markdown",
   "metadata": {
    "colab_type": "text",
    "id": "dvp2wULSgIe_",
    "slideshow": {
     "slide_type": "slide"
    }
   },
   "source": [
    "[![AnalyticsDojo](https://github.com/rpi-techfundamentals/spring2019-materials/blob/master/fig/final-logo.png?raw=1)](http://introml.analyticsdojo.com)\n",
    "<center><h1>Introduction to Python - Functions</h1></center>\n",
    "<center><h3><a href = 'http://introml.analyticsdojo.com'>introml.analyticsdojo.com</a></h3></center>\n",
    "\n"
   ]
  },
  {
   "cell_type": "markdown",
   "metadata": {
    "colab_type": "text",
    "id": "8RjrS3UkgIfH",
    "slideshow": {
     "slide_type": "subslide"
    }
   },
   "source": [
    "# Functions\n",
    "- Why functions?\n",
    "- (Need to know) Indentation in Python\n",
    "- Predefined functions\n",
    "- Custom functions\n",
    "- Lambda functions\n",
    "- Exercises"
   ]
  },
  {
   "cell_type": "markdown",
   "metadata": {
    "colab_type": "text",
    "id": "nVxjF6UDgIfV",
    "slideshow": {
     "slide_type": "subslide"
    }
   },
   "source": [
    "## Why Functions?\n",
    "- Code reuse. \n",
    "- Abstract away complexity. \n",
    "- Simple, efficient robust code.\n",
    "- Specific functional programming languages like Lisp & Haskell built around *functional programming*, which enforces great practices.\n",
    "- Read more about functional programming in Python [here](http://www.ibm.com/developerworks/library/l-prog/)."
   ]
  },
  {
   "cell_type": "markdown",
   "metadata": {
    "colab_type": "text",
    "id": "oNXW5MHCgIfw",
    "slideshow": {
     "slide_type": "subslide"
    }
   },
   "source": [
    "## Predefined Functions\n",
    "- We have used predefined functions in earlier exercises\n",
    "- Python has predefined functions for embedded data structures like variables and lists.\n",
    "- Packages like Numpy and Pandas include functions for working with those data\n",
    "- We can string functions together ex. `b = np.arange(15).reshape(3, 5)`"
   ]
  },
  {
   "cell_type": "code",
   "execution_count": null,
   "metadata": {
    "colab": {},
    "colab_type": "code",
    "id": "LhHxcGFHgIf2"
   },
   "outputs": [],
   "source": [
    "#Simple Rounding Functions\n",
    "a=3.14\n",
    "a=round(a)\n",
    "print(a)"
   ]
  },
  {
   "cell_type": "code",
   "execution_count": null,
   "metadata": {
    "colab": {},
    "colab_type": "code",
    "id": "VKV3Vyd9gIgP",
    "scrolled": true
   },
   "outputs": [],
   "source": [
    "#We can string functions together\n",
    "import numpy as np\n",
    "b = np.arange(15).reshape(3, 5)\n",
    "print(b)"
   ]
  },
  {
   "cell_type": "markdown",
   "metadata": {
    "colab_type": "text",
    "id": "TpZ64HhpgIgd",
    "slideshow": {
     "slide_type": "subslide"
    }
   },
   "source": [
    "## Custom Functions in Python\n",
    "- The statement `def` introduces a function definition, which is followed by the *function name* and the *list of pramaters that are passed to the function* as well as a colon to end the line.\n",
    "- The second line with three quotes (\"\"\") is called a *docstring* which can be used to automatically generate documentation.\n",
    "- Values used in intermediate calculations within a function are *local variables* to the function and not global variables.\n",
    "- The `return` statement returns a value to a passed value.  \n",
    "- Execution of the function requires passing parameters. For example, `squared(5)` as shown below.\n"
   ]
  },
  {
   "cell_type": "code",
   "execution_count": null,
   "metadata": {
    "colab": {},
    "colab_type": "code",
    "id": "DY7lqSzfgIgf"
   },
   "outputs": [],
   "source": [
    "testvalue=0\n",
    "# Defining New Functions\n",
    "\n",
    "def squared(x):\n",
    "    \"\"\"Function to square a value if passed another value.\"\"\"  #This is a docstring\n",
    "    testvalue=10 #Note this is not stored outside of the function but is a local variable which is not returned.\n",
    "    x=x**2\n",
    "    return x \n",
    "print (squared(5), testvalue)"
   ]
  },
  {
   "cell_type": "markdown",
   "metadata": {
    "colab_type": "text",
    "id": "9KxIsPsrgIgm",
    "slideshow": {
     "slide_type": "subslide"
    }
   },
   "source": [
    "## Functional Programming\n",
    "\n",
    "- Functions are, like everything else in Python, object.\n",
    "- Functions can passed around just like any other value.\n",
    "- That means we can do really cool things, like pass a function to a function. \n",
    "\n",
    "\n",
    "\n"
   ]
  },
  {
   "cell_type": "code",
   "execution_count": null,
   "metadata": {
    "colab": {},
    "colab_type": "code",
    "id": "8f5VFvTQgIgo"
   },
   "outputs": [],
   "source": [
    "print(squared)"
   ]
  },
  {
   "cell_type": "code",
   "execution_count": null,
   "metadata": {
    "colab": {},
    "colab_type": "code",
    "id": "Sxyjdl-egIgu"
   },
   "outputs": [],
   "source": [
    "y = squared\n",
    "print (y)"
   ]
  },
  {
   "cell_type": "code",
   "execution_count": null,
   "metadata": {
    "colab": {},
    "colab_type": "code",
    "id": "HGPgShVggIg3"
   },
   "outputs": [],
   "source": [
    "print (y(5))"
   ]
  },
  {
   "cell_type": "markdown",
   "metadata": {
    "colab_type": "text",
    "id": "D2sbFq0NgIhG",
    "slideshow": {
     "slide_type": "subslide"
    }
   },
   "source": [
    "## Applying a Function to Each Element of a Collection with Map\n",
    "\n",
    "- We can apply a function to each element of a collection using the built-in function `map()`.\n",
    "- Provided using the form *map(Function, Sequence)*.\n",
    "- This will work with any collection: dict, list, set, and tuple. (Tuples are immutable data structures similar to lists that we won't really be using). \n"
   ]
  },
  {
   "cell_type": "code",
   "execution_count": null,
   "metadata": {
    "colab": {},
    "colab_type": "code",
    "id": "ueSM0gdXgIhH"
   },
   "outputs": [],
   "source": [
    "exampleList=[1, 2, 3, 4]\n",
    "list(map(squared, exampleList)) #While Python 2 returned a list, Python 3 will return a map object. "
   ]
  },
  {
   "cell_type": "markdown",
   "metadata": {
    "colab_type": "text",
    "id": "53qLTf9sgIhK",
    "slideshow": {
     "slide_type": "subslide"
    }
   },
   "source": [
    "## Applying a Function to Each Element of a Collection with  List Comprehensions\n",
    "- Because this is such a common operation, Python has a special syntax to do the same thing, called a list comprehension.\n",
    "- Can change whether the result is a set or list by changing brackets.\n",
    "- If we want a set instead of a list we can use a set comprehension or dictionary comprehension"
   ]
  },
  {
   "cell_type": "code",
   "execution_count": null,
   "metadata": {
    "colab": {},
    "colab_type": "code",
    "id": "ICIb31bigIhL"
   },
   "outputs": [],
   "source": [
    "\n",
    "#List Comprehensions\n",
    "list1=[squared(i) for i in [1, 2, 3, 4]]\n",
    "print(list1)"
   ]
  },
  {
   "cell_type": "code",
   "execution_count": null,
   "metadata": {
    "colab": {},
    "colab_type": "code",
    "id": "Y-bqUpT1gIhQ"
   },
   "outputs": [],
   "source": [
    "{squared(i) for i in [1, 2, 3, 4]}"
   ]
  },
  {
   "cell_type": "markdown",
   "metadata": {
    "colab_type": "text",
    "id": "KOt8EJfFgIhZ"
   },
   "source": [
    "## Applying a Function to Subset of a Collection with  List Comprehensions\n",
    "- List Comprehensions can be nested\n",
    "- The `if` statemen can be added to make the function apply to only some. "
   ]
  },
  {
   "cell_type": "code",
   "execution_count": null,
   "metadata": {
    "colab": {},
    "colab_type": "code",
    "id": "UF7hAEOjgIhc"
   },
   "outputs": [],
   "source": [
    "lista= [(x, y) for x in ['a','b','c'] for y in ['c','d','e'] if x != y]\n",
    "print(lista)"
   ]
  },
  {
   "cell_type": "code",
   "execution_count": null,
   "metadata": {
    "colab": {},
    "colab_type": "code",
    "id": "eKzAt6GcgIhi"
   },
   "outputs": [],
   "source": [
    "#This is a comparable for loop. \n",
    "listb=[]\n",
    "for x in ['a','b','c']:\n",
    "    for y in ['c','d','e']:\n",
    "        if x != y:\n",
    "            listb.append((x, y))\n",
    "        \n",
    "print(listb)       "
   ]
  },
  {
   "cell_type": "markdown",
   "metadata": {
    "colab_type": "text",
    "id": "QofLaXshgIhl",
    "slideshow": {
     "slide_type": "subslide"
    }
   },
   "source": [
    "## Cartesian product using List Comprehensions\n",
    "![Cartesian Product](https://upload.wikimedia.org/wikipedia/commons/4/4e/Cartesian_Product_qtl1.svg)\n",
    "By Quartl (Own work) [GFDL (http://www.gnu.org/copyleft/fdl.html) or CC BY-SA 3.0 (http://creativecommons.org/licenses/by-sa/3.0)], via Wikimedia Commons\n",
    "\n",
    "<br>\n",
    "- The [Cartesian product](https://en.wikipedia.org/wiki/Cartesian_product) of two collections $X = A \\times B$ can be expressed by using multiple `for` statements in a comprehension.\n",
    "-This can be thoguht of as nested for loop. \n"
   ]
  },
  {
   "cell_type": "code",
   "execution_count": null,
   "metadata": {
    "colab": {},
    "colab_type": "code",
    "id": "-lzixtdzgIhm",
    "slideshow": {
     "slide_type": "-"
    }
   },
   "outputs": [],
   "source": [
    "A = {'x', 'y', 'z'}\n",
    "B = {1, 2, 3}\n",
    "{(a,b) for a in A for b in B}"
   ]
  },
  {
   "cell_type": "markdown",
   "metadata": {
    "colab_type": "text",
    "id": "hF0zz3E7gIhq",
    "slideshow": {
     "slide_type": "subslide"
    }
   },
   "source": [
    "## Cartesian products with other collections\n",
    "\n",
    "- The syntax for Cartesian products can be used with any collection type.\n"
   ]
  },
  {
   "cell_type": "code",
   "execution_count": null,
   "metadata": {
    "colab": {},
    "colab_type": "code",
    "id": "56g7jEz0gIhr",
    "slideshow": {
     "slide_type": "-"
    }
   },
   "outputs": [],
   "source": [
    "first_names = ('Steve', 'John', 'Peter')\n",
    "surnames = ('Smith', 'Doe')\n",
    "\n",
    "[(first_name, surname) for first_name in first_names for surname in surnames]"
   ]
  },
  {
   "cell_type": "markdown",
   "metadata": {
    "colab_type": "text",
    "id": "19KjPbrUgIhu",
    "slideshow": {
     "slide_type": "subslide"
    }
   },
   "source": [
    "## Anonymous Functions: _lambda expressions_\n",
    "\n",
    "- While we can create named functions with `def`, we can also write _anonymous_ functions that do not necessarily have a name.\n",
    "- They are called _lambda expressions_ (after the $\\lambda-$calculus).\n",
    "- Useful if creating a function that is only going to be used once. \n",
    "- Previously we created a `squared` function. This creates an anonymous lambda function."
   ]
  },
  {
   "cell_type": "code",
   "execution_count": null,
   "metadata": {
    "colab": {},
    "colab_type": "code",
    "id": "N163DUl_gIhu"
   },
   "outputs": [],
   "source": [
    "y=map(lambda x: x ** 2, [1, 2, 3, 4])\n",
    "print(list(y))"
   ]
  },
  {
   "cell_type": "markdown",
   "metadata": {
    "colab_type": "text",
    "id": "RxFpRyzAgIhy",
    "slideshow": {
     "slide_type": "subslide"
    }
   },
   "source": [
    "## `lambda` : Filtering LIst\n",
    "\n",
    "- We can filter a list by applying a _predicate_ to each element of the list.\n",
    "\n",
    "- A *predicate* is a function which takes a single argument, and returns a boolean value.\n",
    "\n",
    "- We will be using a similar procedure to filter DataFrames.\n"
   ]
  },
  {
   "cell_type": "code",
   "execution_count": null,
   "metadata": {
    "colab": {},
    "colab_type": "code",
    "id": "RZlanFR5gIh1"
   },
   "outputs": [],
   "source": [
    "lista=[-5, 2, 3, -10, 0, 1]\n",
    "listb=list(filter(lambda x: x > 0, lista))\n",
    "print(listb)\n",
    "\n"
   ]
  },
  {
   "cell_type": "code",
   "execution_count": null,
   "metadata": {
    "colab": {},
    "colab_type": "code",
    "id": "TgGpN1SOgIh6"
   },
   "outputs": [],
   "source": [
    "#Here we could rereate an equavalent filter. \n",
    "\n",
    "def postive_numbers(listz):\n",
    "    return [i for i in listz if i>0]  #Here we are using list comprehension.\n",
    "postive_numbers(lista)"
   ]
  },
  {
   "cell_type": "markdown",
   "metadata": {
    "colab_type": "text",
    "id": "xQL7d0mkgIh_",
    "slideshow": {
     "slide_type": "subslide"
    }
   },
   "source": [
    "## Example Filter String\n",
    "We can use both `filter()` and `map()` on other collections such as strings or sets."
   ]
  },
  {
   "cell_type": "code",
   "execution_count": null,
   "metadata": {
    "colab": {},
    "colab_type": "code",
    "id": "XhYpsIuDgIiB"
   },
   "outputs": [],
   "source": [
    "list(filter(lambda x: x != ' ', 'hello world'))"
   ]
  },
  {
   "cell_type": "code",
   "execution_count": null,
   "metadata": {
    "colab": {},
    "colab_type": "code",
    "id": "WyJUKdGMgIiE"
   },
   "outputs": [],
   "source": [
    "list(filter(lambda x: x > 0, {-5, 2, 3, -10, 0, 1}))"
   ]
  },
  {
   "cell_type": "markdown",
   "metadata": {
    "colab_type": "text",
    "id": "60n8SkFmgIiK",
    "slideshow": {
     "slide_type": "subslide"
    }
   },
   "source": [
    "## Filtering using a List Comprehension\n",
    "\n",
    "- Again, because this is such a common operation, we can use simpler syntax to say the same thing.\n",
    "\n",
    "- We can express a filter using a list-comprehension by using the keyword `if`:"
   ]
  },
  {
   "cell_type": "code",
   "execution_count": null,
   "metadata": {
    "colab": {},
    "colab_type": "code",
    "id": "8FJAyKpwgIiM"
   },
   "outputs": [],
   "source": [
    "data = [-5, 2, 3, -10, 0, 1]\n",
    "[x for x in data if x > 0]"
   ]
  },
  {
   "cell_type": "code",
   "execution_count": null,
   "metadata": {
    "colab": {},
    "colab_type": "code",
    "id": "uxJjkpw1gIiP"
   },
   "outputs": [],
   "source": [
    "#We can also filter and then map in the same expression:\n",
    "from numpy import sqrt\n",
    "[sqrt(x) for x in data if x > 0]"
   ]
  },
  {
   "cell_type": "markdown",
   "metadata": {
    "colab_type": "text",
    "id": "KHNpkjrlgIiT",
    "slideshow": {
     "slide_type": "subslide"
    }
   },
   "source": [
    "## Big Data\n",
    "\n",
    "- The `map()` and `reduce()` functions form the basis of the map-reduce programming model.\n",
    "\n",
    "- [Map-reduce](https://en.wikipedia.org/wiki/MapReduce) is the basis of modern highly-distributed large-scale computing frameworks.\n",
    "\n",
    "- It is used in BigTable, Hadoop and Apache Spark. \n"
   ]
  },
  {
   "cell_type": "markdown",
   "metadata": {
    "colab_type": "text",
    "id": "QITl9TOugIiU"
   },
   "source": [
    "### Modules\n",
    "- Functions are great, but you might not want to repeat same function in different programs.\n",
    "- To faciliate code reuse, Python `modules` can be imported.  \n",
    "- Must have modeules placed somewhere they are in the `PYTHONPATH` (a list of directory names, with the same syntax as the shell variable PATH). \n",
    "- Review the fibo.py file, which contains a function for a Fibonacci series"
   ]
  },
  {
   "cell_type": "code",
   "execution_count": null,
   "metadata": {
    "colab": {},
    "colab_type": "code",
    "id": "omzlRezJgIiV"
   },
   "outputs": [],
   "source": [
    "# A Fibonacci series is a series of numbers in which each number ( Fibonacci number ) is the sum of the two preceding numbers.\n",
    "import fibo\n",
    "fibo.fib(1000)"
   ]
  },
  {
   "cell_type": "markdown",
   "metadata": {
    "colab_type": "text",
    "id": "jdVYTbY5gIiY"
   },
   "source": [
    "### Working with Modules in Jupyter Notebooks\n",
    "- If a model is loaded, re-running the import command won't update it. \n",
    "- Instead, we need to reload it. \n",
    "- Alternately, one could restart the kernal."
   ]
  },
  {
   "cell_type": "code",
   "execution_count": null,
   "metadata": {
    "colab": {},
    "colab_type": "code",
    "id": "9kwrd4dFgIiZ"
   },
   "outputs": [],
   "source": [
    "def get5():\n",
    "    return 5"
   ]
  },
  {
   "cell_type": "code",
   "execution_count": null,
   "metadata": {
    "colab": {},
    "colab_type": "code",
    "id": "QR6p9bE3hABH"
   },
   "outputs": [],
   "source": [
    "!wget https://raw.githubusercontent.com/rpi-techfundamentals/spring2019-materials/master/03-python/fibo.py"
   ]
  },
  {
   "cell_type": "code",
   "execution_count": null,
   "metadata": {
    "cellView": "form",
    "colab": {},
    "colab_type": "code",
    "id": "x4RcrHHNgIib"
   },
   "outputs": [],
   "source": [
    "#@title\n",
    "import importlib\n",
    "import fibo\n",
    "importlib.reload(fibo)  # \n",
    "fibo.get5()"
   ]
  },
  {
   "cell_type": "markdown",
   "metadata": {
    "colab_type": "text",
    "id": "LU6qgNUOgIie"
   },
   "source": [
    "\n",
    "\n",
    "This work is licensed under the [Creative Commons Attribution 4.0 International](https://creativecommons.org/licenses/by/4.0/) license agreement.\n",
    "Adopted from [materials](https://github.com/phelps-sg/python-bigdata) Copyright [Steve Phelps](http://sphelps.net) 2014"
   ]
  },
  {
   "cell_type": "code",
   "execution_count": null,
   "metadata": {},
   "outputs": [],
   "source": []
  }
 ],
 "metadata": {
  "colab": {
   "name": "02-intro-python-functions.ipynb",
   "provenance": [],
   "version": "0.3.2"
  },
  "kernelspec": {
   "display_name": "Python 3",
   "language": "python",
   "name": "python3"
  },
  "language_info": {
   "codemirror_mode": {
    "name": "ipython",
    "version": 3
   },
   "file_extension": ".py",
   "mimetype": "text/x-python",
   "name": "python",
   "nbconvert_exporter": "python",
   "pygments_lexer": "ipython3",
   "version": "3.7.6"
  }
 },
 "nbformat": 4,
 "nbformat_minor": 4
}
