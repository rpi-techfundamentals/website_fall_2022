{
 "cells": [
  {
   "cell_type": "markdown",
   "metadata": {},
   "source": [
    "# Jupyter Class Helper\n",
    "---\n",
    "These files are used to configure and organize the website's contents."
   ]
  },
  {
   "cell_type": "markdown",
   "metadata": {},
   "source": [
    "%load_ext autoreload\n",
    "%autoreload 2\n",
    "%matplotlib inline\n"
   ]
  },
  {
   "cell_type": "code",
   "execution_count": 1,
   "metadata": {},
   "outputs": [],
   "source": [
    "# Always run this before any of the following cells\n",
    "import pandas as pd\n",
    "import numpy as np\n",
    "import csv\n",
    "import logging\n",
    "import subprocess\n",
    "import yaml\n",
    "import builder as bd\n",
    "from pathlib import Path\n",
    "import gdown\n",
    "base_path=Path('..')\n",
    "config_path = base_path / 'config'\n",
    "cf=bd.load_yaml_file(config_path / 'config.yml')\n",
    "excel_file= config_path / cf['excel_file']\n",
    "class_path= base_path / cf['class']\n",
    "content_path = class_path / 'content'"
   ]
  },
  {
   "cell_type": "code",
   "execution_count": 2,
   "metadata": {},
   "outputs": [
    {
     "name": "stderr",
     "output_type": "stream",
     "text": [
      "Downloading...\n",
      "From: https://drive.google.com/uc?id=1E0Y0lC-q6uYh6So-VEVT60k7_KJFn_xH\n",
      "To: /Users/jasonkuruzovich/GitHub/website_fall_2021/config/class.xlsx\n",
      "100%|██████████| 141k/141k [00:00<00:00, 18.1MB/s]\n"
     ]
    },
    {
     "data": {
      "text/plain": [
       "'../config/class.xlsx'"
      ]
     },
     "execution_count": 2,
     "metadata": {},
     "output_type": "execute_result"
    }
   ],
   "source": [
    "#First download the google shared version of the files\n",
    "url = 'https://drive.google.com/uc?id='+cf['google_fileid']\n",
    "gdown.download(url, str(config_path / cf['excel_file']), quiet=False)"
   ]
  },
  {
   "cell_type": "code",
   "execution_count": 3,
   "metadata": {},
   "outputs": [],
   "source": [
    "# These load configuration from the excel files \n",
    "config = bd.load_yaml_file(class_path / '_config.yml') # Load the file.\n",
    "toc = bd.load_yaml_file(class_path / '_toc.yml') # Load the file.\n",
    "config_xl= pd.read_excel(excel_file, sheet_name = '_config_yml', header=None, index_col=None)\n",
    "schedule= pd.read_excel(excel_file, sheet_name = 'Schedule',  index_col=None)\n",
    "content={}\n",
    "content['before_class']= pd.read_excel(excel_file, sheet_name = 'Before',  index_col=None)\n",
    "content['in_class']= pd.read_excel(excel_file, sheet_name = 'During',  index_col=None)\n",
    "#content['Assignment']= pd.read_excel(excel_file, sheet_name = 'Assignments',  index_col=None)\n"
   ]
  },
  {
   "cell_type": "code",
   "execution_count": 5,
   "metadata": {},
   "outputs": [
    {
     "data": {
      "text/html": [
       "<div>\n",
       "<style scoped>\n",
       "    .dataframe tbody tr th:only-of-type {\n",
       "        vertical-align: middle;\n",
       "    }\n",
       "\n",
       "    .dataframe tbody tr th {\n",
       "        vertical-align: top;\n",
       "    }\n",
       "\n",
       "    .dataframe thead th {\n",
       "        text-align: right;\n",
       "    }\n",
       "</style>\n",
       "<table border=\"1\" class=\"dataframe\">\n",
       "  <thead>\n",
       "    <tr style=\"text-align: right;\">\n",
       "      <th></th>\n",
       "      <th>Session</th>\n",
       "      <th>Content</th>\n",
       "      <th>Location</th>\n",
       "      <th>Type</th>\n",
       "    </tr>\n",
       "  </thead>\n",
       "  <tbody>\n",
       "    <tr>\n",
       "      <th>0</th>\n",
       "      <td>1</td>\n",
       "      <td>Powerpoint</td>\n",
       "      <td>see box.</td>\n",
       "      <td>NaN</td>\n",
       "    </tr>\n",
       "  </tbody>\n",
       "</table>\n",
       "</div>"
      ],
      "text/plain": [
       "   Session     Content   Location  Type\n",
       "0        1  Powerpoint  see box.    NaN"
      ]
     },
     "execution_count": 5,
     "metadata": {},
     "output_type": "execute_result"
    }
   ],
   "source": [
    "content['in_class']"
   ]
  },
  {
   "cell_type": "code",
   "execution_count": 6,
   "metadata": {},
   "outputs": [],
   "source": [
    "#Create the syllabus link.\n",
    "#The second value of the index postion of the syllabus on the before class content.\n",
    "#bd.create_syllabus(content['Before Class'],0,cf['syllabus_message'],content_path / 'syllabus.md', config['repository']['url'])"
   ]
  },
  {
   "cell_type": "code",
   "execution_count": 6,
   "metadata": {},
   "outputs": [],
   "source": [
    "#Fix in case individual tries to publish where session is NA. This isn't allowed. \n",
    "schedule.loc[schedule['Session'].isna(),'Publish']=0. "
   ]
  },
  {
   "cell_type": "code",
   "execution_count": 8,
   "metadata": {},
   "outputs": [],
   "source": [
    "#Generate Links from the schedule to the sessions and within the other tables. \n",
    "schedule.loc[schedule['Publish']==1,'Location']=schedule.loc[schedule['Publish']==1,'Session'].apply(lambda x: '../sessions/session'+str(int(x)))\n",
    "schedule.loc[schedule['Publish']==1,'Type']='Markdown'\n",
    "schedule=bd.link_generator(schedule, 'Summary',config['repository']['url'],'Link')\n",
    "#content['Assignment']=bd.link_generator(content['Assignment'], 'Assignment',config['repository']['url'],'Starter')\n",
    "content['before_class']=bd.link_generator(content['before_class'], 'Content',config['repository']['url'],'Link')\n",
    "content['in_class']=bd.link_generator(content['in_class'], 'Content',config['repository']['url'],'Link')"
   ]
  },
  {
   "cell_type": "code",
   "execution_count": 9,
   "metadata": {},
   "outputs": [],
   "source": [
    "#Get the in class activities and prepare and output a markdown file. \n",
    "schedule_ic=schedule.merge(content['in_class'], left_on='Session', right_on='Session', how='left')\n"
   ]
  },
  {
   "cell_type": "code",
   "execution_count": 10,
   "metadata": {},
   "outputs": [],
   "source": [
    "schedule_ic= schedule_ic.loc[schedule_ic['Content'].notnull(),['Week', 'Session', 'Date', 'Content']]\n"
   ]
  },
  {
   "cell_type": "code",
   "execution_count": 11,
   "metadata": {},
   "outputs": [
    {
     "data": {
      "text/plain": [
       "datetime.datetime"
      ]
     },
     "execution_count": 11,
     "metadata": {},
     "output_type": "execute_result"
    }
   ],
   "source": [
    "type(schedule_ic['Date'][0])"
   ]
  },
  {
   "cell_type": "code",
   "execution_count": 12,
   "metadata": {},
   "outputs": [
    {
     "name": "stdout",
     "output_type": "stream",
     "text": [
      "Converting datetime to \n",
      "Outputting file: ../site/content/in_class.md\n"
     ]
    }
   ],
   "source": [
    "schedule_ic=bd.pandas_to_md(schedule_ic, content_path / 'in_class.md', 'in_class', \\\n",
    "        include = ['Week', 'Session', 'Date', 'Content'], header=cf['in_class_header'])"
   ]
  },
  {
   "cell_type": "code",
   "execution_count": 13,
   "metadata": {},
   "outputs": [
    {
     "name": "stdout",
     "output_type": "stream",
     "text": [
      "Converting datetime to \n",
      "Outputting file: ../site/content/preparation.md\n"
     ]
    }
   ],
   "source": [
    "#Get the before class activities and prepare and output a markdown file. \n",
    "schedule_bc=schedule.merge(content['before_class'], left_on='Session', right_on='Session', how='left')\n",
    "schedule_bc= schedule_bc.loc[schedule_bc['Content'].notnull(),['Week', 'Session', 'Date', 'Content']]\n",
    "schedule_bc=bd.pandas_to_md(schedule_bc, content_path / 'preparation.md', 'Before Class', \\\n",
    "                             include = ['Week', 'Session', 'Date', 'Content'], header=cf['bc_class_header'])\n",
    "#schedule=schedule.merge(content['Assignment'], left_on='Session', right_on='Session', how='left')\n",
    "\n"
   ]
  },
  {
   "cell_type": "markdown",
   "metadata": {},
   "source": [
    "#Get the assignments and prepare and output a markdown file. \n",
    "assignments_new = schedule.loc[schedule['Assignment'].notnull(),['Week', 'Session', 'Date', 'Assignment', 'Due']]\n",
    "if len(assignments_new)>0:\n",
    "    assignments_new=bd.pandas_to_md(assignments_new, content_path / 'assignments.md', 'Assignments', \\\n",
    "                            include = ['Week', 'Session', 'Date', 'Assignment', 'Due'],header=cf['assignments_header'])"
   ]
  },
  {
   "cell_type": "code",
   "execution_count": 14,
   "metadata": {},
   "outputs": [
    {
     "name": "stdout",
     "output_type": "stream",
     "text": [
      "Converting datetime to \n",
      "Outputting file: ../site/content/schedule.md\n"
     ]
    }
   ],
   "source": [
    "#Output the schedule to markdown.\n",
    "schedule=bd.pandas_to_md(schedule, content_path / 'schedule.md', 'Schedule', \\\n",
    "                             include = ['Week', 'Session', 'Date', 'Day', 'Topic', 'Summary'],header=cf['schedule_header'])"
   ]
  },
  {
   "cell_type": "code",
   "execution_count": null,
   "metadata": {},
   "outputs": [],
   "source": []
  },
  {
   "cell_type": "code",
   "execution_count": 15,
   "metadata": {},
   "outputs": [
    {
     "name": "stdout",
     "output_type": "stream",
     "text": [
      "Outputting  session1.md\n",
      "Outputting  session2.md\n"
     ]
    }
   ],
   "source": [
    "#Generate Session Files\n",
    "#generate_sessions(config, toc, toc_part, schedule, path, content, keys):\n",
    "bd.generate_sessions(config=config, toc=toc, schedule=schedule, path=class_path / 'sessions', content=content, keys=['before_class', 'in_class'])"
   ]
  },
  {
   "cell_type": "code",
   "execution_count": 16,
   "metadata": {},
   "outputs": [],
   "source": [
    "#Update the sessions to the yaml file.  Other updates to notebooks need to be done manually.\n",
    "#bd.update_yaml_file(class_path / '_toc.yml', toc)"
   ]
  },
  {
   "cell_type": "code",
   "execution_count": 17,
   "metadata": {},
   "outputs": [],
   "source": [
    "#TBD Make it so that notebooks will show up in _toc.yml. "
   ]
  }
 ],
 "metadata": {
  "kernelspec": {
   "display_name": "Python 3",
   "language": "python",
   "name": "python3"
  },
  "language_info": {
   "codemirror_mode": {
    "name": "ipython",
    "version": 3
   },
   "file_extension": ".py",
   "mimetype": "text/x-python",
   "name": "python",
   "nbconvert_exporter": "python",
   "pygments_lexer": "ipython3",
   "version": "3.7.10"
  }
 },
 "nbformat": 4,
 "nbformat_minor": 4
}
